{
 "cells": [
  {
   "cell_type": "markdown",
   "metadata": {
    "Collapsed": "false"
   },
   "source": [
    "# Imports "
   ]
  },
  {
   "cell_type": "markdown",
   "metadata": {
    "Collapsed": "false"
   },
   "source": [
    "## Application-specific imports "
   ]
  },
  {
   "cell_type": "code",
   "execution_count": 1,
   "metadata": {
    "Collapsed": "false"
   },
   "outputs": [],
   "source": [
    "import sys"
   ]
  },
  {
   "cell_type": "code",
   "execution_count": 2,
   "metadata": {
    "Collapsed": "false"
   },
   "outputs": [],
   "source": [
    "sys.path.append(\"../config/\")\n",
    "import config"
   ]
  },
  {
   "cell_type": "code",
   "execution_count": 3,
   "metadata": {
    "Collapsed": "false"
   },
   "outputs": [],
   "source": [
    "sys.path.append(\"../metaflow/\")\n",
    "import preprocess_fn\n",
    "import preprocess_fn_text_rules"
   ]
  },
  {
   "cell_type": "markdown",
   "metadata": {
    "Collapsed": "false"
   },
   "source": [
    "## General "
   ]
  },
  {
   "cell_type": "code",
   "execution_count": 4,
   "metadata": {
    "Collapsed": "false"
   },
   "outputs": [],
   "source": [
    "import pickle\n",
    "import itertools\n",
    "import pandas as pd\n",
    "import sklearn\n",
    "from sklearn import preprocessing"
   ]
  },
  {
   "cell_type": "code",
   "execution_count": 5,
   "metadata": {
    "Collapsed": "false"
   },
   "outputs": [],
   "source": [
    "import pyspark\n",
    "import pyspark.sql.functions as fn\n",
    "import pyspark.sql.types as t"
   ]
  },
  {
   "cell_type": "markdown",
   "metadata": {
    "Collapsed": "false"
   },
   "source": [
    "# Load data from parquet"
   ]
  },
  {
   "cell_type": "code",
   "execution_count": 6,
   "metadata": {},
   "outputs": [],
   "source": [
    "keyruneCode = \"M20\""
   ]
  },
  {
   "cell_type": "code",
   "execution_count": 7,
   "metadata": {
    "Collapsed": "false"
   },
   "outputs": [],
   "source": [
    "df = spark.read.parquet(f'{config.ARTIFACTS}/dataset/{keyruneCode}_cards.parquet')"
   ]
  },
  {
   "cell_type": "markdown",
   "metadata": {
    "Collapsed": "false"
   },
   "source": [
    "# Preprocess "
   ]
  },
  {
   "cell_type": "code",
   "execution_count": 8,
   "metadata": {
    "Collapsed": "false"
   },
   "outputs": [],
   "source": [
    "df_filtered = df"
   ]
  },
  {
   "cell_type": "markdown",
   "metadata": {
    "Collapsed": "false"
   },
   "source": [
    "## Replace text with keywords based on a dictionary"
   ]
  },
  {
   "cell_type": "code",
   "execution_count": 9,
   "metadata": {
    "Collapsed": "false"
   },
   "outputs": [],
   "source": [
    "if \"text_features1\" in df_filtered.columns:\n",
    "    df_filtered = df_filtered.drop(\"text_features1\")"
   ]
  },
  {
   "cell_type": "code",
   "execution_count": 10,
   "metadata": {
    "Collapsed": "false"
   },
   "outputs": [],
   "source": [
    "df_filtered = df_filtered.withColumn('text_features1', preprocess_fn.udf_text_to_keywords('name', 'originalText'))"
   ]
  },
  {
   "cell_type": "code",
   "execution_count": 11,
   "metadata": {},
   "outputs": [],
   "source": [
    "if \"text_features2\" in df_filtered.columns:\n",
    "    df_filtered = df_filtered.drop(\"text_features2\")"
   ]
  },
  {
   "cell_type": "code",
   "execution_count": 12,
   "metadata": {},
   "outputs": [],
   "source": [
    "from_patterns = [fn.when(fn.regexp_extract('originalText', r\"{0}\".format(pattern), 0) != '', replace).otherwise('') for pattern, replace in preprocess_fn_text_rules.text_patterns.items()]"
   ]
  },
  {
   "cell_type": "code",
   "execution_count": 13,
   "metadata": {},
   "outputs": [],
   "source": [
    "df_filtered = df_filtered.withColumn('text_features2', fn.array(*from_patterns))"
   ]
  },
  {
   "cell_type": "code",
   "execution_count": 14,
   "metadata": {},
   "outputs": [],
   "source": [
    "df_filtered = df_filtered.withColumn('text_features', fn.array_union('text_features1', 'text_features2'))"
   ]
  },
  {
   "cell_type": "code",
   "execution_count": 15,
   "metadata": {},
   "outputs": [
    {
     "name": "stdout",
     "output_type": "stream",
     "text": [
      "+-----------------------------------------+\n",
      "|text_features                            |\n",
      "+-----------------------------------------+\n",
      "|[ENTER_TAPPED, ETB_EFFECT, TAP, ]        |\n",
      "|[YOUR_TURN, ]                            |\n",
      "|[FLASH, FLYING, ]                        |\n",
      "|[FLYING, VIGILANCE, ]                    |\n",
      "|[TRAMPLE, ETB_EFFECT, ]                  |\n",
      "|[FLYING, PAY_2, ]                        |\n",
      "|[DEATHTOUCH, LIFELINK, ]                 |\n",
      "|[ETB_EFFECT, PAY_5, ]                    |\n",
      "|[VIGILANCE, ETB_EFFECT, ]                |\n",
      "|[PAY_2, ]                                |\n",
      "|[PAY_1, ETB_EFFECT, ]                    |\n",
      "|[TAP, PAY_1, ]                           |\n",
      "|[FLASH, FLYING, PAY_3, ]                 |\n",
      "|[VIGILANCE, ]                            |\n",
      "|[FLYING, ETB_EFFECT, PAY_3, ]            |\n",
      "|[FLYING, PAY_5, ]                        |\n",
      "|[PAY_5, ]                                |\n",
      "|[PROTECTION_FROM_BLACK, PAY_2, ]         |\n",
      "|[PAY_2, PAY_4, ]                         |\n",
      "|[PROTECTION_FROM_GREEN, ]                |\n",
      "|[PAY_3, ]                                |\n",
      "|[MENACE, ]                               |\n",
      "|[FLYING, PROTECTION_FROM_RED, ]          |\n",
      "|[FLASH, ]                                |\n",
      "|[ETB_EFFECT, PAY_2, ]                    |\n",
      "|[PROTECTION_FROM_WHITE, , IS_ATTACKING]  |\n",
      "|[HASTE, TAP, ]                           |\n",
      "|[REACH, ]                                |\n",
      "|[TAP, ]                                  |\n",
      "|[LIFELINK, ETB_EFFECT, ]                 |\n",
      "|[CANT_BE_COUNTER, PROTECTION_FROM_BLUE, ]|\n",
      "|[ENTER_TAPPED, TAP, ]                    |\n",
      "|[FLYING, HASTE, ]                        |\n",
      "|[DEATHTOUCH, ]                           |\n",
      "|[PAY_1, PAY_3, ]                         |\n",
      "|[PAY_1, ]                                |\n",
      "|[]                                       |\n",
      "|[ETB_EFFECT, ]                           |\n",
      "|[FLYING, ]                               |\n",
      "|[REACH, ETB_EFFECT, ]                    |\n",
      "|[DEFENDER, ]                             |\n",
      "|[LIFELINK, ]                             |\n",
      "|[HASTE, ]                                |\n",
      "|[HASTE, PAY_1, ]                         |\n",
      "|[FLYING, PAY_3, ]                        |\n",
      "|[FLYING, ETB_EFFECT, ]                   |\n",
      "|[CANT_BE_COUNTER, ]                      |\n",
      "|[DOUBLE_STRIKE, ]                        |\n",
      "|[TRAMPLE, ]                              |\n",
      "|[HASTE, ETB_EFFECT, ]                    |\n",
      "+-----------------------------------------+\n",
      "\n"
     ]
    }
   ],
   "source": [
    "df_filtered.select(\"text_features\").distinct().show(100, truncate=False)"
   ]
  },
  {
   "cell_type": "markdown",
   "metadata": {
    "Collapsed": "false"
   },
   "source": [
    "# Fetch all the text features from all the cards into one list "
   ]
  },
  {
   "cell_type": "code",
   "execution_count": 16,
   "metadata": {
    "Collapsed": "false"
   },
   "outputs": [],
   "source": [
    "all_text_feats = df_filtered.select(\"text_features\").rdd.flatMap(lambda x: x).collect()"
   ]
  },
  {
   "cell_type": "code",
   "execution_count": 17,
   "metadata": {
    "Collapsed": "false"
   },
   "outputs": [],
   "source": [
    "filtered_text_feats = [items for items in all_text_feats if len(items) > 0]"
   ]
  },
  {
   "cell_type": "code",
   "execution_count": 18,
   "metadata": {
    "Collapsed": "false"
   },
   "outputs": [],
   "source": [
    "filtered_text_feats = list(itertools.chain.from_iterable(filtered_text_feats))"
   ]
  },
  {
   "cell_type": "markdown",
   "metadata": {
    "Collapsed": "false"
   },
   "source": [
    "## Encode the text features into ints"
   ]
  },
  {
   "cell_type": "code",
   "execution_count": 19,
   "metadata": {
    "Collapsed": "false"
   },
   "outputs": [],
   "source": [
    "label_encoder = preprocessing.LabelEncoder().fit(filtered_text_feats)"
   ]
  },
  {
   "cell_type": "code",
   "execution_count": 20,
   "metadata": {
    "Collapsed": "false"
   },
   "outputs": [],
   "source": [
    "import pickle"
   ]
  },
  {
   "cell_type": "code",
   "execution_count": 21,
   "metadata": {
    "Collapsed": "false"
   },
   "outputs": [],
   "source": [
    "with open(f\"{config.TEMP}/labelencoder_text_feats.pkl\", \"wb\") as fp:\n",
    "    pickle.dump(label_encoder, fp)"
   ]
  },
  {
   "cell_type": "code",
   "execution_count": 22,
   "metadata": {
    "Collapsed": "false"
   },
   "outputs": [],
   "source": [
    "@fn.udf(returnType=t.ArrayType(t.IntegerType()))\n",
    "def text_to_vector(text_features):\n",
    "    if len(text_features) > 0:\n",
    "        enc_list = list()\n",
    "        for item in text_features:\n",
    "            item = str(item)\n",
    "            encoded = label_encoder.transform([item])\n",
    "            encoded = int(encoded[0])\n",
    "            enc_list.append(encoded)\n",
    "#             print(f\"{item} \\t {encoded}\")\n",
    "        return enc_list\n",
    "    return list()"
   ]
  },
  {
   "cell_type": "code",
   "execution_count": 23,
   "metadata": {
    "Collapsed": "false"
   },
   "outputs": [],
   "source": [
    "if \"text_features_vect\" in df_filtered.columns:\n",
    "    df_filtered = df_filtered.drop(\"text_features_vect\")"
   ]
  },
  {
   "cell_type": "code",
   "execution_count": 24,
   "metadata": {
    "Collapsed": "false"
   },
   "outputs": [],
   "source": [
    "df_filtered = df_filtered.withColumn(\"text_features_vect\", text_to_vector(\"text_features\"))"
   ]
  },
  {
   "cell_type": "code",
   "execution_count": 25,
   "metadata": {
    "Collapsed": "false"
   },
   "outputs": [],
   "source": [
    "all_text_feats = df_filtered.select(\"text_features\").rdd.flatMap(lambda x: x).collect()"
   ]
  },
  {
   "cell_type": "code",
   "execution_count": 26,
   "metadata": {
    "Collapsed": "false"
   },
   "outputs": [],
   "source": [
    "filtered_text_feats = [items for items in all_text_feats if len(items) > 0]"
   ]
  },
  {
   "cell_type": "code",
   "execution_count": 27,
   "metadata": {
    "Collapsed": "false"
   },
   "outputs": [],
   "source": [
    "filtered_text_feats = list(itertools.chain.from_iterable(filtered_text_feats))"
   ]
  },
  {
   "cell_type": "code",
   "execution_count": 28,
   "metadata": {
    "Collapsed": "false"
   },
   "outputs": [],
   "source": [
    "df_filtered.createOrReplaceTempView(\"cards_features\")"
   ]
  },
  {
   "cell_type": "code",
   "execution_count": 29,
   "metadata": {
    "Collapsed": "false"
   },
   "outputs": [],
   "source": [
    "tbl = spark.sql(\"\"\"\n",
    "    SELECT\n",
    "        *\n",
    "    FROM\n",
    "        cards_features\n",
    "\"\"\")"
   ]
  },
  {
   "cell_type": "markdown",
   "metadata": {
    "Collapsed": "false"
   },
   "source": [
    "# Save to Parquet"
   ]
  },
  {
   "cell_type": "code",
   "execution_count": 30,
   "metadata": {
    "Collapsed": "false"
   },
   "outputs": [],
   "source": [
    "tbl.write.mode(\"overwrite\").parquet(f\"{config.TEMP}/{keyruneCode}_cards_text.parquet\")"
   ]
  }
 ],
 "metadata": {
  "kernelspec": {
   "display_name": "Python 3",
   "language": "python",
   "name": "python3"
  },
  "language_info": {
   "codemirror_mode": {
    "name": "ipython",
    "version": 3
   },
   "file_extension": ".py",
   "mimetype": "text/x-python",
   "name": "python",
   "nbconvert_exporter": "python",
   "pygments_lexer": "ipython3",
   "version": "3.6.9"
  },
  "toc-showcode": false,
  "toc-showtags": false,
  "widgets": {
   "application/vnd.jupyter.widget-state+json": {
    "state": {},
    "version_major": 2,
    "version_minor": 0
   }
  }
 },
 "nbformat": 4,
 "nbformat_minor": 4
}
