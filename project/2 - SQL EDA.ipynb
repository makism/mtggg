{
 "cells": [
  {
   "cell_type": "code",
   "execution_count": 1,
   "metadata": {},
   "outputs": [],
   "source": [
    "import pyspark.sql.functions as fn"
   ]
  },
  {
   "cell_type": "code",
   "execution_count": 2,
   "metadata": {},
   "outputs": [],
   "source": [
    "import pandas as pd\n",
    "import numpy as np"
   ]
  },
  {
   "cell_type": "code",
   "execution_count": 3,
   "metadata": {},
   "outputs": [],
   "source": [
    "import seaborn as sns\n",
    "import matplotlib.pyplot as plt"
   ]
  },
  {
   "cell_type": "markdown",
   "metadata": {},
   "source": [
    "# Load from Parquet"
   ]
  },
  {
   "cell_type": "code",
   "execution_count": 4,
   "metadata": {},
   "outputs": [],
   "source": [
    "df = spark.read.parquet('dataset/THB_cards.parquet')"
   ]
  },
  {
   "cell_type": "code",
   "execution_count": 5,
   "metadata": {},
   "outputs": [],
   "source": [
    "df.createOrReplaceTempView(\"cards\")"
   ]
  },
  {
   "cell_type": "code",
   "execution_count": 6,
   "metadata": {},
   "outputs": [
    {
     "data": {
      "text/plain": [
       "['number',\n",
       " 'rarity',\n",
       " 'name',\n",
       " 'convertedManaCost',\n",
       " 'numColors',\n",
       " 'colorIdentity',\n",
       " 'encodedColorIdentity',\n",
       " 'types',\n",
       " 'encodedTypes',\n",
       " 'subTypes',\n",
       " 'encodedSubTypes',\n",
       " 'superTypes',\n",
       " 'encodedSuperTypes',\n",
       " 'originalText',\n",
       " 'filteredText',\n",
       " 'power',\n",
       " 'toughness']"
      ]
     },
     "execution_count": 6,
     "metadata": {},
     "output_type": "execute_result"
    }
   ],
   "source": [
    "df.columns"
   ]
  },
  {
   "cell_type": "markdown",
   "metadata": {},
   "source": [
    "## Groups "
   ]
  },
  {
   "cell_type": "markdown",
   "metadata": {},
   "source": [
    "### By color "
   ]
  },
  {
   "cell_type": "code",
   "execution_count": 7,
   "metadata": {},
   "outputs": [
    {
     "name": "stdout",
     "output_type": "stream",
     "text": [
      "+-------------+-----+\n",
      "|colorIdentity|count|\n",
      "+-------------+-----+\n",
      "|          G,W|    4|\n",
      "|            B|   45|\n",
      "|          R,W|    2|\n",
      "|          G,R|    4|\n",
      "|            U|   45|\n",
      "|          B,W|    3|\n",
      "|          B,R|    4|\n",
      "|          G,U|    3|\n",
      "|            W|   48|\n",
      "|            R|   44|\n",
      "|          B,U|    6|\n",
      "|            G|   44|\n",
      "|          U,W|    3|\n",
      "|             |   14|\n",
      "|          B,G|    2|\n",
      "|          R,U|    2|\n",
      "+-------------+-----+\n",
      "\n"
     ]
    }
   ],
   "source": [
    "df.groupby('colorIdentity').count().show()"
   ]
  },
  {
   "cell_type": "markdown",
   "metadata": {},
   "source": [
    "### By type "
   ]
  },
  {
   "cell_type": "code",
   "execution_count": 8,
   "metadata": {},
   "outputs": [],
   "source": [
    "from pyspark.ml.feature import StringIndexer, StringIndexerModel"
   ]
  },
  {
   "cell_type": "code",
   "execution_count": 9,
   "metadata": {},
   "outputs": [],
   "source": [
    "indexer = StringIndexer.load(\"models/pyspark/stringindexer_str_types\")\n",
    "model = StringIndexerModel.load(\"models/pyspark/stringindexer_model_str_types\")"
   ]
  },
  {
   "cell_type": "code",
   "execution_count": 10,
   "metadata": {},
   "outputs": [
    {
     "data": {
      "text/plain": [
       "['Artifact',\n",
       " 'Artifact,Creature',\n",
       " 'Creature',\n",
       " 'Enchantment',\n",
       " 'Enchantment,Creature',\n",
       " 'Instant',\n",
       " 'Land',\n",
       " 'Planeswalker',\n",
       " 'Sorcery']"
      ]
     },
     "execution_count": 10,
     "metadata": {},
     "output_type": "execute_result"
    }
   ],
   "source": [
    "model.labels"
   ]
  },
  {
   "cell_type": "code",
   "execution_count": 11,
   "metadata": {},
   "outputs": [
    {
     "name": "stdout",
     "output_type": "stream",
     "text": [
      "+-----------------+-----------------+\n",
      "|min(encodedTypes)|max(encodedTypes)|\n",
      "+-----------------+-----------------+\n",
      "|                0|                8|\n",
      "+-----------------+-----------------+\n",
      "\n"
     ]
    }
   ],
   "source": [
    "df.agg(fn.min(df.encodedTypes),fn.max(df.encodedTypes)).show()"
   ]
  },
  {
   "cell_type": "code",
   "execution_count": 12,
   "metadata": {},
   "outputs": [
    {
     "data": {
      "text/plain": [
       "[(('B,G', 2), 1),\n",
       " (('B,R', 2), 1),\n",
       " (('G,W', 2), 1),\n",
       " (('R', 4), 1),\n",
       " (('G', 2), 1),\n",
       " (('G', 3), 1),\n",
       " (('R', 4), 1),\n",
       " (('G', 4), 1),\n",
       " (('U', 3), 1),\n",
       " (('B', 4), 1)]"
      ]
     },
     "execution_count": 12,
     "metadata": {},
     "output_type": "execute_result"
    }
   ],
   "source": [
    "map1 = df.select([\"colorIdentity\", \"encodedTypes\"]).rdd.map(\n",
    "    lambda x: ((x[0], x[1]), 1)\n",
    ")\n",
    "\n",
    "map1.take(10)"
   ]
  },
  {
   "cell_type": "code",
   "execution_count": 13,
   "metadata": {},
   "outputs": [],
   "source": [
    "map2 = map1.reduceByKey(lambda a, b: a + b).sortByKey().collect()"
   ]
  },
  {
   "cell_type": "code",
   "execution_count": 14,
   "metadata": {},
   "outputs": [
    {
     "data": {
      "text/plain": [
       "[(('', 0), 10),\n",
       " (('', 1), 1),\n",
       " (('', 6), 3),\n",
       " (('B', 2), 14),\n",
       " (('B', 3), 10),\n",
       " (('B', 4), 11),\n",
       " (('B', 5), 6),\n",
       " (('B', 6), 1),\n",
       " (('B', 8), 3),\n",
       " (('B,G', 2), 2),\n",
       " (('B,R', 2), 2),\n",
       " (('B,R', 6), 1),\n",
       " (('B,R', 8), 1),\n",
       " (('B,U', 2), 3),\n",
       " (('B,U', 6), 1),\n",
       " (('B,U', 7), 2),\n",
       " (('B,W', 2), 1),\n",
       " (('B,W', 4), 1),\n",
       " (('B,W', 8), 1),\n",
       " (('G', 2), 17),\n",
       " (('G', 3), 8),\n",
       " (('G', 4), 10),\n",
       " (('G', 5), 5),\n",
       " (('G', 6), 1),\n",
       " (('G', 8), 3),\n",
       " (('G,R', 2), 2),\n",
       " (('G,R', 4), 1),\n",
       " (('G,R', 6), 1),\n",
       " (('G,U', 2), 2),\n",
       " (('G,U', 3), 1),\n",
       " (('G,W', 2), 2),\n",
       " (('G,W', 6), 1),\n",
       " (('G,W', 7), 1),\n",
       " (('R', 2), 17),\n",
       " (('R', 3), 9),\n",
       " (('R', 4), 6),\n",
       " (('R', 5), 4),\n",
       " (('R', 6), 1),\n",
       " (('R', 8), 7),\n",
       " (('R,U', 2), 1),\n",
       " (('R,U', 4), 1),\n",
       " (('R,W', 2), 1),\n",
       " (('R,W', 4), 1),\n",
       " (('U', 2), 16),\n",
       " (('U', 3), 7),\n",
       " (('U', 4), 10),\n",
       " (('U', 5), 8),\n",
       " (('U', 6), 1),\n",
       " (('U', 8), 3),\n",
       " (('U,W', 2), 1),\n",
       " (('U,W', 3), 1),\n",
       " (('U,W', 6), 1),\n",
       " (('W', 2), 19),\n",
       " (('W', 3), 9),\n",
       " (('W', 4), 9),\n",
       " (('W', 5), 5),\n",
       " (('W', 6), 1),\n",
       " (('W', 7), 2),\n",
       " (('W', 8), 3)]"
      ]
     },
     "execution_count": 14,
     "metadata": {},
     "output_type": "execute_result"
    }
   ],
   "source": [
    "map2"
   ]
  },
  {
   "cell_type": "code",
   "execution_count": 15,
   "metadata": {},
   "outputs": [],
   "source": [
    "hist = df.select(\"encodedTypes\").rdd.flatMap(lambda x: x).histogram(9)"
   ]
  },
  {
   "cell_type": "code",
   "execution_count": 16,
   "metadata": {},
   "outputs": [
    {
     "data": {
      "text/plain": [
       "([0.0,\n",
       "  0.8888888888888888,\n",
       "  1.7777777777777777,\n",
       "  2.6666666666666665,\n",
       "  3.5555555555555554,\n",
       "  4.444444444444445,\n",
       "  5.333333333333333,\n",
       "  6.222222222222221,\n",
       "  7.111111111111111,\n",
       "  8],\n",
       " [10, 1, 100, 45, 50, 28, 13, 5, 21])"
      ]
     },
     "execution_count": 16,
     "metadata": {},
     "output_type": "execute_result"
    }
   ],
   "source": [
    "hist"
   ]
  },
  {
   "cell_type": "code",
   "execution_count": 17,
   "metadata": {},
   "outputs": [],
   "source": [
    "pd_hist = pd.DataFrame(data=list(zip(*hist)), columns=['bin', 'freq'])"
   ]
  },
  {
   "cell_type": "code",
   "execution_count": 18,
   "metadata": {},
   "outputs": [],
   "source": [
    "pd_hist['perc'] = pd_hist['freq'] / pd_hist['freq'].sum()"
   ]
  },
  {
   "cell_type": "code",
   "execution_count": 19,
   "metadata": {},
   "outputs": [
    {
     "data": {
      "image/png": "[encoded data removed]",
      "text/plain": [
       "<Figure size 432x432 with 1 Axes>"
      ]
     },
     "metadata": {},
     "output_type": "display_data"
    }
   ],
   "source": [
    "sns.set(style=\"whitegrid\")\n",
    "\n",
    "f, ax = plt.subplots(figsize=(6, 6))\n",
    "\n",
    "sns.set_color_codes(\"pastel\")\n",
    "sns.barplot(x=\"perc\", y=\"bin\", data=pd_hist, label=\"Total\", orient='h', color=\"b\")\n",
    "\n",
    "ax.set(xlim=(0, 0.4), xlabel=\"\", ylabel=\"\")\n",
    "# ax.set(xlim=(0, 0.5), xlabel=\"%\", ylabel=\"Creature type\")\n",
    "ax.set(yticklabels=model.labels)\n",
    "\n",
    "sns.despine(left=True, bottom=True)"
   ]
  },
  {
   "cell_type": "markdown",
   "metadata": {},
   "source": [
    "## SQL / FN"
   ]
  },
  {
   "cell_type": "code",
   "execution_count": 20,
   "metadata": {},
   "outputs": [
    {
     "name": "stdout",
     "output_type": "stream",
     "text": [
      "+---------+-------------+\n",
      "|max power|max toughness|\n",
      "+---------+-------------+\n",
      "|       10|            7|\n",
      "+---------+-------------+\n",
      "\n"
     ]
    }
   ],
   "source": [
    "df.agg(*[fn.max(c).alias('max ' + c) for c in ['power', 'toughness']]).show()"
   ]
  },
  {
   "cell_type": "code",
   "execution_count": 21,
   "metadata": {},
   "outputs": [
    {
     "name": "stdout",
     "output_type": "stream",
     "text": [
      "+------+------+------------+-----------------+---------+-------------+--------------------+--------+------------+--------+---------------+----------+-----------------+--------------------+--------------------+-----+---------+\n",
      "|number|rarity|        name|convertedManaCost|numColors|colorIdentity|encodedColorIdentity|   types|encodedTypes|subTypes|encodedSubTypes|superTypes|encodedSuperTypes|        originalText|        filteredText|power|toughness|\n",
      "+------+------+------------+-----------------+---------+-------------+--------------------+--------+------------+--------+---------------+----------+-----------------+--------------------+--------------------+-----+---------+\n",
      "|   181|  rare|Nessian Boar|                5|        1|            G|                   6|Creature|           2|    Boar|              6|          |                0|All creatures abl...|All creatures abl...|   10|        6|\n",
      "+------+------+------------+-----------------+---------+-------------+--------------------+--------+------------+--------+---------------+----------+-----------------+--------------------+--------------------+-----+---------+\n",
      "\n"
     ]
    }
   ],
   "source": [
    "spark.sql(\"SELECT * FROM cards WHERE power == 10\").show()"
   ]
  },
  {
   "cell_type": "code",
   "execution_count": 22,
   "metadata": {},
   "outputs": [
    {
     "name": "stdout",
     "output_type": "stream",
     "text": [
      "+------+------+--------------------+-----------------+---------+-------------+--------------------+--------------------+------------+--------+---------------+----------+-----------------+--------------------+--------------------+-----+---------+\n",
      "|number|rarity|                name|convertedManaCost|numColors|colorIdentity|encodedColorIdentity|               types|encodedTypes|subTypes|encodedSubTypes|superTypes|encodedSuperTypes|        originalText|        filteredText|power|toughness|\n",
      "+------+------+--------------------+-----------------+---------+-------------+--------------------+--------------------+------------+--------+---------------+----------+-----------------+--------------------+--------------------+-----+---------+\n",
      "|   181|  rare|        Nessian Boar|                5|        1|            G|                   6|            Creature|           2|    Boar|              6|          |                0|All creatures abl...|All creatures abl...|   10|        6|\n",
      "|   297|  rare|  Treeshaker Chimera|                7|        1|            G|                   6|            Creature|           2| Chimera|             15|          |                0|All creatures abl...|All creatures abl...|    8|        5|\n",
      "|   292|  rare|   Demon of Loathing|                7|        1|            B|                   1|            Creature|           2|   Demon|             18|          |                0|Flying, trample\n",
      "W...|FLYING, trample\n",
      "W...|    7|        7|\n",
      "|   150|mythic|Purphoros, Bronze...|                5|        1|            R|                  10|Enchantment,Creature|           4|     God|             29| Legendary|                2|Indestructible\n",
      "As...|Indestructible\n",
      "As...|    7|        6|\n",
      "|   144|common|       Nyxborn Brute|                5|        1|            R|                  10|Enchantment,Creature|           4| Cyclops|             16|          |                0|                null|                null|    7|        3|\n",
      "+------+------+--------------------+-----------------+---------+-------------+--------------------+--------------------+------------+--------+---------------+----------+-----------------+--------------------+--------------------+-----+---------+\n",
      "\n"
     ]
    }
   ],
   "source": [
    "spark.sql(\"\"\"\n",
    "    SELECT * FROM cards\n",
    "    ORDER BY power DESC, toughness DESC\n",
    "    LIMIT 5\n",
    "\"\"\").show()"
   ]
  },
  {
   "cell_type": "code",
   "execution_count": null,
   "metadata": {},
   "outputs": [],
   "source": []
  }
 ],
 "metadata": {
  "kernelspec": {
   "display_name": "Python 3",
   "language": "python",
   "name": "python3"
  },
  "language_info": {
   "codemirror_mode": {
    "name": "ipython",
    "version": 3
   },
   "file_extension": ".py",
   "mimetype": "text/x-python",
   "name": "python",
   "nbconvert_exporter": "python",
   "pygments_lexer": "ipython3",
   "version": "3.6.9"
  }
 },
 "nbformat": 4,
 "nbformat_minor": 4
}
