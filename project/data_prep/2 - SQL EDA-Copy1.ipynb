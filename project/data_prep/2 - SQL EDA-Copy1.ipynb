{
 "cells": [
  {
   "cell_type": "code",
   "execution_count": 1,
   "metadata": {},
   "outputs": [],
   "source": [
    "import pyspark.sql.functions as fn"
   ]
  },
  {
   "cell_type": "code",
   "execution_count": 109,
   "metadata": {},
   "outputs": [],
   "source": [
    "import pandas as pd\n",
    "import numpy as np"
   ]
  },
  {
   "cell_type": "code",
   "execution_count": 3,
   "metadata": {},
   "outputs": [],
   "source": [
    "import seaborn as sns\n",
    "import matplotlib.pyplot as plt"
   ]
  },
  {
   "cell_type": "markdown",
   "metadata": {},
   "source": [
    "# Load from Parquet"
   ]
  },
  {
   "cell_type": "code",
   "execution_count": 4,
   "metadata": {},
   "outputs": [],
   "source": [
    "df = spark.read.parquet('dataset/THB_cards.parquet')"
   ]
  },
  {
   "cell_type": "code",
   "execution_count": 5,
   "metadata": {},
   "outputs": [],
   "source": [
    "df.createOrReplaceTempView(\"cards\")"
   ]
  },
  {
   "cell_type": "code",
   "execution_count": 6,
   "metadata": {},
   "outputs": [
    {
     "data": {
      "text/plain": [
       "['number',\n",
       " 'rarity',\n",
       " 'name',\n",
       " 'convertedManaCost',\n",
       " 'numColors',\n",
       " 'colorIdentity',\n",
       " 'encodedColorIdentity',\n",
       " 'types',\n",
       " 'encodedTypes',\n",
       " 'subTypes',\n",
       " 'encodedSubTypes',\n",
       " 'superTypes',\n",
       " 'encodedSuperTypes',\n",
       " 'originalText',\n",
       " 'filteredText',\n",
       " 'power',\n",
       " 'toughness']"
      ]
     },
     "execution_count": 6,
     "metadata": {},
     "output_type": "execute_result"
    }
   ],
   "source": [
    "df.columns"
   ]
  },
  {
   "cell_type": "markdown",
   "metadata": {},
   "source": [
    "## Groups "
   ]
  },
  {
   "cell_type": "markdown",
   "metadata": {},
   "source": [
    "### By color identity"
   ]
  },
  {
   "cell_type": "code",
   "execution_count": 76,
   "metadata": {},
   "outputs": [
    {
     "name": "stdout",
     "output_type": "stream",
     "text": [
      "+-------------+-----+\n",
      "|colorIdentity|count|\n",
      "+-------------+-----+\n",
      "|          G,W|    4|\n",
      "|            B|   45|\n",
      "|          R,W|    2|\n",
      "|          G,R|    4|\n",
      "|            U|   45|\n",
      "|          B,W|    3|\n",
      "|          B,R|    4|\n",
      "|          G,U|    3|\n",
      "|            W|   48|\n",
      "|            R|   44|\n",
      "|          B,U|    6|\n",
      "|            G|   44|\n",
      "|          U,W|    3|\n",
      "|             |   14|\n",
      "|          B,G|    2|\n",
      "|          R,U|    2|\n",
      "+-------------+-----+\n",
      "\n"
     ]
    }
   ],
   "source": [
    "df.groupby('colorIdentity').count().show()"
   ]
  },
  {
   "cell_type": "markdown",
   "metadata": {},
   "source": [
    "### From Models, show encoded types"
   ]
  },
  {
   "cell_type": "code",
   "execution_count": 77,
   "metadata": {},
   "outputs": [],
   "source": [
    "from pyspark.ml.feature import StringIndexer, StringIndexerModel"
   ]
  },
  {
   "cell_type": "code",
   "execution_count": 78,
   "metadata": {},
   "outputs": [],
   "source": [
    "indexer = StringIndexer.load(\"models/pyspark/stringindexer_str_types\")\n",
    "model = StringIndexerModel.load(\"models/pyspark/stringindexer_model_str_types\")"
   ]
  },
  {
   "cell_type": "code",
   "execution_count": 79,
   "metadata": {},
   "outputs": [
    {
     "data": {
      "text/plain": [
       "['Artifact',\n",
       " 'Artifact,Creature',\n",
       " 'Creature',\n",
       " 'Enchantment',\n",
       " 'Enchantment,Creature',\n",
       " 'Instant',\n",
       " 'Land',\n",
       " 'Planeswalker',\n",
       " 'Sorcery']"
      ]
     },
     "execution_count": 79,
     "metadata": {},
     "output_type": "execute_result"
    }
   ],
   "source": [
    "model.labels"
   ]
  },
  {
   "cell_type": "code",
   "execution_count": 80,
   "metadata": {},
   "outputs": [
    {
     "name": "stdout",
     "output_type": "stream",
     "text": [
      "+-----------------+-----------------+\n",
      "|min(encodedTypes)|max(encodedTypes)|\n",
      "+-----------------+-----------------+\n",
      "|                0|                8|\n",
      "+-----------------+-----------------+\n",
      "\n"
     ]
    }
   ],
   "source": [
    "df.agg(fn.min(df.encodedTypes),fn.max(df.encodedTypes)).show()"
   ]
  },
  {
   "cell_type": "markdown",
   "metadata": {},
   "source": [
    "### By color identity and encoded type"
   ]
  },
  {
   "cell_type": "markdown",
   "metadata": {},
   "source": [
    "First, let's fetch the distinct color identities"
   ]
  },
  {
   "cell_type": "code",
   "execution_count": 119,
   "metadata": {},
   "outputs": [],
   "source": [
    "pd_colorIdentities  = df.select(\"colorIdentity\").alias(\"Color_Identity\").distinct().sort(\"colorIdentity\").toPandas()"
   ]
  },
  {
   "cell_type": "code",
   "execution_count": 120,
   "metadata": {},
   "outputs": [
    {
     "data": {
      "text/html": [
       "<div>\n",
       "<style scoped>\n",
       "    .dataframe tbody tr th:only-of-type {\n",
       "        vertical-align: middle;\n",
       "    }\n",
       "\n",
       "    .dataframe tbody tr th {\n",
       "        vertical-align: top;\n",
       "    }\n",
       "\n",
       "    .dataframe thead th {\n",
       "        text-align: right;\n",
       "    }\n",
       "</style>\n",
       "<table border=\"1\" class=\"dataframe\">\n",
       "  <thead>\n",
       "    <tr style=\"text-align: right;\">\n",
       "      <th></th>\n",
       "      <th>colorIdentity</th>\n",
       "    </tr>\n",
       "  </thead>\n",
       "  <tbody>\n",
       "    <tr>\n",
       "      <th>0</th>\n",
       "      <td></td>\n",
       "    </tr>\n",
       "    <tr>\n",
       "      <th>1</th>\n",
       "      <td>B</td>\n",
       "    </tr>\n",
       "    <tr>\n",
       "      <th>2</th>\n",
       "      <td>B,G</td>\n",
       "    </tr>\n",
       "    <tr>\n",
       "      <th>3</th>\n",
       "      <td>B,R</td>\n",
       "    </tr>\n",
       "    <tr>\n",
       "      <th>4</th>\n",
       "      <td>B,U</td>\n",
       "    </tr>\n",
       "    <tr>\n",
       "      <th>5</th>\n",
       "      <td>B,W</td>\n",
       "    </tr>\n",
       "    <tr>\n",
       "      <th>6</th>\n",
       "      <td>G</td>\n",
       "    </tr>\n",
       "    <tr>\n",
       "      <th>7</th>\n",
       "      <td>G,R</td>\n",
       "    </tr>\n",
       "    <tr>\n",
       "      <th>8</th>\n",
       "      <td>G,U</td>\n",
       "    </tr>\n",
       "    <tr>\n",
       "      <th>9</th>\n",
       "      <td>G,W</td>\n",
       "    </tr>\n",
       "    <tr>\n",
       "      <th>10</th>\n",
       "      <td>R</td>\n",
       "    </tr>\n",
       "    <tr>\n",
       "      <th>11</th>\n",
       "      <td>R,U</td>\n",
       "    </tr>\n",
       "    <tr>\n",
       "      <th>12</th>\n",
       "      <td>R,W</td>\n",
       "    </tr>\n",
       "    <tr>\n",
       "      <th>13</th>\n",
       "      <td>U</td>\n",
       "    </tr>\n",
       "    <tr>\n",
       "      <th>14</th>\n",
       "      <td>U,W</td>\n",
       "    </tr>\n",
       "    <tr>\n",
       "      <th>15</th>\n",
       "      <td>W</td>\n",
       "    </tr>\n",
       "  </tbody>\n",
       "</table>\n",
       "</div>"
      ],
      "text/plain": [
       "   colorIdentity\n",
       "0               \n",
       "1              B\n",
       "2            B,G\n",
       "3            B,R\n",
       "4            B,U\n",
       "5            B,W\n",
       "6              G\n",
       "7            G,R\n",
       "8            G,U\n",
       "9            G,W\n",
       "10             R\n",
       "11           R,U\n",
       "12           R,W\n",
       "13             U\n",
       "14           U,W\n",
       "15             W"
      ]
     },
     "execution_count": 120,
     "metadata": {},
     "output_type": "execute_result"
    }
   ],
   "source": [
    "pd_colorIdentities"
   ]
  },
  {
   "cell_type": "code",
   "execution_count": 113,
   "metadata": {},
   "outputs": [],
   "source": [
    "pd_encodedTypes = pd.DataFrame(np.arange(9), columns=['Encoded_Types'])"
   ]
  },
  {
   "cell_type": "code",
   "execution_count": 123,
   "metadata": {},
   "outputs": [
    {
     "data": {
      "text/html": [
       "<div>\n",
       "<style scoped>\n",
       "    .dataframe tbody tr th:only-of-type {\n",
       "        vertical-align: middle;\n",
       "    }\n",
       "\n",
       "    .dataframe tbody tr th {\n",
       "        vertical-align: top;\n",
       "    }\n",
       "\n",
       "    .dataframe thead th {\n",
       "        text-align: right;\n",
       "    }\n",
       "</style>\n",
       "<table border=\"1\" class=\"dataframe\">\n",
       "  <thead>\n",
       "    <tr style=\"text-align: right;\">\n",
       "      <th></th>\n",
       "      <th>Encoded_Types</th>\n",
       "    </tr>\n",
       "  </thead>\n",
       "  <tbody>\n",
       "    <tr>\n",
       "      <th>0</th>\n",
       "      <td>0</td>\n",
       "    </tr>\n",
       "    <tr>\n",
       "      <th>1</th>\n",
       "      <td>1</td>\n",
       "    </tr>\n",
       "    <tr>\n",
       "      <th>2</th>\n",
       "      <td>2</td>\n",
       "    </tr>\n",
       "    <tr>\n",
       "      <th>3</th>\n",
       "      <td>3</td>\n",
       "    </tr>\n",
       "    <tr>\n",
       "      <th>4</th>\n",
       "      <td>4</td>\n",
       "    </tr>\n",
       "    <tr>\n",
       "      <th>5</th>\n",
       "      <td>5</td>\n",
       "    </tr>\n",
       "    <tr>\n",
       "      <th>6</th>\n",
       "      <td>6</td>\n",
       "    </tr>\n",
       "    <tr>\n",
       "      <th>7</th>\n",
       "      <td>7</td>\n",
       "    </tr>\n",
       "    <tr>\n",
       "      <th>8</th>\n",
       "      <td>8</td>\n",
       "    </tr>\n",
       "  </tbody>\n",
       "</table>\n",
       "</div>"
      ],
      "text/plain": [
       "   Encoded_Types\n",
       "0              0\n",
       "1              1\n",
       "2              2\n",
       "3              3\n",
       "4              4\n",
       "5              5\n",
       "6              6\n",
       "7              7\n",
       "8              8"
      ]
     },
     "execution_count": 123,
     "metadata": {},
     "output_type": "execute_result"
    }
   ],
   "source": [
    "pd_encodedTypes"
   ]
  },
  {
   "cell_type": "markdown",
   "metadata": {},
   "source": [
    "Create a cartesian product of the color identities and the encoded types."
   ]
  },
  {
   "cell_type": "code",
   "execution_count": 132,
   "metadata": {},
   "outputs": [],
   "source": [
    "pd_colorIdentities['key'] = 0\n",
    "pd_encodedTypes['key'] = 0"
   ]
  },
  {
   "cell_type": "code",
   "execution_count": 138,
   "metadata": {},
   "outputs": [],
   "source": [
    "pd_cartesian = pd_colorIdentities.merge(pd_encodedTypes, how='outer').drop(columns=['key'])"
   ]
  },
  {
   "cell_type": "code",
   "execution_count": 146,
   "metadata": {},
   "outputs": [],
   "source": [
    "pd_cartesian = pd_cartesian.rename(columns={'colorIdentity':'Color_Identity'})"
   ]
  },
  {
   "cell_type": "code",
   "execution_count": 147,
   "metadata": {},
   "outputs": [
    {
     "data": {
      "text/html": [
       "<div>\n",
       "<style scoped>\n",
       "    .dataframe tbody tr th:only-of-type {\n",
       "        vertical-align: middle;\n",
       "    }\n",
       "\n",
       "    .dataframe tbody tr th {\n",
       "        vertical-align: top;\n",
       "    }\n",
       "\n",
       "    .dataframe thead th {\n",
       "        text-align: right;\n",
       "    }\n",
       "</style>\n",
       "<table border=\"1\" class=\"dataframe\">\n",
       "  <thead>\n",
       "    <tr style=\"text-align: right;\">\n",
       "      <th></th>\n",
       "      <th>Color_Identity</th>\n",
       "      <th>Encoded_Types</th>\n",
       "    </tr>\n",
       "  </thead>\n",
       "  <tbody>\n",
       "    <tr>\n",
       "      <th>0</th>\n",
       "      <td></td>\n",
       "      <td>0</td>\n",
       "    </tr>\n",
       "    <tr>\n",
       "      <th>1</th>\n",
       "      <td></td>\n",
       "      <td>1</td>\n",
       "    </tr>\n",
       "    <tr>\n",
       "      <th>2</th>\n",
       "      <td></td>\n",
       "      <td>2</td>\n",
       "    </tr>\n",
       "    <tr>\n",
       "      <th>3</th>\n",
       "      <td></td>\n",
       "      <td>3</td>\n",
       "    </tr>\n",
       "    <tr>\n",
       "      <th>4</th>\n",
       "      <td></td>\n",
       "      <td>4</td>\n",
       "    </tr>\n",
       "    <tr>\n",
       "      <th>...</th>\n",
       "      <td>...</td>\n",
       "      <td>...</td>\n",
       "    </tr>\n",
       "    <tr>\n",
       "      <th>139</th>\n",
       "      <td>W</td>\n",
       "      <td>4</td>\n",
       "    </tr>\n",
       "    <tr>\n",
       "      <th>140</th>\n",
       "      <td>W</td>\n",
       "      <td>5</td>\n",
       "    </tr>\n",
       "    <tr>\n",
       "      <th>141</th>\n",
       "      <td>W</td>\n",
       "      <td>6</td>\n",
       "    </tr>\n",
       "    <tr>\n",
       "      <th>142</th>\n",
       "      <td>W</td>\n",
       "      <td>7</td>\n",
       "    </tr>\n",
       "    <tr>\n",
       "      <th>143</th>\n",
       "      <td>W</td>\n",
       "      <td>8</td>\n",
       "    </tr>\n",
       "  </tbody>\n",
       "</table>\n",
       "<p>144 rows × 2 columns</p>\n",
       "</div>"
      ],
      "text/plain": [
       "    Color_Identity  Encoded_Types\n",
       "0                               0\n",
       "1                               1\n",
       "2                               2\n",
       "3                               3\n",
       "4                               4\n",
       "..             ...            ...\n",
       "139              W              4\n",
       "140              W              5\n",
       "141              W              6\n",
       "142              W              7\n",
       "143              W              8\n",
       "\n",
       "[144 rows x 2 columns]"
      ]
     },
     "execution_count": 147,
     "metadata": {},
     "output_type": "execute_result"
    }
   ],
   "source": [
    "pd_cartesian"
   ]
  },
  {
   "cell_type": "markdown",
   "metadata": {},
   "source": [
    "Now, let's create a list which will hold the following: ((color identity, encoded type), 1)."
   ]
  },
  {
   "cell_type": "code",
   "execution_count": 88,
   "metadata": {},
   "outputs": [
    {
     "data": {
      "text/plain": [
       "[(('B,G', 2), 1),\n",
       " (('B,R', 2), 1),\n",
       " (('G,W', 2), 1),\n",
       " (('R', 4), 1),\n",
       " (('G', 2), 1),\n",
       " (('G', 3), 1),\n",
       " (('R', 4), 1),\n",
       " (('G', 4), 1),\n",
       " (('U', 3), 1),\n",
       " (('B', 4), 1)]"
      ]
     },
     "execution_count": 88,
     "metadata": {},
     "output_type": "execute_result"
    }
   ],
   "source": [
    "map1 = df.select([\"colorIdentity\", \"encodedTypes\"]).rdd.map(\n",
    "    lambda x: ((x[0], x[1]), 1)\n",
    ")\n",
    "\n",
    "map1.take(10)"
   ]
  },
  {
   "cell_type": "markdown",
   "metadata": {},
   "source": [
    "Finally, let's compute the sum of the number of a found encoded types per color identity."
   ]
  },
  {
   "cell_type": "code",
   "execution_count": 89,
   "metadata": {},
   "outputs": [],
   "source": [
    "map2 = map1.reduceByKey(lambda a, b: a + b).sortByKey()"
   ]
  },
  {
   "cell_type": "code",
   "execution_count": 90,
   "metadata": {},
   "outputs": [
    {
     "data": {
      "text/plain": [
       "[(('', 0), 10), (('', 1), 1), (('', 6), 3), (('B', 2), 14), (('B', 3), 10)]"
      ]
     },
     "execution_count": 90,
     "metadata": {},
     "output_type": "execute_result"
    }
   ],
   "source": [
    "map2.take(5)"
   ]
  },
  {
   "cell_type": "markdown",
   "metadata": {},
   "source": [
    "For convience, let's break down the (color identity, encoded type) key into a list of: (color identity, encoded type, sum). "
   ]
  },
  {
   "cell_type": "code",
   "execution_count": 258,
   "metadata": {},
   "outputs": [],
   "source": [
    "map3 = map2.map(lambda x: (x[0][0], x[0][1], x[1]))"
   ]
  },
  {
   "cell_type": "code",
   "execution_count": 259,
   "metadata": {},
   "outputs": [],
   "source": [
    "pd_tab = map3.toDF().toPandas()"
   ]
  },
  {
   "cell_type": "code",
   "execution_count": 260,
   "metadata": {},
   "outputs": [],
   "source": [
    "pd_tab.columns = ['Color_Identity', 'Encoded_Types', 'Total']"
   ]
  },
  {
   "cell_type": "code",
   "execution_count": 261,
   "metadata": {},
   "outputs": [
    {
     "data": {
      "text/html": [
       "<div>\n",
       "<style scoped>\n",
       "    .dataframe tbody tr th:only-of-type {\n",
       "        vertical-align: middle;\n",
       "    }\n",
       "\n",
       "    .dataframe tbody tr th {\n",
       "        vertical-align: top;\n",
       "    }\n",
       "\n",
       "    .dataframe thead th {\n",
       "        text-align: right;\n",
       "    }\n",
       "</style>\n",
       "<table border=\"1\" class=\"dataframe\">\n",
       "  <thead>\n",
       "    <tr style=\"text-align: right;\">\n",
       "      <th></th>\n",
       "      <th>Color_Identity</th>\n",
       "      <th>Encoded_Types</th>\n",
       "      <th>Total</th>\n",
       "    </tr>\n",
       "  </thead>\n",
       "  <tbody>\n",
       "    <tr>\n",
       "      <th>0</th>\n",
       "      <td></td>\n",
       "      <td>0</td>\n",
       "      <td>10</td>\n",
       "    </tr>\n",
       "    <tr>\n",
       "      <th>1</th>\n",
       "      <td></td>\n",
       "      <td>1</td>\n",
       "      <td>1</td>\n",
       "    </tr>\n",
       "    <tr>\n",
       "      <th>2</th>\n",
       "      <td></td>\n",
       "      <td>6</td>\n",
       "      <td>3</td>\n",
       "    </tr>\n",
       "    <tr>\n",
       "      <th>3</th>\n",
       "      <td>B</td>\n",
       "      <td>2</td>\n",
       "      <td>14</td>\n",
       "    </tr>\n",
       "    <tr>\n",
       "      <th>4</th>\n",
       "      <td>B</td>\n",
       "      <td>3</td>\n",
       "      <td>10</td>\n",
       "    </tr>\n",
       "  </tbody>\n",
       "</table>\n",
       "</div>"
      ],
      "text/plain": [
       "  Color_Identity  Encoded_Types  Total\n",
       "0                             0     10\n",
       "1                             1      1\n",
       "2                             6      3\n",
       "3              B              2     14\n",
       "4              B              3     10"
      ]
     },
     "execution_count": 261,
     "metadata": {},
     "output_type": "execute_result"
    }
   ],
   "source": [
    "pd_tab.head(5)"
   ]
  },
  {
   "cell_type": "markdown",
   "metadata": {},
   "source": [
    "Based on the color identity and encoded types, assign a key that corresponds to the cartesian product."
   ]
  },
  {
   "cell_type": "code",
   "execution_count": 262,
   "metadata": {},
   "outputs": [],
   "source": [
    "def assign_index(row):\n",
    "    filter1 = pd_cartesian['Color_Identity'] ==  row['Color_Identity']\n",
    "    filter2 = pd_cartesian['Encoded_Types'] == row['Encoded_Types']\n",
    "    \n",
    "    idx = pd_cartesian.index[filter1 & filter2].tolist()[0]\n",
    "\n",
    "    return idx"
   ]
  },
  {
   "cell_type": "code",
   "execution_count": 263,
   "metadata": {},
   "outputs": [],
   "source": [
    "pd_tab['Cart_Index'] = pd_tab.apply (lambda row: assign_index(row), axis=1)"
   ]
  },
  {
   "cell_type": "code",
   "execution_count": 264,
   "metadata": {},
   "outputs": [
    {
     "data": {
      "text/html": [
       "<div>\n",
       "<style scoped>\n",
       "    .dataframe tbody tr th:only-of-type {\n",
       "        vertical-align: middle;\n",
       "    }\n",
       "\n",
       "    .dataframe tbody tr th {\n",
       "        vertical-align: top;\n",
       "    }\n",
       "\n",
       "    .dataframe thead th {\n",
       "        text-align: right;\n",
       "    }\n",
       "</style>\n",
       "<table border=\"1\" class=\"dataframe\">\n",
       "  <thead>\n",
       "    <tr style=\"text-align: right;\">\n",
       "      <th></th>\n",
       "      <th>Color_Identity</th>\n",
       "      <th>Encoded_Types</th>\n",
       "      <th>Total</th>\n",
       "      <th>Cart_Index</th>\n",
       "    </tr>\n",
       "  </thead>\n",
       "  <tbody>\n",
       "    <tr>\n",
       "      <th>0</th>\n",
       "      <td></td>\n",
       "      <td>0</td>\n",
       "      <td>10</td>\n",
       "      <td>0</td>\n",
       "    </tr>\n",
       "    <tr>\n",
       "      <th>1</th>\n",
       "      <td></td>\n",
       "      <td>1</td>\n",
       "      <td>1</td>\n",
       "      <td>1</td>\n",
       "    </tr>\n",
       "    <tr>\n",
       "      <th>2</th>\n",
       "      <td></td>\n",
       "      <td>6</td>\n",
       "      <td>3</td>\n",
       "      <td>6</td>\n",
       "    </tr>\n",
       "    <tr>\n",
       "      <th>3</th>\n",
       "      <td>B</td>\n",
       "      <td>2</td>\n",
       "      <td>14</td>\n",
       "      <td>11</td>\n",
       "    </tr>\n",
       "    <tr>\n",
       "      <th>4</th>\n",
       "      <td>B</td>\n",
       "      <td>3</td>\n",
       "      <td>10</td>\n",
       "      <td>12</td>\n",
       "    </tr>\n",
       "  </tbody>\n",
       "</table>\n",
       "</div>"
      ],
      "text/plain": [
       "  Color_Identity  Encoded_Types  Total  Cart_Index\n",
       "0                             0     10           0\n",
       "1                             1      1           1\n",
       "2                             6      3           6\n",
       "3              B              2     14          11\n",
       "4              B              3     10          12"
      ]
     },
     "execution_count": 264,
     "metadata": {},
     "output_type": "execute_result"
    }
   ],
   "source": [
    "pd_tab.head(5)"
   ]
  },
  {
   "cell_type": "markdown",
   "metadata": {},
   "source": [
    "Find the missing indexes from the cartesian product, and fill-in with \"total = 0\"."
   ]
  },
  {
   "cell_type": "code",
   "execution_count": 265,
   "metadata": {},
   "outputs": [],
   "source": [
    "missing_cart_indexes = set(pd_cartesian.index.tolist()) - set(pd_tab.Cart_Index.tolist())"
   ]
  },
  {
   "cell_type": "code",
   "execution_count": 266,
   "metadata": {},
   "outputs": [],
   "source": [
    "for index in missing_cart_indexes:\n",
    "    row = pd_cartesian.iloc[index]\n",
    "\n",
    "    new_df = row.copy()\n",
    "    new_df['Total'] = 0\n",
    "    new_df['Cart_Index'] = index\n",
    "    \n",
    "    pd_tab = pd_tab.append(new_df)"
   ]
  },
  {
   "cell_type": "code",
   "execution_count": 301,
   "metadata": {},
   "outputs": [],
   "source": [
    "group_result = pd_tab.groupby('Encoded_Types')"
   ]
  },
  {
   "cell_type": "code",
   "execution_count": 303,
   "metadata": {},
   "outputs": [
    {
     "data": {
      "text/plain": [
       "{0: Int64Index([0, 9, 18, 27, 36, 45, 54, 63, 72, 81, 90, 99, 108, 117, 126, 135], dtype='int64'),\n",
       " 1: Int64Index([1, 10, 19, 28, 37, 46, 55, 64, 73, 82, 91, 100, 109, 118, 127,\n",
       "             136],\n",
       "            dtype='int64'),\n",
       " 2: Int64Index([3, 9, 10, 13, 16, 19, 25, 28, 30, 33, 39, 41, 43, 49, 52, 2], dtype='int64'),\n",
       " 3: Int64Index([4, 20, 29, 34, 44, 50, 53, 3, 21, 30, 39, 48, 66, 84, 102, 111], dtype='int64'),\n",
       " 4: Int64Index([5, 17, 21, 26, 35, 40, 42, 45, 54, 4, 22, 31, 40, 76, 85, 130], dtype='int64'),\n",
       " 5: Int64Index([6, 22, 36, 46, 55, 5, 23, 32, 41, 50, 68, 77, 86, 104, 113, 131], dtype='int64'),\n",
       " 6: Int64Index([2, 7, 11, 14, 23, 27, 31, 37, 47, 51, 56, 24, 51, 78, 105, 114], dtype='int64'),\n",
       " 7: Int64Index([15, 32, 57, 7, 16, 25, 34, 52, 61, 70, 79, 97, 106, 115, 124, 133], dtype='int64'),\n",
       " 8: Int64Index([8, 12, 18, 24, 38, 48, 58, 8, 26, 44, 71, 80, 89, 107, 116, 134], dtype='int64')}"
      ]
     },
     "execution_count": 303,
     "metadata": {},
     "output_type": "execute_result"
    }
   ],
   "source": [
    "group_result.groups"
   ]
  },
  {
   "cell_type": "code",
   "execution_count": 305,
   "metadata": {},
   "outputs": [],
   "source": [
    "for group in group_result.groups.items():\n",
    "    pass"
   ]
  },
  {
   "cell_type": "code",
   "execution_count": 295,
   "metadata": {},
   "outputs": [
    {
     "data": {
      "image/png": "[encoded data removed]",
      "text/plain": [
       "<Figure size 432x432 with 1 Axes>"
      ]
     },
     "metadata": {},
     "output_type": "display_data"
    }
   ],
   "source": [
    "sns.set(style=\"whitegrid\")\n",
    "\n",
    "f, ax = plt.subplots(figsize=(6, 6))\n",
    "\n",
    "sns.set_color_codes(\"pastel\")\n",
    "sns.barplot(x=\"Total\", y=\"Color_Identity\", data=pd_tab, label=\"Total\", orient='h', color=\"b\", )\n",
    "\n",
    "sns.despine(left=True, bottom=True)"
   ]
  },
  {
   "cell_type": "markdown",
   "metadata": {},
   "source": [
    "### Make an overall histogram from encoded types. "
   ]
  },
  {
   "cell_type": "code",
   "execution_count": 96,
   "metadata": {},
   "outputs": [],
   "source": [
    "hist = df.select(\"encodedTypes\").rdd.flatMap(lambda x: x).histogram(9)"
   ]
  },
  {
   "cell_type": "code",
   "execution_count": 16,
   "metadata": {},
   "outputs": [
    {
     "data": {
      "text/plain": [
       "([0.0,\n",
       "  0.8888888888888888,\n",
       "  1.7777777777777777,\n",
       "  2.6666666666666665,\n",
       "  3.5555555555555554,\n",
       "  4.444444444444445,\n",
       "  5.333333333333333,\n",
       "  6.222222222222221,\n",
       "  7.111111111111111,\n",
       "  8],\n",
       " [10, 1, 100, 45, 50, 28, 13, 5, 21])"
      ]
     },
     "execution_count": 16,
     "metadata": {},
     "output_type": "execute_result"
    }
   ],
   "source": [
    "hist"
   ]
  },
  {
   "cell_type": "code",
   "execution_count": 17,
   "metadata": {},
   "outputs": [],
   "source": [
    "pd_hist = pd.DataFrame(data=list(zip(*hist)), columns=['bin', 'freq'])"
   ]
  },
  {
   "cell_type": "code",
   "execution_count": 18,
   "metadata": {},
   "outputs": [],
   "source": [
    "pd_hist['perc'] = pd_hist['freq'] / pd_hist['freq'].sum()"
   ]
  },
  {
   "cell_type": "code",
   "execution_count": 19,
   "metadata": {},
   "outputs": [
    {
     "data": {
      "image/png": "[encoded data removed]",
      "text/plain": [
       "<Figure size 432x432 with 1 Axes>"
      ]
     },
     "metadata": {},
     "output_type": "display_data"
    }
   ],
   "source": [
    "sns.set(style=\"whitegrid\")\n",
    "\n",
    "f, ax = plt.subplots(figsize=(6, 6))\n",
    "\n",
    "sns.set_color_codes(\"pastel\")\n",
    "sns.barplot(x=\"perc\", y=\"bin\", data=pd_hist, label=\"Total\", orient='h', color=\"b\")\n",
    "\n",
    "ax.set(xlim=(0, 0.4), xlabel=\"\", ylabel=\"\")\n",
    "# ax.set(xlim=(0, 0.5), xlabel=\"%\", ylabel=\"Creature type\")\n",
    "ax.set(yticklabels=model.labels)\n",
    "\n",
    "sns.despine(left=True, bottom=True)"
   ]
  },
  {
   "cell_type": "markdown",
   "metadata": {},
   "source": [
    "## SQL / FN"
   ]
  },
  {
   "cell_type": "code",
   "execution_count": 20,
   "metadata": {},
   "outputs": [
    {
     "name": "stdout",
     "output_type": "stream",
     "text": [
      "+---------+-------------+\n",
      "|max power|max toughness|\n",
      "+---------+-------------+\n",
      "|       10|            7|\n",
      "+---------+-------------+\n",
      "\n"
     ]
    }
   ],
   "source": [
    "df.agg(*[fn.max(c).alias('max ' + c) for c in ['power', 'toughness']]).show()"
   ]
  },
  {
   "cell_type": "code",
   "execution_count": 21,
   "metadata": {},
   "outputs": [
    {
     "name": "stdout",
     "output_type": "stream",
     "text": [
      "+------+------+------------+-----------------+---------+-------------+--------------------+--------+------------+--------+---------------+----------+-----------------+--------------------+--------------------+-----+---------+\n",
      "|number|rarity|        name|convertedManaCost|numColors|colorIdentity|encodedColorIdentity|   types|encodedTypes|subTypes|encodedSubTypes|superTypes|encodedSuperTypes|        originalText|        filteredText|power|toughness|\n",
      "+------+------+------------+-----------------+---------+-------------+--------------------+--------+------------+--------+---------------+----------+-----------------+--------------------+--------------------+-----+---------+\n",
      "|   181|  rare|Nessian Boar|                5|        1|            G|                   6|Creature|           2|    Boar|              6|          |                0|All creatures abl...|All creatures abl...|   10|        6|\n",
      "+------+------+------------+-----------------+---------+-------------+--------------------+--------+------------+--------+---------------+----------+-----------------+--------------------+--------------------+-----+---------+\n",
      "\n"
     ]
    }
   ],
   "source": [
    "spark.sql(\"SELECT * FROM cards WHERE power == 10\").show()"
   ]
  },
  {
   "cell_type": "code",
   "execution_count": 22,
   "metadata": {},
   "outputs": [
    {
     "name": "stdout",
     "output_type": "stream",
     "text": [
      "+------+------+--------------------+-----------------+---------+-------------+--------------------+--------------------+------------+--------+---------------+----------+-----------------+--------------------+--------------------+-----+---------+\n",
      "|number|rarity|                name|convertedManaCost|numColors|colorIdentity|encodedColorIdentity|               types|encodedTypes|subTypes|encodedSubTypes|superTypes|encodedSuperTypes|        originalText|        filteredText|power|toughness|\n",
      "+------+------+--------------------+-----------------+---------+-------------+--------------------+--------------------+------------+--------+---------------+----------+-----------------+--------------------+--------------------+-----+---------+\n",
      "|   181|  rare|        Nessian Boar|                5|        1|            G|                   6|            Creature|           2|    Boar|              6|          |                0|All creatures abl...|All creatures abl...|   10|        6|\n",
      "|   297|  rare|  Treeshaker Chimera|                7|        1|            G|                   6|            Creature|           2| Chimera|             15|          |                0|All creatures abl...|All creatures abl...|    8|        5|\n",
      "|   292|  rare|   Demon of Loathing|                7|        1|            B|                   1|            Creature|           2|   Demon|             18|          |                0|Flying, trample\n",
      "W...|FLYING, trample\n",
      "W...|    7|        7|\n",
      "|   150|mythic|Purphoros, Bronze...|                5|        1|            R|                  10|Enchantment,Creature|           4|     God|             29| Legendary|                2|Indestructible\n",
      "As...|Indestructible\n",
      "As...|    7|        6|\n",
      "|   144|common|       Nyxborn Brute|                5|        1|            R|                  10|Enchantment,Creature|           4| Cyclops|             16|          |                0|                null|                null|    7|        3|\n",
      "+------+------+--------------------+-----------------+---------+-------------+--------------------+--------------------+------------+--------+---------------+----------+-----------------+--------------------+--------------------+-----+---------+\n",
      "\n"
     ]
    }
   ],
   "source": [
    "spark.sql(\"\"\"\n",
    "    SELECT * FROM cards\n",
    "    ORDER BY power DESC, toughness DESC\n",
    "    LIMIT 5\n",
    "\"\"\").show()"
   ]
  },
  {
   "cell_type": "code",
   "execution_count": null,
   "metadata": {},
   "outputs": [],
   "source": []
  }
 ],
 "metadata": {
  "kernelspec": {
   "display_name": "Python 3",
   "language": "python",
   "name": "python3"
  },
  "language_info": {
   "codemirror_mode": {
    "name": "ipython",
    "version": 3
   },
   "file_extension": ".py",
   "mimetype": "text/x-python",
   "name": "python",
   "nbconvert_exporter": "python",
   "pygments_lexer": "ipython3",
   "version": "3.6.9"
  },
  "toc-autonumbering": true
 },
 "nbformat": 4,
 "nbformat_minor": 4
}
