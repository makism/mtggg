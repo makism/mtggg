{
 "cells": [
  {
   "cell_type": "markdown",
   "metadata": {},
   "source": [
    "# Load the set from JSON"
   ]
  },
  {
   "cell_type": "code",
   "execution_count": 5,
   "metadata": {},
   "outputs": [],
   "source": [
    "import json\n",
    "import numpy as np"
   ]
  },
  {
   "cell_type": "code",
   "execution_count": 6,
   "metadata": {},
   "outputs": [],
   "source": [
    "json_file = 'dataset/THB.json'"
   ]
  },
  {
   "cell_type": "code",
   "execution_count": 7,
   "metadata": {},
   "outputs": [],
   "source": [
    "with open(json_file, 'r') as fp:\n",
    "    raw_data = json.load(fp)\n",
    "    cards = raw_data['cards']\n",
    "\n",
    "n = len(cards)"
   ]
  },
  {
   "cell_type": "markdown",
   "metadata": {},
   "source": [
    "# Dump a JSON containing only the cards "
   ]
  },
  {
   "cell_type": "code",
   "execution_count": 8,
   "metadata": {},
   "outputs": [],
   "source": [
    "with open('dataset/THB_cards.json', 'w') as fp:\n",
    "    json.dump(cards, fp)"
   ]
  },
  {
   "cell_type": "markdown",
   "metadata": {},
   "source": [
    "# Clean the data "
   ]
  },
  {
   "cell_type": "code",
   "execution_count": 9,
   "metadata": {},
   "outputs": [],
   "source": [
    "import pyspark.sql.functions as fn\n",
    "from pyspark.sql.functions import udf\n",
    "from pyspark.sql.types import LongType, StringType, StructField, StructType, BooleanType, ArrayType, IntegerType"
   ]
  },
  {
   "cell_type": "code",
   "execution_count": null,
   "metadata": {},
   "outputs": [],
   "source": [
    "# customSchema = StructType([\n",
    "#     StructField(\"text\", StringType(), True)\n",
    "# ])\n",
    "\n",
    "# df = spark.read.json('dataset/THB_cards.json', schema=customSchema)"
   ]
  },
  {
   "cell_type": "code",
   "execution_count": null,
   "metadata": {},
   "outputs": [],
   "source": [
    "df = spark.read.json('dataset/THB_cards.json')"
   ]
  },
  {
   "cell_type": "code",
   "execution_count": null,
   "metadata": {},
   "outputs": [],
   "source": [
    "df.colorIdentity"
   ]
  },
  {
   "cell_type": "code",
   "execution_count": null,
   "metadata": {},
   "outputs": [],
   "source": [
    "rules = {\n",
    "    \"When {CARDNAME} enters the battlefield\": \"ETB_EFFECT\",\n",
    "    \n",
    "    \"Flash (You may cast this spell any time you could cast an instant.)\": \"FLASH\",\n",
    "    \"Flash\": \"FLASH\",\n",
    "    \n",
    "    \"Reach (This creature can block creatures with flying.)\": \"REACH\",\n",
    "    \"Reach\": \"REACH\",\n",
    "    \n",
    "    \"Flying (This creature can't be blocked except by creatures with flying or reach.)\": \"FLYING\",\n",
    "    \"Flying\": \"FLYING\",\n",
    "    \n",
    "    \"Haste (This creature can attack and {T} as soon as it comes under your control.)\": \"HASTE\",\n",
    "    \"Haste\": \"HASTE\",\n",
    "    \n",
    "    \"Trample (This creature can deal excess combat damage to the player or planeswalker it's attacking.)\": \"TRAMPLE\",\n",
    "    \"Trample\": \"TRAMPLE\",\n",
    "    \n",
    "    \"Vigilance (Attacking doesn't cause this creature to tap.)\": \"VIGILANCE\",\n",
    "    \"Vigilance\": \" VIGILANCE\",\n",
    "\n",
    "    \"Double strike (This creature deals both first-strike and regular combat damage.)\": \"DOUBLE_STRIKE\",\n",
    "    \"Double strike\": \"DOUBLE_STRIKE\",\n",
    "\n",
    "    \"Deathtouch (Any amount of damage this deals to a creature is enough to destroy it.)\": \"DEATHTOUCH\",\n",
    "    \"Deathtouch\": \"DEATHTOUCH\",\n",
    "    \n",
    "    \"Protection from green (This creature can't be blocked, targeted, dealt damage, enchanted, or equipped by anything green.)\": \"PROTECTION_FROM_GREEN\",\n",
    "    \"Protection from red (This creature can't be blocked, targeted, dealt damage, enchanted, or equipped by anything red.)\": \"PROTECTION_FROM_RED\",\n",
    "    \"Protection from black (This creature can't be blocked, targeted, dealt damage, enchanted, or equipped by anything black.)\": \"PROTECTION_FROM_BLACK\",\n",
    "    \"Protection from blue (This creature can't be blocked, targeted, dealt damage, enchanted, or equipped by anything blue.)\": \"PROTECTION_FROM_BLUE\",\n",
    "    \"Protection from white (This creature can't be blocked, targeted, dealt damage, enchanted, or equipped by anything white.)\": \"PROTECTION_FROM_WHITE\"\n",
    "}"
   ]
  },
  {
   "cell_type": "code",
   "execution_count": null,
   "metadata": {},
   "outputs": [],
   "source": [
    "@udf\n",
    "def udf_filter_text(name, text):\n",
    "    if isinstance(text, str):\n",
    "        new_text = text\n",
    "        new_text = new_text.replace(name, \"CARDNAME\")\n",
    "        for line in new_text:\n",
    "            for rule, replace in rules.items():\n",
    "                new_text = new_text.replace(rule, replace)\n",
    "\n",
    "        return new_text"
   ]
  },
  {
   "cell_type": "code",
   "execution_count": null,
   "metadata": {},
   "outputs": [],
   "source": [
    "df = df.withColumn('filtered_text', udf_filter_text('name', 'text'))"
   ]
  },
  {
   "cell_type": "code",
   "execution_count": null,
   "metadata": {},
   "outputs": [],
   "source": [
    "df_colorIdentities = df.selectExpr([\"number\", \"colorIdentity\"]).select('number', fn.expr(\"concat_ws(',', colorIdentity)\").alias(\"str_colorIdentity\"))"
   ]
  },
  {
   "cell_type": "code",
   "execution_count": null,
   "metadata": {},
   "outputs": [],
   "source": [
    "df = df.join(df_colorIdentities, on='number')"
   ]
  },
  {
   "cell_type": "markdown",
   "metadata": {},
   "source": [
    "## Encode the color identity to discrete ints "
   ]
  },
  {
   "cell_type": "code",
   "execution_count": null,
   "metadata": {},
   "outputs": [],
   "source": [
    "df_colorId = df.select(\"str_colorIdentity\").distinct()\n",
    "# df_colorId.show()"
   ]
  },
  {
   "cell_type": "code",
   "execution_count": null,
   "metadata": {},
   "outputs": [],
   "source": [
    "import pandas as pd\n",
    "import sklearn\n",
    "from sklearn import preprocessing"
   ]
  },
  {
   "cell_type": "code",
   "execution_count": null,
   "metadata": {},
   "outputs": [],
   "source": [
    "pd_allColorIds = df.select(\"str_colorIdentity\").toPandas()\n",
    "pd_colorIds = df_colorId.toPandas()"
   ]
  },
  {
   "cell_type": "code",
   "execution_count": null,
   "metadata": {},
   "outputs": [],
   "source": [
    "le = preprocessing.LabelEncoder().fit(pd_colorIds)\n",
    "encoded_colorIds = le.transform(pd_allColorIds)"
   ]
  },
  {
   "cell_type": "code",
   "execution_count": null,
   "metadata": {},
   "outputs": [],
   "source": [
    "# keep track of the dictionary!"
   ]
  },
  {
   "cell_type": "code",
   "execution_count": null,
   "metadata": {},
   "outputs": [],
   "source": [
    "pd_colorIds = pd.DataFrame(encoded_colorIds, columns=['encoded_colorIdentity'])\n",
    "pd_colorIds['number'] = df.select(\"number\").toPandas().astype('int32')"
   ]
  },
  {
   "cell_type": "code",
   "execution_count": null,
   "metadata": {},
   "outputs": [],
   "source": [
    "df_encoded_colorIds = spark.createDataFrame(pd_colorIds)"
   ]
  },
  {
   "cell_type": "code",
   "execution_count": null,
   "metadata": {},
   "outputs": [],
   "source": [
    "df_encoded_colorIds.first()"
   ]
  },
  {
   "cell_type": "code",
   "execution_count": null,
   "metadata": {},
   "outputs": [],
   "source": [
    "df = df.join(df_encoded_colorIds, on='number')"
   ]
  },
  {
   "cell_type": "code",
   "execution_count": null,
   "metadata": {},
   "outputs": [],
   "source": [
    "# df.first()"
   ]
  },
  {
   "cell_type": "markdown",
   "metadata": {},
   "source": [
    "#  Create an SQL table"
   ]
  },
  {
   "cell_type": "code",
   "execution_count": null,
   "metadata": {},
   "outputs": [],
   "source": [
    "df.createOrReplaceTempView(\"cards\")"
   ]
  },
  {
   "cell_type": "code",
   "execution_count": null,
   "metadata": {},
   "outputs": [],
   "source": [
    "tbl = spark.sql(\"\"\"\n",
    "    SELECT\n",
    "        CAST(number as Integer), \n",
    "        rarity,\n",
    "        name,\n",
    "        CAST(convertedManaCost as Integer),\n",
    "        CAST(encoded_colorIdentity as Integer) as colorIdentity,\n",
    "        filtered_text,\n",
    "        CAST(power as Integer),\n",
    "        CAST(toughness as Integer)\n",
    "    FROM\n",
    "        cards\n",
    "\"\"\")"
   ]
  },
  {
   "cell_type": "code",
   "execution_count": null,
   "metadata": {},
   "outputs": [],
   "source": [
    "tbl.first()"
   ]
  },
  {
   "cell_type": "markdown",
   "metadata": {},
   "source": [
    "# Save to Parquet"
   ]
  },
  {
   "cell_type": "code",
   "execution_count": null,
   "metadata": {},
   "outputs": [],
   "source": [
    "tbl.write.mode(\"overwrite\").parquet('/tmp/THB_cards.parquet')"
   ]
  },
  {
   "cell_type": "code",
   "execution_count": null,
   "metadata": {},
   "outputs": [],
   "source": [
    "## this fails\n",
    "# tbl.write.mode(\"overwrite\").parquet('dataset/THB_cards.parquet')"
   ]
  },
  {
   "cell_type": "code",
   "execution_count": null,
   "metadata": {},
   "outputs": [],
   "source": [
    "rm -rf \"dataset/THB_cards.parquet/\""
   ]
  },
  {
   "cell_type": "code",
   "execution_count": null,
   "metadata": {},
   "outputs": [],
   "source": [
    "mv \"/tmp/THB_cards.parquet\" \"dataset/\""
   ]
  }
 ],
 "metadata": {
  "kernelspec": {
   "display_name": "Python 3",
   "language": "python",
   "name": "python3"
  },
  "language_info": {
   "codemirror_mode": {
    "name": "ipython",
    "version": 3
   },
   "file_extension": ".py",
   "mimetype": "text/x-python",
   "name": "python",
   "nbconvert_exporter": "python",
   "pygments_lexer": "ipython3",
   "version": "3.6.9"
  }
 },
 "nbformat": 4,
 "nbformat_minor": 4
}
