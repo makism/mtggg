{
 "cells": [
  {
   "cell_type": "markdown",
   "metadata": {},
   "source": [
    "# Imports"
   ]
  },
  {
   "cell_type": "code",
   "execution_count": 1,
   "metadata": {},
   "outputs": [],
   "source": [
    "import gensim\n",
    "from gensim import corpora\n",
    "from pprint import pprint\n",
    "from gensim.models.doc2vec import Doc2Vec, TaggedDocument\n",
    "from nltk.tokenize import word_tokenize\n",
    "import numpy as np\n",
    "import sklearn\n",
    "import pandas as pd\n",
    "import umap\n",
    "from pymongo import MongoClient\n",
    "from sklearn.neighbors import NearestNeighbors\n",
    "import tqdm\n",
    "import pickle"
   ]
  },
  {
   "cell_type": "markdown",
   "metadata": {},
   "source": [
    "# Read Data "
   ]
  },
  {
   "cell_type": "code",
   "execution_count": 2,
   "metadata": {},
   "outputs": [
    {
     "data": {
      "text/plain": [
       "pyspark.sql.session.SparkSession"
      ]
     },
     "execution_count": 2,
     "metadata": {},
     "output_type": "execute_result"
    }
   ],
   "source": [
    "type(spark)"
   ]
  },
  {
   "cell_type": "code",
   "execution_count": 3,
   "metadata": {},
   "outputs": [],
   "source": [
    "df = spark.read.parquet('../dataset/M20_cards.parquet')"
   ]
  },
  {
   "cell_type": "code",
   "execution_count": 4,
   "metadata": {},
   "outputs": [],
   "source": [
    "as_dict = df.rdd.map(lambda row: row.asDict())"
   ]
  },
  {
   "cell_type": "code",
   "execution_count": 5,
   "metadata": {},
   "outputs": [],
   "source": [
    "cards = as_dict.collect()"
   ]
  },
  {
   "cell_type": "markdown",
   "metadata": {},
   "source": [
    "# Tokenize"
   ]
  },
  {
   "cell_type": "code",
   "execution_count": 6,
   "metadata": {},
   "outputs": [],
   "source": [
    "field_text = \"filteredText\"\n",
    "\n",
    "data_list = [{'number': card['number'], 'text': card[field_text], 'name': card['name']} for card in cards if field_text in card if card[field_text] is not None]\n",
    "card_names = list(map(lambda card: card['name'], data_list))\n",
    "data = list(map(lambda card: card['text'], data_list))"
   ]
  },
  {
   "cell_type": "code",
   "execution_count": 7,
   "metadata": {},
   "outputs": [],
   "source": [
    "tagged_data = [\n",
    "    TaggedDocument(words=word_tokenize(_d.lower()), tags=[str(i)])\n",
    "    for i, _d in enumerate(data) if _d is not None\n",
    "]"
   ]
  },
  {
   "cell_type": "markdown",
   "metadata": {},
   "source": [
    "# Train model"
   ]
  },
  {
   "cell_type": "code",
   "execution_count": 8,
   "metadata": {},
   "outputs": [],
   "source": [
    "max_epochs = 100\n",
    "vec_size = 50\n",
    "alpha = 0.025"
   ]
  },
  {
   "cell_type": "code",
   "execution_count": 9,
   "metadata": {},
   "outputs": [],
   "source": [
    "model = Doc2Vec(vector_size=vec_size, alpha=alpha, min_alpha=0.00025, min_count=1, dm=1)\n",
    "model.build_vocab(tagged_data)"
   ]
  },
  {
   "cell_type": "code",
   "execution_count": 10,
   "metadata": {},
   "outputs": [
    {
     "name": "stderr",
     "output_type": "stream",
     "text": [
      "100%|██████████| 100/100 [00:11<00:00,  8.95it/s]\n"
     ]
    }
   ],
   "source": [
    "for epoch in tqdm.tqdm(range(max_epochs)):\n",
    "    model.train(tagged_data, total_examples=model.corpus_count, epochs=model.epochs)\n",
    "    # decrease the learning rate\n",
    "    model.alpha -= 0.0002\n",
    "    # fix the learning rate, no decay\n",
    "    model.min_alpha = model.alpha"
   ]
  },
  {
   "cell_type": "code",
   "execution_count": 11,
   "metadata": {},
   "outputs": [],
   "source": [
    "# model.save(\"d2v.model\")"
   ]
  },
  {
   "cell_type": "code",
   "execution_count": 12,
   "metadata": {},
   "outputs": [
    {
     "name": "stderr",
     "output_type": "stream",
     "text": [
      "100%|██████████| 312/312 [00:00<00:00, 355990.98it/s]\n"
     ]
    }
   ],
   "source": [
    "X = list()\n",
    "\n",
    "for i in tqdm.tqdm(range(len(model.docvecs))):\n",
    "    X.append(model.docvecs[i])\n",
    "    \n",
    "docvecs = np.array(X)"
   ]
  },
  {
   "cell_type": "markdown",
   "metadata": {},
   "source": [
    "# Project and embed data"
   ]
  },
  {
   "cell_type": "code",
   "execution_count": 13,
   "metadata": {},
   "outputs": [],
   "source": [
    "rng = np.random.RandomState(0)"
   ]
  },
  {
   "cell_type": "code",
   "execution_count": 14,
   "metadata": {},
   "outputs": [],
   "source": [
    "pca = sklearn.decomposition.PCA(random_state=rng)\n",
    "X_docvecs = pca.fit_transform(docvecs)"
   ]
  },
  {
   "cell_type": "code",
   "execution_count": 15,
   "metadata": {},
   "outputs": [],
   "source": [
    "mdl_umap = umap.UMAP(n_neighbors=5, metric='euclidean', random_state=rng, transform_seed=rng)\n",
    "embedded_docvecs = mdl_umap.fit_transform(docvecs)"
   ]
  },
  {
   "cell_type": "code",
   "execution_count": 16,
   "metadata": {},
   "outputs": [],
   "source": [
    "# with open(\"../mdl_umap.pickle\",\"wb\") as fp:\n",
    "#     pickle.dump(mdl_umap, fp)\n",
    "# fp.close()"
   ]
  },
  {
   "cell_type": "markdown",
   "metadata": {},
   "source": [
    "# Find similar cards (up to 20) and cache the results"
   ]
  },
  {
   "cell_type": "code",
   "execution_count": 17,
   "metadata": {},
   "outputs": [],
   "source": [
    "similarity_results = list()\n",
    "\n",
    "for card, embedded_vector in zip(cards, embedded_docvecs):\n",
    "    knn = NearestNeighbors(n_neighbors=1, metric='euclidean')\n",
    "    knn.fit(embedded_docvecs)\n",
    "    \n",
    "    distances, neighs_ids = knn.kneighbors(np.reshape(embedded_vector,[1, 2]), 20, return_distance=True)\n",
    "    \n",
    "    similarity_results.append({'number': card['number'], 'similar': neighs_ids[0].tolist()})"
   ]
  },
  {
   "cell_type": "markdown",
   "metadata": {},
   "source": [
    "# Save feature vectors "
   ]
  },
  {
   "cell_type": "code",
   "execution_count": 18,
   "metadata": {},
   "outputs": [],
   "source": [
    "client = MongoClient(\"localhost\")\n",
    "db = client['mtggg']"
   ]
  },
  {
   "cell_type": "code",
   "execution_count": 19,
   "metadata": {},
   "outputs": [],
   "source": [
    "feats = [{'number': card['number'], 'docvect': feature_vector.tolist(), 'embedded_vect': embedded_vector.tolist()} \n",
    "             for card, feature_vector, embedded_vector in zip(cards, docvecs, embedded_docvecs)\n",
    "]"
   ]
  },
  {
   "cell_type": "code",
   "execution_count": 20,
   "metadata": {},
   "outputs": [],
   "source": [
    "# result = db.ml.feats.v1.insert_many(feats)\n",
    "# result.acknowledged"
   ]
  },
  {
   "cell_type": "code",
   "execution_count": 21,
   "metadata": {},
   "outputs": [],
   "source": [
    "# result = db.ml.similar.v1.insert_many(similarity_results)\n",
    "# result.acknowledged"
   ]
  },
  {
   "cell_type": "markdown",
   "metadata": {},
   "source": [
    "# Plot scatter"
   ]
  },
  {
   "cell_type": "code",
   "execution_count": 22,
   "metadata": {},
   "outputs": [],
   "source": [
    "mdl_umap = umap.UMAP(n_neighbors=5, metric='euclidean', random_state=rng, transform_seed=rng)\n",
    "embedded_docvecs = mdl_umap.fit_transform(docvecs)"
   ]
  },
  {
   "cell_type": "code",
   "execution_count": 24,
   "metadata": {},
   "outputs": [],
   "source": [
    "df = pd.DataFrame(np.hstack([embedded_docvecs, np.reshape(data, [312, 1]), np.reshape(card_names, [312, 1])]), columns=['x', 'y', 'text', 'name'])"
   ]
  },
  {
   "cell_type": "code",
   "execution_count": 26,
   "metadata": {},
   "outputs": [
    {
     "data": {
      "text/html": [
       "        <script type=\"text/javascript\">\n",
       "        window.PlotlyConfig = {MathJaxConfig: 'local'};\n",
       "        if (window.MathJax) {MathJax.Hub.Config({SVG: {font: \"STIX-Web\"}});}\n",
       "        if (typeof require !== 'undefined') {\n",
       "        require.undef(\"plotly\");\n",
       "        requirejs.config({\n",
       "            paths: {\n",
       "                'plotly': ['https://cdn.plot.ly/plotly-latest.min']\n",
       "            }\n",
       "        });\n",
       "        require(['plotly'], function(Plotly) {\n",
       "            window._Plotly = Plotly;\n",
       "        });\n",
       "        }\n",
       "        </script>\n",
       "        "
      ]
     },
     "metadata": {},
     "output_type": "display_data"
    },
    {
     "data": {
      "application/vnd.plotly.v1+json": {
       "config": {
        "plotlyServerURL": "https://plot.ly"
       },
       "data": [
        {
         "customdata": [
          [
           "Chandra, Awakened Inferno",
           "This spell can't be countered.\n[+2]: Each opponent gets an emblem with \"At the beginning of your upkeep, this emblem deals 1 damage to you.\"\n[−3]: CARDNAME deals 3 damage to each non-Elemental creature.\n−X: CARDNAME deals X damage to target creature or planeswalker. If a permanent dealt damage this way would die this turn, exile it instead."
          ],
          [
           "Cavalier of Flame",
           "{1}{R}: Creatures you control get +1/+0 and gain haste until end of turn.\nWhen CARDNAME enters the battlefield, discard any number of cards, then draw that many cards.\nWhen CARDNAME dies, it deals X damage to each opponent and each planeswalker they control, where X is the number of land cards in your graveyard."
          ],
          [
           "Cavalier of Thorns",
           "REACH\nWhen CARDNAME enters the battlefield, reveal the top five cards of your library. Put a land card from among them onto the battlefield and the rest into your graveyard.\nWhen CARDNAME dies, you may exile it. If you do, put another target card from your graveyard on top of your library."
          ],
          [
           "Omnath, Locus of the Roil",
           "When CARDNAME enters the battlefield, it deals damage to any target equal to the number of Elementals you control.\nWhenever a land enters the battlefield under your control, put a +1/+1 counter on target Elemental you control. If you control eight or more lands, draw a card."
          ],
          [
           "Kaalia, Zenith Seeker",
           "FLYING, vigilance\nWhen CARDNAME enters the battlefield, look at the top six cards of your library. You may reveal an Angel card, a Demon card, and/or a Dragon card from among them and put them into your hand. Put the rest on the bottom of your library in a random order."
          ],
          [
           "Mask of Immolation",
           "When CARDNAME enters the battlefield, create a 1/1 red Elemental creature token, then attach CARDNAME to it.\nEquipped creature has \"Sacrifice this creature: It deals 1 damage to any target.\"\nEquip {2} ({2}: Attach to target creature you control. Equip only as a sorcery.)"
          ],
          [
           "Cavalier of Dawn",
           " VIGILANCE\nWhen CARDNAME enters the battlefield, destroy up to one target nonland permanent. Its controller creates a 3/3 colorless Golem artifact creature token.\nWhen CARDNAME dies, return target artifact or enchantment card from your graveyard to your hand."
          ],
          [
           "Wolfrider's Saddle",
           "When CARDNAME enters the battlefield, create a 2/2 green Wolf creature token, then attach CARDNAME to it.\nEquipped creature gets +1/+1 and can't be blocked by more than one creature.\nEquip {3} ({3}: Attach to target creature you control. Equip only as a sorcery.)"
          ],
          [
           "Risen Reef",
           "Whenever CARDNAME or another Elemental enters the battlefield under your control, look at the top card of your library. If it's a land card, you may put it onto the battlefield tapped. If you don't put the card onto the battlefield, put it into your hand."
          ],
          [
           "Atemsis, All-Seeing",
           "FLYING\n{2}{U}, {T}: Draw two cards, then discard a card.\nWhenever CARDNAME deals damage to an opponent, you may reveal your hand. If cards with at least six different converted mana costs are revealed this way, that player loses the game."
          ],
          [
           "Overgrowth Elemental",
           "When CARDNAME enters the battlefield, put a +1/+1 counter on another target Elemental you control.\nWhenever another creature you control dies, you gain 1 life. If that creature was an Elemental, put a +1/+1 counter on CARDNAME."
          ],
          [
           "Voracious Hydra",
           "TRAMPLE\nCARDNAME enters the battlefield with X +1/+1 counters on it.\nWhen CARDNAME enters the battlefield, choose one —\n• Double the number of +1/+1 counters on CARDNAME.\n• CARDNAME fights target creature you don't control."
          ],
          [
           "Barkhide Troll",
           "CARDNAME enters the battlefield with a +1/+1 counter on it.\n{1}, Remove a +1/+1 counter from CARDNAME: CARDNAME gains hexproof until end of turn. (It can't be the target of spells or abilities your opponents control.)"
          ],
          [
           "Ancestral Blade",
           "When CARDNAME enters the battlefield, create a 1/1 white Soldier creature token, then attach CARDNAME to it.\nEquipped creature gets +1/+1.\nEquip {1} ({1}: Attach to target creature you control. Equip only as a sorcery.)"
          ],
          [
           "Gruesome Scourger",
           "When CARDNAME enters the battlefield, it deals damage to target opponent or planeswalker equal to the number of creatures you control."
          ],
          [
           "Icon of Ancestry",
           "As CARDNAME enters the battlefield, choose a creature type.\nCreatures you control of the chosen type get +1/+1.\n{3}, {T}: Look at the top three cards of your library. You may reveal a creature card of the chosen type from among them and put it into your hand. Put the rest on the bottom of your library in a random order."
          ],
          [
           "Cryptic Caves",
           "{T}: Add {C}.\n{1}, {T}, Sacrifice CARDNAME: Draw a card. Activate this ability only if you control five or more lands."
          ],
          [
           "Evolving Wilds",
           "{T}, Sacrifice CARDNAME: Search your library for a basic land card, put it onto the battlefield tapped, then shuffle your library."
          ],
          [
           "Mu Yanling, Sky Dancer",
           "[+2]: Until your next turn, up to one target creature gets -2/-0 and loses flying.\n[−3]: Create a 4/4 blue Elemental Bird creature token with flying.\n[−8]: You get an emblem with \"Islands you control have '{T}: Draw a card.'\""
          ],
          [
           "Bloodsoaked Altar",
           "{T}, Pay 2 life, Discard a card, Sacrifice a creature: Create a 5/5 black Demon creature token with flying. Activate this ability only any time you could cast a sorcery."
          ],
          [
           "Leyline of Abundance",
           "If CARDNAME is in your opening hand, you may begin the game with it on the battlefield.\nWhenever you tap a creature for mana, add an additional {G}.\n{6}{G}{G}: Put a +1/+1 counter on each creature you control."
          ],
          [
           "Chandra, Acolyte of Flame",
           "[0]: Put a loyalty counter on each red planeswalker you control.\n[0]: Create two 1/1 red Elemental creature tokens. They gain haste. Sacrifice them at the beginning of the next end step.\n[−2]: You may cast target instant or sorcery card with converted mana cost 3 or less from your graveyard. If that card would be put into your graveyard this turn, exile it instead."
          ],
          [
           "Chandra's Regulator",
           "Whenever you activate a loyalty ability of a Chandra planeswalker, you may pay {1}. If you do, copy that ability. You may choose new targets for the copy.\n{1}, {T}, Discard a Mountain card or a red card: Draw a card."
          ],
          [
           "Fry",
           "This spell can't be countered.\nCARDNAME deals 5 damage to target creature or planeswalker that's white or blue."
          ],
          [
           "Gauntlets of Light",
           "Enchant creature\nEnchanted creature gets +0/+2 and assigns combat damage equal to its toughness rather than its power.\nEnchanted creature has \"{2}{W}: Untap this creature.\""
          ],
          [
           "Angelic Guardian",
           "FLYING\nWhenever one or more creatures you control attack, they gain indestructible until end of turn. (Damage and effects that say \"destroy\" don't destroy them.)"
          ],
          [
           "Gargos, Vicious Watcher",
           " VIGILANCE\nHydra spells you cast cost {4} less to cast.\nWhenever a creature you control becomes the target of a spell, CARDNAME fights up to one target creature you don't control."
          ],
          [
           "Shifting Ceratops",
           "This spell can't be countered.\nPROTECTION_FROM_BLUE\n{G}: CARDNAME gains your choice of reach, trample, or haste until end of turn."
          ],
          [
           "Octoprophet",
           "When CARDNAME enters the battlefield, scry 2. (Look at the top two cards of your library, then put any number of them on the bottom of your library and the rest on top in any order.)"
          ],
          [
           "Kethis, the Hidden Hand",
           "Legendary spells you cast cost {1} less to cast.\nExile two legendary cards from your graveyard: Until end of turn, each legendary card in your graveyard gains \"You may play this card from your graveyard.\""
          ],
          [
           "Chandra's Flame Wave",
           "CARDNAME deals 2 damage to target player and each creature that player controls. Search your library and/or graveyard for a card named Chandra, Flame's Fury, reveal it, and put it into your hand. If you search your library this way, shuffle it."
          ],
          [
           "Sephara, Sky's Blade",
           "You may pay {W} and tap four untapped creatures you control with flying rather than pay this spell's mana cost.\nFLYING, lifelink\nOther creatures you control with flying have indestructible. (Damage and effects that say \"destroy\" don't destroy them.)"
          ],
          [
           "Gorging Vulture",
           "FLYING\nWhen CARDNAME enters the battlefield, put the top four cards of your library into your graveyard. You gain 1 life for each creature card put into your graveyard this way."
          ],
          [
           "Drakuseth, Maw of Flames",
           "FLYING\nWhenever CARDNAME attacks, it deals 4 damage to any target and 3 damage to each of up to two other targets."
          ],
          [
           "Veil of Summer",
           "Draw a card if an opponent has cast a blue or black spell this turn. Spells you control can't be countered this turn. You and permanents you control gain hexproof from blue and from black until end of turn. (You and they can't be the targets of blue or black spells or abilities your opponents control.)"
          ],
          [
           "Sorin, Vampire Lord",
           "[+1]: Up to one target creature gets +2/+0 until end of turn.\n[−2]: CARDNAME deals 4 damage to any target. You gain 4 life.\n[−8]: Until end of turn, each Vampire you control gains \"{T}: Gain control of target creature.\""
          ],
          [
           "Diamond Knight",
           "VIGILANCE\nAs CARDNAME enters the battlefield, choose a color.\nWhenever you cast a spell of the chosen color, put a +1/+1 counter on CARDNAME."
          ],
          [
           "Thicket Crasher",
           "TRAMPLE\nOther Elementals you control have trample."
          ],
          [
           "Ajani, Strength of the Pride",
           "[+1]: You gain life equal to the number of creatures you control plus the number of planeswalkers you control.\n[−2]: Create a 2/2 white Cat Soldier creature token named Ajani's Pridemate with \"Whenever you gain life, put a +1/+1 counter on Ajani's Pridemate.\"\n[0]: If you have at least 15 life more than your starting life total, exile CARDNAME and each artifact and creature your opponents control."
          ],
          [
           "Aggressive Mammoth",
           "TRAMPLE\nOther creatures you control have trample."
          ],
          [
           "Knight of the Ebon Legion",
           "{2}{B}: CARDNAME gets +3/+3 and gains deathtouch until end of turn.\nAt the beginning of your end step, if a player lost 4 or more life this turn, put a +1/+1 counter on CARDNAME. (Damage causes loss of life.)"
          ],
          [
           "Salvager of Ruin",
           "Sacrifice CARDNAME: Choose target permanent card in your graveyard that was put there from the battlefield this turn. Return it to your hand."
          ],
          [
           "Yanling's Harbinger",
           "FLYING\nWhen CARDNAME enters the battlefield, you may search your library and/or graveyard for a card named Mu Yanling, Celestial Wind, reveal it, and put it into your hand. If you search your library this way, shuffle it."
          ],
          [
           "Celestial Messenger",
           "FLASH (You may cast this card any time you could cast an instant.)\nFLYING\nCARDNAME gets +1/+1 as long as you control a Yanling planeswalker."
          ],
          [
           "Frost Lynx",
           "When CARDNAME enters the battlefield, tap target creature an opponent controls. That creature doesn't untap during its controller's next untap step."
          ],
          [
           "Ember Hauler",
           "{1}, Sacrifice CARDNAME: It deals 2 damage to any target."
          ],
          [
           "Renowned Weaponsmith",
           "{T}: Add {C}{C}. Spend this mana only to cast artifact spells or activate abilities of artifacts.\n{U}, {T}: Search your library for a card named Heart-Piercer Bow or Vial of Dragonfire, reveal it, put it into your hand, then shuffle your library."
          ],
          [
           "Scholar of the Ages",
           "When CARDNAME enters the battlefield, return up to two target instant and/or sorcery cards from your graveyard to your hand."
          ],
          [
           "Brightwood Tracker",
           "{5}{G}, {T}: Look at the top four cards of your library. You may reveal a creature card from among them and put it into your hand. Put the rest on the bottom of your library in a random order."
          ],
          [
           "Tomebound Lich",
           "DEATHTOUCH\nLifelink (Damage dealt by this creature also causes you to gain that much life.)\nWhenever CARDNAME enters the battlefield or deals combat damage to a player, draw a card, then discard a card."
          ],
          [
           "Glint-Horn Buccaneer",
           "HASTE\nWhenever you discard a card, CARDNAME deals 1 damage to each opponent.\n{1}{R}, Discard a card: Draw a card. Activate this ability only if CARDNAME is attacking."
          ],
          [
           "Leyline of Combustion",
           "If CARDNAME is in your opening hand, you may begin the game with it on the battlefield.\nWhenever you and/or at least one permanent you control becomes the target of a spell or ability an opponent controls, CARDNAME deals 2 damage to that player."
          ],
          [
           "Gift of Paradise",
           "Enchant land\nWhen CARDNAME enters the battlefield, you gain 3 life.\nEnchanted land has \"{T}: Add two mana of any one color.\""
          ],
          [
           "Loaming Shaman",
           "When CARDNAME enters the battlefield, target player shuffles any number of target cards from their graveyard into their library."
          ],
          [
           "Blossoming Sands",
           "CARDNAME enters the battlefield tapped.\nWhen CARDNAME enters the battlefield, you gain 1 life.\n{T}: Add {G} or {W}."
          ],
          [
           "Sleep Paralysis",
           "Enchant creature\nWhen CARDNAME enters the battlefield, tap enchanted creature.\nEnchanted creature doesn't untap during its controller's untap step."
          ],
          [
           "Mystic Forge",
           "You may look at the top card of your library any time.\nYou may cast the top card of your library if it's an artifact card or a colorless nonland card.\n{T}, Pay 1 life: Exile the top card of your library."
          ],
          [
           "Sorin's Guide",
           "When CARDNAME enters the battlefield, you may search your library and/or graveyard for a card named Sorin, Vampire Lord, reveal it, and put it into your hand. If you search your library this way, shuffle it."
          ],
          [
           "Wildfire Elemental",
           "Whenever an opponent is dealt noncombat damage, creatures you control get +1/+0 until end of turn."
          ],
          [
           "Leyline of Anticipation",
           "If CARDNAME is in your opening hand, you may begin the game with it on the battlefield.\nYou may cast spells as though they had flash."
          ],
          [
           "Thunderkin Awakener",
           "HASTE\nWhenever CARDNAME attacks, choose target Elemental creature card in your graveyard with toughness less than CARDNAME's toughness. Return that card to the battlefield tapped and attacking. Sacrifice it at the beginning of the next end step."
          ],
          [
           "Flood of Tears",
           "Return all nonland permanents to their owners' hands. If you return four or more nontoken permanents you control this way, you may put a permanent card from your hand onto the battlefield."
          ],
          [
           "Eternal Isolation",
           "Put target creature with power 4 or greater on the bottom of its owner's library."
          ],
          [
           "Meteor Golem",
           "When CARDNAME enters the battlefield, destroy target nonland permanent an opponent controls."
          ],
          [
           "Pattern Matcher",
           "When CARDNAME enters the battlefield, you may search your library for a card with the same name as another creature you control, reveal it, put it into your hand, then shuffle your library."
          ],
          [
           "Ajani, Inspiring Leader",
           "[+2]: You gain 2 life. Put two +1/+1 counters on up to one target creature.\n[−3]: Exile target creature. Its controller gains 2 life.\n[−10]: Creatures you control gain flying and double strike until end of turn."
          ],
          [
           "Cloudkin Seer",
           "FLYING\nWhen CARDNAME enters the battlefield, draw a card."
          ],
          [
           "Kykar, Wind's Fury",
           "FLYING\nWhenever you cast a noncreature spell, create a 1/1 white Spirit creature token with flying.\nSacrifice a Spirit: Add {R}."
          ],
          [
           "Cerulean Drake",
           "FLYING\nPROTECTION_FROM_RED\nSacrifice CARDNAME: Counter target spell that targets you."
          ],
          [
           "Portal of Sanctuary",
           "{1}, {T}: Return target creature you control and each Aura attached to it to their owners' hands. Activate this ability only during your turn."
          ],
          [
           "Plummet",
           "Destroy target creature with flying."
          ],
          [
           "Vivien, Nature's Avenger",
           "[+1]: Put three +1/+1 counters on up to one target creature.\n[−1]: Reveal cards from the top of your library until you reveal a creature card. Put that card into your hand and the rest on the bottom of your library in a random order.\n[−6]: Target creature gets +10/+10 and gains trample until end of turn."
          ],
          [
           "Embodiment of Agonies",
           "FLYING, deathtouch\nCARDNAME enters the battlefield with a +1/+1 counter on it for each different mana cost among nonland cards in your graveyard. (For example, {2}{B} and {1}{B}{B} are different mana costs.)"
          ],
          [
           "Vilis, Broker of Blood",
           "FLYING\n{B}, Pay 2 life: Target creature gets -1/-1 until end of turn.\nWhenever you lose life, draw that many cards. (Damage causes loss of life.)"
          ],
          [
           "Thirsting Bloodlord",
           "Other Vampires you control get +1/+1."
          ],
          [
           "Chandra, Flame's Fury",
           "[+1]: CARDNAME deals 2 damage to any target.\n[−2]: CARDNAME deals 4 damage to target creature and 2 damage to that creature's controller.\n[−8]: CARDNAME deals 10 damage to target player and each creature that player controls."
          ],
          [
           "Sorin, Imperious Bloodlord",
           "[+1]: Target creature you control gains deathtouch and lifelink until end of turn. If it's a Vampire, put a +1/+1 counter on it.\n[+1]: You may sacrifice a Vampire. When you do, CARDNAME deals 3 damage to any target and you gain 3 life.\n[−3]: You may put a Vampire creature card from your hand onto the battlefield."
          ],
          [
           "Vial of Dragonfire",
           "{2}, {T}, Sacrifice CARDNAME: It deals 2 damage to target creature."
          ],
          [
           "Zephyr Charge",
           "{1}{U}: Target creature gains flying until end of turn."
          ],
          [
           "Vampire of the Dire Moon",
           "DEATHTOUCH\nLifelink (Damage dealt by this creature also causes you to gain that much life.)"
          ],
          [
           "Gravewaker",
           "FLYING\n{5}{B}{B}: Return target creature card from your graveyard to the battlefield tapped."
          ],
          [
           "Fathom Fleet Cutthroat",
           "When CARDNAME enters the battlefield, destroy target creature an opponent controls that was dealt damage this turn."
          ],
          [
           "Drawn from Dreams",
           "Look at the top seven cards of your library. Put two of them into your hand and the rest on the bottom of your library in a random order."
          ],
          [
           "Heart-Piercer Bow",
           "Whenever equipped creature attacks, CARDNAME deals 1 damage to target creature defending player controls.\nEquip {1} ({1}: Attach to target creature you control. Equip only as a sorcery.)"
          ],
          [
           "Tale's End",
           "Counter target activated ability, triggered ability, or legendary spell."
          ],
          [
           "Blood for Bones",
           "As an additional cost to cast this spell, sacrifice a creature.\nReturn a creature card from your graveyard to the battlefield, then return another creature card from your graveyard to your hand."
          ],
          [
           "Mind Rot",
           "Target player discards two cards."
          ],
          [
           "Thought Distortion",
           "This spell can't be countered.\nTarget opponent reveals their hand. Exile all noncreature, nonland cards from that player's hand and graveyard."
          ],
          [
           "Field of the Dead",
           "CARDNAME enters the battlefield tapped.\n{T}: Add {C}.\nWhenever CARDNAME or another land enters the battlefield under your control, if you control seven or more lands with different names, create a 2/2 black Zombie creature token."
          ],
          [
           "Unholy Indenture",
           "Enchant creature\nWhen enchanted creature dies, return that card to the battlefield under your control with a +1/+1 counter on it."
          ],
          [
           "Bladebrand",
           "Target creature gains deathtouch until end of turn. (Any amount of damage it deals to a creature is enough to destroy it.)\nDraw a card."
          ],
          [
           "Glaring Aegis",
           "Enchant creature\nWhen CARDNAME enters the battlefield, tap target creature an opponent controls.\nEnchanted creature gets +1/+3."
          ],
          [
           "Grafdigger's Cage",
           "Creature cards in graveyards and libraries can't enter the battlefield.\nPlayers can't cast spells from graveyards or libraries."
          ],
          [
           "Leyline of Sanctity",
           "If CARDNAME is in your opening hand, you may begin the game with it on the battlefield.\nYou have hexproof. (You can't be the target of spells or abilities your opponents control.)"
          ],
          [
           "Mu Yanling, Celestial Wind",
           "[+1]: Until your next turn, up to one target creature gets -5/-0.\n[−3]: Return up to two target creatures to their owners' hands.\n[−7]: Creatures you control with flying get +5/+5 until end of turn."
          ],
          [
           "Gods Willing",
           "Target creature you control gains protection from the color of your choice until end of turn. (It can't be blocked, targeted, dealt damage, enchanted, or equipped by anything of that color.)\nScry 1. (Look at the top card of your library. You may put that card on the bottom of your library.)"
          ],
          [
           "Shivan Dragon",
           "FLYING\n{R}: CARDNAME gets +1/+0 until end of turn."
          ],
          [
           "Griffin Protector",
           "FLYING\nWhenever another creature enters the battlefield under your control, CARDNAME gets +1/+1 until end of turn."
          ],
          [
           "Pack Mastiff",
           "{1}{R}: Each creature you control named CARDNAME gets +1/+0 until end of turn."
          ],
          [
           "Overcome",
           "Creatures you control get +2/+2 and gain trample until end of turn. (They can deal excess combat damage to the player or planeswalker they're attacking.)"
          ],
          [
           "Ethereal Elk",
           "TRAMPLE\nWhen CARDNAME enters the battlefield, you may search your library and/or graveyard for a card named Vivien, Nature's Avenger, reveal it, and put it into your hand. If you search your library this way, shuffle it."
          ],
          [
           "Trusted Pegasus",
           "FLYING\nWhenever CARDNAME attacks, target attacking creature without flying gains flying until end of turn."
          ],
          [
           "Wakeroot Elemental",
           "{G}{G}{G}{G}{G}: Untap target land you control. It becomes a 5/5 Elemental creature with haste. It's still a land. (This effect lasts as long as that land remains on the battlefield.)"
          ],
          [
           "Jungle Hollow",
           "CARDNAME enters the battlefield tapped.\nWhen CARDNAME enters the battlefield, you gain 1 life.\n{T}: Add {B} or {G}."
          ],
          [
           "Dread Presence",
           "Whenever a Swamp enters the battlefield under your control, choose one —\n• You draw a card and you lose 1 life.\n• CARDNAME deals 2 damage to any target and you gain 2 life."
          ],
          [
           "Goblin Bird-Grabber",
           "{R}: CARDNAME gains flying until end of turn. Activate this ability only if you control a creature with flying."
          ],
          [
           "Act of Treason",
           "Gain control of target creature until end of turn. Untap that creature. It gains haste until end of turn. (It can attack and {T} this turn.)"
          ],
          [
           "Captivating Gyre",
           "Return up to three target creatures to their owners' hands."
          ],
          [
           "Battalion Foot Soldier",
           "When CARDNAME enters the battlefield, you may search your library for any number of cards named CARDNAME, reveal them, put them into your hand, then shuffle your library."
          ],
          [
           "Dragon Mage",
           "FLYING\nWhenever CARDNAME deals combat damage to a player, each player discards their hand, then draws seven cards."
          ],
          [
           "Repeated Reverberation",
           "When you next cast an instant spell, cast a sorcery spell, or activate a loyalty ability this turn, copy that spell or ability twice. You may choose new targets for the copies."
          ],
          [
           "Rabid Bite",
           "Target creature you control deals damage equal to its power to target creature you don't control."
          ],
          [
           "Waterkin Shaman",
           "Whenever a creature with flying enters the battlefield under your control, CARDNAME gets +1/+1 until end of turn."
          ],
          [
           "Bristling Boar",
           "CARDNAME can't be blocked by more than one creature."
          ],
          [
           "Air Elemental",
           "FLYING"
          ],
          [
           "Shared Summons",
           "Search your library for up to two creature cards with different names, reveal them, put them into your hand, then shuffle your library."
          ],
          [
           "Goldmane Griffin",
           "FLYING, vigilance\nWhen CARDNAME enters the battlefield, you may search your library and/or graveyard for a card named Ajani, Inspiring Leader, reveal it, and put it into your hand. If you search your library this way, shuffle it."
          ],
          [
           "Fencing Ace",
           "DOUBLE_STRIKE"
          ],
          [
           "Scoured Barrens",
           "CARDNAME enters the battlefield tapped.\nWhen CARDNAME enters the battlefield, you gain 1 life.\n{T}: Add {W} or {B}."
          ],
          [
           "Rule of Law",
           "Each player can't cast more than one spell each turn."
          ],
          [
           "Cavalier of Gales",
           "FLYING\nWhen CARDNAME enters the battlefield, draw three cards, then put two cards from your hand on top of your library in any order.\nWhen CARDNAME dies, shuffle it into its owner's library, then scry 2."
          ],
          [
           "Thornwood Falls",
           "CARDNAME enters the battlefield tapped.\nWhen CARDNAME enters the battlefield, you gain 1 life.\n{T}: Add {G} or {U}."
          ],
          [
           "Vivien, Arkbow Ranger",
           "[+1]: Distribute two +1/+1 counters among up to two target creatures. They gain trample until end of turn.\n[−3]: Target creature you control deals damage equal to its power to target creature or planeswalker.\n[−5]: You may choose a creature card you own from outside the game, reveal it, and put it into your hand."
          ],
          [
           "Titanic Growth",
           "Target creature gets +4/+4 until end of turn."
          ],
          [
           "Golos, Tireless Pilgrim",
           "When CARDNAME enters the battlefield, you may search your library for a land card, put that card onto the battlefield tapped, then shuffle your library.\n{2}{W}{U}{B}{R}{G}: Exile the top three cards of your library. You may play them this turn without paying their mana costs."
          ],
          [
           "Skeleton Archer",
           "When CARDNAME enters the battlefield, it deals 1 damage to any target."
          ],
          [
           "Frilled Sandwalla",
           "{1}{G}: CARDNAME gets +2/+2 until end of turn. Activate this ability only once each turn."
          ],
          [
           "Winged Words",
           "This spell costs {1} less to cast if you control a creature with flying.\nDraw two cards."
          ],
          [
           "Netcaster Spider",
           "REACH\nWhenever CARDNAME blocks a creature with flying, CARDNAME gets +2/+0 until end of turn."
          ],
          [
           "Wolfkin Bond",
           "Enchant creature\nWhen CARDNAME enters the battlefield, create a 2/2 green Wolf creature token.\nEnchanted creature gets +2/+2."
          ],
          [
           "Hanged Executioner",
           "FLYING\nWhen CARDNAME enters the battlefield, create a 1/1 white Spirit creature token with flying.\n{3}{W}, Exile CARDNAME: Exile target creature."
          ],
          [
           "Loyal Pegasus",
           "FLYING\nCARDNAME can't attack or block alone."
          ],
          [
           "Immortal Phoenix",
           "FLYING\nWhen CARDNAME dies, return it to its owner's hand."
          ],
          [
           "Anticipate",
           "Look at the top three cards of your library. Put one of them into your hand and the rest on the bottom of your library in any order."
          ],
          [
           "Dungeon Geists",
           "FLYING\nWhen CARDNAME enters the battlefield, tap target creature an opponent controls. That creature doesn't untap during its controller's untap step for as long as you control CARDNAME."
          ],
          [
           "Elvish Reclaimer",
           "CARDNAME gets +2/+2 as long as there are three or more land cards in your graveyard.\n{2}, {T}, Sacrifice a land: Search your library for a land card, put it onto the battlefield tapped, then shuffle your library."
          ],
          [
           "Woodland Champion",
           "Whenever one or more tokens enter the battlefield under your control, put that many +1/+1 counters on CARDNAME."
          ],
          [
           "Rubblebelt Recluse",
           "CARDNAME attacks each combat if able."
          ],
          [
           "Yarok's Wavecrasher",
           "When CARDNAME enters the battlefield, return another creature you control to its owner's hand."
          ],
          [
           "Ripscale Predator",
           "Menace (This creature can't be blocked except by two or more creatures.)"
          ],
          [
           "Season of Growth",
           "Whenever a creature enters the battlefield under your control, scry 1. (Look at the top card of your library. You may put that card on the bottom of your library.)\nWhenever you cast a spell that targets a creature you control, draw a card."
          ],
          [
           "Wind-Scarred Crag",
           "CARDNAME enters the battlefield tapped.\nWhen CARDNAME enters the battlefield, you gain 1 life.\n{T}: Add {R} or {W}."
          ],
          [
           "Chandra's Spitfire",
           "FLYING\nWhenever an opponent is dealt noncombat damage, CARDNAME gets +3/+0 until end of turn."
          ],
          [
           "Reckless Air Strike",
           "Choose one —\n• CARDNAME deals 3 damage to target creature with flying.\n• Destroy target artifact."
          ],
          [
           "Riddlemaster Sphinx",
           "FLYING\nWhen CARDNAME enters the battlefield, you may return target creature an opponent controls to its owner's hand."
          ],
          [
           "Gnarlback Rhino",
           "TRAMPLE\nWhenever you cast a spell that targets CARDNAME, draw a card."
          ],
          [
           "Agent of Treachery",
           "When CARDNAME enters the battlefield, gain control of target permanent.\nAt the beginning of your end step, if you control three or more permanents you don't own, draw three cards."
          ],
          [
           "Temple of Mystery",
           "CARDNAME enters the battlefield tapped.\nWhen CARDNAME enters the battlefield, scry 1.\n{T}: Add {G} or {U}."
          ],
          [
           "Growth Cycle",
           "Target creature gets +3/+3 until end of turn. It gets an additional +2/+2 until end of turn for each card named CARDNAME in your graveyard."
          ],
          [
           "Bloodthirsty Aerialist",
           "FLYING\nWhenever you gain life, put a +1/+1 counter on CARDNAME."
          ],
          [
           "Cavalier of Night",
           "Lifelink\nWhen CARDNAME enters the battlefield, you may sacrifice another creature. When you do, destroy target creature an opponent controls.\nWhen CARDNAME dies, return target creature card with converted mana cost 3 or less from your graveyard to the battlefield."
          ],
          [
           "Temple of Malady",
           "CARDNAME enters the battlefield tapped.\nWhen CARDNAME enters the battlefield, scry 1.\n{T}: Add {B} or {G}."
          ],
          [
           "Diviner's Lockbox",
           "{1}, {T}: Choose a card name, then reveal the top card of your library. If that card has the chosen name, sacrifice CARDNAME and draw three cards. Activate this ability only any time you could cast a sorcery."
          ],
          [
           "Prismite",
           "{2}: Add one mana of any color."
          ],
          [
           "Masterful Replication",
           "Choose one —\n• Create two 3/3 colorless Golem artifact creature tokens.\n• Choose target artifact you control. Each other artifact you control becomes a copy of that artifact until end of turn."
          ],
          [
           "Sage's Row Denizen",
           "Whenever another blue creature enters the battlefield under your control, target player puts the top two cards of their library into their graveyard."
          ],
          [
           "Blightbeetle",
           "PROTECTION_FROM_GREEN\nCreatures your opponents control can't have +1/+1 counters put on them."
          ],
          [
           "Chandra's Embercat",
           "{T}: Add {R}. Spend this mana only to cast an Elemental spell or a Chandra planeswalker spell."
          ],
          [
           "Undead Servant",
           "When CARDNAME enters the battlefield, create a 2/2 black Zombie creature token for each card named CARDNAME in your graveyard."
          ],
          [
           "Temple of Triumph",
           "CARDNAME enters the battlefield tapped.\nWhen CARDNAME enters the battlefield, scry 1.\n{T}: Add {R} or {W}."
          ],
          [
           "Apostle of Purifying Light",
           "PROTECTION_FROM_BLACK\n{2}: Exile target card from a graveyard."
          ],
          [
           "Legion's End",
           "Exile target creature an opponent controls with converted mana cost 2 or less and all other creatures that player controls with the same name as that creature. Then that player reveals their hand and exiles all cards with that name from their hand and graveyard."
          ],
          [
           "Scampering Scorcher",
           "When CARDNAME enters the battlefield, create two 1/1 red Elemental creature tokens. Elementals you control gain haste until end of turn. (They can attack and {T} this turn.)"
          ],
          [
           "Moat Piranhas",
           "Defender (This creature can't attack.)"
          ],
          [
           "Gravedigger",
           "When CARDNAME enters the battlefield, you may return target creature card from your graveyard to your hand."
          ],
          [
           "Squad Captain",
           "VIGILANCE\nCARDNAME enters the battlefield with a +1/+1 counter on it for each other creature you control."
          ],
          [
           "Steadfast Sentry",
           "VIGILANCE\nWhen CARDNAME dies, put a +1/+1 counter on target creature you control."
          ],
          [
           "Lavakin Brawler",
           "Whenever CARDNAME attacks, it gets +1/+0 until end of turn for each Elemental you control."
          ],
          [
           "Unchained Berserker",
           "PROTECTION_FROM_WHITE\nCARDNAME gets +2/+0 as long as it's attacking."
          ],
          [
           "Creeping Trailblazer",
           "Other Elementals you control get +1/+0.\n{2}{R}{G}: CARDNAME gets +1/+1 until end of turn for each Elemental you control."
          ],
          [
           "Inspiring Captain",
           "When CARDNAME enters the battlefield, creatures you control get +1/+1 until end of turn."
          ],
          [
           "Anvilwrought Raptor",
           "FLYING\nFirst strike (This creature deals combat damage before creatures without first strike.)"
          ],
          [
           "Inspired Charge",
           "Creatures you control get +2/+1 until end of turn."
          ],
          [
           "Take Vengeance",
           "Destroy target tapped creature."
          ],
          [
           "Volcanic Dragon",
           "FLYING\nHASTE"
          ],
          [
           "Brought Back",
           "Choose up to two target permanent cards in your graveyard that were put there from the battlefield this turn. Return them to the battlefield tapped."
          ],
          [
           "Dismal Backwater",
           "CARDNAME enters the battlefield tapped.\nWhen CARDNAME enters the battlefield, you gain 1 life.\n{T}: Add {U} or {B}."
          ],
          [
           "Twinblade Paladin",
           "Whenever you gain life, put a +1/+1 counter on CARDNAME.\nAs long as you have 25 or more life, CARDNAME has double strike. (It deals both first-strike and regular combat damage.)"
          ],
          [
           "Scorch Spitter",
           "Whenever CARDNAME attacks, it deals 1 damage to the player or planeswalker it's attacking."
          ],
          [
           "Ironroot Warlord",
           "CARDNAME's power is equal to the number of creatures you control.\n{3}{G}{W}: Create a 1/1 white Soldier creature token."
          ],
          [
           "Steel Overseer",
           "{T}: Put a +1/+1 counter on each artifact creature you control."
          ],
          [
           "Duress",
           "Target opponent reveals their hand. You choose a noncreature, nonland card from it. That player discards that card."
          ],
          [
           "Bag of Holding",
           "Whenever you discard a card, exile that card from your graveyard.\n{2}, {T}: Draw a card, then discard a card.\n{4}, {T}, Sacrifice CARDNAME: Return all cards exiled with CARDNAME to their owner's hand."
          ],
          [
           "Temple of Epiphany",
           "CARDNAME enters the battlefield tapped.\nWhen CARDNAME enters the battlefield, scry 1.\n{T}: Add {U} or {R}."
          ],
          [
           "Reduce to Ashes",
           "CARDNAME deals 5 damage to target creature. If that creature would die this turn, exile it instead."
          ],
          [
           "Goblin Ringleader",
           "HASTE\nWhen CARDNAME enters the battlefield, reveal the top four cards of your library. Put all Goblin cards revealed this way into your hand and the rest on the bottom of your library in any order."
          ],
          [
           "Disentomb",
           "Return target creature card from your graveyard to your hand."
          ],
          [
           "Vengeful Warchief",
           "Whenever you lose life for the first time each turn, put a +1/+1 counter on CARDNAME. (Damage causes loss of life.)"
          ],
          [
           "Angel of Vitality",
           "FLYING\nIf you would gain life, you gain that much life plus 1 instead.\nCARDNAME gets +2/+2 as long as you have 25 or more life."
          ],
          [
           "Devout Decree",
           "Exile target creature or planeswalker that's black or red. Scry 1. (Look at the top card of your library. You may put that card on the bottom of your library.)"
          ],
          [
           "Lotus Field",
           "Hexproof\nCARDNAME enters the battlefield tapped.\nWhen CARDNAME enters the battlefield, sacrifice two lands.\n{T}: Add three mana of any one color."
          ],
          [
           "Swiftwater Cliffs",
           "CARDNAME enters the battlefield tapped.\nWhen CARDNAME enters the battlefield, you gain 1 life.\n{T}: Add {U} or {R}."
          ],
          [
           "Starfield Mystic",
           "Enchantment spells you cast cost {1} less to cast.\nWhenever an enchantment you control is put into a graveyard from the battlefield, put a +1/+1 counter on CARDNAME."
          ],
          [
           "Skyknight Vanguard",
           "FLYING\nWhenever CARDNAME attacks, create a 1/1 white Soldier creature token that's tapped and attacking."
          ],
          [
           "Loxodon Lifechanter",
           "When CARDNAME enters the battlefield, you may have your life total become the total toughness of creatures you control.\n{5}{W}: CARDNAME gets +X/+X until end of turn, where X is your life total."
          ],
          [
           "Frilled Sea Serpent",
           "{5}{U}{U}: CARDNAME can't be blocked this turn."
          ],
          [
           "Marauding Raptor",
           "Creature spells you cast cost {1} less to cast.\nWhenever another creature enters the battlefield under your control, CARDNAME deals 2 damage to it. If a Dinosaur is dealt damage this way, CARDNAME gets +2/+0 until end of turn."
          ],
          [
           "Swamp",
           "({T}: Add {B}.)"
          ],
          [
           "Forest",
           "({T}: Add {G}.)"
          ],
          [
           "Scheming Symmetry",
           "Choose two target players. Each of them searches their library for a card, then shuffles their library and puts that card on top of it."
          ],
          [
           "Moment of Heroism",
           "Target creature gets +2/+2 and gains lifelink until end of turn. (Damage dealt by the creature also causes its controller to gain that much life.)"
          ],
          [
           "Flame Sweep",
           "CARDNAME deals 2 damage to each creature except for creatures you control with flying."
          ],
          [
           "Keldon Raider",
           "When CARDNAME enters the battlefield, you may discard a card. If you do, draw a card."
          ],
          [
           "Rugged Highlands",
           "CARDNAME enters the battlefield tapped.\nWhen CARDNAME enters the battlefield, you gain 1 life.\n{T}: Add {R} or {G}."
          ],
          [
           "Serra's Guardian",
           "FLYING\nVIGILANCE\nOther creatures you control have vigilance."
          ],
          [
           "Thrashing Brontodon",
           "{1}, Sacrifice CARDNAME: Destroy target artifact or enchantment."
          ],
          [
           "Yarok, the Desecrated",
           "DEATHTOUCH, lifelink\nIf a permanent entering the battlefield causes a triggered ability of a permanent you control to trigger, that ability triggers an additional time."
          ],
          [
           "Rapacious Dragon",
           "FLYING\nWhen CARDNAME enters the battlefield, create two Treasure tokens. (They're artifacts with \"{T}, Sacrifice this artifact: Add one mana of any color.\")"
          ],
          [
           "Tranquil Cove",
           "CARDNAME enters the battlefield tapped.\nWhen CARDNAME enters the battlefield, you gain 1 life.\n{T}: Add {W} or {U}."
          ],
          [
           "Bone to Ash",
           "Counter target creature spell.\nDraw a card."
          ],
          [
           "Silverback Shaman",
           "TRAMPLE\nWhen CARDNAME dies, draw a card."
          ],
          [
           "Colossus Hammer",
           "Equipped creature gets +10/+10 and loses flying.\nEquip {8} ({8}: Attach to target creature you control. Equip only as a sorcery.)"
          ],
          [
           "Befuddle",
           "Target creature gets -4/-0 until end of turn.\nDraw a card."
          ],
          [
           "Epicure of Blood",
           "Whenever you gain life, each opponent loses 1 life."
          ],
          [
           "Boreal Elemental",
           "FLYING\nSpells your opponents cast that target CARDNAME cost {2} more to cast."
          ],
          [
           "Leyline of the Void",
           "If CARDNAME is in your opening hand, you may begin the game with it on the battlefield.\nIf a card would be put into an opponent's graveyard from anywhere, exile it instead."
          ],
          [
           "Noxious Grasp",
           "Destroy target creature or planeswalker that's green or white. You gain 1 life."
          ],
          [
           "Pulse of Murasa",
           "Return target creature or land card from a graveyard to its owner's hand. You gain 6 life."
          ],
          [
           "Chandra, Novice Pyromancer",
           "[+1]: Elementals you control get +2/+0 until end of turn.\n[−1]: Add {R}{R}.\n[−2]: CARDNAME deals 2 damage to any target."
          ],
          [
           "Herald of the Sun",
           "FLYING\n{3}{W}: Put a +1/+1 counter on another target creature with flying."
          ],
          [
           "Chandra's Outrage",
           "CARDNAME deals 4 damage to target creature and 2 damage to that creature's controller."
          ],
          [
           "Feral Invocation",
           "FLASH\nEnchant creature\nEnchanted creature gets +2/+2."
          ],
          [
           "Vivien's Crocodile",
           "CARDNAME gets +1/+1 as long as you control a Vivien planeswalker."
          ],
          [
           "Leafkin Druid",
           "{T}: Add {G}. If you control four or more creatures, add {G}{G} instead."
          ],
          [
           "Uncaged Fury",
           "Target creature gets +1/+1 and gains double strike until end of turn. (It deals both first-strike and regular combat damage.)"
          ],
          [
           "Moorland Inquisitor",
           "{2}{W}: CARDNAME gains first strike until end of turn. (It deals combat damage before creatures without first strike.)"
          ],
          [
           "Sorcerer of the Fang",
           "{5}{B}, {T}: CARDNAME deals 2 damage to target opponent or planeswalker."
          ],
          [
           "Bloodfell Caves",
           "CARDNAME enters the battlefield tapped.\nWhen CARDNAME enters the battlefield, you gain 1 life.\n{T}: Add {B} or {R}."
          ],
          [
           "Planar Cleansing",
           "Destroy all nonland permanents."
          ],
          [
           "Warden of Evos Isle",
           "FLYING\nCreature spells with flying you cast cost {1} less to cast."
          ],
          [
           "Manifold Key",
           "{1}, {T}: Untap another target artifact.\n{3}, {T}: Target creature can't be blocked this turn."
          ],
          [
           "Temple of Silence",
           "CARDNAME enters the battlefield tapped.\nWhen CARDNAME enters the battlefield, scry 1.\n{T}: Add {W} or {B}."
          ],
          [
           "Nightpack Ambusher",
           "FLASH\nOther Wolves and Werewolves you control get +1/+1.\nAt the beginning of your end step, if you didn't cast a spell this turn, create a 2/2 green Wolf creature token."
          ],
          [
           "Oakenform",
           "Enchant creature\nEnchanted creature gets +3/+3."
          ],
          [
           "Mammoth Spider",
           "REACH"
          ],
          [
           "Impassioned Orator",
           "Whenever another creature enters the battlefield under your control, you gain 1 life."
          ],
          [
           "Hard Cover",
           "Enchant creature\nEnchanted creature gets +0/+2 and has \"{T}: Draw a card, then discard a card.\""
          ],
          [
           "Spectral Sailor",
           "FLASH\nFLYING\n{3}{U}: Draw a card."
          ],
          [
           "Infuriate",
           "Target creature gets +3/+2 until end of turn."
          ],
          [
           "Brineborn Cutthroat",
           "FLASH\nWhenever you cast a spell during an opponent's turn, put a +1/+1 counter on CARDNAME."
          ],
          [
           "Goblin Smuggler",
           "HASTE\n{T}: Another target creature with power 2 or less can't be blocked this turn."
          ],
          [
           "Healer of the Glade",
           "When CARDNAME enters the battlefield, you gain 3 life."
          ],
          [
           "Moldervine Reclamation",
           "Whenever a creature you control dies, you gain 1 life and draw a card."
          ],
          [
           "Lightning Stormkin",
           "FLYING\nHASTE"
          ],
          [
           "Savage Gorger",
           "FLYING\nAt the beginning of your end step, if an opponent lost life this turn, put a +1/+1 counter on CARDNAME. (Damage causes loss of life.)"
          ],
          [
           "Destructive Digger",
           "{3}, {T}, Sacrifice an artifact or land: Draw a card."
          ],
          [
           "Blood Burglar",
           "As long as it's your turn, CARDNAME has lifelink. (Damage dealt by this creature also causes you to gain that much life.)"
          ],
          [
           "Retributive Wand",
           "{3}, {T}: CARDNAME deals 1 damage to any target.\nWhen CARDNAME is put into a graveyard from the battlefield, it deals 5 damage to any target."
          ],
          [
           "Audacious Thief",
           "Whenever CARDNAME attacks, you draw a card and you lose 1 life."
          ],
          [
           "Boneclad Necromancer",
           "When CARDNAME enters the battlefield, you may exile target creature card from a graveyard. If you do, create a 2/2 black Zombie creature token."
          ],
          [
           "Disfigure",
           "Target creature gets -2/-2 until end of turn."
          ],
          [
           "Pyroclastic Elemental",
           "{1}{R}{R}: CARDNAME deals 1 damage to target player."
          ],
          [
           "Plains",
           "({T}: Add {W}.)"
          ],
          [
           "Rienne, Angel of Rebirth",
           "FLYING\nOther multicolored creatures you control get +1/+0.\nWhenever another multicolored creature you control dies, return it to its owner's hand at the beginning of the next end step."
          ],
          [
           "Faerie Miscreant",
           "FLYING\nWhen CARDNAME enters the battlefield, if you control another creature named CARDNAME, draw a card."
          ],
          [
           "Master Splicer",
           "When CARDNAME enters the battlefield, create a 3/3 colorless Golem artifact creature token.\nGolems you control get +1/+1."
          ],
          [
           "Negate",
           "Counter target noncreature spell."
          ],
          [
           "Shock",
           "CARDNAME deals 2 damage to any target."
          ],
          [
           "Bishop of Wings",
           "Whenever an Angel enters the battlefield under your control, you gain 4 life.\nWhenever an Angel you control dies, create a 1/1 white Spirit creature token with flying."
          ],
          [
           "Metropolis Sprite",
           "FLYING\n{U}: CARDNAME gets +1/-1 until end of turn."
          ],
          [
           "Tectonic Rift",
           "Destroy target land. Creatures without flying can't block this turn."
          ],
          [
           "Savannah Sage",
           "When CARDNAME enters the battlefield, you gain 2 life."
          ],
          [
           "Vampire Opportunist",
           "{6}{B}: Each opponent loses 2 life and you gain 2 life."
          ],
          [
           "Marauder's Axe",
           "Equipped creature gets +2/+0.\nEquip {2} ({2}: Attach to target creature you control. Equip only as a sorcery.)"
          ],
          [
           "Bone Splinters",
           "As an additional cost to cast this spell, sacrifice a creature.\nDestroy target creature."
          ],
          [
           "Sanitarium Skeleton",
           "{2}{B}: Return CARDNAME from your graveyard to your hand."
          ],
          [
           "Aether Gust",
           "Choose target spell or permanent that's red or green. Its owner puts it on the top or bottom of their library."
          ],
          [
           "Daggersail Aeronaut",
           "As long as it's your turn, CARDNAME has flying."
          ],
          [
           "Haazda Officer",
           "When CARDNAME enters the battlefield, target creature you control gets +1/+1 until end of turn."
          ],
          [
           "Sorin's Thirst",
           "CARDNAME deals 2 damage to target creature and you gain 2 life."
          ],
          [
           "Agonizing Syphon",
           "CARDNAME deals 3 damage to any target and you gain 3 life."
          ],
          [
           "Rotting Regisaur",
           "At the beginning of your upkeep, discard a card."
          ],
          [
           "Murder",
           "Destroy target creature."
          ],
          [
           "Yarok's Fenlurker",
           "When CARDNAME enters the battlefield, each opponent exiles a card from their hand.\n{2}{B}: CARDNAME gets +1/+1 until end of turn."
          ],
          [
           "Ogre Siegebreaker",
           "{2}{B}{R}: Destroy target creature that was dealt damage this turn."
          ],
          [
           "Disenchant",
           "Destroy target artifact or enchantment."
          ],
          [
           "Might of the Masses",
           "Target creature gets +1/+1 until end of turn for each creature you control."
          ],
          [
           "Griffin Sentinel",
           "FLYING\nVIGILANCE"
          ],
          [
           "Aerial Assault",
           "Destroy target tapped creature. You gain 1 life for each creature you control with flying."
          ],
          [
           "Maniacal Rage",
           "Enchant creature\nEnchanted creature gets +2/+2 and can't block."
          ],
          [
           "Snapping Drake",
           "FLYING"
          ],
          [
           "Greenwood Sentinel",
           "VIGILANCE"
          ],
          [
           "Corpse Knight",
           "Whenever another creature enters the battlefield under your control, each opponent loses 1 life."
          ],
          [
           "Scuttlemutt",
           "{T}: Add one mana of any color.\n{T}: Target creature becomes the color or colors of your choice until end of turn."
          ],
          [
           "Bartizan Bats",
           "FLYING"
          ],
          [
           "Howling Giant",
           "REACH\nWhen CARDNAME enters the battlefield, create two 2/2 green Wolf creature tokens."
          ],
          [
           "Woodland Mystic",
           "{T}: Add {G}."
          ],
          [
           "Ferocious Pup",
           "When CARDNAME enters the battlefield, create a 2/2 green Wolf creature token."
          ],
          [
           "Natural End",
           "Destroy target artifact or enchantment. You gain 3 life."
          ],
          [
           "Prized Unicorn",
           "All creatures able to block CARDNAME do so."
          ],
          [
           "Daybreak Chaplain",
           "Lifelink (Damage dealt by this creature also causes you to gain that much life.)"
          ],
          [
           "Canopy Spider",
           "REACH"
          ],
          [
           "Feral Abomination",
           "DEATHTOUCH"
          ],
          [
           "Dawning Angel",
           "FLYING\nWhen CARDNAME enters the battlefield, you gain 4 life."
          ],
          [
           "Engulfing Eruption",
           "CARDNAME deals 5 damage to target creature."
          ],
          [
           "Convolute",
           "Counter target spell unless its controller pays {4}."
          ],
          [
           "Raise the Alarm",
           "Create two 1/1 white Soldier creature tokens."
          ],
          [
           "Dark Remedy",
           "Target creature gets +1/+3 until end of turn."
          ],
          [
           "Soul Salvage",
           "Return up to two target creature cards from your graveyard to your hand."
          ],
          [
           "Pacifism",
           "Enchant creature\nEnchanted creature can't attack or block."
          ],
          [
           "Nimble Birdsticker",
           "REACH"
          ],
          [
           "Concordia Pegasus",
           "FLYING"
          ],
          [
           "Phantom Warrior",
           "CARDNAME can't be blocked."
          ],
          [
           "Sedge Scorpion",
           "DEATHTOUCH"
          ],
          [
           "Show of Valor",
           "Target creature gets +2/+4 until end of turn."
          ],
          [
           "Empyrean Eagle",
           "FLYING\nOther creatures you control with flying get +1/+1."
          ],
          [
           "Unsummon",
           "Return target creature to its owner's hand."
          ],
          [
           "Mountain",
           "({T}: Add {R}.)"
          ],
          [
           "Angelic Gift",
           "Enchant creature\nWhen CARDNAME enters the battlefield, draw a card.\nEnchanted creature has flying."
          ],
          [
           "Soulmender",
           "{T}: You gain 1 life."
          ],
          [
           "Island",
           "({T}: Add {U}.)"
          ],
          [
           "Hostile Minotaur",
           "HASTE"
          ]
         ],
         "hoverlabel": {
          "namelength": 0
         },
         "hovertemplate": "x=%{x}<br>y=%{y}<br>name=%{customdata[0]}<br>text=%{customdata[1]}",
         "legendgroup": "",
         "marker": {
          "color": "#636efa",
          "symbol": "circle"
         },
         "mode": "markers",
         "name": "",
         "showlegend": false,
         "type": "scatter",
         "x": [
          "3.2251735",
          "-0.6621102",
          "0.2177312",
          "0.4718194",
          "0.43219227",
          "1.9271585",
          "2.853264",
          "2.1654928",
          "-0.08445574",
          "-0.47692683",
          "-0.8964087",
          "0.24250267",
          "-0.5106029",
          "2.0453293",
          "0.22024606",
          "-0.719986",
          "1.4808064",
          "1.3034881",
          "-0.39117298",
          "-0.18969889",
          "-0.18283126",
          "0.89442486",
          "-0.15665326",
          "3.0089324",
          "0.5068887",
          "-1.5840789",
          "0.70696115",
          "-3.1174872",
          "-1.940431",
          "-1.045345",
          "0.08477085",
          "-0.22411603",
          "-0.96666056",
          "-2.525127",
          "-0.60330087",
          "-0.6137447",
          "0.017182522",
          "-0.23864491",
          "-1.2575394",
          "-0.03500052",
          "-1.8159746",
          "3.2383113",
          "0.037014056",
          "0.7158905",
          "1.5864987",
          "1.834313",
          "1.3474076",
          "3.187374",
          "-0.7503339",
          "1.379031",
          "-1.6924863",
          "0.7552002",
          "-1.12084",
          "0.018927235",
          "-5.380199",
          "1.4297321",
          "0.6424823",
          "-0.025008164",
          "-1.5886751",
          "-0.39263874",
          "-2.510925",
          "2.4153516",
          "-0.014102489",
          "2.441236",
          "0.25946963",
          "-0.08556828",
          "0.2974027",
          "-0.6512283",
          "1.331976",
          "-0.5180886",
          "1.8703668",
          "-0.66382974",
          "-1.8220348",
          "-0.24344748",
          "-0.2008403",
          "0.4287503",
          "0.726119",
          "1.7340865",
          "-0.7300159",
          "1.2802078",
          "3.0786347",
          "2.2910573",
          "-1.7539546",
          "2.113366",
          "1.5859985",
          "2.7261124",
          "-1.4895927",
          "2.2075574",
          "-4.080299",
          "1.4640802",
          "2.0303998",
          "1.3403885",
          "0.8874303",
          "-0.47708422",
          "-0.6472632",
          "0.78996843",
          "-1.4423673",
          "-1.5128073",
          "-1.2436334",
          "-0.16454291",
          "0.01893562",
          "-1.7595258",
          "0.51741457",
          "-5.51674",
          "-0.58827233",
          "-1.585235",
          "0.65099734",
          "-0.54049706",
          "0.06842733",
          "-2.4428897",
          "1.8019121",
          "0.7383829",
          "-1.4670087",
          "0.5485918",
          "-1.5089467",
          "0.15386024",
          "-0.014810393",
          "-1.6465013",
          "-5.3550005",
          "1.5579771",
          "-2.0958803",
          "-5.5154877",
          "-0.61323595",
          "-0.8061597",
          "0.027408628",
          "1.7480484",
          "-0.56249684",
          "1.4417447",
          "-1.497586",
          "0.9224238",
          "0.8441129",
          "0.8740935",
          "0.7014433",
          "-1.7712513",
          "1.5770853",
          "1.1269989",
          "-1.045267",
          "-0.36934915",
          "0.32188278",
          "0.8438175",
          "0.8642974",
          "-5.3204503",
          "-1.6447278",
          "1.9848928",
          "2.8293555",
          "0.14760469",
          "0.4799185",
          "-4.1680207",
          "-0.96492314",
          "-1.291366",
          "2.9708438",
          "-4.3815646",
          "1.5043038",
          "0.7908809",
          "-1.4419825",
          "-1.5121884",
          "0.40592232",
          "-0.752089",
          "0.37048823",
          "-4.3822975",
          "-1.0238655",
          "2.193785",
          "0.35193542",
          "0.96355635",
          "3.0051544",
          "-0.1328234",
          "0.31703243",
          "-0.5497001",
          "-2.1246102",
          "-0.45765463",
          "-1.1864463",
          "-0.050315496",
          "-1.1794635",
          "2.0538979",
          "-2.5155792",
          "3.0372488",
          "-5.602121",
          "-1.4388076",
          "-1.9765085",
          "0.06634587",
          "-0.6292178",
          "1.6218399",
          "-1.2440364",
          "-4.2267027",
          "3.1215153",
          "-2.254936",
          "3.1627488",
          "-1.75408",
          "-1.194869",
          "0.84130406",
          "-4.2079883",
          "-5.6053014",
          "-0.3771752",
          "-2.5265126",
          "0.17204729",
          "-0.80860406",
          "-1.4899758",
          "0.43943572",
          "0.43220755",
          "-1.3399704",
          "1.1901621",
          "0.9391744",
          "-0.014493218",
          "-5.4835396",
          "0.1435255",
          "1.8879946",
          "1.3056921",
          "0.09683186",
          "-5.4278207",
          "1.6605225",
          "0.18718815",
          "2.110832",
          "-0.65748864",
          "-1.0211991",
          "-1.3448162",
          "-0.5453546",
          "2.199384",
          "3.0163627",
          "-0.5872265",
          "0.6562536",
          "0.36721817",
          "0.6324897",
          "-0.15532503",
          "0.24032108",
          "0.9294629",
          "0.22584495",
          "3.0127728",
          "-5.6128774",
          "2.1864352",
          "1.3822169",
          "-0.43011397",
          "-4.4127502",
          "0.6521279",
          "0.28174943",
          "-1.3827026",
          "-0.8199347",
          "0.0633596",
          "0.48756108",
          "-1.1106071",
          "-0.36767367",
          "-2.4973454",
          "0.49393374",
          "-0.7669965",
          "-2.3971965",
          "-1.8513745",
          "2.2026992",
          "-2.0417142",
          "1.8746483",
          "-0.69279283",
          "2.941202",
          "-0.8395343",
          "-1.7028434",
          "0.268634",
          "0.62562394",
          "0.4012913",
          "0.062061384",
          "1.5482714",
          "0.8662179",
          "-0.4425399",
          "-1.0473626",
          "2.082292",
          "0.052222554",
          "-0.10214411",
          "2.0567293",
          "2.3540232",
          "3.2290685",
          "-4.3264785",
          "-2.0679843",
          "-1.0473909",
          "0.08479219",
          "0.7253884",
          "-0.20627123",
          "2.2028394",
          "-1.198747",
          "2.328386",
          "2.1465783",
          "-0.9283426",
          "0.33768666",
          "1.9655704",
          "0.77981293",
          "-1.5851045",
          "-0.2879913",
          "-0.8819545",
          "0.5198486",
          "-1.4355191",
          "-1.648839",
          "-0.39465722",
          "0.54666454",
          "2.1414804",
          "2.0472069",
          "1.2335303",
          "-1.5716505",
          "-1.7027352",
          "-0.15042564",
          "2.91526",
          "1.1476874",
          "-1.3498294",
          "-1.0927114",
          "3.0797532",
          "0.85770917",
          "-1.5893896",
          "-1.3614132",
          "0.2421246",
          "-1.6789281",
          "-1.0104668",
          "0.8018361",
          "2.8821619",
          "0.045304403",
          "0.46211705",
          "-0.66513443",
          "0.27556366",
          "-1.6533165"
         ],
         "xaxis": "x",
         "y": [
          "-1.0684639",
          "0.84108615",
          "-1.2730507",
          "0.06608632",
          "-0.7499775",
          "-3.0745287",
          "0.5090889",
          "-3.4156046",
          "1.0023502",
          "1.3084229",
          "-2.9303873",
          "0.112914026",
          "3.0553207",
          "-3.2501762",
          "-1.5853106",
          "-0.92373043",
          "-1.8630818",
          "-1.9597117",
          "1.7468474",
          "1.3801333",
          "-0.94474745",
          "2.2129238",
          "1.1191602",
          "-0.8871193",
          "1.7292051",
          "2.3294883",
          "-0.35171634",
          "0.75629175",
          "0.10749503",
          "0.9960606",
          "-3.767494",
          "3.9725266",
          "-3.127795",
          "0.3611044",
          "0.2074301",
          "-1.9437009",
          "-0.8074927",
          "0.24979247",
          "-2.6224582",
          "0.35204613",
          "-2.3676982",
          "0.17093465",
          "-3.8256495",
          "1.0542014",
          "1.038252",
          "-2.5732024",
          "-1.9612794",
          "0.25767174",
          "-0.9586843",
          "2.4225736",
          "1.472736",
          "-2.5974114",
          "-0.06667858",
          "-1.5566969",
          "1.876232",
          "1.1976583",
          "2.0973556",
          "-3.7993877",
          "2.286998",
          "-0.0322849",
          "0.88575625",
          "0.025467895",
          "-1.6062015",
          "0.08667279",
          "-1.824294",
          "-2.719254",
          "0.6461408",
          "1.4144955",
          "-0.34491232",
          "-1.6164987",
          "-0.9378951",
          "2.3222787",
          "-1.977208",
          "3.508926",
          "-0.47478828",
          "-2.8484259",
          "-1.9179304",
          "-2.565125",
          "2.830753",
          "2.6355145",
          "0.14793675",
          "-0.82851845",
          "0.08037745",
          "-3.3550923",
          "-0.18718195",
          "-0.2624476",
          "0.07376653",
          "-0.26596943",
          "1.4432755",
          "-0.4459157",
          "-0.30050233",
          "1.1707305",
          "0.84193075",
          "0.19606338",
          "2.1451786",
          "2.579355",
          "1.6431459",
          "3.186659",
          "1.9769266",
          "0.36903638",
          "-3.8244543",
          "2.0737379",
          "3.5365257",
          "1.7173909",
          "-2.6106164",
          "1.8227714",
          "3.14985",
          "2.378357",
          "-3.3764567",
          "0.47637126",
          "0.5832563",
          "-0.21282528",
          "3.1082737",
          "-2.6156418",
          "-1.4006065",
          "-3.2094123",
          "-3.7600768",
          "-0.8955188",
          "1.8911678",
          "-0.12924618",
          "0.13518065",
          "1.7114462",
          "1.9568789",
          "2.6518447",
          "-2.3678632",
          "-2.6962624",
          "-0.5267755",
          "-0.88221437",
          "3.0609133",
          "1.2554256",
          "-1.1093842",
          "0.30680412",
          "-0.95918036",
          "0.0962047",
          "1.0529131",
          "-1.9568073",
          "0.09174255",
          "0.4664445",
          "-1.7508261",
          "3.0021832",
          "2.6517677",
          "1.8692338",
          "2.228359",
          "-1.0627658",
          "0.56388175",
          "0.4998243",
          "-1.2886958",
          "1.5017911",
          "2.811987",
          "-2.585166",
          "0.67025423",
          "1.6865427",
          "-1.7918019",
          "-2.2367785",
          "0.4306997",
          "-0.11950743",
          "0.29522538",
          "1.5322416",
          "-1.4416094",
          "1.6674987",
          "1.0979646",
          "-0.20097344",
          "3.4306464",
          "2.8081539",
          "0.5480435",
          "-0.6767152",
          "-0.68216723",
          "-0.3090052",
          "1.1861361",
          "-0.5648899",
          "2.5771694",
          "3.9485004",
          "2.2420614",
          "-0.64762366",
          "0.4993107",
          "0.26975322",
          "1.6727295",
          "-2.4667163",
          "1.3197659",
          "-0.32851914",
          "-1.7372135",
          "-0.19252993",
          "1.1193651",
          "1.5460699",
          "-1.0220865",
          "0.24454327",
          "0.09410477",
          "-2.2853966",
          "-2.6634312",
          "2.5223238",
          "1.5481026",
          "1.6278931",
          "-0.9505874",
          "0.793178",
          "-2.2615066",
          "0.88459796",
          "3.2168372",
          "3.7900283",
          "3.6485333",
          "0.032294855",
          "2.6876464",
          "-2.6965253",
          "1.03329",
          "1.7145833",
          "-0.2420239",
          "-1.812013",
          "2.5522754",
          "3.7258525",
          "1.8266094",
          "-0.29222164",
          "0.5265753",
          "-3.3466995",
          "2.5195832",
          "-2.7404833",
          "-1.4805592",
          "0.020793717",
          "-1.1857549",
          "-0.06362853",
          "2.4264557",
          "-0.7819775",
          "-2.8511813",
          "1.1511521",
          "-0.7818755",
          "-0.633425",
          "2.7836423",
          "3.8720047",
          "-1.024735",
          "1.6352625",
          "-0.39439026",
          "-0.9507942",
          "-1.4645526",
          "1.6610749",
          "0.9995507",
          "1.2729152",
          "-0.64994895",
          "-2.7342637",
          "1.5298369",
          "0.79778343",
          "2.5981896",
          "-0.5022984",
          "0.41381374",
          "-1.8231775",
          "-2.5354407",
          "0.5141224",
          "-2.310288",
          "-0.92121685",
          "1.2496849",
          "-2.521649",
          "-2.4349246",
          "0.70873076",
          "2.710715",
          "1.5609618",
          "3.8409228",
          "-0.98031867",
          "0.22912173",
          "-1.0693867",
          "-0.4035547",
          "-2.601801",
          "-2.3919792",
          "1.7097821",
          "-0.6061276",
          "-2.381661",
          "-2.7335455",
          "-3.287858",
          "-0.6052976",
          "0.16610646",
          "1.6598828",
          "1.1706028",
          "2.6865056",
          "-2.8304543",
          "-1.9299247",
          "1.320063",
          "-0.779187",
          "2.725633",
          "-0.80503786",
          "-0.9556384",
          "2.8093286",
          "-0.59710824",
          "-0.93642044",
          "0.99488336",
          "-1.145148",
          "-1.068166",
          "-2.9180994",
          "-1.8814244",
          "-1.4701748",
          "-0.034650594",
          "-1.2537416",
          "-1.4378422",
          "-1.158141",
          "-0.29068142",
          "2.5267708",
          "-0.60305125",
          "-1.5510393",
          "-2.298084",
          "-0.8756888",
          "-0.46869412",
          "0.1982216",
          "2.5806994",
          "0.19532356",
          "0.8598361",
          "-0.511453",
          "-1.3505535",
          "-1.9110863",
          "-1.5225508",
          "2.6807938",
          "-0.8285647",
          "0.19819969",
          "3.6359668",
          "0.8557054",
          "-1.9062601",
          "3.7222366",
          "-0.48646608"
         ],
         "yaxis": "y"
        }
       ],
       "layout": {
        "autosize": true,
        "legend": {
         "tracegroupgap": 0
        },
        "margin": {
         "t": 60
        },
        "template": {
         "data": {
          "bar": [
           {
            "error_x": {
             "color": "#2a3f5f"
            },
            "error_y": {
             "color": "#2a3f5f"
            },
            "marker": {
             "line": {
              "color": "#E5ECF6",
              "width": 0.5
             }
            },
            "type": "bar"
           }
          ],
          "barpolar": [
           {
            "marker": {
             "line": {
              "color": "#E5ECF6",
              "width": 0.5
             }
            },
            "type": "barpolar"
           }
          ],
          "carpet": [
           {
            "aaxis": {
             "endlinecolor": "#2a3f5f",
             "gridcolor": "white",
             "linecolor": "white",
             "minorgridcolor": "white",
             "startlinecolor": "#2a3f5f"
            },
            "baxis": {
             "endlinecolor": "#2a3f5f",
             "gridcolor": "white",
             "linecolor": "white",
             "minorgridcolor": "white",
             "startlinecolor": "#2a3f5f"
            },
            "type": "carpet"
           }
          ],
          "choropleth": [
           {
            "colorbar": {
             "outlinewidth": 0,
             "ticks": ""
            },
            "type": "choropleth"
           }
          ],
          "contour": [
           {
            "colorbar": {
             "outlinewidth": 0,
             "ticks": ""
            },
            "colorscale": [
             [
              0,
              "#0d0887"
             ],
             [
              0.1111111111111111,
              "#46039f"
             ],
             [
              0.2222222222222222,
              "#7201a8"
             ],
             [
              0.3333333333333333,
              "#9c179e"
             ],
             [
              0.4444444444444444,
              "#bd3786"
             ],
             [
              0.5555555555555556,
              "#d8576b"
             ],
             [
              0.6666666666666666,
              "#ed7953"
             ],
             [
              0.7777777777777778,
              "#fb9f3a"
             ],
             [
              0.8888888888888888,
              "#fdca26"
             ],
             [
              1,
              "#f0f921"
             ]
            ],
            "type": "contour"
           }
          ],
          "contourcarpet": [
           {
            "colorbar": {
             "outlinewidth": 0,
             "ticks": ""
            },
            "type": "contourcarpet"
           }
          ],
          "heatmap": [
           {
            "colorbar": {
             "outlinewidth": 0,
             "ticks": ""
            },
            "colorscale": [
             [
              0,
              "#0d0887"
             ],
             [
              0.1111111111111111,
              "#46039f"
             ],
             [
              0.2222222222222222,
              "#7201a8"
             ],
             [
              0.3333333333333333,
              "#9c179e"
             ],
             [
              0.4444444444444444,
              "#bd3786"
             ],
             [
              0.5555555555555556,
              "#d8576b"
             ],
             [
              0.6666666666666666,
              "#ed7953"
             ],
             [
              0.7777777777777778,
              "#fb9f3a"
             ],
             [
              0.8888888888888888,
              "#fdca26"
             ],
             [
              1,
              "#f0f921"
             ]
            ],
            "type": "heatmap"
           }
          ],
          "heatmapgl": [
           {
            "colorbar": {
             "outlinewidth": 0,
             "ticks": ""
            },
            "colorscale": [
             [
              0,
              "#0d0887"
             ],
             [
              0.1111111111111111,
              "#46039f"
             ],
             [
              0.2222222222222222,
              "#7201a8"
             ],
             [
              0.3333333333333333,
              "#9c179e"
             ],
             [
              0.4444444444444444,
              "#bd3786"
             ],
             [
              0.5555555555555556,
              "#d8576b"
             ],
             [
              0.6666666666666666,
              "#ed7953"
             ],
             [
              0.7777777777777778,
              "#fb9f3a"
             ],
             [
              0.8888888888888888,
              "#fdca26"
             ],
             [
              1,
              "#f0f921"
             ]
            ],
            "type": "heatmapgl"
           }
          ],
          "histogram": [
           {
            "marker": {
             "colorbar": {
              "outlinewidth": 0,
              "ticks": ""
             }
            },
            "type": "histogram"
           }
          ],
          "histogram2d": [
           {
            "colorbar": {
             "outlinewidth": 0,
             "ticks": ""
            },
            "colorscale": [
             [
              0,
              "#0d0887"
             ],
             [
              0.1111111111111111,
              "#46039f"
             ],
             [
              0.2222222222222222,
              "#7201a8"
             ],
             [
              0.3333333333333333,
              "#9c179e"
             ],
             [
              0.4444444444444444,
              "#bd3786"
             ],
             [
              0.5555555555555556,
              "#d8576b"
             ],
             [
              0.6666666666666666,
              "#ed7953"
             ],
             [
              0.7777777777777778,
              "#fb9f3a"
             ],
             [
              0.8888888888888888,
              "#fdca26"
             ],
             [
              1,
              "#f0f921"
             ]
            ],
            "type": "histogram2d"
           }
          ],
          "histogram2dcontour": [
           {
            "colorbar": {
             "outlinewidth": 0,
             "ticks": ""
            },
            "colorscale": [
             [
              0,
              "#0d0887"
             ],
             [
              0.1111111111111111,
              "#46039f"
             ],
             [
              0.2222222222222222,
              "#7201a8"
             ],
             [
              0.3333333333333333,
              "#9c179e"
             ],
             [
              0.4444444444444444,
              "#bd3786"
             ],
             [
              0.5555555555555556,
              "#d8576b"
             ],
             [
              0.6666666666666666,
              "#ed7953"
             ],
             [
              0.7777777777777778,
              "#fb9f3a"
             ],
             [
              0.8888888888888888,
              "#fdca26"
             ],
             [
              1,
              "#f0f921"
             ]
            ],
            "type": "histogram2dcontour"
           }
          ],
          "mesh3d": [
           {
            "colorbar": {
             "outlinewidth": 0,
             "ticks": ""
            },
            "type": "mesh3d"
           }
          ],
          "parcoords": [
           {
            "line": {
             "colorbar": {
              "outlinewidth": 0,
              "ticks": ""
             }
            },
            "type": "parcoords"
           }
          ],
          "pie": [
           {
            "automargin": true,
            "type": "pie"
           }
          ],
          "scatter": [
           {
            "marker": {
             "colorbar": {
              "outlinewidth": 0,
              "ticks": ""
             }
            },
            "type": "scatter"
           }
          ],
          "scatter3d": [
           {
            "line": {
             "colorbar": {
              "outlinewidth": 0,
              "ticks": ""
             }
            },
            "marker": {
             "colorbar": {
              "outlinewidth": 0,
              "ticks": ""
             }
            },
            "type": "scatter3d"
           }
          ],
          "scattercarpet": [
           {
            "marker": {
             "colorbar": {
              "outlinewidth": 0,
              "ticks": ""
             }
            },
            "type": "scattercarpet"
           }
          ],
          "scattergeo": [
           {
            "marker": {
             "colorbar": {
              "outlinewidth": 0,
              "ticks": ""
             }
            },
            "type": "scattergeo"
           }
          ],
          "scattergl": [
           {
            "marker": {
             "colorbar": {
              "outlinewidth": 0,
              "ticks": ""
             }
            },
            "type": "scattergl"
           }
          ],
          "scattermapbox": [
           {
            "marker": {
             "colorbar": {
              "outlinewidth": 0,
              "ticks": ""
             }
            },
            "type": "scattermapbox"
           }
          ],
          "scatterpolar": [
           {
            "marker": {
             "colorbar": {
              "outlinewidth": 0,
              "ticks": ""
             }
            },
            "type": "scatterpolar"
           }
          ],
          "scatterpolargl": [
           {
            "marker": {
             "colorbar": {
              "outlinewidth": 0,
              "ticks": ""
             }
            },
            "type": "scatterpolargl"
           }
          ],
          "scatterternary": [
           {
            "marker": {
             "colorbar": {
              "outlinewidth": 0,
              "ticks": ""
             }
            },
            "type": "scatterternary"
           }
          ],
          "surface": [
           {
            "colorbar": {
             "outlinewidth": 0,
             "ticks": ""
            },
            "colorscale": [
             [
              0,
              "#0d0887"
             ],
             [
              0.1111111111111111,
              "#46039f"
             ],
             [
              0.2222222222222222,
              "#7201a8"
             ],
             [
              0.3333333333333333,
              "#9c179e"
             ],
             [
              0.4444444444444444,
              "#bd3786"
             ],
             [
              0.5555555555555556,
              "#d8576b"
             ],
             [
              0.6666666666666666,
              "#ed7953"
             ],
             [
              0.7777777777777778,
              "#fb9f3a"
             ],
             [
              0.8888888888888888,
              "#fdca26"
             ],
             [
              1,
              "#f0f921"
             ]
            ],
            "type": "surface"
           }
          ],
          "table": [
           {
            "cells": {
             "fill": {
              "color": "#EBF0F8"
             },
             "line": {
              "color": "white"
             }
            },
            "header": {
             "fill": {
              "color": "#C8D4E3"
             },
             "line": {
              "color": "white"
             }
            },
            "type": "table"
           }
          ]
         },
         "layout": {
          "annotationdefaults": {
           "arrowcolor": "#2a3f5f",
           "arrowhead": 0,
           "arrowwidth": 1
          },
          "coloraxis": {
           "colorbar": {
            "outlinewidth": 0,
            "ticks": ""
           }
          },
          "colorscale": {
           "diverging": [
            [
             0,
             "#8e0152"
            ],
            [
             0.1,
             "#c51b7d"
            ],
            [
             0.2,
             "#de77ae"
            ],
            [
             0.3,
             "#f1b6da"
            ],
            [
             0.4,
             "#fde0ef"
            ],
            [
             0.5,
             "#f7f7f7"
            ],
            [
             0.6,
             "#e6f5d0"
            ],
            [
             0.7,
             "#b8e186"
            ],
            [
             0.8,
             "#7fbc41"
            ],
            [
             0.9,
             "#4d9221"
            ],
            [
             1,
             "#276419"
            ]
           ],
           "sequential": [
            [
             0,
             "#0d0887"
            ],
            [
             0.1111111111111111,
             "#46039f"
            ],
            [
             0.2222222222222222,
             "#7201a8"
            ],
            [
             0.3333333333333333,
             "#9c179e"
            ],
            [
             0.4444444444444444,
             "#bd3786"
            ],
            [
             0.5555555555555556,
             "#d8576b"
            ],
            [
             0.6666666666666666,
             "#ed7953"
            ],
            [
             0.7777777777777778,
             "#fb9f3a"
            ],
            [
             0.8888888888888888,
             "#fdca26"
            ],
            [
             1,
             "#f0f921"
            ]
           ],
           "sequentialminus": [
            [
             0,
             "#0d0887"
            ],
            [
             0.1111111111111111,
             "#46039f"
            ],
            [
             0.2222222222222222,
             "#7201a8"
            ],
            [
             0.3333333333333333,
             "#9c179e"
            ],
            [
             0.4444444444444444,
             "#bd3786"
            ],
            [
             0.5555555555555556,
             "#d8576b"
            ],
            [
             0.6666666666666666,
             "#ed7953"
            ],
            [
             0.7777777777777778,
             "#fb9f3a"
            ],
            [
             0.8888888888888888,
             "#fdca26"
            ],
            [
             1,
             "#f0f921"
            ]
           ]
          },
          "colorway": [
           "#636efa",
           "#EF553B",
           "#00cc96",
           "#ab63fa",
           "#FFA15A",
           "#19d3f3",
           "#FF6692",
           "#B6E880",
           "#FF97FF",
           "#FECB52"
          ],
          "font": {
           "color": "#2a3f5f"
          },
          "geo": {
           "bgcolor": "white",
           "lakecolor": "white",
           "landcolor": "#E5ECF6",
           "showlakes": true,
           "showland": true,
           "subunitcolor": "white"
          },
          "hoverlabel": {
           "align": "left"
          },
          "hovermode": "closest",
          "mapbox": {
           "style": "light"
          },
          "paper_bgcolor": "white",
          "plot_bgcolor": "#E5ECF6",
          "polar": {
           "angularaxis": {
            "gridcolor": "white",
            "linecolor": "white",
            "ticks": ""
           },
           "bgcolor": "#E5ECF6",
           "radialaxis": {
            "gridcolor": "white",
            "linecolor": "white",
            "ticks": ""
           }
          },
          "scene": {
           "xaxis": {
            "backgroundcolor": "#E5ECF6",
            "gridcolor": "white",
            "gridwidth": 2,
            "linecolor": "white",
            "showbackground": true,
            "ticks": "",
            "zerolinecolor": "white"
           },
           "yaxis": {
            "backgroundcolor": "#E5ECF6",
            "gridcolor": "white",
            "gridwidth": 2,
            "linecolor": "white",
            "showbackground": true,
            "ticks": "",
            "zerolinecolor": "white"
           },
           "zaxis": {
            "backgroundcolor": "#E5ECF6",
            "gridcolor": "white",
            "gridwidth": 2,
            "linecolor": "white",
            "showbackground": true,
            "ticks": "",
            "zerolinecolor": "white"
           }
          },
          "shapedefaults": {
           "line": {
            "color": "#2a3f5f"
           }
          },
          "ternary": {
           "aaxis": {
            "gridcolor": "white",
            "linecolor": "white",
            "ticks": ""
           },
           "baxis": {
            "gridcolor": "white",
            "linecolor": "white",
            "ticks": ""
           },
           "bgcolor": "#E5ECF6",
           "caxis": {
            "gridcolor": "white",
            "linecolor": "white",
            "ticks": ""
           }
          },
          "title": {
           "x": 0.05
          },
          "xaxis": {
           "automargin": true,
           "gridcolor": "white",
           "linecolor": "white",
           "ticks": "",
           "title": {
            "standoff": 15
           },
           "zerolinecolor": "white",
           "zerolinewidth": 2
          },
          "yaxis": {
           "automargin": true,
           "gridcolor": "white",
           "linecolor": "white",
           "ticks": "",
           "title": {
            "standoff": 15
           },
           "zerolinecolor": "white",
           "zerolinewidth": 2
          }
         }
        },
        "xaxis": {
         "anchor": "y",
         "autorange": true,
         "domain": [
          0,
          1
         ],
         "range": [
          -6.130934126195575,
          3.7563680261955743
         ],
         "title": {
          "text": "x"
         },
         "type": "linear"
        },
        "yaxis": {
         "anchor": "x",
         "autorange": true,
         "domain": [
          0,
          1
         ],
         "range": [
          -4.3785588551565375,
          4.525435955156538
         ],
         "title": {
          "text": "y"
         },
         "type": "linear"
        }
       }
      },
      "image/png": "[encoded data removed]",
      "text/html": [
       "<div>\n",
       "        \n",
       "        \n",
       "            <div id=\"eb7a4f10-9471-446d-8957-8698887dfa44\" class=\"plotly-graph-div\" style=\"height:525px; width:100%;\"></div>\n",
       "            <script type=\"text/javascript\">\n",
       "                require([\"plotly\"], function(Plotly) {\n",
       "                    window.PLOTLYENV=window.PLOTLYENV || {};\n",
       "                    \n",
       "                if (document.getElementById(\"eb7a4f10-9471-446d-8957-8698887dfa44\")) {\n",
       "                    Plotly.newPlot(\n",
       "                        'eb7a4f10-9471-446d-8957-8698887dfa44',\n",
       "                        [{\"customdata\": [[\"Chandra, Awakened Inferno\", \"This spell can't be countered.\\n[+2]: Each opponent gets an emblem with \\\"At the beginning of your upkeep, this emblem deals 1 damage to you.\\\"\\n[\\u22123]: CARDNAME deals 3 damage to each non-Elemental creature.\\n\\u2212X: CARDNAME deals X damage to target creature or planeswalker. If a permanent dealt damage this way would die this turn, exile it instead.\"], [\"Cavalier of Flame\", \"{1}{R}: Creatures you control get +1/+0 and gain haste until end of turn.\\nWhen CARDNAME enters the battlefield, discard any number of cards, then draw that many cards.\\nWhen CARDNAME dies, it deals X damage to each opponent and each planeswalker they control, where X is the number of land cards in your graveyard.\"], [\"Cavalier of Thorns\", \"REACH\\nWhen CARDNAME enters the battlefield, reveal the top five cards of your library. Put a land card from among them onto the battlefield and the rest into your graveyard.\\nWhen CARDNAME dies, you may exile it. If you do, put another target card from your graveyard on top of your library.\"], [\"Omnath, Locus of the Roil\", \"When CARDNAME enters the battlefield, it deals damage to any target equal to the number of Elementals you control.\\nWhenever a land enters the battlefield under your control, put a +1/+1 counter on target Elemental you control. If you control eight or more lands, draw a card.\"], [\"Kaalia, Zenith Seeker\", \"FLYING, vigilance\\nWhen CARDNAME enters the battlefield, look at the top six cards of your library. You may reveal an Angel card, a Demon card, and/or a Dragon card from among them and put them into your hand. Put the rest on the bottom of your library in a random order.\"], [\"Mask of Immolation\", \"When CARDNAME enters the battlefield, create a 1/1 red Elemental creature token, then attach CARDNAME to it.\\nEquipped creature has \\\"Sacrifice this creature: It deals 1 damage to any target.\\\"\\nEquip {2} ({2}: Attach to target creature you control. Equip only as a sorcery.)\"], [\"Cavalier of Dawn\", \" VIGILANCE\\nWhen CARDNAME enters the battlefield, destroy up to one target nonland permanent. Its controller creates a 3/3 colorless Golem artifact creature token.\\nWhen CARDNAME dies, return target artifact or enchantment card from your graveyard to your hand.\"], [\"Wolfrider's Saddle\", \"When CARDNAME enters the battlefield, create a 2/2 green Wolf creature token, then attach CARDNAME to it.\\nEquipped creature gets +1/+1 and can't be blocked by more than one creature.\\nEquip {3} ({3}: Attach to target creature you control. Equip only as a sorcery.)\"], [\"Risen Reef\", \"Whenever CARDNAME or another Elemental enters the battlefield under your control, look at the top card of your library. If it's a land card, you may put it onto the battlefield tapped. If you don't put the card onto the battlefield, put it into your hand.\"], [\"Atemsis, All-Seeing\", \"FLYING\\n{2}{U}, {T}: Draw two cards, then discard a card.\\nWhenever CARDNAME deals damage to an opponent, you may reveal your hand. If cards with at least six different converted mana costs are revealed this way, that player loses the game.\"], [\"Overgrowth Elemental\", \"When CARDNAME enters the battlefield, put a +1/+1 counter on another target Elemental you control.\\nWhenever another creature you control dies, you gain 1 life. If that creature was an Elemental, put a +1/+1 counter on CARDNAME.\"], [\"Voracious Hydra\", \"TRAMPLE\\nCARDNAME enters the battlefield with X +1/+1 counters on it.\\nWhen CARDNAME enters the battlefield, choose one \\u2014\\n\\u2022 Double the number of +1/+1 counters on CARDNAME.\\n\\u2022 CARDNAME fights target creature you don't control.\"], [\"Barkhide Troll\", \"CARDNAME enters the battlefield with a +1/+1 counter on it.\\n{1}, Remove a +1/+1 counter from CARDNAME: CARDNAME gains hexproof until end of turn. (It can't be the target of spells or abilities your opponents control.)\"], [\"Ancestral Blade\", \"When CARDNAME enters the battlefield, create a 1/1 white Soldier creature token, then attach CARDNAME to it.\\nEquipped creature gets +1/+1.\\nEquip {1} ({1}: Attach to target creature you control. Equip only as a sorcery.)\"], [\"Gruesome Scourger\", \"When CARDNAME enters the battlefield, it deals damage to target opponent or planeswalker equal to the number of creatures you control.\"], [\"Icon of Ancestry\", \"As CARDNAME enters the battlefield, choose a creature type.\\nCreatures you control of the chosen type get +1/+1.\\n{3}, {T}: Look at the top three cards of your library. You may reveal a creature card of the chosen type from among them and put it into your hand. Put the rest on the bottom of your library in a random order.\"], [\"Cryptic Caves\", \"{T}: Add {C}.\\n{1}, {T}, Sacrifice CARDNAME: Draw a card. Activate this ability only if you control five or more lands.\"], [\"Evolving Wilds\", \"{T}, Sacrifice CARDNAME: Search your library for a basic land card, put it onto the battlefield tapped, then shuffle your library.\"], [\"Mu Yanling, Sky Dancer\", \"[+2]: Until your next turn, up to one target creature gets -2/-0 and loses flying.\\n[\\u22123]: Create a 4/4 blue Elemental Bird creature token with flying.\\n[\\u22128]: You get an emblem with \\\"Islands you control have '{T}: Draw a card.'\\\"\"], [\"Bloodsoaked Altar\", \"{T}, Pay 2 life, Discard a card, Sacrifice a creature: Create a 5/5 black Demon creature token with flying. Activate this ability only any time you could cast a sorcery.\"], [\"Leyline of Abundance\", \"If CARDNAME is in your opening hand, you may begin the game with it on the battlefield.\\nWhenever you tap a creature for mana, add an additional {G}.\\n{6}{G}{G}: Put a +1/+1 counter on each creature you control.\"], [\"Chandra, Acolyte of Flame\", \"[0]: Put a loyalty counter on each red planeswalker you control.\\n[0]: Create two 1/1 red Elemental creature tokens. They gain haste. Sacrifice them at the beginning of the next end step.\\n[\\u22122]: You may cast target instant or sorcery card with converted mana cost 3 or less from your graveyard. If that card would be put into your graveyard this turn, exile it instead.\"], [\"Chandra's Regulator\", \"Whenever you activate a loyalty ability of a Chandra planeswalker, you may pay {1}. If you do, copy that ability. You may choose new targets for the copy.\\n{1}, {T}, Discard a Mountain card or a red card: Draw a card.\"], [\"Fry\", \"This spell can't be countered.\\nCARDNAME deals 5 damage to target creature or planeswalker that's white or blue.\"], [\"Gauntlets of Light\", \"Enchant creature\\nEnchanted creature gets +0/+2 and assigns combat damage equal to its toughness rather than its power.\\nEnchanted creature has \\\"{2}{W}: Untap this creature.\\\"\"], [\"Angelic Guardian\", \"FLYING\\nWhenever one or more creatures you control attack, they gain indestructible until end of turn. (Damage and effects that say \\\"destroy\\\" don't destroy them.)\"], [\"Gargos, Vicious Watcher\", \" VIGILANCE\\nHydra spells you cast cost {4} less to cast.\\nWhenever a creature you control becomes the target of a spell, CARDNAME fights up to one target creature you don't control.\"], [\"Shifting Ceratops\", \"This spell can't be countered.\\nPROTECTION_FROM_BLUE\\n{G}: CARDNAME gains your choice of reach, trample, or haste until end of turn.\"], [\"Octoprophet\", \"When CARDNAME enters the battlefield, scry 2. (Look at the top two cards of your library, then put any number of them on the bottom of your library and the rest on top in any order.)\"], [\"Kethis, the Hidden Hand\", \"Legendary spells you cast cost {1} less to cast.\\nExile two legendary cards from your graveyard: Until end of turn, each legendary card in your graveyard gains \\\"You may play this card from your graveyard.\\\"\"], [\"Chandra's Flame Wave\", \"CARDNAME deals 2 damage to target player and each creature that player controls. Search your library and/or graveyard for a card named Chandra, Flame's Fury, reveal it, and put it into your hand. If you search your library this way, shuffle it.\"], [\"Sephara, Sky's Blade\", \"You may pay {W} and tap four untapped creatures you control with flying rather than pay this spell's mana cost.\\nFLYING, lifelink\\nOther creatures you control with flying have indestructible. (Damage and effects that say \\\"destroy\\\" don't destroy them.)\"], [\"Gorging Vulture\", \"FLYING\\nWhen CARDNAME enters the battlefield, put the top four cards of your library into your graveyard. You gain 1 life for each creature card put into your graveyard this way.\"], [\"Drakuseth, Maw of Flames\", \"FLYING\\nWhenever CARDNAME attacks, it deals 4 damage to any target and 3 damage to each of up to two other targets.\"], [\"Veil of Summer\", \"Draw a card if an opponent has cast a blue or black spell this turn. Spells you control can't be countered this turn. You and permanents you control gain hexproof from blue and from black until end of turn. (You and they can't be the targets of blue or black spells or abilities your opponents control.)\"], [\"Sorin, Vampire Lord\", \"[+1]: Up to one target creature gets +2/+0 until end of turn.\\n[\\u22122]: CARDNAME deals 4 damage to any target. You gain 4 life.\\n[\\u22128]: Until end of turn, each Vampire you control gains \\\"{T}: Gain control of target creature.\\\"\"], [\"Diamond Knight\", \"VIGILANCE\\nAs CARDNAME enters the battlefield, choose a color.\\nWhenever you cast a spell of the chosen color, put a +1/+1 counter on CARDNAME.\"], [\"Thicket Crasher\", \"TRAMPLE\\nOther Elementals you control have trample.\"], [\"Ajani, Strength of the Pride\", \"[+1]: You gain life equal to the number of creatures you control plus the number of planeswalkers you control.\\n[\\u22122]: Create a 2/2 white Cat Soldier creature token named Ajani's Pridemate with \\\"Whenever you gain life, put a +1/+1 counter on Ajani's Pridemate.\\\"\\n[0]: If you have at least 15 life more than your starting life total, exile CARDNAME and each artifact and creature your opponents control.\"], [\"Aggressive Mammoth\", \"TRAMPLE\\nOther creatures you control have trample.\"], [\"Knight of the Ebon Legion\", \"{2}{B}: CARDNAME gets +3/+3 and gains deathtouch until end of turn.\\nAt the beginning of your end step, if a player lost 4 or more life this turn, put a +1/+1 counter on CARDNAME. (Damage causes loss of life.)\"], [\"Salvager of Ruin\", \"Sacrifice CARDNAME: Choose target permanent card in your graveyard that was put there from the battlefield this turn. Return it to your hand.\"], [\"Yanling's Harbinger\", \"FLYING\\nWhen CARDNAME enters the battlefield, you may search your library and/or graveyard for a card named Mu Yanling, Celestial Wind, reveal it, and put it into your hand. If you search your library this way, shuffle it.\"], [\"Celestial Messenger\", \"FLASH (You may cast this card any time you could cast an instant.)\\nFLYING\\nCARDNAME gets +1/+1 as long as you control a Yanling planeswalker.\"], [\"Frost Lynx\", \"When CARDNAME enters the battlefield, tap target creature an opponent controls. That creature doesn't untap during its controller's next untap step.\"], [\"Ember Hauler\", \"{1}, Sacrifice CARDNAME: It deals 2 damage to any target.\"], [\"Renowned Weaponsmith\", \"{T}: Add {C}{C}. Spend this mana only to cast artifact spells or activate abilities of artifacts.\\n{U}, {T}: Search your library for a card named Heart-Piercer Bow or Vial of Dragonfire, reveal it, put it into your hand, then shuffle your library.\"], [\"Scholar of the Ages\", \"When CARDNAME enters the battlefield, return up to two target instant and/or sorcery cards from your graveyard to your hand.\"], [\"Brightwood Tracker\", \"{5}{G}, {T}: Look at the top four cards of your library. You may reveal a creature card from among them and put it into your hand. Put the rest on the bottom of your library in a random order.\"], [\"Tomebound Lich\", \"DEATHTOUCH\\nLifelink (Damage dealt by this creature also causes you to gain that much life.)\\nWhenever CARDNAME enters the battlefield or deals combat damage to a player, draw a card, then discard a card.\"], [\"Glint-Horn Buccaneer\", \"HASTE\\nWhenever you discard a card, CARDNAME deals 1 damage to each opponent.\\n{1}{R}, Discard a card: Draw a card. Activate this ability only if CARDNAME is attacking.\"], [\"Leyline of Combustion\", \"If CARDNAME is in your opening hand, you may begin the game with it on the battlefield.\\nWhenever you and/or at least one permanent you control becomes the target of a spell or ability an opponent controls, CARDNAME deals 2 damage to that player.\"], [\"Gift of Paradise\", \"Enchant land\\nWhen CARDNAME enters the battlefield, you gain 3 life.\\nEnchanted land has \\\"{T}: Add two mana of any one color.\\\"\"], [\"Loaming Shaman\", \"When CARDNAME enters the battlefield, target player shuffles any number of target cards from their graveyard into their library.\"], [\"Blossoming Sands\", \"CARDNAME enters the battlefield tapped.\\nWhen CARDNAME enters the battlefield, you gain 1 life.\\n{T}: Add {G} or {W}.\"], [\"Sleep Paralysis\", \"Enchant creature\\nWhen CARDNAME enters the battlefield, tap enchanted creature.\\nEnchanted creature doesn't untap during its controller's untap step.\"], [\"Mystic Forge\", \"You may look at the top card of your library any time.\\nYou may cast the top card of your library if it's an artifact card or a colorless nonland card.\\n{T}, Pay 1 life: Exile the top card of your library.\"], [\"Sorin's Guide\", \"When CARDNAME enters the battlefield, you may search your library and/or graveyard for a card named Sorin, Vampire Lord, reveal it, and put it into your hand. If you search your library this way, shuffle it.\"], [\"Wildfire Elemental\", \"Whenever an opponent is dealt noncombat damage, creatures you control get +1/+0 until end of turn.\"], [\"Leyline of Anticipation\", \"If CARDNAME is in your opening hand, you may begin the game with it on the battlefield.\\nYou may cast spells as though they had flash.\"], [\"Thunderkin Awakener\", \"HASTE\\nWhenever CARDNAME attacks, choose target Elemental creature card in your graveyard with toughness less than CARDNAME's toughness. Return that card to the battlefield tapped and attacking. Sacrifice it at the beginning of the next end step.\"], [\"Flood of Tears\", \"Return all nonland permanents to their owners' hands. If you return four or more nontoken permanents you control this way, you may put a permanent card from your hand onto the battlefield.\"], [\"Eternal Isolation\", \"Put target creature with power 4 or greater on the bottom of its owner's library.\"], [\"Meteor Golem\", \"When CARDNAME enters the battlefield, destroy target nonland permanent an opponent controls.\"], [\"Pattern Matcher\", \"When CARDNAME enters the battlefield, you may search your library for a card with the same name as another creature you control, reveal it, put it into your hand, then shuffle your library.\"], [\"Ajani, Inspiring Leader\", \"[+2]: You gain 2 life. Put two +1/+1 counters on up to one target creature.\\n[\\u22123]: Exile target creature. Its controller gains 2 life.\\n[\\u221210]: Creatures you control gain flying and double strike until end of turn.\"], [\"Cloudkin Seer\", \"FLYING\\nWhen CARDNAME enters the battlefield, draw a card.\"], [\"Kykar, Wind's Fury\", \"FLYING\\nWhenever you cast a noncreature spell, create a 1/1 white Spirit creature token with flying.\\nSacrifice a Spirit: Add {R}.\"], [\"Cerulean Drake\", \"FLYING\\nPROTECTION_FROM_RED\\nSacrifice CARDNAME: Counter target spell that targets you.\"], [\"Portal of Sanctuary\", \"{1}, {T}: Return target creature you control and each Aura attached to it to their owners' hands. Activate this ability only during your turn.\"], [\"Plummet\", \"Destroy target creature with flying.\"], [\"Vivien, Nature's Avenger\", \"[+1]: Put three +1/+1 counters on up to one target creature.\\n[\\u22121]: Reveal cards from the top of your library until you reveal a creature card. Put that card into your hand and the rest on the bottom of your library in a random order.\\n[\\u22126]: Target creature gets +10/+10 and gains trample until end of turn.\"], [\"Embodiment of Agonies\", \"FLYING, deathtouch\\nCARDNAME enters the battlefield with a +1/+1 counter on it for each different mana cost among nonland cards in your graveyard. (For example, {2}{B} and {1}{B}{B} are different mana costs.)\"], [\"Vilis, Broker of Blood\", \"FLYING\\n{B}, Pay 2 life: Target creature gets -1/-1 until end of turn.\\nWhenever you lose life, draw that many cards. (Damage causes loss of life.)\"], [\"Thirsting Bloodlord\", \"Other Vampires you control get +1/+1.\"], [\"Chandra, Flame's Fury\", \"[+1]: CARDNAME deals 2 damage to any target.\\n[\\u22122]: CARDNAME deals 4 damage to target creature and 2 damage to that creature's controller.\\n[\\u22128]: CARDNAME deals 10 damage to target player and each creature that player controls.\"], [\"Sorin, Imperious Bloodlord\", \"[+1]: Target creature you control gains deathtouch and lifelink until end of turn. If it's a Vampire, put a +1/+1 counter on it.\\n[+1]: You may sacrifice a Vampire. When you do, CARDNAME deals 3 damage to any target and you gain 3 life.\\n[\\u22123]: You may put a Vampire creature card from your hand onto the battlefield.\"], [\"Vial of Dragonfire\", \"{2}, {T}, Sacrifice CARDNAME: It deals 2 damage to target creature.\"], [\"Zephyr Charge\", \"{1}{U}: Target creature gains flying until end of turn.\"], [\"Vampire of the Dire Moon\", \"DEATHTOUCH\\nLifelink (Damage dealt by this creature also causes you to gain that much life.)\"], [\"Gravewaker\", \"FLYING\\n{5}{B}{B}: Return target creature card from your graveyard to the battlefield tapped.\"], [\"Fathom Fleet Cutthroat\", \"When CARDNAME enters the battlefield, destroy target creature an opponent controls that was dealt damage this turn.\"], [\"Drawn from Dreams\", \"Look at the top seven cards of your library. Put two of them into your hand and the rest on the bottom of your library in a random order.\"], [\"Heart-Piercer Bow\", \"Whenever equipped creature attacks, CARDNAME deals 1 damage to target creature defending player controls.\\nEquip {1} ({1}: Attach to target creature you control. Equip only as a sorcery.)\"], [\"Tale's End\", \"Counter target activated ability, triggered ability, or legendary spell.\"], [\"Blood for Bones\", \"As an additional cost to cast this spell, sacrifice a creature.\\nReturn a creature card from your graveyard to the battlefield, then return another creature card from your graveyard to your hand.\"], [\"Mind Rot\", \"Target player discards two cards.\"], [\"Thought Distortion\", \"This spell can't be countered.\\nTarget opponent reveals their hand. Exile all noncreature, nonland cards from that player's hand and graveyard.\"], [\"Field of the Dead\", \"CARDNAME enters the battlefield tapped.\\n{T}: Add {C}.\\nWhenever CARDNAME or another land enters the battlefield under your control, if you control seven or more lands with different names, create a 2/2 black Zombie creature token.\"], [\"Unholy Indenture\", \"Enchant creature\\nWhen enchanted creature dies, return that card to the battlefield under your control with a +1/+1 counter on it.\"], [\"Bladebrand\", \"Target creature gains deathtouch until end of turn. (Any amount of damage it deals to a creature is enough to destroy it.)\\nDraw a card.\"], [\"Glaring Aegis\", \"Enchant creature\\nWhen CARDNAME enters the battlefield, tap target creature an opponent controls.\\nEnchanted creature gets +1/+3.\"], [\"Grafdigger's Cage\", \"Creature cards in graveyards and libraries can't enter the battlefield.\\nPlayers can't cast spells from graveyards or libraries.\"], [\"Leyline of Sanctity\", \"If CARDNAME is in your opening hand, you may begin the game with it on the battlefield.\\nYou have hexproof. (You can't be the target of spells or abilities your opponents control.)\"], [\"Mu Yanling, Celestial Wind\", \"[+1]: Until your next turn, up to one target creature gets -5/-0.\\n[\\u22123]: Return up to two target creatures to their owners' hands.\\n[\\u22127]: Creatures you control with flying get +5/+5 until end of turn.\"], [\"Gods Willing\", \"Target creature you control gains protection from the color of your choice until end of turn. (It can't be blocked, targeted, dealt damage, enchanted, or equipped by anything of that color.)\\nScry 1. (Look at the top card of your library. You may put that card on the bottom of your library.)\"], [\"Shivan Dragon\", \"FLYING\\n{R}: CARDNAME gets +1/+0 until end of turn.\"], [\"Griffin Protector\", \"FLYING\\nWhenever another creature enters the battlefield under your control, CARDNAME gets +1/+1 until end of turn.\"], [\"Pack Mastiff\", \"{1}{R}: Each creature you control named CARDNAME gets +1/+0 until end of turn.\"], [\"Overcome\", \"Creatures you control get +2/+2 and gain trample until end of turn. (They can deal excess combat damage to the player or planeswalker they're attacking.)\"], [\"Ethereal Elk\", \"TRAMPLE\\nWhen CARDNAME enters the battlefield, you may search your library and/or graveyard for a card named Vivien, Nature's Avenger, reveal it, and put it into your hand. If you search your library this way, shuffle it.\"], [\"Trusted Pegasus\", \"FLYING\\nWhenever CARDNAME attacks, target attacking creature without flying gains flying until end of turn.\"], [\"Wakeroot Elemental\", \"{G}{G}{G}{G}{G}: Untap target land you control. It becomes a 5/5 Elemental creature with haste. It's still a land. (This effect lasts as long as that land remains on the battlefield.)\"], [\"Jungle Hollow\", \"CARDNAME enters the battlefield tapped.\\nWhen CARDNAME enters the battlefield, you gain 1 life.\\n{T}: Add {B} or {G}.\"], [\"Dread Presence\", \"Whenever a Swamp enters the battlefield under your control, choose one \\u2014\\n\\u2022 You draw a card and you lose 1 life.\\n\\u2022 CARDNAME deals 2 damage to any target and you gain 2 life.\"], [\"Goblin Bird-Grabber\", \"{R}: CARDNAME gains flying until end of turn. Activate this ability only if you control a creature with flying.\"], [\"Act of Treason\", \"Gain control of target creature until end of turn. Untap that creature. It gains haste until end of turn. (It can attack and {T} this turn.)\"], [\"Captivating Gyre\", \"Return up to three target creatures to their owners' hands.\"], [\"Battalion Foot Soldier\", \"When CARDNAME enters the battlefield, you may search your library for any number of cards named CARDNAME, reveal them, put them into your hand, then shuffle your library.\"], [\"Dragon Mage\", \"FLYING\\nWhenever CARDNAME deals combat damage to a player, each player discards their hand, then draws seven cards.\"], [\"Repeated Reverberation\", \"When you next cast an instant spell, cast a sorcery spell, or activate a loyalty ability this turn, copy that spell or ability twice. You may choose new targets for the copies.\"], [\"Rabid Bite\", \"Target creature you control deals damage equal to its power to target creature you don't control.\"], [\"Waterkin Shaman\", \"Whenever a creature with flying enters the battlefield under your control, CARDNAME gets +1/+1 until end of turn.\"], [\"Bristling Boar\", \"CARDNAME can't be blocked by more than one creature.\"], [\"Air Elemental\", \"FLYING\"], [\"Shared Summons\", \"Search your library for up to two creature cards with different names, reveal them, put them into your hand, then shuffle your library.\"], [\"Goldmane Griffin\", \"FLYING, vigilance\\nWhen CARDNAME enters the battlefield, you may search your library and/or graveyard for a card named Ajani, Inspiring Leader, reveal it, and put it into your hand. If you search your library this way, shuffle it.\"], [\"Fencing Ace\", \"DOUBLE_STRIKE\"], [\"Scoured Barrens\", \"CARDNAME enters the battlefield tapped.\\nWhen CARDNAME enters the battlefield, you gain 1 life.\\n{T}: Add {W} or {B}.\"], [\"Rule of Law\", \"Each player can't cast more than one spell each turn.\"], [\"Cavalier of Gales\", \"FLYING\\nWhen CARDNAME enters the battlefield, draw three cards, then put two cards from your hand on top of your library in any order.\\nWhen CARDNAME dies, shuffle it into its owner's library, then scry 2.\"], [\"Thornwood Falls\", \"CARDNAME enters the battlefield tapped.\\nWhen CARDNAME enters the battlefield, you gain 1 life.\\n{T}: Add {G} or {U}.\"], [\"Vivien, Arkbow Ranger\", \"[+1]: Distribute two +1/+1 counters among up to two target creatures. They gain trample until end of turn.\\n[\\u22123]: Target creature you control deals damage equal to its power to target creature or planeswalker.\\n[\\u22125]: You may choose a creature card you own from outside the game, reveal it, and put it into your hand.\"], [\"Titanic Growth\", \"Target creature gets +4/+4 until end of turn.\"], [\"Golos, Tireless Pilgrim\", \"When CARDNAME enters the battlefield, you may search your library for a land card, put that card onto the battlefield tapped, then shuffle your library.\\n{2}{W}{U}{B}{R}{G}: Exile the top three cards of your library. You may play them this turn without paying their mana costs.\"], [\"Skeleton Archer\", \"When CARDNAME enters the battlefield, it deals 1 damage to any target.\"], [\"Frilled Sandwalla\", \"{1}{G}: CARDNAME gets +2/+2 until end of turn. Activate this ability only once each turn.\"], [\"Winged Words\", \"This spell costs {1} less to cast if you control a creature with flying.\\nDraw two cards.\"], [\"Netcaster Spider\", \"REACH\\nWhenever CARDNAME blocks a creature with flying, CARDNAME gets +2/+0 until end of turn.\"], [\"Wolfkin Bond\", \"Enchant creature\\nWhen CARDNAME enters the battlefield, create a 2/2 green Wolf creature token.\\nEnchanted creature gets +2/+2.\"], [\"Hanged Executioner\", \"FLYING\\nWhen CARDNAME enters the battlefield, create a 1/1 white Spirit creature token with flying.\\n{3}{W}, Exile CARDNAME: Exile target creature.\"], [\"Loyal Pegasus\", \"FLYING\\nCARDNAME can't attack or block alone.\"], [\"Immortal Phoenix\", \"FLYING\\nWhen CARDNAME dies, return it to its owner's hand.\"], [\"Anticipate\", \"Look at the top three cards of your library. Put one of them into your hand and the rest on the bottom of your library in any order.\"], [\"Dungeon Geists\", \"FLYING\\nWhen CARDNAME enters the battlefield, tap target creature an opponent controls. That creature doesn't untap during its controller's untap step for as long as you control CARDNAME.\"], [\"Elvish Reclaimer\", \"CARDNAME gets +2/+2 as long as there are three or more land cards in your graveyard.\\n{2}, {T}, Sacrifice a land: Search your library for a land card, put it onto the battlefield tapped, then shuffle your library.\"], [\"Woodland Champion\", \"Whenever one or more tokens enter the battlefield under your control, put that many +1/+1 counters on CARDNAME.\"], [\"Rubblebelt Recluse\", \"CARDNAME attacks each combat if able.\"], [\"Yarok's Wavecrasher\", \"When CARDNAME enters the battlefield, return another creature you control to its owner's hand.\"], [\"Ripscale Predator\", \"Menace (This creature can't be blocked except by two or more creatures.)\"], [\"Season of Growth\", \"Whenever a creature enters the battlefield under your control, scry 1. (Look at the top card of your library. You may put that card on the bottom of your library.)\\nWhenever you cast a spell that targets a creature you control, draw a card.\"], [\"Wind-Scarred Crag\", \"CARDNAME enters the battlefield tapped.\\nWhen CARDNAME enters the battlefield, you gain 1 life.\\n{T}: Add {R} or {W}.\"], [\"Chandra's Spitfire\", \"FLYING\\nWhenever an opponent is dealt noncombat damage, CARDNAME gets +3/+0 until end of turn.\"], [\"Reckless Air Strike\", \"Choose one \\u2014\\n\\u2022 CARDNAME deals 3 damage to target creature with flying.\\n\\u2022 Destroy target artifact.\"], [\"Riddlemaster Sphinx\", \"FLYING\\nWhen CARDNAME enters the battlefield, you may return target creature an opponent controls to its owner's hand.\"], [\"Gnarlback Rhino\", \"TRAMPLE\\nWhenever you cast a spell that targets CARDNAME, draw a card.\"], [\"Agent of Treachery\", \"When CARDNAME enters the battlefield, gain control of target permanent.\\nAt the beginning of your end step, if you control three or more permanents you don't own, draw three cards.\"], [\"Temple of Mystery\", \"CARDNAME enters the battlefield tapped.\\nWhen CARDNAME enters the battlefield, scry 1.\\n{T}: Add {G} or {U}.\"], [\"Growth Cycle\", \"Target creature gets +3/+3 until end of turn. It gets an additional +2/+2 until end of turn for each card named CARDNAME in your graveyard.\"], [\"Bloodthirsty Aerialist\", \"FLYING\\nWhenever you gain life, put a +1/+1 counter on CARDNAME.\"], [\"Cavalier of Night\", \"Lifelink\\nWhen CARDNAME enters the battlefield, you may sacrifice another creature. When you do, destroy target creature an opponent controls.\\nWhen CARDNAME dies, return target creature card with converted mana cost 3 or less from your graveyard to the battlefield.\"], [\"Temple of Malady\", \"CARDNAME enters the battlefield tapped.\\nWhen CARDNAME enters the battlefield, scry 1.\\n{T}: Add {B} or {G}.\"], [\"Diviner's Lockbox\", \"{1}, {T}: Choose a card name, then reveal the top card of your library. If that card has the chosen name, sacrifice CARDNAME and draw three cards. Activate this ability only any time you could cast a sorcery.\"], [\"Prismite\", \"{2}: Add one mana of any color.\"], [\"Masterful Replication\", \"Choose one \\u2014\\n\\u2022 Create two 3/3 colorless Golem artifact creature tokens.\\n\\u2022 Choose target artifact you control. Each other artifact you control becomes a copy of that artifact until end of turn.\"], [\"Sage's Row Denizen\", \"Whenever another blue creature enters the battlefield under your control, target player puts the top two cards of their library into their graveyard.\"], [\"Blightbeetle\", \"PROTECTION_FROM_GREEN\\nCreatures your opponents control can't have +1/+1 counters put on them.\"], [\"Chandra's Embercat\", \"{T}: Add {R}. Spend this mana only to cast an Elemental spell or a Chandra planeswalker spell.\"], [\"Undead Servant\", \"When CARDNAME enters the battlefield, create a 2/2 black Zombie creature token for each card named CARDNAME in your graveyard.\"], [\"Temple of Triumph\", \"CARDNAME enters the battlefield tapped.\\nWhen CARDNAME enters the battlefield, scry 1.\\n{T}: Add {R} or {W}.\"], [\"Apostle of Purifying Light\", \"PROTECTION_FROM_BLACK\\n{2}: Exile target card from a graveyard.\"], [\"Legion's End\", \"Exile target creature an opponent controls with converted mana cost 2 or less and all other creatures that player controls with the same name as that creature. Then that player reveals their hand and exiles all cards with that name from their hand and graveyard.\"], [\"Scampering Scorcher\", \"When CARDNAME enters the battlefield, create two 1/1 red Elemental creature tokens. Elementals you control gain haste until end of turn. (They can attack and {T} this turn.)\"], [\"Moat Piranhas\", \"Defender (This creature can't attack.)\"], [\"Gravedigger\", \"When CARDNAME enters the battlefield, you may return target creature card from your graveyard to your hand.\"], [\"Squad Captain\", \"VIGILANCE\\nCARDNAME enters the battlefield with a +1/+1 counter on it for each other creature you control.\"], [\"Steadfast Sentry\", \"VIGILANCE\\nWhen CARDNAME dies, put a +1/+1 counter on target creature you control.\"], [\"Lavakin Brawler\", \"Whenever CARDNAME attacks, it gets +1/+0 until end of turn for each Elemental you control.\"], [\"Unchained Berserker\", \"PROTECTION_FROM_WHITE\\nCARDNAME gets +2/+0 as long as it's attacking.\"], [\"Creeping Trailblazer\", \"Other Elementals you control get +1/+0.\\n{2}{R}{G}: CARDNAME gets +1/+1 until end of turn for each Elemental you control.\"], [\"Inspiring Captain\", \"When CARDNAME enters the battlefield, creatures you control get +1/+1 until end of turn.\"], [\"Anvilwrought Raptor\", \"FLYING\\nFirst strike (This creature deals combat damage before creatures without first strike.)\"], [\"Inspired Charge\", \"Creatures you control get +2/+1 until end of turn.\"], [\"Take Vengeance\", \"Destroy target tapped creature.\"], [\"Volcanic Dragon\", \"FLYING\\nHASTE\"], [\"Brought Back\", \"Choose up to two target permanent cards in your graveyard that were put there from the battlefield this turn. Return them to the battlefield tapped.\"], [\"Dismal Backwater\", \"CARDNAME enters the battlefield tapped.\\nWhen CARDNAME enters the battlefield, you gain 1 life.\\n{T}: Add {U} or {B}.\"], [\"Twinblade Paladin\", \"Whenever you gain life, put a +1/+1 counter on CARDNAME.\\nAs long as you have 25 or more life, CARDNAME has double strike. (It deals both first-strike and regular combat damage.)\"], [\"Scorch Spitter\", \"Whenever CARDNAME attacks, it deals 1 damage to the player or planeswalker it's attacking.\"], [\"Ironroot Warlord\", \"CARDNAME's power is equal to the number of creatures you control.\\n{3}{G}{W}: Create a 1/1 white Soldier creature token.\"], [\"Steel Overseer\", \"{T}: Put a +1/+1 counter on each artifact creature you control.\"], [\"Duress\", \"Target opponent reveals their hand. You choose a noncreature, nonland card from it. That player discards that card.\"], [\"Bag of Holding\", \"Whenever you discard a card, exile that card from your graveyard.\\n{2}, {T}: Draw a card, then discard a card.\\n{4}, {T}, Sacrifice CARDNAME: Return all cards exiled with CARDNAME to their owner's hand.\"], [\"Temple of Epiphany\", \"CARDNAME enters the battlefield tapped.\\nWhen CARDNAME enters the battlefield, scry 1.\\n{T}: Add {U} or {R}.\"], [\"Reduce to Ashes\", \"CARDNAME deals 5 damage to target creature. If that creature would die this turn, exile it instead.\"], [\"Goblin Ringleader\", \"HASTE\\nWhen CARDNAME enters the battlefield, reveal the top four cards of your library. Put all Goblin cards revealed this way into your hand and the rest on the bottom of your library in any order.\"], [\"Disentomb\", \"Return target creature card from your graveyard to your hand.\"], [\"Vengeful Warchief\", \"Whenever you lose life for the first time each turn, put a +1/+1 counter on CARDNAME. (Damage causes loss of life.)\"], [\"Angel of Vitality\", \"FLYING\\nIf you would gain life, you gain that much life plus 1 instead.\\nCARDNAME gets +2/+2 as long as you have 25 or more life.\"], [\"Devout Decree\", \"Exile target creature or planeswalker that's black or red. Scry 1. (Look at the top card of your library. You may put that card on the bottom of your library.)\"], [\"Lotus Field\", \"Hexproof\\nCARDNAME enters the battlefield tapped.\\nWhen CARDNAME enters the battlefield, sacrifice two lands.\\n{T}: Add three mana of any one color.\"], [\"Swiftwater Cliffs\", \"CARDNAME enters the battlefield tapped.\\nWhen CARDNAME enters the battlefield, you gain 1 life.\\n{T}: Add {U} or {R}.\"], [\"Starfield Mystic\", \"Enchantment spells you cast cost {1} less to cast.\\nWhenever an enchantment you control is put into a graveyard from the battlefield, put a +1/+1 counter on CARDNAME.\"], [\"Skyknight Vanguard\", \"FLYING\\nWhenever CARDNAME attacks, create a 1/1 white Soldier creature token that's tapped and attacking.\"], [\"Loxodon Lifechanter\", \"When CARDNAME enters the battlefield, you may have your life total become the total toughness of creatures you control.\\n{5}{W}: CARDNAME gets +X/+X until end of turn, where X is your life total.\"], [\"Frilled Sea Serpent\", \"{5}{U}{U}: CARDNAME can't be blocked this turn.\"], [\"Marauding Raptor\", \"Creature spells you cast cost {1} less to cast.\\nWhenever another creature enters the battlefield under your control, CARDNAME deals 2 damage to it. If a Dinosaur is dealt damage this way, CARDNAME gets +2/+0 until end of turn.\"], [\"Swamp\", \"({T}: Add {B}.)\"], [\"Forest\", \"({T}: Add {G}.)\"], [\"Scheming Symmetry\", \"Choose two target players. Each of them searches their library for a card, then shuffles their library and puts that card on top of it.\"], [\"Moment of Heroism\", \"Target creature gets +2/+2 and gains lifelink until end of turn. (Damage dealt by the creature also causes its controller to gain that much life.)\"], [\"Flame Sweep\", \"CARDNAME deals 2 damage to each creature except for creatures you control with flying.\"], [\"Keldon Raider\", \"When CARDNAME enters the battlefield, you may discard a card. If you do, draw a card.\"], [\"Rugged Highlands\", \"CARDNAME enters the battlefield tapped.\\nWhen CARDNAME enters the battlefield, you gain 1 life.\\n{T}: Add {R} or {G}.\"], [\"Serra's Guardian\", \"FLYING\\nVIGILANCE\\nOther creatures you control have vigilance.\"], [\"Thrashing Brontodon\", \"{1}, Sacrifice CARDNAME: Destroy target artifact or enchantment.\"], [\"Yarok, the Desecrated\", \"DEATHTOUCH, lifelink\\nIf a permanent entering the battlefield causes a triggered ability of a permanent you control to trigger, that ability triggers an additional time.\"], [\"Rapacious Dragon\", \"FLYING\\nWhen CARDNAME enters the battlefield, create two Treasure tokens. (They're artifacts with \\\"{T}, Sacrifice this artifact: Add one mana of any color.\\\")\"], [\"Tranquil Cove\", \"CARDNAME enters the battlefield tapped.\\nWhen CARDNAME enters the battlefield, you gain 1 life.\\n{T}: Add {W} or {U}.\"], [\"Bone to Ash\", \"Counter target creature spell.\\nDraw a card.\"], [\"Silverback Shaman\", \"TRAMPLE\\nWhen CARDNAME dies, draw a card.\"], [\"Colossus Hammer\", \"Equipped creature gets +10/+10 and loses flying.\\nEquip {8} ({8}: Attach to target creature you control. Equip only as a sorcery.)\"], [\"Befuddle\", \"Target creature gets -4/-0 until end of turn.\\nDraw a card.\"], [\"Epicure of Blood\", \"Whenever you gain life, each opponent loses 1 life.\"], [\"Boreal Elemental\", \"FLYING\\nSpells your opponents cast that target CARDNAME cost {2} more to cast.\"], [\"Leyline of the Void\", \"If CARDNAME is in your opening hand, you may begin the game with it on the battlefield.\\nIf a card would be put into an opponent's graveyard from anywhere, exile it instead.\"], [\"Noxious Grasp\", \"Destroy target creature or planeswalker that's green or white. You gain 1 life.\"], [\"Pulse of Murasa\", \"Return target creature or land card from a graveyard to its owner's hand. You gain 6 life.\"], [\"Chandra, Novice Pyromancer\", \"[+1]: Elementals you control get +2/+0 until end of turn.\\n[\\u22121]: Add {R}{R}.\\n[\\u22122]: CARDNAME deals 2 damage to any target.\"], [\"Herald of the Sun\", \"FLYING\\n{3}{W}: Put a +1/+1 counter on another target creature with flying.\"], [\"Chandra's Outrage\", \"CARDNAME deals 4 damage to target creature and 2 damage to that creature's controller.\"], [\"Feral Invocation\", \"FLASH\\nEnchant creature\\nEnchanted creature gets +2/+2.\"], [\"Vivien's Crocodile\", \"CARDNAME gets +1/+1 as long as you control a Vivien planeswalker.\"], [\"Leafkin Druid\", \"{T}: Add {G}. If you control four or more creatures, add {G}{G} instead.\"], [\"Uncaged Fury\", \"Target creature gets +1/+1 and gains double strike until end of turn. (It deals both first-strike and regular combat damage.)\"], [\"Moorland Inquisitor\", \"{2}{W}: CARDNAME gains first strike until end of turn. (It deals combat damage before creatures without first strike.)\"], [\"Sorcerer of the Fang\", \"{5}{B}, {T}: CARDNAME deals 2 damage to target opponent or planeswalker.\"], [\"Bloodfell Caves\", \"CARDNAME enters the battlefield tapped.\\nWhen CARDNAME enters the battlefield, you gain 1 life.\\n{T}: Add {B} or {R}.\"], [\"Planar Cleansing\", \"Destroy all nonland permanents.\"], [\"Warden of Evos Isle\", \"FLYING\\nCreature spells with flying you cast cost {1} less to cast.\"], [\"Manifold Key\", \"{1}, {T}: Untap another target artifact.\\n{3}, {T}: Target creature can't be blocked this turn.\"], [\"Temple of Silence\", \"CARDNAME enters the battlefield tapped.\\nWhen CARDNAME enters the battlefield, scry 1.\\n{T}: Add {W} or {B}.\"], [\"Nightpack Ambusher\", \"FLASH\\nOther Wolves and Werewolves you control get +1/+1.\\nAt the beginning of your end step, if you didn't cast a spell this turn, create a 2/2 green Wolf creature token.\"], [\"Oakenform\", \"Enchant creature\\nEnchanted creature gets +3/+3.\"], [\"Mammoth Spider\", \"REACH\"], [\"Impassioned Orator\", \"Whenever another creature enters the battlefield under your control, you gain 1 life.\"], [\"Hard Cover\", \"Enchant creature\\nEnchanted creature gets +0/+2 and has \\\"{T}: Draw a card, then discard a card.\\\"\"], [\"Spectral Sailor\", \"FLASH\\nFLYING\\n{3}{U}: Draw a card.\"], [\"Infuriate\", \"Target creature gets +3/+2 until end of turn.\"], [\"Brineborn Cutthroat\", \"FLASH\\nWhenever you cast a spell during an opponent's turn, put a +1/+1 counter on CARDNAME.\"], [\"Goblin Smuggler\", \"HASTE\\n{T}: Another target creature with power 2 or less can't be blocked this turn.\"], [\"Healer of the Glade\", \"When CARDNAME enters the battlefield, you gain 3 life.\"], [\"Moldervine Reclamation\", \"Whenever a creature you control dies, you gain 1 life and draw a card.\"], [\"Lightning Stormkin\", \"FLYING\\nHASTE\"], [\"Savage Gorger\", \"FLYING\\nAt the beginning of your end step, if an opponent lost life this turn, put a +1/+1 counter on CARDNAME. (Damage causes loss of life.)\"], [\"Destructive Digger\", \"{3}, {T}, Sacrifice an artifact or land: Draw a card.\"], [\"Blood Burglar\", \"As long as it's your turn, CARDNAME has lifelink. (Damage dealt by this creature also causes you to gain that much life.)\"], [\"Retributive Wand\", \"{3}, {T}: CARDNAME deals 1 damage to any target.\\nWhen CARDNAME is put into a graveyard from the battlefield, it deals 5 damage to any target.\"], [\"Audacious Thief\", \"Whenever CARDNAME attacks, you draw a card and you lose 1 life.\"], [\"Boneclad Necromancer\", \"When CARDNAME enters the battlefield, you may exile target creature card from a graveyard. If you do, create a 2/2 black Zombie creature token.\"], [\"Disfigure\", \"Target creature gets -2/-2 until end of turn.\"], [\"Pyroclastic Elemental\", \"{1}{R}{R}: CARDNAME deals 1 damage to target player.\"], [\"Plains\", \"({T}: Add {W}.)\"], [\"Rienne, Angel of Rebirth\", \"FLYING\\nOther multicolored creatures you control get +1/+0.\\nWhenever another multicolored creature you control dies, return it to its owner's hand at the beginning of the next end step.\"], [\"Faerie Miscreant\", \"FLYING\\nWhen CARDNAME enters the battlefield, if you control another creature named CARDNAME, draw a card.\"], [\"Master Splicer\", \"When CARDNAME enters the battlefield, create a 3/3 colorless Golem artifact creature token.\\nGolems you control get +1/+1.\"], [\"Negate\", \"Counter target noncreature spell.\"], [\"Shock\", \"CARDNAME deals 2 damage to any target.\"], [\"Bishop of Wings\", \"Whenever an Angel enters the battlefield under your control, you gain 4 life.\\nWhenever an Angel you control dies, create a 1/1 white Spirit creature token with flying.\"], [\"Metropolis Sprite\", \"FLYING\\n{U}: CARDNAME gets +1/-1 until end of turn.\"], [\"Tectonic Rift\", \"Destroy target land. Creatures without flying can't block this turn.\"], [\"Savannah Sage\", \"When CARDNAME enters the battlefield, you gain 2 life.\"], [\"Vampire Opportunist\", \"{6}{B}: Each opponent loses 2 life and you gain 2 life.\"], [\"Marauder's Axe\", \"Equipped creature gets +2/+0.\\nEquip {2} ({2}: Attach to target creature you control. Equip only as a sorcery.)\"], [\"Bone Splinters\", \"As an additional cost to cast this spell, sacrifice a creature.\\nDestroy target creature.\"], [\"Sanitarium Skeleton\", \"{2}{B}: Return CARDNAME from your graveyard to your hand.\"], [\"Aether Gust\", \"Choose target spell or permanent that's red or green. Its owner puts it on the top or bottom of their library.\"], [\"Daggersail Aeronaut\", \"As long as it's your turn, CARDNAME has flying.\"], [\"Haazda Officer\", \"When CARDNAME enters the battlefield, target creature you control gets +1/+1 until end of turn.\"], [\"Sorin's Thirst\", \"CARDNAME deals 2 damage to target creature and you gain 2 life.\"], [\"Agonizing Syphon\", \"CARDNAME deals 3 damage to any target and you gain 3 life.\"], [\"Rotting Regisaur\", \"At the beginning of your upkeep, discard a card.\"], [\"Murder\", \"Destroy target creature.\"], [\"Yarok's Fenlurker\", \"When CARDNAME enters the battlefield, each opponent exiles a card from their hand.\\n{2}{B}: CARDNAME gets +1/+1 until end of turn.\"], [\"Ogre Siegebreaker\", \"{2}{B}{R}: Destroy target creature that was dealt damage this turn.\"], [\"Disenchant\", \"Destroy target artifact or enchantment.\"], [\"Might of the Masses\", \"Target creature gets +1/+1 until end of turn for each creature you control.\"], [\"Griffin Sentinel\", \"FLYING\\nVIGILANCE\"], [\"Aerial Assault\", \"Destroy target tapped creature. You gain 1 life for each creature you control with flying.\"], [\"Maniacal Rage\", \"Enchant creature\\nEnchanted creature gets +2/+2 and can't block.\"], [\"Snapping Drake\", \"FLYING\"], [\"Greenwood Sentinel\", \"VIGILANCE\"], [\"Corpse Knight\", \"Whenever another creature enters the battlefield under your control, each opponent loses 1 life.\"], [\"Scuttlemutt\", \"{T}: Add one mana of any color.\\n{T}: Target creature becomes the color or colors of your choice until end of turn.\"], [\"Bartizan Bats\", \"FLYING\"], [\"Howling Giant\", \"REACH\\nWhen CARDNAME enters the battlefield, create two 2/2 green Wolf creature tokens.\"], [\"Woodland Mystic\", \"{T}: Add {G}.\"], [\"Ferocious Pup\", \"When CARDNAME enters the battlefield, create a 2/2 green Wolf creature token.\"], [\"Natural End\", \"Destroy target artifact or enchantment. You gain 3 life.\"], [\"Prized Unicorn\", \"All creatures able to block CARDNAME do so.\"], [\"Daybreak Chaplain\", \"Lifelink (Damage dealt by this creature also causes you to gain that much life.)\"], [\"Canopy Spider\", \"REACH\"], [\"Feral Abomination\", \"DEATHTOUCH\"], [\"Dawning Angel\", \"FLYING\\nWhen CARDNAME enters the battlefield, you gain 4 life.\"], [\"Engulfing Eruption\", \"CARDNAME deals 5 damage to target creature.\"], [\"Convolute\", \"Counter target spell unless its controller pays {4}.\"], [\"Raise the Alarm\", \"Create two 1/1 white Soldier creature tokens.\"], [\"Dark Remedy\", \"Target creature gets +1/+3 until end of turn.\"], [\"Soul Salvage\", \"Return up to two target creature cards from your graveyard to your hand.\"], [\"Pacifism\", \"Enchant creature\\nEnchanted creature can't attack or block.\"], [\"Nimble Birdsticker\", \"REACH\"], [\"Concordia Pegasus\", \"FLYING\"], [\"Phantom Warrior\", \"CARDNAME can't be blocked.\"], [\"Sedge Scorpion\", \"DEATHTOUCH\"], [\"Show of Valor\", \"Target creature gets +2/+4 until end of turn.\"], [\"Empyrean Eagle\", \"FLYING\\nOther creatures you control with flying get +1/+1.\"], [\"Unsummon\", \"Return target creature to its owner's hand.\"], [\"Mountain\", \"({T}: Add {R}.)\"], [\"Angelic Gift\", \"Enchant creature\\nWhen CARDNAME enters the battlefield, draw a card.\\nEnchanted creature has flying.\"], [\"Soulmender\", \"{T}: You gain 1 life.\"], [\"Island\", \"({T}: Add {U}.)\"], [\"Hostile Minotaur\", \"HASTE\"]], \"hoverlabel\": {\"namelength\": 0}, \"hovertemplate\": \"x=%{x}<br>y=%{y}<br>name=%{customdata[0]}<br>text=%{customdata[1]}\", \"legendgroup\": \"\", \"marker\": {\"color\": \"#636efa\", \"symbol\": \"circle\"}, \"mode\": \"markers\", \"name\": \"\", \"showlegend\": false, \"type\": \"scatter\", \"x\": [\"3.2251735\", \"-0.6621102\", \"0.2177312\", \"0.4718194\", \"0.43219227\", \"1.9271585\", \"2.853264\", \"2.1654928\", \"-0.08445574\", \"-0.47692683\", \"-0.8964087\", \"0.24250267\", \"-0.5106029\", \"2.0453293\", \"0.22024606\", \"-0.719986\", \"1.4808064\", \"1.3034881\", \"-0.39117298\", \"-0.18969889\", \"-0.18283126\", \"0.89442486\", \"-0.15665326\", \"3.0089324\", \"0.5068887\", \"-1.5840789\", \"0.70696115\", \"-3.1174872\", \"-1.940431\", \"-1.045345\", \"0.08477085\", \"-0.22411603\", \"-0.96666056\", \"-2.525127\", \"-0.60330087\", \"-0.6137447\", \"0.017182522\", \"-0.23864491\", \"-1.2575394\", \"-0.03500052\", \"-1.8159746\", \"3.2383113\", \"0.037014056\", \"0.7158905\", \"1.5864987\", \"1.834313\", \"1.3474076\", \"3.187374\", \"-0.7503339\", \"1.379031\", \"-1.6924863\", \"0.7552002\", \"-1.12084\", \"0.018927235\", \"-5.380199\", \"1.4297321\", \"0.6424823\", \"-0.025008164\", \"-1.5886751\", \"-0.39263874\", \"-2.510925\", \"2.4153516\", \"-0.014102489\", \"2.441236\", \"0.25946963\", \"-0.08556828\", \"0.2974027\", \"-0.6512283\", \"1.331976\", \"-0.5180886\", \"1.8703668\", \"-0.66382974\", \"-1.8220348\", \"-0.24344748\", \"-0.2008403\", \"0.4287503\", \"0.726119\", \"1.7340865\", \"-0.7300159\", \"1.2802078\", \"3.0786347\", \"2.2910573\", \"-1.7539546\", \"2.113366\", \"1.5859985\", \"2.7261124\", \"-1.4895927\", \"2.2075574\", \"-4.080299\", \"1.4640802\", \"2.0303998\", \"1.3403885\", \"0.8874303\", \"-0.47708422\", \"-0.6472632\", \"0.78996843\", \"-1.4423673\", \"-1.5128073\", \"-1.2436334\", \"-0.16454291\", \"0.01893562\", \"-1.7595258\", \"0.51741457\", \"-5.51674\", \"-0.58827233\", \"-1.585235\", \"0.65099734\", \"-0.54049706\", \"0.06842733\", \"-2.4428897\", \"1.8019121\", \"0.7383829\", \"-1.4670087\", \"0.5485918\", \"-1.5089467\", \"0.15386024\", \"-0.014810393\", \"-1.6465013\", \"-5.3550005\", \"1.5579771\", \"-2.0958803\", \"-5.5154877\", \"-0.61323595\", \"-0.8061597\", \"0.027408628\", \"1.7480484\", \"-0.56249684\", \"1.4417447\", \"-1.497586\", \"0.9224238\", \"0.8441129\", \"0.8740935\", \"0.7014433\", \"-1.7712513\", \"1.5770853\", \"1.1269989\", \"-1.045267\", \"-0.36934915\", \"0.32188278\", \"0.8438175\", \"0.8642974\", \"-5.3204503\", \"-1.6447278\", \"1.9848928\", \"2.8293555\", \"0.14760469\", \"0.4799185\", \"-4.1680207\", \"-0.96492314\", \"-1.291366\", \"2.9708438\", \"-4.3815646\", \"1.5043038\", \"0.7908809\", \"-1.4419825\", \"-1.5121884\", \"0.40592232\", \"-0.752089\", \"0.37048823\", \"-4.3822975\", \"-1.0238655\", \"2.193785\", \"0.35193542\", \"0.96355635\", \"3.0051544\", \"-0.1328234\", \"0.31703243\", \"-0.5497001\", \"-2.1246102\", \"-0.45765463\", \"-1.1864463\", \"-0.050315496\", \"-1.1794635\", \"2.0538979\", \"-2.5155792\", \"3.0372488\", \"-5.602121\", \"-1.4388076\", \"-1.9765085\", \"0.06634587\", \"-0.6292178\", \"1.6218399\", \"-1.2440364\", \"-4.2267027\", \"3.1215153\", \"-2.254936\", \"3.1627488\", \"-1.75408\", \"-1.194869\", \"0.84130406\", \"-4.2079883\", \"-5.6053014\", \"-0.3771752\", \"-2.5265126\", \"0.17204729\", \"-0.80860406\", \"-1.4899758\", \"0.43943572\", \"0.43220755\", \"-1.3399704\", \"1.1901621\", \"0.9391744\", \"-0.014493218\", \"-5.4835396\", \"0.1435255\", \"1.8879946\", \"1.3056921\", \"0.09683186\", \"-5.4278207\", \"1.6605225\", \"0.18718815\", \"2.110832\", \"-0.65748864\", \"-1.0211991\", \"-1.3448162\", \"-0.5453546\", \"2.199384\", \"3.0163627\", \"-0.5872265\", \"0.6562536\", \"0.36721817\", \"0.6324897\", \"-0.15532503\", \"0.24032108\", \"0.9294629\", \"0.22584495\", \"3.0127728\", \"-5.6128774\", \"2.1864352\", \"1.3822169\", \"-0.43011397\", \"-4.4127502\", \"0.6521279\", \"0.28174943\", \"-1.3827026\", \"-0.8199347\", \"0.0633596\", \"0.48756108\", \"-1.1106071\", \"-0.36767367\", \"-2.4973454\", \"0.49393374\", \"-0.7669965\", \"-2.3971965\", \"-1.8513745\", \"2.2026992\", \"-2.0417142\", \"1.8746483\", \"-0.69279283\", \"2.941202\", \"-0.8395343\", \"-1.7028434\", \"0.268634\", \"0.62562394\", \"0.4012913\", \"0.062061384\", \"1.5482714\", \"0.8662179\", \"-0.4425399\", \"-1.0473626\", \"2.082292\", \"0.052222554\", \"-0.10214411\", \"2.0567293\", \"2.3540232\", \"3.2290685\", \"-4.3264785\", \"-2.0679843\", \"-1.0473909\", \"0.08479219\", \"0.7253884\", \"-0.20627123\", \"2.2028394\", \"-1.198747\", \"2.328386\", \"2.1465783\", \"-0.9283426\", \"0.33768666\", \"1.9655704\", \"0.77981293\", \"-1.5851045\", \"-0.2879913\", \"-0.8819545\", \"0.5198486\", \"-1.4355191\", \"-1.648839\", \"-0.39465722\", \"0.54666454\", \"2.1414804\", \"2.0472069\", \"1.2335303\", \"-1.5716505\", \"-1.7027352\", \"-0.15042564\", \"2.91526\", \"1.1476874\", \"-1.3498294\", \"-1.0927114\", \"3.0797532\", \"0.85770917\", \"-1.5893896\", \"-1.3614132\", \"0.2421246\", \"-1.6789281\", \"-1.0104668\", \"0.8018361\", \"2.8821619\", \"0.045304403\", \"0.46211705\", \"-0.66513443\", \"0.27556366\", \"-1.6533165\"], \"xaxis\": \"x\", \"y\": [\"-1.0684639\", \"0.84108615\", \"-1.2730507\", \"0.06608632\", \"-0.7499775\", \"-3.0745287\", \"0.5090889\", \"-3.4156046\", \"1.0023502\", \"1.3084229\", \"-2.9303873\", \"0.112914026\", \"3.0553207\", \"-3.2501762\", \"-1.5853106\", \"-0.92373043\", \"-1.8630818\", \"-1.9597117\", \"1.7468474\", \"1.3801333\", \"-0.94474745\", \"2.2129238\", \"1.1191602\", \"-0.8871193\", \"1.7292051\", \"2.3294883\", \"-0.35171634\", \"0.75629175\", \"0.10749503\", \"0.9960606\", \"-3.767494\", \"3.9725266\", \"-3.127795\", \"0.3611044\", \"0.2074301\", \"-1.9437009\", \"-0.8074927\", \"0.24979247\", \"-2.6224582\", \"0.35204613\", \"-2.3676982\", \"0.17093465\", \"-3.8256495\", \"1.0542014\", \"1.038252\", \"-2.5732024\", \"-1.9612794\", \"0.25767174\", \"-0.9586843\", \"2.4225736\", \"1.472736\", \"-2.5974114\", \"-0.06667858\", \"-1.5566969\", \"1.876232\", \"1.1976583\", \"2.0973556\", \"-3.7993877\", \"2.286998\", \"-0.0322849\", \"0.88575625\", \"0.025467895\", \"-1.6062015\", \"0.08667279\", \"-1.824294\", \"-2.719254\", \"0.6461408\", \"1.4144955\", \"-0.34491232\", \"-1.6164987\", \"-0.9378951\", \"2.3222787\", \"-1.977208\", \"3.508926\", \"-0.47478828\", \"-2.8484259\", \"-1.9179304\", \"-2.565125\", \"2.830753\", \"2.6355145\", \"0.14793675\", \"-0.82851845\", \"0.08037745\", \"-3.3550923\", \"-0.18718195\", \"-0.2624476\", \"0.07376653\", \"-0.26596943\", \"1.4432755\", \"-0.4459157\", \"-0.30050233\", \"1.1707305\", \"0.84193075\", \"0.19606338\", \"2.1451786\", \"2.579355\", \"1.6431459\", \"3.186659\", \"1.9769266\", \"0.36903638\", \"-3.8244543\", \"2.0737379\", \"3.5365257\", \"1.7173909\", \"-2.6106164\", \"1.8227714\", \"3.14985\", \"2.378357\", \"-3.3764567\", \"0.47637126\", \"0.5832563\", \"-0.21282528\", \"3.1082737\", \"-2.6156418\", \"-1.4006065\", \"-3.2094123\", \"-3.7600768\", \"-0.8955188\", \"1.8911678\", \"-0.12924618\", \"0.13518065\", \"1.7114462\", \"1.9568789\", \"2.6518447\", \"-2.3678632\", \"-2.6962624\", \"-0.5267755\", \"-0.88221437\", \"3.0609133\", \"1.2554256\", \"-1.1093842\", \"0.30680412\", \"-0.95918036\", \"0.0962047\", \"1.0529131\", \"-1.9568073\", \"0.09174255\", \"0.4664445\", \"-1.7508261\", \"3.0021832\", \"2.6517677\", \"1.8692338\", \"2.228359\", \"-1.0627658\", \"0.56388175\", \"0.4998243\", \"-1.2886958\", \"1.5017911\", \"2.811987\", \"-2.585166\", \"0.67025423\", \"1.6865427\", \"-1.7918019\", \"-2.2367785\", \"0.4306997\", \"-0.11950743\", \"0.29522538\", \"1.5322416\", \"-1.4416094\", \"1.6674987\", \"1.0979646\", \"-0.20097344\", \"3.4306464\", \"2.8081539\", \"0.5480435\", \"-0.6767152\", \"-0.68216723\", \"-0.3090052\", \"1.1861361\", \"-0.5648899\", \"2.5771694\", \"3.9485004\", \"2.2420614\", \"-0.64762366\", \"0.4993107\", \"0.26975322\", \"1.6727295\", \"-2.4667163\", \"1.3197659\", \"-0.32851914\", \"-1.7372135\", \"-0.19252993\", \"1.1193651\", \"1.5460699\", \"-1.0220865\", \"0.24454327\", \"0.09410477\", \"-2.2853966\", \"-2.6634312\", \"2.5223238\", \"1.5481026\", \"1.6278931\", \"-0.9505874\", \"0.793178\", \"-2.2615066\", \"0.88459796\", \"3.2168372\", \"3.7900283\", \"3.6485333\", \"0.032294855\", \"2.6876464\", \"-2.6965253\", \"1.03329\", \"1.7145833\", \"-0.2420239\", \"-1.812013\", \"2.5522754\", \"3.7258525\", \"1.8266094\", \"-0.29222164\", \"0.5265753\", \"-3.3466995\", \"2.5195832\", \"-2.7404833\", \"-1.4805592\", \"0.020793717\", \"-1.1857549\", \"-0.06362853\", \"2.4264557\", \"-0.7819775\", \"-2.8511813\", \"1.1511521\", \"-0.7818755\", \"-0.633425\", \"2.7836423\", \"3.8720047\", \"-1.024735\", \"1.6352625\", \"-0.39439026\", \"-0.9507942\", \"-1.4645526\", \"1.6610749\", \"0.9995507\", \"1.2729152\", \"-0.64994895\", \"-2.7342637\", \"1.5298369\", \"0.79778343\", \"2.5981896\", \"-0.5022984\", \"0.41381374\", \"-1.8231775\", \"-2.5354407\", \"0.5141224\", \"-2.310288\", \"-0.92121685\", \"1.2496849\", \"-2.521649\", \"-2.4349246\", \"0.70873076\", \"2.710715\", \"1.5609618\", \"3.8409228\", \"-0.98031867\", \"0.22912173\", \"-1.0693867\", \"-0.4035547\", \"-2.601801\", \"-2.3919792\", \"1.7097821\", \"-0.6061276\", \"-2.381661\", \"-2.7335455\", \"-3.287858\", \"-0.6052976\", \"0.16610646\", \"1.6598828\", \"1.1706028\", \"2.6865056\", \"-2.8304543\", \"-1.9299247\", \"1.320063\", \"-0.779187\", \"2.725633\", \"-0.80503786\", \"-0.9556384\", \"2.8093286\", \"-0.59710824\", \"-0.93642044\", \"0.99488336\", \"-1.145148\", \"-1.068166\", \"-2.9180994\", \"-1.8814244\", \"-1.4701748\", \"-0.034650594\", \"-1.2537416\", \"-1.4378422\", \"-1.158141\", \"-0.29068142\", \"2.5267708\", \"-0.60305125\", \"-1.5510393\", \"-2.298084\", \"-0.8756888\", \"-0.46869412\", \"0.1982216\", \"2.5806994\", \"0.19532356\", \"0.8598361\", \"-0.511453\", \"-1.3505535\", \"-1.9110863\", \"-1.5225508\", \"2.6807938\", \"-0.8285647\", \"0.19819969\", \"3.6359668\", \"0.8557054\", \"-1.9062601\", \"3.7222366\", \"-0.48646608\"], \"yaxis\": \"y\"}],\n",
       "                        {\"legend\": {\"tracegroupgap\": 0}, \"margin\": {\"t\": 60}, \"template\": {\"data\": {\"bar\": [{\"error_x\": {\"color\": \"#2a3f5f\"}, \"error_y\": {\"color\": \"#2a3f5f\"}, \"marker\": {\"line\": {\"color\": \"#E5ECF6\", \"width\": 0.5}}, \"type\": \"bar\"}], \"barpolar\": [{\"marker\": {\"line\": {\"color\": \"#E5ECF6\", \"width\": 0.5}}, \"type\": \"barpolar\"}], \"carpet\": [{\"aaxis\": {\"endlinecolor\": \"#2a3f5f\", \"gridcolor\": \"white\", \"linecolor\": \"white\", \"minorgridcolor\": \"white\", \"startlinecolor\": \"#2a3f5f\"}, \"baxis\": {\"endlinecolor\": \"#2a3f5f\", \"gridcolor\": \"white\", \"linecolor\": \"white\", \"minorgridcolor\": \"white\", \"startlinecolor\": \"#2a3f5f\"}, \"type\": \"carpet\"}], \"choropleth\": [{\"colorbar\": {\"outlinewidth\": 0, \"ticks\": \"\"}, \"type\": \"choropleth\"}], \"contour\": [{\"colorbar\": {\"outlinewidth\": 0, \"ticks\": \"\"}, \"colorscale\": [[0.0, \"#0d0887\"], [0.1111111111111111, \"#46039f\"], [0.2222222222222222, \"#7201a8\"], [0.3333333333333333, \"#9c179e\"], [0.4444444444444444, \"#bd3786\"], [0.5555555555555556, \"#d8576b\"], [0.6666666666666666, \"#ed7953\"], [0.7777777777777778, \"#fb9f3a\"], [0.8888888888888888, \"#fdca26\"], [1.0, \"#f0f921\"]], \"type\": \"contour\"}], \"contourcarpet\": [{\"colorbar\": {\"outlinewidth\": 0, \"ticks\": \"\"}, \"type\": \"contourcarpet\"}], \"heatmap\": [{\"colorbar\": {\"outlinewidth\": 0, \"ticks\": \"\"}, \"colorscale\": [[0.0, \"#0d0887\"], [0.1111111111111111, \"#46039f\"], [0.2222222222222222, \"#7201a8\"], [0.3333333333333333, \"#9c179e\"], [0.4444444444444444, \"#bd3786\"], [0.5555555555555556, \"#d8576b\"], [0.6666666666666666, \"#ed7953\"], [0.7777777777777778, \"#fb9f3a\"], [0.8888888888888888, \"#fdca26\"], [1.0, \"#f0f921\"]], \"type\": \"heatmap\"}], \"heatmapgl\": [{\"colorbar\": {\"outlinewidth\": 0, \"ticks\": \"\"}, \"colorscale\": [[0.0, \"#0d0887\"], [0.1111111111111111, \"#46039f\"], [0.2222222222222222, \"#7201a8\"], [0.3333333333333333, \"#9c179e\"], [0.4444444444444444, \"#bd3786\"], [0.5555555555555556, \"#d8576b\"], [0.6666666666666666, \"#ed7953\"], [0.7777777777777778, \"#fb9f3a\"], [0.8888888888888888, \"#fdca26\"], [1.0, \"#f0f921\"]], \"type\": \"heatmapgl\"}], \"histogram\": [{\"marker\": {\"colorbar\": {\"outlinewidth\": 0, \"ticks\": \"\"}}, \"type\": \"histogram\"}], \"histogram2d\": [{\"colorbar\": {\"outlinewidth\": 0, \"ticks\": \"\"}, \"colorscale\": [[0.0, \"#0d0887\"], [0.1111111111111111, \"#46039f\"], [0.2222222222222222, \"#7201a8\"], [0.3333333333333333, \"#9c179e\"], [0.4444444444444444, \"#bd3786\"], [0.5555555555555556, \"#d8576b\"], [0.6666666666666666, \"#ed7953\"], [0.7777777777777778, \"#fb9f3a\"], [0.8888888888888888, \"#fdca26\"], [1.0, \"#f0f921\"]], \"type\": \"histogram2d\"}], \"histogram2dcontour\": [{\"colorbar\": {\"outlinewidth\": 0, \"ticks\": \"\"}, \"colorscale\": [[0.0, \"#0d0887\"], [0.1111111111111111, \"#46039f\"], [0.2222222222222222, \"#7201a8\"], [0.3333333333333333, \"#9c179e\"], [0.4444444444444444, \"#bd3786\"], [0.5555555555555556, \"#d8576b\"], [0.6666666666666666, \"#ed7953\"], [0.7777777777777778, \"#fb9f3a\"], [0.8888888888888888, \"#fdca26\"], [1.0, \"#f0f921\"]], \"type\": \"histogram2dcontour\"}], \"mesh3d\": [{\"colorbar\": {\"outlinewidth\": 0, \"ticks\": \"\"}, \"type\": \"mesh3d\"}], \"parcoords\": [{\"line\": {\"colorbar\": {\"outlinewidth\": 0, \"ticks\": \"\"}}, \"type\": \"parcoords\"}], \"pie\": [{\"automargin\": true, \"type\": \"pie\"}], \"scatter\": [{\"marker\": {\"colorbar\": {\"outlinewidth\": 0, \"ticks\": \"\"}}, \"type\": \"scatter\"}], \"scatter3d\": [{\"line\": {\"colorbar\": {\"outlinewidth\": 0, \"ticks\": \"\"}}, \"marker\": {\"colorbar\": {\"outlinewidth\": 0, \"ticks\": \"\"}}, \"type\": \"scatter3d\"}], \"scattercarpet\": [{\"marker\": {\"colorbar\": {\"outlinewidth\": 0, \"ticks\": \"\"}}, \"type\": \"scattercarpet\"}], \"scattergeo\": [{\"marker\": {\"colorbar\": {\"outlinewidth\": 0, \"ticks\": \"\"}}, \"type\": \"scattergeo\"}], \"scattergl\": [{\"marker\": {\"colorbar\": {\"outlinewidth\": 0, \"ticks\": \"\"}}, \"type\": \"scattergl\"}], \"scattermapbox\": [{\"marker\": {\"colorbar\": {\"outlinewidth\": 0, \"ticks\": \"\"}}, \"type\": \"scattermapbox\"}], \"scatterpolar\": [{\"marker\": {\"colorbar\": {\"outlinewidth\": 0, \"ticks\": \"\"}}, \"type\": \"scatterpolar\"}], \"scatterpolargl\": [{\"marker\": {\"colorbar\": {\"outlinewidth\": 0, \"ticks\": \"\"}}, \"type\": \"scatterpolargl\"}], \"scatterternary\": [{\"marker\": {\"colorbar\": {\"outlinewidth\": 0, \"ticks\": \"\"}}, \"type\": \"scatterternary\"}], \"surface\": [{\"colorbar\": {\"outlinewidth\": 0, \"ticks\": \"\"}, \"colorscale\": [[0.0, \"#0d0887\"], [0.1111111111111111, \"#46039f\"], [0.2222222222222222, \"#7201a8\"], [0.3333333333333333, \"#9c179e\"], [0.4444444444444444, \"#bd3786\"], [0.5555555555555556, \"#d8576b\"], [0.6666666666666666, \"#ed7953\"], [0.7777777777777778, \"#fb9f3a\"], [0.8888888888888888, \"#fdca26\"], [1.0, \"#f0f921\"]], \"type\": \"surface\"}], \"table\": [{\"cells\": {\"fill\": {\"color\": \"#EBF0F8\"}, \"line\": {\"color\": \"white\"}}, \"header\": {\"fill\": {\"color\": \"#C8D4E3\"}, \"line\": {\"color\": \"white\"}}, \"type\": \"table\"}]}, \"layout\": {\"annotationdefaults\": {\"arrowcolor\": \"#2a3f5f\", \"arrowhead\": 0, \"arrowwidth\": 1}, \"coloraxis\": {\"colorbar\": {\"outlinewidth\": 0, \"ticks\": \"\"}}, \"colorscale\": {\"diverging\": [[0, \"#8e0152\"], [0.1, \"#c51b7d\"], [0.2, \"#de77ae\"], [0.3, \"#f1b6da\"], [0.4, \"#fde0ef\"], [0.5, \"#f7f7f7\"], [0.6, \"#e6f5d0\"], [0.7, \"#b8e186\"], [0.8, \"#7fbc41\"], [0.9, \"#4d9221\"], [1, \"#276419\"]], \"sequential\": [[0.0, \"#0d0887\"], [0.1111111111111111, \"#46039f\"], [0.2222222222222222, \"#7201a8\"], [0.3333333333333333, \"#9c179e\"], [0.4444444444444444, \"#bd3786\"], [0.5555555555555556, \"#d8576b\"], [0.6666666666666666, \"#ed7953\"], [0.7777777777777778, \"#fb9f3a\"], [0.8888888888888888, \"#fdca26\"], [1.0, \"#f0f921\"]], \"sequentialminus\": [[0.0, \"#0d0887\"], [0.1111111111111111, \"#46039f\"], [0.2222222222222222, \"#7201a8\"], [0.3333333333333333, \"#9c179e\"], [0.4444444444444444, \"#bd3786\"], [0.5555555555555556, \"#d8576b\"], [0.6666666666666666, \"#ed7953\"], [0.7777777777777778, \"#fb9f3a\"], [0.8888888888888888, \"#fdca26\"], [1.0, \"#f0f921\"]]}, \"colorway\": [\"#636efa\", \"#EF553B\", \"#00cc96\", \"#ab63fa\", \"#FFA15A\", \"#19d3f3\", \"#FF6692\", \"#B6E880\", \"#FF97FF\", \"#FECB52\"], \"font\": {\"color\": \"#2a3f5f\"}, \"geo\": {\"bgcolor\": \"white\", \"lakecolor\": \"white\", \"landcolor\": \"#E5ECF6\", \"showlakes\": true, \"showland\": true, \"subunitcolor\": \"white\"}, \"hoverlabel\": {\"align\": \"left\"}, \"hovermode\": \"closest\", \"mapbox\": {\"style\": \"light\"}, \"paper_bgcolor\": \"white\", \"plot_bgcolor\": \"#E5ECF6\", \"polar\": {\"angularaxis\": {\"gridcolor\": \"white\", \"linecolor\": \"white\", \"ticks\": \"\"}, \"bgcolor\": \"#E5ECF6\", \"radialaxis\": {\"gridcolor\": \"white\", \"linecolor\": \"white\", \"ticks\": \"\"}}, \"scene\": {\"xaxis\": {\"backgroundcolor\": \"#E5ECF6\", \"gridcolor\": \"white\", \"gridwidth\": 2, \"linecolor\": \"white\", \"showbackground\": true, \"ticks\": \"\", \"zerolinecolor\": \"white\"}, \"yaxis\": {\"backgroundcolor\": \"#E5ECF6\", \"gridcolor\": \"white\", \"gridwidth\": 2, \"linecolor\": \"white\", \"showbackground\": true, \"ticks\": \"\", \"zerolinecolor\": \"white\"}, \"zaxis\": {\"backgroundcolor\": \"#E5ECF6\", \"gridcolor\": \"white\", \"gridwidth\": 2, \"linecolor\": \"white\", \"showbackground\": true, \"ticks\": \"\", \"zerolinecolor\": \"white\"}}, \"shapedefaults\": {\"line\": {\"color\": \"#2a3f5f\"}}, \"ternary\": {\"aaxis\": {\"gridcolor\": \"white\", \"linecolor\": \"white\", \"ticks\": \"\"}, \"baxis\": {\"gridcolor\": \"white\", \"linecolor\": \"white\", \"ticks\": \"\"}, \"bgcolor\": \"#E5ECF6\", \"caxis\": {\"gridcolor\": \"white\", \"linecolor\": \"white\", \"ticks\": \"\"}}, \"title\": {\"x\": 0.05}, \"xaxis\": {\"automargin\": true, \"gridcolor\": \"white\", \"linecolor\": \"white\", \"ticks\": \"\", \"title\": {\"standoff\": 15}, \"zerolinecolor\": \"white\", \"zerolinewidth\": 2}, \"yaxis\": {\"automargin\": true, \"gridcolor\": \"white\", \"linecolor\": \"white\", \"ticks\": \"\", \"title\": {\"standoff\": 15}, \"zerolinecolor\": \"white\", \"zerolinewidth\": 2}}}, \"xaxis\": {\"anchor\": \"y\", \"domain\": [0.0, 1.0], \"title\": {\"text\": \"x\"}}, \"yaxis\": {\"anchor\": \"x\", \"domain\": [0.0, 1.0], \"title\": {\"text\": \"y\"}}},\n",
       "                        {\"responsive\": true}\n",
       "                    ).then(function(){\n",
       "                            \n",
       "var gd = document.getElementById('eb7a4f10-9471-446d-8957-8698887dfa44');\n",
       "var x = new MutationObserver(function (mutations, observer) {{\n",
       "        var display = window.getComputedStyle(gd).display;\n",
       "        if (!display || display === 'none') {{\n",
       "            console.log([gd, 'removed!']);\n",
       "            Plotly.purge(gd);\n",
       "            observer.disconnect();\n",
       "        }}\n",
       "}});\n",
       "\n",
       "// Listen for the removal of the full notebook cells\n",
       "var notebookContainer = gd.closest('#notebook-container');\n",
       "if (notebookContainer) {{\n",
       "    x.observe(notebookContainer, {childList: true});\n",
       "}}\n",
       "\n",
       "// Listen for the clearing of the current output cell\n",
       "var outputEl = gd.closest('.output');\n",
       "if (outputEl) {{\n",
       "    x.observe(outputEl, {childList: true});\n",
       "}}\n",
       "\n",
       "                        })\n",
       "                };\n",
       "                });\n",
       "            </script>\n",
       "        </div>"
      ]
     },
     "metadata": {},
     "output_type": "display_data"
    }
   ],
   "source": [
    "import plotly\n",
    "import plotly.express as px\n",
    "plotly.offline.init_notebook_mode(connected=True)\n",
    "\n",
    "fig = px.scatter(data_frame=df, x='x', y='y', hover_data=['name', 'text'])\n",
    "fig.show()"
   ]
  },
  {
   "cell_type": "code",
   "execution_count": null,
   "metadata": {},
   "outputs": [],
   "source": []
  }
 ],
 "metadata": {
  "kernelspec": {
   "display_name": "Python 3",
   "language": "python",
   "name": "python3"
  },
  "language_info": {
   "codemirror_mode": {
    "name": "ipython",
    "version": 3
   },
   "file_extension": ".py",
   "mimetype": "text/x-python",
   "name": "python",
   "nbconvert_exporter": "python",
   "pygments_lexer": "ipython3",
   "version": "3.6.9"
  },
  "toc-autonumbering": true
 },
 "nbformat": 4,
 "nbformat_minor": 4
}
