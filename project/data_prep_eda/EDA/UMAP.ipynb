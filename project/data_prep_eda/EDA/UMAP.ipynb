{
 "cells": [
  {
   "cell_type": "markdown",
   "metadata": {
    "Collapsed": "false"
   },
   "source": [
    "# Imports"
   ]
  },
  {
   "cell_type": "code",
   "execution_count": 1,
   "metadata": {
    "Collapsed": "false"
   },
   "outputs": [
    {
     "name": "stderr",
     "output_type": "stream",
     "text": [
      "/home/vagrant/venv/lib/python3.6/site-packages/umap/spectral.py:4: NumbaDeprecationWarning: No direct replacement for 'numba.targets' available. Visit https://gitter.im/numba/numba-dev to request help. Thanks!\n",
      "  import numba.targets\n"
     ]
    }
   ],
   "source": [
    "import gensim\n",
    "from gensim import corpora\n",
    "from pprint import pprint\n",
    "from gensim.models.doc2vec import Doc2Vec, TaggedDocument\n",
    "from nltk.tokenize import word_tokenize\n",
    "import numpy as np\n",
    "import sklearn\n",
    "import pandas as pd\n",
    "import umap\n",
    "from pymongo import MongoClient\n",
    "from sklearn.neighbors import NearestNeighbors\n",
    "import tqdm\n",
    "import pickle"
   ]
  },
  {
   "cell_type": "markdown",
   "metadata": {
    "Collapsed": "false"
   },
   "source": [
    "# Read Data "
   ]
  },
  {
   "cell_type": "code",
   "execution_count": 2,
   "metadata": {
    "Collapsed": "false"
   },
   "outputs": [
    {
     "data": {
      "text/plain": [
       "pyspark.sql.session.SparkSession"
      ]
     },
     "execution_count": 2,
     "metadata": {},
     "output_type": "execute_result"
    }
   ],
   "source": [
    "type(spark)"
   ]
  },
  {
   "cell_type": "code",
   "execution_count": 3,
   "metadata": {
    "Collapsed": "false"
   },
   "outputs": [],
   "source": [
    "df = spark.read.parquet('/mtgp/artifacts/dataset/M20_cards.parquet')"
   ]
  },
  {
   "cell_type": "code",
   "execution_count": 4,
   "metadata": {
    "Collapsed": "false"
   },
   "outputs": [],
   "source": [
    "as_dict = df.rdd.map(lambda row: row.asDict())"
   ]
  },
  {
   "cell_type": "code",
   "execution_count": 5,
   "metadata": {
    "Collapsed": "false"
   },
   "outputs": [],
   "source": [
    "cards = as_dict.collect()"
   ]
  },
  {
   "cell_type": "markdown",
   "metadata": {
    "Collapsed": "false"
   },
   "source": [
    "# Tokenize"
   ]
  },
  {
   "cell_type": "code",
   "execution_count": 6,
   "metadata": {
    "Collapsed": "false"
   },
   "outputs": [],
   "source": [
    "field_text = \"filteredText\"\n",
    "\n",
    "data_list = [{'number': card['number'], 'text': card[field_text], 'name': card['name']} for card in cards if field_text in card if card[field_text] is not None]\n",
    "card_names = list(map(lambda card: card['name'], data_list))\n",
    "data = list(map(lambda card: card['text'], data_list))"
   ]
  },
  {
   "cell_type": "code",
   "execution_count": 7,
   "metadata": {
    "Collapsed": "false"
   },
   "outputs": [],
   "source": [
    "tagged_data = [\n",
    "    TaggedDocument(words=word_tokenize(_d.lower()), tags=[str(i)])\n",
    "    for i, _d in enumerate(data) if _d is not None\n",
    "]"
   ]
  },
  {
   "cell_type": "markdown",
   "metadata": {
    "Collapsed": "false"
   },
   "source": [
    "# Train model"
   ]
  },
  {
   "cell_type": "code",
   "execution_count": 8,
   "metadata": {
    "Collapsed": "false"
   },
   "outputs": [],
   "source": [
    "max_epochs = 100\n",
    "vec_size = 50\n",
    "alpha = 0.025"
   ]
  },
  {
   "cell_type": "code",
   "execution_count": 9,
   "metadata": {
    "Collapsed": "false"
   },
   "outputs": [],
   "source": [
    "model = Doc2Vec(vector_size=vec_size, alpha=alpha, min_alpha=0.00025, min_count=1, dm=1)\n",
    "model.build_vocab(tagged_data)"
   ]
  },
  {
   "cell_type": "code",
   "execution_count": 10,
   "metadata": {
    "Collapsed": "false"
   },
   "outputs": [
    {
     "name": "stderr",
     "output_type": "stream",
     "text": [
      "100%|██████████| 100/100 [00:17<00:00,  5.79it/s]\n"
     ]
    }
   ],
   "source": [
    "for epoch in tqdm.tqdm(range(max_epochs)):\n",
    "    model.train(tagged_data, total_examples=model.corpus_count, epochs=model.epochs)\n",
    "    # decrease the learning rate\n",
    "    model.alpha -= 0.0002\n",
    "    # fix the learning rate, no decay\n",
    "    model.min_alpha = model.alpha"
   ]
  },
  {
   "cell_type": "code",
   "execution_count": 11,
   "metadata": {
    "Collapsed": "false"
   },
   "outputs": [],
   "source": [
    "# model.save(\"d2v.model\")"
   ]
  },
  {
   "cell_type": "code",
   "execution_count": 12,
   "metadata": {
    "Collapsed": "false"
   },
   "outputs": [
    {
     "name": "stderr",
     "output_type": "stream",
     "text": [
      "100%|██████████| 312/312 [00:00<00:00, 201357.57it/s]\n"
     ]
    }
   ],
   "source": [
    "X = list()\n",
    "\n",
    "for i in tqdm.tqdm(range(len(model.docvecs))):\n",
    "    X.append(model.docvecs[i])\n",
    "    \n",
    "docvecs = np.array(X)"
   ]
  },
  {
   "cell_type": "markdown",
   "metadata": {
    "Collapsed": "false"
   },
   "source": [
    "# Project and embed data"
   ]
  },
  {
   "cell_type": "code",
   "execution_count": 13,
   "metadata": {
    "Collapsed": "false"
   },
   "outputs": [],
   "source": [
    "rng = np.random.RandomState(0)"
   ]
  },
  {
   "cell_type": "code",
   "execution_count": 14,
   "metadata": {
    "Collapsed": "false"
   },
   "outputs": [],
   "source": [
    "pca = sklearn.decomposition.PCA(random_state=rng)\n",
    "X_docvecs = pca.fit_transform(docvecs)"
   ]
  },
  {
   "cell_type": "code",
   "execution_count": 15,
   "metadata": {
    "Collapsed": "false"
   },
   "outputs": [],
   "source": [
    "mdl_umap = umap.UMAP(n_neighbors=5, metric='euclidean', random_state=rng, transform_seed=rng)\n",
    "embedded_docvecs = mdl_umap.fit_transform(docvecs)"
   ]
  },
  {
   "cell_type": "code",
   "execution_count": 16,
   "metadata": {
    "Collapsed": "false"
   },
   "outputs": [],
   "source": [
    "# with open(\"../mdl_umap.pickle\",\"wb\") as fp:\n",
    "#     pickle.dump(mdl_umap, fp)\n",
    "# fp.close()"
   ]
  },
  {
   "cell_type": "markdown",
   "metadata": {
    "Collapsed": "false"
   },
   "source": [
    "# Find similar cards (up to 20) and cache the results"
   ]
  },
  {
   "cell_type": "code",
   "execution_count": 17,
   "metadata": {
    "Collapsed": "false"
   },
   "outputs": [],
   "source": [
    "similarity_results = list()\n",
    "\n",
    "for card, embedded_vector in zip(cards, embedded_docvecs):\n",
    "    knn = NearestNeighbors(n_neighbors=1, metric='euclidean')\n",
    "    knn.fit(embedded_docvecs)\n",
    "    \n",
    "    distances, neighs_ids = knn.kneighbors(np.reshape(embedded_vector,[1, 2]), 20, return_distance=True)\n",
    "    \n",
    "    similarity_results.append({'number': card['number'], 'similar': neighs_ids[0].tolist()})"
   ]
  },
  {
   "cell_type": "markdown",
   "metadata": {
    "Collapsed": "false"
   },
   "source": [
    "# Save feature vectors "
   ]
  },
  {
   "cell_type": "code",
   "execution_count": 18,
   "metadata": {
    "Collapsed": "false"
   },
   "outputs": [],
   "source": [
    "# client = MongoClient(\"localhost\")\n",
    "# db = client['mtggg']"
   ]
  },
  {
   "cell_type": "code",
   "execution_count": 19,
   "metadata": {
    "Collapsed": "false"
   },
   "outputs": [],
   "source": [
    "feats = [{'number': card['number'], 'docvect': feature_vector.tolist(), 'embedded_vect': embedded_vector.tolist()} \n",
    "             for card, feature_vector, embedded_vector in zip(cards, docvecs, embedded_docvecs)\n",
    "]"
   ]
  },
  {
   "cell_type": "code",
   "execution_count": 20,
   "metadata": {
    "Collapsed": "false"
   },
   "outputs": [],
   "source": [
    "# result = db.ml.feats.v1.insert_many(feats)\n",
    "# result.acknowledged"
   ]
  },
  {
   "cell_type": "code",
   "execution_count": 21,
   "metadata": {
    "Collapsed": "false"
   },
   "outputs": [],
   "source": [
    "# result = db.ml.similar.v1.insert_many(similarity_results)\n",
    "# result.acknowledged"
   ]
  },
  {
   "cell_type": "markdown",
   "metadata": {
    "Collapsed": "false"
   },
   "source": [
    "# Plot scatter"
   ]
  },
  {
   "cell_type": "code",
   "execution_count": 22,
   "metadata": {
    "Collapsed": "false"
   },
   "outputs": [],
   "source": [
    "mdl_umap = umap.UMAP(n_neighbors=5, metric='euclidean', random_state=rng, transform_seed=rng)\n",
    "embedded_docvecs = mdl_umap.fit_transform(docvecs)"
   ]
  },
  {
   "cell_type": "code",
   "execution_count": 23,
   "metadata": {
    "Collapsed": "false"
   },
   "outputs": [],
   "source": [
    "df = pd.DataFrame(np.hstack([embedded_docvecs, np.reshape(data, [312, 1]), np.reshape(card_names, [312, 1])]), columns=['x', 'y', 'text', 'name'])"
   ]
  },
  {
   "cell_type": "code",
   "execution_count": 25,
   "metadata": {},
   "outputs": [],
   "source": [
    "# as long it's attacking"
   ]
  },
  {
   "cell_type": "code",
   "execution_count": 26,
   "metadata": {},
   "outputs": [],
   "source": [
    "# as long it's your turn"
   ]
  },
  {
   "cell_type": "code",
   "execution_count": 24,
   "metadata": {
    "Collapsed": "false"
   },
   "outputs": [
    {
     "data": {
      "text/html": [
       "        <script type=\"text/javascript\">\n",
       "        window.PlotlyConfig = {MathJaxConfig: 'local'};\n",
       "        if (window.MathJax) {MathJax.Hub.Config({SVG: {font: \"STIX-Web\"}});}\n",
       "        if (typeof require !== 'undefined') {\n",
       "        require.undef(\"plotly\");\n",
       "        requirejs.config({\n",
       "            paths: {\n",
       "                'plotly': ['https://cdn.plot.ly/plotly-latest.min']\n",
       "            }\n",
       "        });\n",
       "        require(['plotly'], function(Plotly) {\n",
       "            window._Plotly = Plotly;\n",
       "        });\n",
       "        }\n",
       "        </script>\n",
       "        "
      ]
     },
     "metadata": {},
     "output_type": "display_data"
    },
    {
     "data": {
      "application/vnd.plotly.v1+json": {
       "config": {
        "plotlyServerURL": "https://plot.ly"
       },
       "data": [
        {
         "customdata": [
          [
           "Chandra, Awakened Inferno",
           "This spell can't be countered.\n[+2]: Each opponent gets an emblem with \"At the beginning of your upkeep, this emblem deals 1 damage to you.\"\n[−3]: CARDNAME deals 3 damage to each non-Elemental creature.\n−X: CARDNAME deals X damage to target creature or planeswalker. If a permanent dealt damage this way would die this turn, exile it instead."
          ],
          [
           "Cavalier of Flame",
           "{1}{R}: Creatures you control get +1/+0 and gain haste until end of turn.\nETB_EFFECT, discard any number of cards, then draw that many cards.\nWhen CARDNAME dies, it deals X damage to each opponent and each planeswalker they control, where X is the number of land cards in your graveyard."
          ],
          [
           "Cavalier of Thorns",
           "REACH\nETB_EFFECT, reveal the top five cards of your library. Put a land card from among them onto the battlefield and the rest into your graveyard.\nWhen CARDNAME dies, you may exile it. If you do, put another target card from your graveyard on top of your library."
          ],
          [
           "Omnath, Locus of the Roil",
           "ETB_EFFECT, it deals damage to any target equal to the number of Elementals you control.\nWhenever a land enters the battlefield under your control, put a +1/+1 counter on target Elemental you control. If you control eight or more lands, draw a card."
          ],
          [
           "Kaalia, Zenith Seeker",
           "FLYING, vigilance\nETB_EFFECT, look at the top six cards of your library. You may reveal an Angel card, a Demon card, and/or a Dragon card from among them and put them into your hand. Put the rest on the bottom of your library in a random order."
          ],
          [
           "Mask of Immolation",
           "ETB_EFFECT, create a 1/1 red Elemental creature token, then attach CARDNAME to it.\nEquipped creature has \"Sacrifice this creature: It deals 1 damage to any target.\"\nEquip {2} ({2}: Attach to target creature you control. Equip only as a sorcery.)"
          ],
          [
           "Cavalier of Dawn",
           "VIGILANCE\nETB_EFFECT, destroy up to one target nonland permanent. Its controller creates a 3/3 colorless Golem artifact creature token.\nWhen CARDNAME dies, return target artifact or enchantment card from your graveyard to your hand."
          ],
          [
           "Wolfrider's Saddle",
           "ETB_EFFECT, create a 2/2 green Wolf creature token, then attach CARDNAME to it.\nEquipped creature gets +1/+1 and can't be blocked by more than one creature.\nEquip {3} ({3}: Attach to target creature you control. Equip only as a sorcery.)"
          ],
          [
           "Risen Reef",
           "Whenever CARDNAME or another Elemental enters the battlefield under your control, look at the top card of your library. If it's a land card, you may put it onto the battlefield tapped. If you don't put the card onto the battlefield, put it into your hand."
          ],
          [
           "Atemsis, All-Seeing",
           "FLYING\n{2}{U}, {T}: Draw two cards, then discard a card.\nWhenever CARDNAME deals damage to an opponent, you may reveal your hand. If cards with at least six different converted mana costs are revealed this way, that player loses the game."
          ],
          [
           "Overgrowth Elemental",
           "ETB_EFFECT, put a +1/+1 counter on another target Elemental you control.\nWhenever another creature you control dies, you gain 1 life. If that creature was an Elemental, put a +1/+1 counter on CARDNAME."
          ],
          [
           "Barkhide Troll",
           "CARDNAME enters the battlefield with a +1/+1 counter on it.\n{1}, Remove a +1/+1 counter from CARDNAME: CARDNAME gains hexproof until end of turn. (It can't be the target of spells or abilities your opponents control.)"
          ],
          [
           "Voracious Hydra",
           "TRAMPLE\nCARDNAME enters the battlefield with X +1/+1 counters on it.\nETB_EFFECT, choose one —\n• Double the number of +1/+1 counters on CARDNAME.\n• CARDNAME fights target creature you don't control."
          ],
          [
           "Gruesome Scourger",
           "ETB_EFFECT, it deals damage to target opponent or planeswalker equal to the number of creatures you control."
          ],
          [
           "Icon of Ancestry",
           "As CARDNAME enters the battlefield, choose a creature type.\nCreatures you control of the chosen type get +1/+1.\n{3}, {T}: Look at the top three cards of your library. You may reveal a creature card of the chosen type from among them and put it into your hand. Put the rest on the bottom of your library in a random order."
          ],
          [
           "Cryptic Caves",
           "{T}: Add {C}.\n{1}, {T}, Sacrifice CARDNAME: Draw a card. Activate this ability only if you control five or more lands."
          ],
          [
           "Evolving Wilds",
           "{T}, Sacrifice CARDNAME: Search your library for a basic land card, put it onto the battlefield tapped, then shuffle your library."
          ],
          [
           "Mu Yanling, Sky Dancer",
           "[+2]: Until your next turn, up to one target creature gets -2/-0 and loses flying.\n[−3]: Create a 4/4 blue Elemental Bird creature token with flying.\n[−8]: You get an emblem with \"Islands you control have '{T}: Draw a card.'\""
          ],
          [
           "Bloodsoaked Altar",
           "{T}, Pay 2 life, Discard a card, Sacrifice a creature: Create a 5/5 black Demon creature token with flying. Activate this ability only any time you could cast a sorcery."
          ],
          [
           "Leyline of Abundance",
           "If CARDNAME is in your opening hand, you may begin the game with it on the battlefield.\nWhenever you tap a creature for mana, add an additional {G}.\n{6}{G}{G}: Put a +1/+1 counter on each creature you control."
          ],
          [
           "Ancestral Blade",
           "ETB_EFFECT, create a 1/1 white Soldier creature token, then attach CARDNAME to it.\nEquipped creature gets +1/+1.\nEquip {1} ({1}: Attach to target creature you control. Equip only as a sorcery.)"
          ],
          [
           "Chandra, Acolyte of Flame",
           "[0]: Put a loyalty counter on each red planeswalker you control.\n[0]: Create two 1/1 red Elemental creature tokens. They gain haste. Sacrifice them at the beginning of the next end step.\n[−2]: You may cast target instant or sorcery card with converted mana cost 3 or less from your graveyard. If that card would be put into your graveyard this turn, exile it instead."
          ],
          [
           "Chandra's Regulator",
           "Whenever you activate a loyalty ability of a Chandra planeswalker, you may pay {1}. If you do, copy that ability. You may choose new targets for the copy.\n{1}, {T}, Discard a Mountain card or a red card: Draw a card."
          ],
          [
           "Fry",
           "This spell can't be countered.\nCARDNAME deals 5 damage to target creature or planeswalker that's white or blue."
          ],
          [
           "Gauntlets of Light",
           "Enchant creature\nEnchanted creature gets +0/+2 and assigns combat damage equal to its toughness rather than its power.\nEnchanted creature has \"{2}{W}: Untap this creature.\""
          ],
          [
           "Angelic Guardian",
           "FLYING\nWhenever one or more creatures you control attack, they gain indestructible until end of turn. (Damage and effects that say \"destroy\" don't destroy them.)"
          ],
          [
           "Gargos, Vicious Watcher",
           "VIGILANCE\nHydra spells you cast cost {4} less to cast.\nWhenever a creature you control becomes the target of a spell, CARDNAME fights up to one target creature you don't control."
          ],
          [
           "Shifting Ceratops",
           "This spell can't be countered.\nPROTECTION_FROM_BLUE\n{G}: CARDNAME gains your choice of reach, trample, or haste until end of turn."
          ],
          [
           "Kethis, the Hidden Hand",
           "Legendary spells you cast cost {1} less to cast.\nExile two legendary cards from your graveyard: Until end of turn, each legendary card in your graveyard gains \"You may play this card from your graveyard.\""
          ],
          [
           "Chandra's Flame Wave",
           "CARDNAME deals 2 damage to target player and each creature that player controls. Search your library and/or graveyard for a card named Chandra, Flame's Fury, reveal it, and put it into your hand. If you search your library this way, shuffle it."
          ],
          [
           "Sephara, Sky's Blade",
           "You may pay {W} and tap four untapped creatures you control with flying rather than pay this spell's mana cost.\nFLYING, lifelink\nOther creatures you control with flying have indestructible. (Damage and effects that say \"destroy\" don't destroy them.)"
          ],
          [
           "Drakuseth, Maw of Flames",
           "FLYING\nWhenever CARDNAME attacks, it deals 4 damage to any target and 3 damage to each of up to two other targets."
          ],
          [
           "Veil of Summer",
           "Draw a card if an opponent has cast a blue or black spell this turn. Spells you control can't be countered this turn. You and permanents you control gain hexproof from blue and from black until end of turn. (You and they can't be the targets of blue or black spells or abilities your opponents control.)"
          ],
          [
           "Sorin, Vampire Lord",
           "[+1]: Up to one target creature gets +2/+0 until end of turn.\n[−2]: CARDNAME deals 4 damage to any target. You gain 4 life.\n[−8]: Until end of turn, each Vampire you control gains \"{T}: Gain control of target creature.\""
          ],
          [
           "Diamond Knight",
           "VIGILANCE\nAs CARDNAME enters the battlefield, choose a color.\nWhenever you cast a spell of the chosen color, put a +1/+1 counter on CARDNAME."
          ],
          [
           "Thicket Crasher",
           "TRAMPLE\nOther Elementals you control have trample."
          ],
          [
           "Ajani, Strength of the Pride",
           "[+1]: You gain life equal to the number of creatures you control plus the number of planeswalkers you control.\n[−2]: Create a 2/2 white Cat Soldier creature token named Ajani's Pridemate with \"Whenever you gain life, put a +1/+1 counter on Ajani's Pridemate.\"\n[0]: If you have at least 15 life more than your starting life total, exile CARDNAME and each artifact and creature your opponents control."
          ],
          [
           "Aggressive Mammoth",
           "TRAMPLE\nOther creatures you control have trample."
          ],
          [
           "Octoprophet",
           "ETB_EFFECT, scry 2. (Look at the top two cards of your library, then put any number of them on the bottom of your library and the rest on top in any order.)"
          ],
          [
           "Knight of the Ebon Legion",
           "{2}{B}: CARDNAME gets +3/+3 and gains deathtouch until end of turn.\nAt the beginning of your end step, if a player lost 4 or more life this turn, put a +1/+1 counter on CARDNAME. (Damage causes loss of life.)"
          ],
          [
           "Salvager of Ruin",
           "Sacrifice CARDNAME: Choose target permanent card in your graveyard that was put there from the battlefield this turn. Return it to your hand."
          ],
          [
           "Yanling's Harbinger",
           "FLYING\nETB_EFFECT, you may search your library and/or graveyard for a card named Mu Yanling, Celestial Wind, reveal it, and put it into your hand. If you search your library this way, shuffle it."
          ],
          [
           "Gorging Vulture",
           "FLYING\nETB_EFFECT, put the top four cards of your library into your graveyard. You gain 1 life for each creature card put into your graveyard this way."
          ],
          [
           "Celestial Messenger",
           "FLASH (You may cast this card any time you could cast an instant.)\nFLYING\nCARDNAME gets +1/+1 as long as you control a Yanling planeswalker."
          ],
          [
           "Glint-Horn Buccaneer",
           "HASTE\nWhenever you discard a card, CARDNAME deals 1 damage to each opponent.\n{1}{R}, Discard a card: Draw a card. Activate this ability only if CARDNAME is attacking."
          ],
          [
           "Leyline of Combustion",
           "If CARDNAME is in your opening hand, you may begin the game with it on the battlefield.\nWhenever you and/or at least one permanent you control becomes the target of a spell or ability an opponent controls, CARDNAME deals 2 damage to that player."
          ],
          [
           "Gift of Paradise",
           "Enchant land\nETB_EFFECT, you gain 3 life.\nEnchanted land has \"{T}: Add two mana of any one color.\""
          ],
          [
           "Loaming Shaman",
           "ETB_EFFECT, target player shuffles any number of target cards from their graveyard into their library."
          ],
          [
           "Blossoming Sands",
           "ENTER_TAPPED\nETB_EFFECT, you gain 1 life.\n{T}: Add {G} or {W}."
          ],
          [
           "Ember Hauler",
           "{1}, Sacrifice CARDNAME: It deals 2 damage to any target."
          ],
          [
           "Renowned Weaponsmith",
           "{T}: Add {C}{C}. Spend this mana only to cast artifact spells or activate abilities of artifacts.\n{U}, {T}: Search your library for a card named Heart-Piercer Bow or Vial of Dragonfire, reveal it, put it into your hand, then shuffle your library."
          ],
          [
           "Scholar of the Ages",
           "ETB_EFFECT, return up to two target instant and/or sorcery cards from your graveyard to your hand."
          ],
          [
           "Brightwood Tracker",
           "{5}{G}, {T}: Look at the top four cards of your library. You may reveal a creature card from among them and put it into your hand. Put the rest on the bottom of your library in a random order."
          ],
          [
           "Tomebound Lich",
           "DEATHTOUCH\nLifelink (Damage dealt by this creature also causes you to gain that much life.)\nWhenever CARDNAME enters the battlefield or deals combat damage to a player, draw a card, then discard a card."
          ],
          [
           "Leyline of Anticipation",
           "If CARDNAME is in your opening hand, you may begin the game with it on the battlefield.\nYou may cast spells as though they had flash."
          ],
          [
           "Thunderkin Awakener",
           "HASTE\nWhenever CARDNAME attacks, choose target Elemental creature card in your graveyard with toughness less than CARDNAME's toughness. Return that card to the battlefield tapped and attacking. Sacrifice it at the beginning of the next end step."
          ],
          [
           "Flood of Tears",
           "Return all nonland permanents to their owners' hands. If you return four or more nontoken permanents you control this way, you may put a permanent card from your hand onto the battlefield."
          ],
          [
           "Eternal Isolation",
           "Put target creature with power 4 or greater on the bottom of its owner's library."
          ],
          [
           "Meteor Golem",
           "ETB_EFFECT, destroy target nonland permanent an opponent controls."
          ],
          [
           "Pattern Matcher",
           "ETB_EFFECT, you may search your library for a card with the same name as another creature you control, reveal it, put it into your hand, then shuffle your library."
          ],
          [
           "Ajani, Inspiring Leader",
           "[+2]: You gain 2 life. Put two +1/+1 counters on up to one target creature.\n[−3]: Exile target creature. Its controller gains 2 life.\n[−10]: Creatures you control gain flying and double strike until end of turn."
          ],
          [
           "Cloudkin Seer",
           "FLYING\nETB_EFFECT, draw a card."
          ],
          [
           "Mystic Forge",
           "You may look at the top card of your library any time.\nYou may cast the top card of your library if it's an artifact card or a colorless nonland card.\n{T}, Pay 1 life: Exile the top card of your library."
          ],
          [
           "Sorin's Guide",
           "ETB_EFFECT, you may search your library and/or graveyard for a card named Sorin, Vampire Lord, reveal it, and put it into your hand. If you search your library this way, shuffle it."
          ],
          [
           "Wildfire Elemental",
           "Whenever an opponent is dealt noncombat damage, creatures you control get +1/+0 until end of turn."
          ],
          [
           "Kykar, Wind's Fury",
           "FLYING\nWhenever you cast a noncreature spell, create a 1/1 white Spirit creature token with flying.\nSacrifice a Spirit: Add {R}."
          ],
          [
           "Cerulean Drake",
           "FLYING\nPROTECTION_FROM_RED\nSacrifice CARDNAME: Counter target spell that targets you."
          ],
          [
           "Portal of Sanctuary",
           "{1}, {T}: Return target creature you control and each Aura attached to it to their owners' hands. Activate this ability only during your turn."
          ],
          [
           "Frost Lynx",
           "ETB_EFFECT, tap target creature an opponent controls. That creature doesn't untap during its controller's next untap step."
          ],
          [
           "Plummet",
           "Destroy target creature with flying."
          ],
          [
           "Vivien, Nature's Avenger",
           "[+1]: Put three +1/+1 counters on up to one target creature.\n[−1]: Reveal cards from the top of your library until you reveal a creature card. Put that card into your hand and the rest on the bottom of your library in a random order.\n[−6]: Target creature gets +10/+10 and gains trample until end of turn."
          ],
          [
           "Embodiment of Agonies",
           "FLYING, deathtouch\nCARDNAME enters the battlefield with a +1/+1 counter on it for each different mana cost among nonland cards in your graveyard. (For example, {2}{B} and {1}{B}{B} are different mana costs.)"
          ],
          [
           "Vilis, Broker of Blood",
           "FLYING\n{B}, Pay 2 life: Target creature gets -1/-1 until end of turn.\nWhenever you lose life, draw that many cards. (Damage causes loss of life.)"
          ],
          [
           "Thirsting Bloodlord",
           "Other Vampires you control get +1/+1."
          ],
          [
           "Chandra, Flame's Fury",
           "[+1]: CARDNAME deals 2 damage to any target.\n[−2]: CARDNAME deals 4 damage to target creature and 2 damage to that creature's controller.\n[−8]: CARDNAME deals 10 damage to target player and each creature that player controls."
          ],
          [
           "Sorin, Imperious Bloodlord",
           "[+1]: Target creature you control gains deathtouch and lifelink until end of turn. If it's a Vampire, put a +1/+1 counter on it.\n[+1]: You may sacrifice a Vampire. When you do, CARDNAME deals 3 damage to any target and you gain 3 life.\n[−3]: You may put a Vampire creature card from your hand onto the battlefield."
          ],
          [
           "Vial of Dragonfire",
           "{2}, {T}, Sacrifice CARDNAME: It deals 2 damage to target creature."
          ],
          [
           "Zephyr Charge",
           "{1}{U}: Target creature gains flying until end of turn."
          ],
          [
           "Vampire of the Dire Moon",
           "DEATHTOUCH\nLifelink (Damage dealt by this creature also causes you to gain that much life.)"
          ],
          [
           "Gravewaker",
           "FLYING\n{5}{B}{B}: Return target creature card from your graveyard to the battlefield tapped."
          ],
          [
           "Sleep Paralysis",
           "Enchant creature\nETB_EFFECT, tap enchanted creature.\nEnchanted creature doesn't untap during its controller's untap step."
          ],
          [
           "Drawn from Dreams",
           "Look at the top seven cards of your library. Put two of them into your hand and the rest on the bottom of your library in a random order."
          ],
          [
           "Heart-Piercer Bow",
           "Whenever equipped creature attacks, CARDNAME deals 1 damage to target creature defending player controls.\nEquip {1} ({1}: Attach to target creature you control. Equip only as a sorcery.)"
          ],
          [
           "Tale's End",
           "Counter target activated ability, triggered ability, or legendary spell."
          ],
          [
           "Blood for Bones",
           "As an additional cost to cast this spell, sacrifice a creature.\nReturn a creature card from your graveyard to the battlefield, then return another creature card from your graveyard to your hand."
          ],
          [
           "Unholy Indenture",
           "Enchant creature\nWhen enchanted creature dies, return that card to the battlefield under your control with a +1/+1 counter on it."
          ],
          [
           "Bladebrand",
           "Target creature gains deathtouch until end of turn. (Any amount of damage it deals to a creature is enough to destroy it.)\nDraw a card."
          ],
          [
           "Mind Rot",
           "Target player discards two cards."
          ],
          [
           "Thought Distortion",
           "This spell can't be countered.\nTarget opponent reveals their hand. Exile all noncreature, nonland cards from that player's hand and graveyard."
          ],
          [
           "Field of the Dead",
           "ENTER_TAPPED\n{T}: Add {C}.\nWhenever CARDNAME or another land enters the battlefield under your control, if you control seven or more lands with different names, create a 2/2 black Zombie creature token."
          ],
          [
           "Grafdigger's Cage",
           "Creature cards in graveyards and libraries can't enter the battlefield.\nPlayers can't cast spells from graveyards or libraries."
          ],
          [
           "Leyline of Sanctity",
           "If CARDNAME is in your opening hand, you may begin the game with it on the battlefield.\nYou have hexproof. (You can't be the target of spells or abilities your opponents control.)"
          ],
          [
           "Mu Yanling, Celestial Wind",
           "[+1]: Until your next turn, up to one target creature gets -5/-0.\n[−3]: Return up to two target creatures to their owners' hands.\n[−7]: Creatures you control with flying get +5/+5 until end of turn."
          ],
          [
           "Gods Willing",
           "Target creature you control gains protection from the color of your choice until end of turn. (It can't be blocked, targeted, dealt damage, enchanted, or equipped by anything of that color.)\nScry 1. (Look at the top card of your library. You may put that card on the bottom of your library.)"
          ],
          [
           "Shivan Dragon",
           "FLYING\n{R}: CARDNAME gets +1/+0 until end of turn."
          ],
          [
           "Griffin Protector",
           "FLYING\nWhenever another creature enters the battlefield under your control, CARDNAME gets +1/+1 until end of turn."
          ],
          [
           "Goblin Bird-Grabber",
           "{R}: CARDNAME gains flying until end of turn. Activate this ability only if you control a creature with flying."
          ],
          [
           "Pack Mastiff",
           "{1}{R}: Each creature you control named CARDNAME gets +1/+0 until end of turn."
          ],
          [
           "Overcome",
           "Creatures you control get +2/+2 and gain trample until end of turn. (They can deal excess combat damage to the player or planeswalker they're attacking.)"
          ],
          [
           "Ethereal Elk",
           "TRAMPLE\nETB_EFFECT, you may search your library and/or graveyard for a card named Vivien, Nature's Avenger, reveal it, and put it into your hand. If you search your library this way, shuffle it."
          ],
          [
           "Trusted Pegasus",
           "FLYING\nWhenever CARDNAME attacks, target attacking creature without flying gains flying until end of turn."
          ],
          [
           "Dragon Mage",
           "FLYING\nWhenever CARDNAME deals combat damage to a player, each player discards their hand, then draws seven cards."
          ],
          [
           "Repeated Reverberation",
           "When you next cast an instant spell, cast a sorcery spell, or activate a loyalty ability this turn, copy that spell or ability twice. You may choose new targets for the copies."
          ],
          [
           "Rabid Bite",
           "Target creature you control deals damage equal to its power to target creature you don't control."
          ],
          [
           "Waterkin Shaman",
           "Whenever a creature with flying enters the battlefield under your control, CARDNAME gets +1/+1 until end of turn."
          ],
          [
           "Bristling Boar",
           "CARDNAME can't be blocked by more than one creature."
          ],
          [
           "Air Elemental",
           "FLYING"
          ],
          [
           "Fathom Fleet Cutthroat",
           "ETB_EFFECT, destroy target creature an opponent controls that was dealt damage this turn."
          ],
          [
           "Immortal Phoenix",
           "FLYING\nWhen CARDNAME dies, return it to its owner's hand."
          ],
          [
           "Anticipate",
           "Look at the top three cards of your library. Put one of them into your hand and the rest on the bottom of your library in any order."
          ],
          [
           "Dungeon Geists",
           "FLYING\nETB_EFFECT, tap target creature an opponent controls. That creature doesn't untap during its controller's untap step for as long as you control CARDNAME."
          ],
          [
           "Wakeroot Elemental",
           "{G}{G}{G}{G}{G}: Untap target land you control. It becomes a 5/5 Elemental creature with haste. It's still a land. (This effect lasts as long as that land remains on the battlefield.)"
          ],
          [
           "Jungle Hollow",
           "ENTER_TAPPED\nETB_EFFECT, you gain 1 life.\n{T}: Add {B} or {G}."
          ],
          [
           "Dread Presence",
           "Whenever a Swamp enters the battlefield under your control, choose one —\n• You draw a card and you lose 1 life.\n• CARDNAME deals 2 damage to any target and you gain 2 life."
          ],
          [
           "Shared Summons",
           "Search your library for up to two creature cards with different names, reveal them, put them into your hand, then shuffle your library."
          ],
          [
           "Goldmane Griffin",
           "FLYING, vigilance\nETB_EFFECT, you may search your library and/or graveyard for a card named Ajani, Inspiring Leader, reveal it, and put it into your hand. If you search your library this way, shuffle it."
          ],
          [
           "Glaring Aegis",
           "Enchant creature\nETB_EFFECT, tap target creature an opponent controls.\nEnchanted creature gets +1/+3."
          ],
          [
           "Vivien, Arkbow Ranger",
           "[+1]: Distribute two +1/+1 counters among up to two target creatures. They gain trample until end of turn.\n[−3]: Target creature you control deals damage equal to its power to target creature or planeswalker.\n[−5]: You may choose a creature card you own from outside the game, reveal it, and put it into your hand."
          ],
          [
           "Titanic Growth",
           "Target creature gets +4/+4 until end of turn."
          ],
          [
           "Act of Treason",
           "Gain control of target creature until end of turn. Untap that creature. It gains haste until end of turn. (It can attack and {T} this turn.)"
          ],
          [
           "Captivating Gyre",
           "Return up to three target creatures to their owners' hands."
          ],
          [
           "Battalion Foot Soldier",
           "ETB_EFFECT, you may search your library for any number of cards named CARDNAME, reveal them, put them into your hand, then shuffle your library."
          ],
          [
           "Elvish Reclaimer",
           "CARDNAME gets +2/+2 as long as there are three or more land cards in your graveyard.\n{2}, {T}, Sacrifice a land: Search your library for a land card, put it onto the battlefield tapped, then shuffle your library."
          ],
          [
           "Woodland Champion",
           "Whenever one or more tokens enter the battlefield under your control, put that many +1/+1 counters on CARDNAME."
          ],
          [
           "Rubblebelt Recluse",
           "CARDNAME attacks each combat if able."
          ],
          [
           "Netcaster Spider",
           "REACH\nWhenever CARDNAME blocks a creature with flying, CARDNAME gets +2/+0 until end of turn."
          ],
          [
           "Wolfkin Bond",
           "Enchant creature\nETB_EFFECT, create a 2/2 green Wolf creature token.\nEnchanted creature gets +2/+2."
          ],
          [
           "Hanged Executioner",
           "FLYING\nETB_EFFECT, create a 1/1 white Spirit creature token with flying.\n{3}{W}, Exile CARDNAME: Exile target creature."
          ],
          [
           "Loyal Pegasus",
           "FLYING\nCARDNAME can't attack or block alone."
          ],
          [
           "Chandra's Spitfire",
           "FLYING\nWhenever an opponent is dealt noncombat damage, CARDNAME gets +3/+0 until end of turn."
          ],
          [
           "Reckless Air Strike",
           "Choose one —\n• CARDNAME deals 3 damage to target creature with flying.\n• Destroy target artifact."
          ],
          [
           "Riddlemaster Sphinx",
           "FLYING\nETB_EFFECT, you may return target creature an opponent controls to its owner's hand."
          ],
          [
           "Legion's End",
           "Exile target creature an opponent controls with converted mana cost 2 or less and all other creatures that player controls with the same name as that creature. Then that player reveals their hand and exiles all cards with that name from their hand and graveyard."
          ],
          [
           "Scampering Scorcher",
           "ETB_EFFECT, create two 1/1 red Elemental creature tokens. Elementals you control gain haste until end of turn. (They can attack and {T} this turn.)"
          ],
          [
           "Moat Piranhas",
           "DEFENDER"
          ],
          [
           "Growth Cycle",
           "Target creature gets +3/+3 until end of turn. It gets an additional +2/+2 until end of turn for each card named CARDNAME in your graveyard."
          ],
          [
           "Bloodthirsty Aerialist",
           "FLYING\nWhenever you gain life, put a +1/+1 counter on CARDNAME."
          ],
          [
           "Cavalier of Night",
           "Lifelink\nETB_EFFECT, you may sacrifice another creature. When you do, destroy target creature an opponent controls.\nWhen CARDNAME dies, return target creature card with converted mana cost 3 or less from your graveyard to the battlefield."
          ],
          [
           "Golos, Tireless Pilgrim",
           "ETB_EFFECT, you may search your library for a land card, put that card onto the battlefield tapped, then shuffle your library.\n{2}{W}{U}{B}{R}{G}: Exile the top three cards of your library. You may play them this turn without paying their mana costs."
          ],
          [
           "Skeleton Archer",
           "ETB_EFFECT, it deals 1 damage to any target."
          ],
          [
           "Frilled Sandwalla",
           "{1}{G}: CARDNAME gets +2/+2 until end of turn. Activate this ability only once each turn."
          ],
          [
           "Winged Words",
           "This spell costs {1} less to cast if you control a creature with flying.\nDraw two cards."
          ],
          [
           "Gnarlback Rhino",
           "TRAMPLE\nWhenever you cast a spell that targets CARDNAME, draw a card."
          ],
          [
           "Agent of Treachery",
           "ETB_EFFECT, gain control of target permanent.\nAt the beginning of your end step, if you control three or more permanents you don't own, draw three cards."
          ],
          [
           "Diviner's Lockbox",
           "{1}, {T}: Choose a card name, then reveal the top card of your library. If that card has the chosen name, sacrifice CARDNAME and draw three cards. Activate this ability only any time you could cast a sorcery."
          ],
          [
           "Prismite",
           "{2}: Add one mana of any color."
          ],
          [
           "Masterful Replication",
           "Choose one —\n• Create two 3/3 colorless Golem artifact creature tokens.\n• Choose target artifact you control. Each other artifact you control becomes a copy of that artifact until end of turn."
          ],
          [
           "Sage's Row Denizen",
           "Whenever another blue creature enters the battlefield under your control, target player puts the top two cards of their library into their graveyard."
          ],
          [
           "Blightbeetle",
           "PROTECTION_FROM_GREEN\nCreatures your opponents control can't have +1/+1 counters put on them."
          ],
          [
           "Chandra's Embercat",
           "{T}: Add {R}. Spend this mana only to cast an Elemental spell or a Chandra planeswalker spell."
          ],
          [
           "Ripscale Predator",
           "Menace (This creature can't be blocked except by two or more creatures.)"
          ],
          [
           "Season of Growth",
           "Whenever a creature enters the battlefield under your control, scry 1. (Look at the top card of your library. You may put that card on the bottom of your library.)\nWhenever you cast a spell that targets a creature you control, draw a card."
          ],
          [
           "Wind-Scarred Crag",
           "ENTER_TAPPED\nETB_EFFECT, you gain 1 life.\n{T}: Add {R} or {W}."
          ],
          [
           "Lavakin Brawler",
           "Whenever CARDNAME attacks, it gets +1/+0 until end of turn for each Elemental you control."
          ],
          [
           "Unchained Berserker",
           "PROTECTION_FROM_WHITE\nCARDNAME gets +2/+0 as long as it's attacking."
          ],
          [
           "Creeping Trailblazer",
           "Other Elementals you control get +1/+0.\n{2}{R}{G}: CARDNAME gets +1/+1 until end of turn for each Elemental you control."
          ],
          [
           "Anvilwrought Raptor",
           "FLYING\nFirst strike (This creature deals combat damage before creatures without first strike.)"
          ],
          [
           "Fencing Ace",
           "DOUBLE_STRIKE"
          ],
          [
           "Scoured Barrens",
           "ENTER_TAPPED\nETB_EFFECT, you gain 1 life.\n{T}: Add {W} or {B}."
          ],
          [
           "Rule of Law",
           "Each player can't cast more than one spell each turn."
          ],
          [
           "Cavalier of Gales",
           "FLYING\nETB_EFFECT, draw three cards, then put two cards from your hand on top of your library in any order.\nWhen CARDNAME dies, shuffle it into its owner's library, then scry 2."
          ],
          [
           "Inspired Charge",
           "Creatures you control get +2/+1 until end of turn."
          ],
          [
           "Take Vengeance",
           "Destroy target tapped creature."
          ],
          [
           "Volcanic Dragon",
           "FLYING\nHASTE"
          ],
          [
           "Brought Back",
           "Choose up to two target permanent cards in your graveyard that were put there from the battlefield this turn. Return them to the battlefield tapped."
          ],
          [
           "Scorch Spitter",
           "Whenever CARDNAME attacks, it deals 1 damage to the player or planeswalker it's attacking."
          ],
          [
           "Ironroot Warlord",
           "CARDNAME's power is equal to the number of creatures you control.\n{3}{G}{W}: Create a 1/1 white Soldier creature token."
          ],
          [
           "Steel Overseer",
           "{T}: Put a +1/+1 counter on each artifact creature you control."
          ],
          [
           "Duress",
           "Target opponent reveals their hand. You choose a noncreature, nonland card from it. That player discards that card."
          ],
          [
           "Skyknight Vanguard",
           "FLYING\nWhenever CARDNAME attacks, create a 1/1 white Soldier creature token that's tapped and attacking."
          ],
          [
           "Loxodon Lifechanter",
           "ETB_EFFECT, you may have your life total become the total toughness of creatures you control.\n{5}{W}: CARDNAME gets +X/+X until end of turn, where X is your life total."
          ],
          [
           "Frilled Sea Serpent",
           "{5}{U}{U}: CARDNAME can't be blocked this turn."
          ],
          [
           "Reduce to Ashes",
           "CARDNAME deals 5 damage to target creature. If that creature would die this turn, exile it instead."
          ],
          [
           "Gravedigger",
           "ETB_EFFECT, you may return target creature card from your graveyard to your hand."
          ],
          [
           "Squad Captain",
           "VIGILANCE\nCARDNAME enters the battlefield with a +1/+1 counter on it for each other creature you control."
          ],
          [
           "Steadfast Sentry",
           "VIGILANCE\nWhen CARDNAME dies, put a +1/+1 counter on target creature you control."
          ],
          [
           "Yarok's Wavecrasher",
           "ETB_EFFECT, return another creature you control to its owner's hand."
          ],
          [
           "Vengeful Warchief",
           "Whenever you lose life for the first time each turn, put a +1/+1 counter on CARDNAME. (Damage causes loss of life.)"
          ],
          [
           "Angel of Vitality",
           "FLYING\nIf you would gain life, you gain that much life plus 1 instead.\nCARDNAME gets +2/+2 as long as you have 25 or more life."
          ],
          [
           "Goblin Ringleader",
           "HASTE\nETB_EFFECT, reveal the top four cards of your library. Put all Goblin cards revealed this way into your hand and the rest on the bottom of your library in any order."
          ],
          [
           "Disentomb",
           "Return target creature card from your graveyard to your hand."
          ],
          [
           "Dismal Backwater",
           "ENTER_TAPPED\nETB_EFFECT, you gain 1 life.\n{T}: Add {U} or {B}."
          ],
          [
           "Twinblade Paladin",
           "Whenever you gain life, put a +1/+1 counter on CARDNAME.\nAs long as you have 25 or more life, CARDNAME has double strike. (It deals both first-strike and regular combat damage.)"
          ],
          [
           "Bag of Holding",
           "Whenever you discard a card, exile that card from your graveyard.\n{2}, {T}: Draw a card, then discard a card.\n{4}, {T}, Sacrifice CARDNAME: Return all cards exiled with CARDNAME to their owner's hand."
          ],
          [
           "Temple of Epiphany",
           "ENTER_TAPPED\nETB_EFFECT, scry 1.\n{T}: Add {U} or {R}."
          ],
          [
           "Marauding Raptor",
           "Creature spells you cast cost {1} less to cast.\nWhenever another creature enters the battlefield under your control, CARDNAME deals 2 damage to it. If a Dinosaur is dealt damage this way, CARDNAME gets +2/+0 until end of turn."
          ],
          [
           "Swamp",
           "({T}: Add {B}.)"
          ],
          [
           "Forest",
           "({T}: Add {G}.)"
          ],
          [
           "Scheming Symmetry",
           "Choose two target players. Each of them searches their library for a card, then shuffles their library and puts that card on top of it."
          ],
          [
           "Moment of Heroism",
           "Target creature gets +2/+2 and gains lifelink until end of turn. (Damage dealt by the creature also causes its controller to gain that much life.)"
          ],
          [
           "Thornwood Falls",
           "ENTER_TAPPED\nETB_EFFECT, you gain 1 life.\n{T}: Add {G} or {U}."
          ],
          [
           "Thrashing Brontodon",
           "{1}, Sacrifice CARDNAME: Destroy target artifact or enchantment."
          ],
          [
           "Yarok, the Desecrated",
           "DEATHTOUCH, lifelink\nIf a permanent entering the battlefield causes a triggered ability of a permanent you control to trigger, that ability triggers an additional time."
          ],
          [
           "Inspiring Captain",
           "ETB_EFFECT, creatures you control get +1/+1 until end of turn."
          ],
          [
           "Silverback Shaman",
           "TRAMPLE\nWhen CARDNAME dies, draw a card."
          ],
          [
           "Colossus Hammer",
           "Equipped creature gets +10/+10 and loses flying.\nEquip {8} ({8}: Attach to target creature you control. Equip only as a sorcery.)"
          ],
          [
           "Befuddle",
           "Target creature gets -4/-0 until end of turn.\nDraw a card."
          ],
          [
           "Epicure of Blood",
           "Whenever you gain life, each opponent loses 1 life."
          ],
          [
           "Boreal Elemental",
           "FLYING\nSpells your opponents cast that target CARDNAME cost {2} more to cast."
          ],
          [
           "Undead Servant",
           "ETB_EFFECT, create a 2/2 black Zombie creature token for each card named CARDNAME in your graveyard."
          ],
          [
           "Temple of Triumph",
           "ENTER_TAPPED\nETB_EFFECT, scry 1.\n{T}: Add {R} or {W}."
          ],
          [
           "Apostle of Purifying Light",
           "PROTECTION_FROM_BLACK\n{2}: Exile target card from a graveyard."
          ],
          [
           "Leyline of the Void",
           "If CARDNAME is in your opening hand, you may begin the game with it on the battlefield.\nIf a card would be put into an opponent's graveyard from anywhere, exile it instead."
          ],
          [
           "Noxious Grasp",
           "Destroy target creature or planeswalker that's green or white. You gain 1 life."
          ],
          [
           "Pulse of Murasa",
           "Return target creature or land card from a graveyard to its owner's hand. You gain 6 life."
          ],
          [
           "Swiftwater Cliffs",
           "ENTER_TAPPED\nETB_EFFECT, you gain 1 life.\n{T}: Add {U} or {R}."
          ],
          [
           "Starfield Mystic",
           "Enchantment spells you cast cost {1} less to cast.\nWhenever an enchantment you control is put into a graveyard from the battlefield, put a +1/+1 counter on CARDNAME."
          ],
          [
           "Chandra, Novice Pyromancer",
           "[+1]: Elementals you control get +2/+0 until end of turn.\n[−1]: Add {R}{R}.\n[−2]: CARDNAME deals 2 damage to any target."
          ],
          [
           "Herald of the Sun",
           "FLYING\n{3}{W}: Put a +1/+1 counter on another target creature with flying."
          ],
          [
           "Devout Decree",
           "Exile target creature or planeswalker that's black or red. Scry 1. (Look at the top card of your library. You may put that card on the bottom of your library.)"
          ],
          [
           "Lotus Field",
           "Hexproof\nENTER_TAPPED\nETB_EFFECT, sacrifice two lands.\n{T}: Add three mana of any one color."
          ],
          [
           "Chandra's Outrage",
           "CARDNAME deals 4 damage to target creature and 2 damage to that creature's controller."
          ],
          [
           "Flame Sweep",
           "CARDNAME deals 2 damage to each creature except for creatures you control with flying."
          ],
          [
           "Keldon Raider",
           "ETB_EFFECT, you may discard a card. If you do, draw a card."
          ],
          [
           "Rugged Highlands",
           "ENTER_TAPPED\nETB_EFFECT, you gain 1 life.\n{T}: Add {R} or {G}."
          ],
          [
           "Serra's Guardian",
           "FLYING\nVIGILANCE\nOther creatures you control have vigilance."
          ],
          [
           "Feral Invocation",
           "FLASH\nEnchant creature\nEnchanted creature gets +2/+2."
          ],
          [
           "Temple of Mystery",
           "ENTER_TAPPED\nETB_EFFECT, scry 1.\n{T}: Add {G} or {U}."
          ],
          [
           "Vivien's Crocodile",
           "CARDNAME gets +1/+1 as long as you control a Vivien planeswalker."
          ],
          [
           "Leafkin Druid",
           "{T}: Add {G}. If you control four or more creatures, add {G}{G} instead."
          ],
          [
           "Temple of Malady",
           "ENTER_TAPPED\nETB_EFFECT, scry 1.\n{T}: Add {B} or {G}."
          ],
          [
           "Uncaged Fury",
           "Target creature gets +1/+1 and gains double strike until end of turn. (It deals both first-strike and regular combat damage.)"
          ],
          [
           "Moorland Inquisitor",
           "{2}{W}: CARDNAME gains first strike until end of turn. (It deals combat damage before creatures without first strike.)"
          ],
          [
           "Warden of Evos Isle",
           "FLYING\nCreature spells with flying you cast cost {1} less to cast."
          ],
          [
           "Plains",
           "({T}: Add {W}.)"
          ],
          [
           "Rienne, Angel of Rebirth",
           "FLYING\nOther multicolored creatures you control get +1/+0.\nWhenever another multicolored creature you control dies, return it to its owner's hand at the beginning of the next end step."
          ],
          [
           "Faerie Miscreant",
           "FLYING\nETB_EFFECT, if you control another creature named CARDNAME, draw a card."
          ],
          [
           "Rapacious Dragon",
           "FLYING\nETB_EFFECT, create two Treasure tokens. (They're artifacts with \"{T}, Sacrifice this artifact: Add one mana of any color.\")"
          ],
          [
           "Tranquil Cove",
           "ENTER_TAPPED\nETB_EFFECT, you gain 1 life.\n{T}: Add {W} or {U}."
          ],
          [
           "Bone to Ash",
           "Counter target creature spell.\nDraw a card."
          ],
          [
           "Nightpack Ambusher",
           "FLASH\nOther Wolves and Werewolves you control get +1/+1.\nAt the beginning of your end step, if you didn't cast a spell this turn, create a 2/2 green Wolf creature token."
          ],
          [
           "Oakenform",
           "Enchant creature\nEnchanted creature gets +3/+3."
          ],
          [
           "Mammoth Spider",
           "REACH"
          ],
          [
           "Impassioned Orator",
           "Whenever another creature enters the battlefield under your control, you gain 1 life."
          ],
          [
           "Hard Cover",
           "Enchant creature\nEnchanted creature gets +0/+2 and has \"{T}: Draw a card, then discard a card.\""
          ],
          [
           "Spectral Sailor",
           "FLASH\nFLYING\n{3}{U}: Draw a card."
          ],
          [
           "Infuriate",
           "Target creature gets +3/+2 until end of turn."
          ],
          [
           "Brineborn Cutthroat",
           "FLASH\nWhenever you cast a spell during an opponent's turn, put a +1/+1 counter on CARDNAME."
          ],
          [
           "Moldervine Reclamation",
           "Whenever a creature you control dies, you gain 1 life and draw a card."
          ],
          [
           "Lightning Stormkin",
           "FLYING\nHASTE"
          ],
          [
           "Savage Gorger",
           "FLYING\nAt the beginning of your end step, if an opponent lost life this turn, put a +1/+1 counter on CARDNAME. (Damage causes loss of life.)"
          ],
          [
           "Destructive Digger",
           "{3}, {T}, Sacrifice an artifact or land: Draw a card."
          ],
          [
           "Blood Burglar",
           "As long as it's your turn, CARDNAME has lifelink. (Damage dealt by this creature also causes you to gain that much life.)"
          ],
          [
           "Retributive Wand",
           "{3}, {T}: CARDNAME deals 1 damage to any target.\nWhen CARDNAME is put into a graveyard from the battlefield, it deals 5 damage to any target."
          ],
          [
           "Audacious Thief",
           "Whenever CARDNAME attacks, you draw a card and you lose 1 life."
          ],
          [
           "Pyroclastic Elemental",
           "{1}{R}{R}: CARDNAME deals 1 damage to target player."
          ],
          [
           "Goblin Smuggler",
           "HASTE\n{T}: Another target creature with power 2 or less can't be blocked this turn."
          ],
          [
           "Healer of the Glade",
           "ETB_EFFECT, you gain 3 life."
          ],
          [
           "Manifold Key",
           "{1}, {T}: Untap another target artifact.\n{3}, {T}: Target creature can't be blocked this turn."
          ],
          [
           "Temple of Silence",
           "ENTER_TAPPED\nETB_EFFECT, scry 1.\n{T}: Add {W} or {B}."
          ],
          [
           "Sorcerer of the Fang",
           "{5}{B}, {T}: CARDNAME deals 2 damage to target opponent or planeswalker."
          ],
          [
           "Bloodfell Caves",
           "ENTER_TAPPED\nETB_EFFECT, you gain 1 life.\n{T}: Add {B} or {R}."
          ],
          [
           "Planar Cleansing",
           "Destroy all nonland permanents."
          ],
          [
           "Shock",
           "CARDNAME deals 2 damage to any target."
          ],
          [
           "Bishop of Wings",
           "Whenever an Angel enters the battlefield under your control, you gain 4 life.\nWhenever an Angel you control dies, create a 1/1 white Spirit creature token with flying."
          ],
          [
           "Boneclad Necromancer",
           "ETB_EFFECT, you may exile target creature card from a graveyard. If you do, create a 2/2 black Zombie creature token."
          ],
          [
           "Disfigure",
           "Target creature gets -2/-2 until end of turn."
          ],
          [
           "Metropolis Sprite",
           "FLYING\n{U}: CARDNAME gets +1/-1 until end of turn."
          ],
          [
           "Master Splicer",
           "ETB_EFFECT, create a 3/3 colorless Golem artifact creature token.\nGolems you control get +1/+1."
          ],
          [
           "Negate",
           "Counter target noncreature spell."
          ],
          [
           "Tectonic Rift",
           "Destroy target land. Creatures without flying can't block this turn."
          ],
          [
           "Vampire Opportunist",
           "{6}{B}: Each opponent loses 2 life and you gain 2 life."
          ],
          [
           "Marauder's Axe",
           "Equipped creature gets +2/+0.\nEquip {2} ({2}: Attach to target creature you control. Equip only as a sorcery.)"
          ],
          [
           "Bone Splinters",
           "As an additional cost to cast this spell, sacrifice a creature.\nDestroy target creature."
          ],
          [
           "Sanitarium Skeleton",
           "{2}{B}: Return CARDNAME from your graveyard to your hand."
          ],
          [
           "Aether Gust",
           "Choose target spell or permanent that's red or green. Its owner puts it on the top or bottom of their library."
          ],
          [
           "Daggersail Aeronaut",
           "As long as it's your turn, CARDNAME has flying."
          ],
          [
           "Agonizing Syphon",
           "CARDNAME deals 3 damage to any target and you gain 3 life."
          ],
          [
           "Rotting Regisaur",
           "At the beginning of your upkeep, discard a card."
          ],
          [
           "Disenchant",
           "Destroy target artifact or enchantment."
          ],
          [
           "Might of the Masses",
           "Target creature gets +1/+1 until end of turn for each creature you control."
          ],
          [
           "Griffin Sentinel",
           "FLYING\nVIGILANCE"
          ],
          [
           "Aerial Assault",
           "Destroy target tapped creature. You gain 1 life for each creature you control with flying."
          ],
          [
           "Maniacal Rage",
           "Enchant creature\nEnchanted creature gets +2/+2 and can't block."
          ],
          [
           "Snapping Drake",
           "FLYING"
          ],
          [
           "Greenwood Sentinel",
           "VIGILANCE"
          ],
          [
           "Corpse Knight",
           "Whenever another creature enters the battlefield under your control, each opponent loses 1 life."
          ],
          [
           "Murder",
           "Destroy target creature."
          ],
          [
           "Yarok's Fenlurker",
           "ETB_EFFECT, each opponent exiles a card from their hand.\n{2}{B}: CARDNAME gets +1/+1 until end of turn."
          ],
          [
           "Ogre Siegebreaker",
           "{2}{B}{R}: Destroy target creature that was dealt damage this turn."
          ],
          [
           "Haazda Officer",
           "ETB_EFFECT, target creature you control gets +1/+1 until end of turn."
          ],
          [
           "Sorin's Thirst",
           "CARDNAME deals 2 damage to target creature and you gain 2 life."
          ],
          [
           "Scuttlemutt",
           "{T}: Add one mana of any color.\n{T}: Target creature becomes the color or colors of your choice until end of turn."
          ],
          [
           "Bartizan Bats",
           "FLYING"
          ],
          [
           "Prized Unicorn",
           "All creatures able to block CARDNAME do so."
          ],
          [
           "Daybreak Chaplain",
           "Lifelink (Damage dealt by this creature also causes you to gain that much life.)"
          ],
          [
           "Canopy Spider",
           "REACH"
          ],
          [
           "Savannah Sage",
           "ETB_EFFECT, you gain 2 life."
          ],
          [
           "Howling Giant",
           "REACH\nETB_EFFECT, create two 2/2 green Wolf creature tokens."
          ],
          [
           "Woodland Mystic",
           "{T}: Add {G}."
          ],
          [
           "Ferocious Pup",
           "ETB_EFFECT, create a 2/2 green Wolf creature token."
          ],
          [
           "Natural End",
           "Destroy target artifact or enchantment. You gain 3 life."
          ],
          [
           "Engulfing Eruption",
           "CARDNAME deals 5 damage to target creature."
          ],
          [
           "Convolute",
           "Counter target spell unless its controller pays {4}."
          ],
          [
           "Feral Abomination",
           "DEATHTOUCH"
          ],
          [
           "Dawning Angel",
           "FLYING\nETB_EFFECT, you gain 4 life."
          ],
          [
           "Raise the Alarm",
           "Create two 1/1 white Soldier creature tokens."
          ],
          [
           "Dark Remedy",
           "Target creature gets +1/+3 until end of turn."
          ],
          [
           "Soul Salvage",
           "Return up to two target creature cards from your graveyard to your hand."
          ],
          [
           "Pacifism",
           "Enchant creature\nEnchanted creature can't attack or block."
          ],
          [
           "Nimble Birdsticker",
           "REACH"
          ],
          [
           "Concordia Pegasus",
           "FLYING"
          ],
          [
           "Phantom Warrior",
           "CARDNAME can't be blocked."
          ],
          [
           "Sedge Scorpion",
           "DEATHTOUCH"
          ],
          [
           "Show of Valor",
           "Target creature gets +2/+4 until end of turn."
          ],
          [
           "Empyrean Eagle",
           "FLYING\nOther creatures you control with flying get +1/+1."
          ],
          [
           "Unsummon",
           "Return target creature to its owner's hand."
          ],
          [
           "Mountain",
           "({T}: Add {R}.)"
          ],
          [
           "Angelic Gift",
           "Enchant creature\nETB_EFFECT, draw a card.\nEnchanted creature has flying."
          ],
          [
           "Soulmender",
           "{T}: You gain 1 life."
          ],
          [
           "Island",
           "({T}: Add {U}.)"
          ],
          [
           "Hostile Minotaur",
           "HASTE"
          ]
         ],
         "hovertemplate": "x=%{x}<br>y=%{y}<br>name=%{customdata[0]}<br>text=%{customdata[1]}<extra></extra>",
         "legendgroup": "",
         "marker": {
          "color": "#636efa",
          "symbol": "circle"
         },
         "mode": "markers",
         "name": "",
         "showlegend": false,
         "type": "scatter",
         "x": [
          "5.2924757",
          "4.995775",
          "3.3935332",
          "4.21971",
          "2.9438045",
          "7.138548",
          "5.8923664",
          "7.0815296",
          "3.7288997",
          "3.8320186",
          "2.918658",
          "0.5327107",
          "3.501515",
          "5.1305504",
          "2.3995993",
          "3.996649",
          "3.709413",
          "6.2740793",
          "3.9895902",
          "2.961242",
          "7.0990553",
          "4.8387733",
          "3.7676299",
          "5.527703",
          "2.988848",
          "0.4330233",
          "3.6779547",
          "1.8215157",
          "5.158506",
          "8.232647",
          "0.3428019",
          "4.1760917",
          "2.8658395",
          "5.718011",
          "2.7574413",
          "3.8779166",
          "3.8737743",
          "3.7541451",
          "2.1796281",
          "1.5807818",
          "5.92165",
          "8.277984",
          "2.4401393",
          "2.9789941",
          "4.1157403",
          "4.393066",
          "5.510202",
          "4.0123463",
          "2.1321063",
          "4.51747",
          "3.5242522",
          "5.6079817",
          "2.0742135",
          "0.13191745",
          "0.86369455",
          "1.0530779",
          "4.1916323",
          "5.537451",
          "4.197289",
          "3.4565272",
          "3.1129718",
          "3.747899",
          "1.0166003",
          "8.221465",
          "1.2701727",
          "4.2004395",
          "4.4418473",
          "6.5905457",
          "2.9072158",
          "4.661193",
          "6.2061777",
          "1.7900091",
          "0.97953814",
          "3.1371293",
          "3.5718606",
          "5.7557364",
          "4.6207128",
          "6.204174",
          "0.07533651",
          "5.7456656",
          "2.751118",
          "2.246926",
          "7.0648956",
          "4.1418405",
          "5.4737954",
          "4.7458706",
          "6.2437043",
          "2.664011",
          "3.6725655",
          "3.6153133",
          "3.0942214",
          "0.6705054",
          "6.2841177",
          "0.6752763",
          "4.266702",
          "4.6615276",
          "4.7109838",
          "6.4495134",
          "0.07857479",
          "8.283421",
          "1.4331249",
          "1.7771956",
          "4.044228",
          "3.6481402",
          "4.6157446",
          "3.7767286",
          "1.9267216",
          "4.557024",
          "1.6639796",
          "2.3276002",
          "2.895336",
          "0.1622061",
          "2.5199485",
          "3.3167605",
          "4.0251546",
          "8.2632475",
          "2.7734904",
          "3.9071574",
          "6.222824",
          "0.024871208",
          "6.2003894",
          "4.0381365",
          "3.6536388",
          "3.0054986",
          "3.8837485",
          "4.3743534",
          "2.8079016",
          "4.285772",
          "3.3646526",
          "1.2658031",
          "4.7886477",
          "4.9862785",
          "3.2433877",
          "0.25461355",
          "1.8725452",
          "5.7994347",
          "1.8858297",
          "5.4750423",
          "3.8627996",
          "4.383475",
          "2.4605558",
          "1.9537888",
          "4.0142975",
          "3.8189793",
          "3.951816",
          "2.1509979",
          "3.4690003",
          "2.7188785",
          "3.4501765",
          "3.132965",
          "0.13184056",
          "0.6090143",
          "2.3492315",
          "2.8061259",
          "0.8775711",
          "2.515659",
          "0.23996125",
          "1.8403457",
          "2.1237304",
          "4.0252614",
          "2.021902",
          "5.583974",
          "4.6465282",
          "1.7026938",
          "5.787886",
          "0.9461931",
          "3.3973591",
          "2.0456328",
          "4.0169435",
          "1.0824189",
          "5.278886",
          "4.951841",
          "5.410447",
          "5.4512362",
          "3.0724363",
          "3.5668292",
          "3.5561893",
          "1.7103703",
          "2.151848",
          "2.0396936",
          "5.8511896",
          "2.8478587",
          "1.878108",
          "4.5128694",
          "3.0195787",
          "2.5645368",
          "0.24872488",
          "0.3094889",
          "2.9815443",
          "0.1037295",
          "2.784314",
          "4.2102175",
          "-0.0015919592",
          "5.716781",
          "3.9073668",
          "7.0957885",
          "6.2675943",
          "2.0721498",
          "3.5902507",
          "4.23663",
          "2.404717",
          "4.702725",
          "1.12894",
          "5.1840143",
          "5.925053",
          "2.9284613",
          "1.3252321",
          "5.5411787",
          "3.634403",
          "0.62734634",
          "1.2181144",
          "3.4890406",
          "0.4978928",
          "3.8108852",
          "2.7076585",
          "3.2674475",
          "2.8368914",
          "2.8944733",
          "3.2659106",
          "2.3063154",
          "2.4206278",
          "6.146725",
          "0.30809984",
          "2.0567796",
          "0.38636693",
          "1.728129",
          "3.6803133",
          "0.848887",
          "2.1756456",
          "4.4249177",
          "2.8370748",
          "2.8291218",
          "1.985484",
          "2.310747",
          "3.0790007",
          "3.7684767",
          "6.1774178",
          "1.5142034",
          "2.9793365",
          "1.7347817",
          "1.5973234",
          "4.103765",
          "0.74673414",
          "4.556841",
          "3.0719104",
          "4.24107",
          "1.6917102",
          "5.6049814",
          "4.135823",
          "2.1710007",
          "5.1332803",
          "2.7624543",
          "4.1114173",
          "4.5794153",
          "2.3602362",
          "5.0661755",
          "6.1874814",
          "4.701207",
          "3.5174634",
          "4.372262",
          "4.323414",
          "2.9092066",
          "7.104686",
          "5.036915",
          "5.707318",
          "2.3221493",
          "0.8476687",
          "5.654652",
          "3.7921143",
          "4.6636796",
          "6.18281",
          "2.81268",
          "4.796611",
          "3.0844004",
          "1.8992697",
          "2.5869102",
          "2.5025856",
          "4.721586",
          "6.1993694",
          "4.614676",
          "6.008267",
          "3.3147492",
          "2.1901255",
          "2.0697565",
          "3.5875285",
          "0.16287623",
          "1.9864327",
          "2.8417482",
          "2.375973",
          "2.1446025",
          "3.6264887",
          "5.309959",
          "5.571464",
          "4.2758026",
          "1.8254099",
          "2.520436",
          "2.769547",
          "6.001748",
          "5.5589557",
          "3.1957088",
          "2.0812392",
          "1.941403",
          "3.9591024",
          "1.86769",
          "6.038287",
          "3.3738356",
          "6.069596",
          "0.5376186",
          "3.1502154",
          "2.2937267",
          "0.3612234",
          "1.8274479"
         ],
         "xaxis": "x",
         "y": [
          "2.7116091",
          "1.8271025",
          "4.1822352",
          "2.1602767",
          "3.8373077",
          "-4.2270026",
          "4.4077115",
          "-4.1721034",
          "2.5427616",
          "2.9686656",
          "2.6647503",
          "2.3102505",
          "6.1806436",
          "2.0855155",
          "3.5261445",
          "1.3781544",
          "1.1905602",
          "3.4736164",
          "3.0210056",
          "4.881201",
          "-4.190132",
          "4.414321",
          "2.1257536",
          "2.8017054",
          "4.800525",
          "3.1553955",
          "6.2630043",
          "5.2443504",
          "3.7558846",
          "7.0596585",
          "3.3755226",
          "5.34326",
          "0.77256304",
          "2.0526853",
          "3.673329",
          "4.5562615",
          "4.1010213",
          "4.616181",
          "6.031171",
          "2.536858",
          "4.5395265",
          "6.999938",
          "1.7197201",
          "4.321277",
          "2.8177211",
          "2.5201013",
          "5.8021054",
          "2.3357873",
          "1.0480046",
          "1.7330145",
          "1.0686842",
          "4.1615314",
          "3.4398935",
          "4.013707",
          "2.1352315",
          "5.3178835",
          "6.1010156",
          "2.9570642",
          "6.297665",
          "3.738656",
          "2.3899527",
          "3.8440297",
          "1.5200012",
          "7.0392604",
          "2.7425137",
          "3.0662084",
          "5.766951",
          "2.6329641",
          "5.1833982",
          "5.447794",
          "2.8543785",
          "2.064329",
          "2.56812",
          "4.2087874",
          "2.3768046",
          "5.643114",
          "1.8305842",
          "2.3046327",
          "3.9765718",
          "4.248819",
          "4.8076086",
          "5.9439178",
          "-4.158301",
          "5.518664",
          "4.727595",
          "5.275043",
          "2.9203057",
          "3.3157508",
          "5.442887",
          "1.2075044",
          "5.5647917",
          "2.2310145",
          "3.4099407",
          "1.5282196",
          "2.8169742",
          "2.9720018",
          "2.7331235",
          "2.475195",
          "4.1253147",
          "6.9846125",
          "5.2149954",
          "5.1944532",
          "5.3631907",
          "6.268005",
          "2.9987495",
          "3.1619792",
          "4.2675643",
          "6.1512184",
          "5.172832",
          "5.992032",
          "5.134497",
          "2.7305446",
          "0.62241405",
          "1.8030281",
          "3.6963441",
          "7.0001106",
          "5.0605664",
          "4.443597",
          "2.352865",
          "2.881173",
          "3.4997513",
          "3.6919355",
          "1.1061392",
          "5.997102",
          "4.8355737",
          "3.0814981",
          "4.913869",
          "4.107123",
          "5.796861",
          "2.6060424",
          "5.5831428",
          "4.3649178",
          "5.48371",
          "2.771094",
          "3.8490481",
          "2.7235973",
          "1.720775",
          "4.5421214",
          "5.811909",
          "2.0065434",
          "3.4331238",
          "4.9426403",
          "4.3306704",
          "6.4520016",
          "1.2977664",
          "2.831763",
          "4.002903",
          "3.104309",
          "4.5173974",
          "0.78344685",
          "3.233857",
          "1.5665854",
          "0.9046964",
          "3.8612788",
          "5.1343575",
          "3.6422613",
          "3.621168",
          "4.100817",
          "1.0513822",
          "5.495959",
          "5.878037",
          "2.2443175",
          "5.456754",
          "5.0049877",
          "4.870999",
          "5.140724",
          "3.659979",
          "2.880293",
          "5.854442",
          "5.2673044",
          "2.1630142",
          "3.1164563",
          "2.7376175",
          "4.386823",
          "4.0879173",
          "3.8144634",
          "3.754601",
          "2.0718017",
          "1.6926632",
          "5.901348",
          "4.256937",
          "0.7985138",
          "1.6095057",
          "3.4384234",
          "0.7623462",
          "2.1645992",
          "2.8205154",
          "2.678344",
          "5.887506",
          "3.9357443",
          "0.96269053",
          "1.5238478",
          "3.9541116",
          "2.1984382",
          "4.4272227",
          "-4.188693",
          "2.6981287",
          "1.7664938",
          "3.1813266",
          "3.5626729",
          "0.8937788",
          "3.7473328",
          "1.971386",
          "5.8014326",
          "4.14842",
          "0.82049924",
          "1.8335594",
          "2.122706",
          "5.0946684",
          "1.7111862",
          "3.2799788",
          "2.33321",
          "3.846359",
          "2.6729178",
          "0.82529956",
          "4.0990353",
          "4.568792",
          "0.97694886",
          "3.5506299",
          "3.0305486",
          "0.61464787",
          "2.4888964",
          "3.086325",
          "4.9641466",
          "2.9331498",
          "5.2509637",
          "3.5736709",
          "3.1375606",
          "1.3360215",
          "5.3604627",
          "4.6821985",
          "4.475894",
          "3.6850204",
          "1.865191",
          "4.6178455",
          "4.358409",
          "2.3224854",
          "1.8889879",
          "1.7372149",
          "4.9922075",
          "2.3138483",
          "4.6681547",
          "4.9588885",
          "1.9287126",
          "1.5780143",
          "2.6635287",
          "4.928699",
          "5.7150397",
          "6.003847",
          "0.78654045",
          "2.2968717",
          "0.71647894",
          "5.8388534",
          "2.2533314",
          "2.2165885",
          "4.251981",
          "2.5402777",
          "3.019112",
          "3.907837",
          "5.6370673",
          "5.939664",
          "2.3215237",
          "-4.1962776",
          "5.3160777",
          "4.087335",
          "0.610878",
          "5.0689025",
          "5.6820984",
          "2.986512",
          "5.8186126",
          "2.400326",
          "4.1064334",
          "5.342056",
          "5.436449",
          "4.307622",
          "4.1643",
          "2.0549083",
          "5.654256",
          "2.1762314",
          "5.9595222",
          "2.2369003",
          "2.339003",
          "3.0320907",
          "4.316283",
          "5.8080144",
          "3.9420233",
          "3.7044172",
          "2.392702",
          "5.808891",
          "3.2737298",
          "3.5088475",
          "5.780984",
          "2.7720075",
          "5.937312",
          "4.4258666",
          "2.4566875",
          "5.962432",
          "2.4227612",
          "4.2704577",
          "5.608286",
          "3.5911024",
          "4.267227",
          "3.120267",
          "4.358803",
          "2.1892781",
          "4.9338884",
          "3.8518355",
          "2.8539739",
          "4.5091558",
          "2.075811",
          "2.7134993",
          "3.910824"
         ],
         "yaxis": "y"
        }
       ],
       "layout": {
        "autosize": true,
        "legend": {
         "tracegroupgap": 0
        },
        "margin": {
         "t": 60
        },
        "template": {
         "data": {
          "bar": [
           {
            "error_x": {
             "color": "#2a3f5f"
            },
            "error_y": {
             "color": "#2a3f5f"
            },
            "marker": {
             "line": {
              "color": "#E5ECF6",
              "width": 0.5
             }
            },
            "type": "bar"
           }
          ],
          "barpolar": [
           {
            "marker": {
             "line": {
              "color": "#E5ECF6",
              "width": 0.5
             }
            },
            "type": "barpolar"
           }
          ],
          "carpet": [
           {
            "aaxis": {
             "endlinecolor": "#2a3f5f",
             "gridcolor": "white",
             "linecolor": "white",
             "minorgridcolor": "white",
             "startlinecolor": "#2a3f5f"
            },
            "baxis": {
             "endlinecolor": "#2a3f5f",
             "gridcolor": "white",
             "linecolor": "white",
             "minorgridcolor": "white",
             "startlinecolor": "#2a3f5f"
            },
            "type": "carpet"
           }
          ],
          "choropleth": [
           {
            "colorbar": {
             "outlinewidth": 0,
             "ticks": ""
            },
            "type": "choropleth"
           }
          ],
          "contour": [
           {
            "colorbar": {
             "outlinewidth": 0,
             "ticks": ""
            },
            "colorscale": [
             [
              0,
              "#0d0887"
             ],
             [
              0.1111111111111111,
              "#46039f"
             ],
             [
              0.2222222222222222,
              "#7201a8"
             ],
             [
              0.3333333333333333,
              "#9c179e"
             ],
             [
              0.4444444444444444,
              "#bd3786"
             ],
             [
              0.5555555555555556,
              "#d8576b"
             ],
             [
              0.6666666666666666,
              "#ed7953"
             ],
             [
              0.7777777777777778,
              "#fb9f3a"
             ],
             [
              0.8888888888888888,
              "#fdca26"
             ],
             [
              1,
              "#f0f921"
             ]
            ],
            "type": "contour"
           }
          ],
          "contourcarpet": [
           {
            "colorbar": {
             "outlinewidth": 0,
             "ticks": ""
            },
            "type": "contourcarpet"
           }
          ],
          "heatmap": [
           {
            "colorbar": {
             "outlinewidth": 0,
             "ticks": ""
            },
            "colorscale": [
             [
              0,
              "#0d0887"
             ],
             [
              0.1111111111111111,
              "#46039f"
             ],
             [
              0.2222222222222222,
              "#7201a8"
             ],
             [
              0.3333333333333333,
              "#9c179e"
             ],
             [
              0.4444444444444444,
              "#bd3786"
             ],
             [
              0.5555555555555556,
              "#d8576b"
             ],
             [
              0.6666666666666666,
              "#ed7953"
             ],
             [
              0.7777777777777778,
              "#fb9f3a"
             ],
             [
              0.8888888888888888,
              "#fdca26"
             ],
             [
              1,
              "#f0f921"
             ]
            ],
            "type": "heatmap"
           }
          ],
          "heatmapgl": [
           {
            "colorbar": {
             "outlinewidth": 0,
             "ticks": ""
            },
            "colorscale": [
             [
              0,
              "#0d0887"
             ],
             [
              0.1111111111111111,
              "#46039f"
             ],
             [
              0.2222222222222222,
              "#7201a8"
             ],
             [
              0.3333333333333333,
              "#9c179e"
             ],
             [
              0.4444444444444444,
              "#bd3786"
             ],
             [
              0.5555555555555556,
              "#d8576b"
             ],
             [
              0.6666666666666666,
              "#ed7953"
             ],
             [
              0.7777777777777778,
              "#fb9f3a"
             ],
             [
              0.8888888888888888,
              "#fdca26"
             ],
             [
              1,
              "#f0f921"
             ]
            ],
            "type": "heatmapgl"
           }
          ],
          "histogram": [
           {
            "marker": {
             "colorbar": {
              "outlinewidth": 0,
              "ticks": ""
             }
            },
            "type": "histogram"
           }
          ],
          "histogram2d": [
           {
            "colorbar": {
             "outlinewidth": 0,
             "ticks": ""
            },
            "colorscale": [
             [
              0,
              "#0d0887"
             ],
             [
              0.1111111111111111,
              "#46039f"
             ],
             [
              0.2222222222222222,
              "#7201a8"
             ],
             [
              0.3333333333333333,
              "#9c179e"
             ],
             [
              0.4444444444444444,
              "#bd3786"
             ],
             [
              0.5555555555555556,
              "#d8576b"
             ],
             [
              0.6666666666666666,
              "#ed7953"
             ],
             [
              0.7777777777777778,
              "#fb9f3a"
             ],
             [
              0.8888888888888888,
              "#fdca26"
             ],
             [
              1,
              "#f0f921"
             ]
            ],
            "type": "histogram2d"
           }
          ],
          "histogram2dcontour": [
           {
            "colorbar": {
             "outlinewidth": 0,
             "ticks": ""
            },
            "colorscale": [
             [
              0,
              "#0d0887"
             ],
             [
              0.1111111111111111,
              "#46039f"
             ],
             [
              0.2222222222222222,
              "#7201a8"
             ],
             [
              0.3333333333333333,
              "#9c179e"
             ],
             [
              0.4444444444444444,
              "#bd3786"
             ],
             [
              0.5555555555555556,
              "#d8576b"
             ],
             [
              0.6666666666666666,
              "#ed7953"
             ],
             [
              0.7777777777777778,
              "#fb9f3a"
             ],
             [
              0.8888888888888888,
              "#fdca26"
             ],
             [
              1,
              "#f0f921"
             ]
            ],
            "type": "histogram2dcontour"
           }
          ],
          "mesh3d": [
           {
            "colorbar": {
             "outlinewidth": 0,
             "ticks": ""
            },
            "type": "mesh3d"
           }
          ],
          "parcoords": [
           {
            "line": {
             "colorbar": {
              "outlinewidth": 0,
              "ticks": ""
             }
            },
            "type": "parcoords"
           }
          ],
          "pie": [
           {
            "automargin": true,
            "type": "pie"
           }
          ],
          "scatter": [
           {
            "marker": {
             "colorbar": {
              "outlinewidth": 0,
              "ticks": ""
             }
            },
            "type": "scatter"
           }
          ],
          "scatter3d": [
           {
            "line": {
             "colorbar": {
              "outlinewidth": 0,
              "ticks": ""
             }
            },
            "marker": {
             "colorbar": {
              "outlinewidth": 0,
              "ticks": ""
             }
            },
            "type": "scatter3d"
           }
          ],
          "scattercarpet": [
           {
            "marker": {
             "colorbar": {
              "outlinewidth": 0,
              "ticks": ""
             }
            },
            "type": "scattercarpet"
           }
          ],
          "scattergeo": [
           {
            "marker": {
             "colorbar": {
              "outlinewidth": 0,
              "ticks": ""
             }
            },
            "type": "scattergeo"
           }
          ],
          "scattergl": [
           {
            "marker": {
             "colorbar": {
              "outlinewidth": 0,
              "ticks": ""
             }
            },
            "type": "scattergl"
           }
          ],
          "scattermapbox": [
           {
            "marker": {
             "colorbar": {
              "outlinewidth": 0,
              "ticks": ""
             }
            },
            "type": "scattermapbox"
           }
          ],
          "scatterpolar": [
           {
            "marker": {
             "colorbar": {
              "outlinewidth": 0,
              "ticks": ""
             }
            },
            "type": "scatterpolar"
           }
          ],
          "scatterpolargl": [
           {
            "marker": {
             "colorbar": {
              "outlinewidth": 0,
              "ticks": ""
             }
            },
            "type": "scatterpolargl"
           }
          ],
          "scatterternary": [
           {
            "marker": {
             "colorbar": {
              "outlinewidth": 0,
              "ticks": ""
             }
            },
            "type": "scatterternary"
           }
          ],
          "surface": [
           {
            "colorbar": {
             "outlinewidth": 0,
             "ticks": ""
            },
            "colorscale": [
             [
              0,
              "#0d0887"
             ],
             [
              0.1111111111111111,
              "#46039f"
             ],
             [
              0.2222222222222222,
              "#7201a8"
             ],
             [
              0.3333333333333333,
              "#9c179e"
             ],
             [
              0.4444444444444444,
              "#bd3786"
             ],
             [
              0.5555555555555556,
              "#d8576b"
             ],
             [
              0.6666666666666666,
              "#ed7953"
             ],
             [
              0.7777777777777778,
              "#fb9f3a"
             ],
             [
              0.8888888888888888,
              "#fdca26"
             ],
             [
              1,
              "#f0f921"
             ]
            ],
            "type": "surface"
           }
          ],
          "table": [
           {
            "cells": {
             "fill": {
              "color": "#EBF0F8"
             },
             "line": {
              "color": "white"
             }
            },
            "header": {
             "fill": {
              "color": "#C8D4E3"
             },
             "line": {
              "color": "white"
             }
            },
            "type": "table"
           }
          ]
         },
         "layout": {
          "annotationdefaults": {
           "arrowcolor": "#2a3f5f",
           "arrowhead": 0,
           "arrowwidth": 1
          },
          "coloraxis": {
           "colorbar": {
            "outlinewidth": 0,
            "ticks": ""
           }
          },
          "colorscale": {
           "diverging": [
            [
             0,
             "#8e0152"
            ],
            [
             0.1,
             "#c51b7d"
            ],
            [
             0.2,
             "#de77ae"
            ],
            [
             0.3,
             "#f1b6da"
            ],
            [
             0.4,
             "#fde0ef"
            ],
            [
             0.5,
             "#f7f7f7"
            ],
            [
             0.6,
             "#e6f5d0"
            ],
            [
             0.7,
             "#b8e186"
            ],
            [
             0.8,
             "#7fbc41"
            ],
            [
             0.9,
             "#4d9221"
            ],
            [
             1,
             "#276419"
            ]
           ],
           "sequential": [
            [
             0,
             "#0d0887"
            ],
            [
             0.1111111111111111,
             "#46039f"
            ],
            [
             0.2222222222222222,
             "#7201a8"
            ],
            [
             0.3333333333333333,
             "#9c179e"
            ],
            [
             0.4444444444444444,
             "#bd3786"
            ],
            [
             0.5555555555555556,
             "#d8576b"
            ],
            [
             0.6666666666666666,
             "#ed7953"
            ],
            [
             0.7777777777777778,
             "#fb9f3a"
            ],
            [
             0.8888888888888888,
             "#fdca26"
            ],
            [
             1,
             "#f0f921"
            ]
           ],
           "sequentialminus": [
            [
             0,
             "#0d0887"
            ],
            [
             0.1111111111111111,
             "#46039f"
            ],
            [
             0.2222222222222222,
             "#7201a8"
            ],
            [
             0.3333333333333333,
             "#9c179e"
            ],
            [
             0.4444444444444444,
             "#bd3786"
            ],
            [
             0.5555555555555556,
             "#d8576b"
            ],
            [
             0.6666666666666666,
             "#ed7953"
            ],
            [
             0.7777777777777778,
             "#fb9f3a"
            ],
            [
             0.8888888888888888,
             "#fdca26"
            ],
            [
             1,
             "#f0f921"
            ]
           ]
          },
          "colorway": [
           "#636efa",
           "#EF553B",
           "#00cc96",
           "#ab63fa",
           "#FFA15A",
           "#19d3f3",
           "#FF6692",
           "#B6E880",
           "#FF97FF",
           "#FECB52"
          ],
          "font": {
           "color": "#2a3f5f"
          },
          "geo": {
           "bgcolor": "white",
           "lakecolor": "white",
           "landcolor": "#E5ECF6",
           "showlakes": true,
           "showland": true,
           "subunitcolor": "white"
          },
          "hoverlabel": {
           "align": "left"
          },
          "hovermode": "closest",
          "mapbox": {
           "style": "light"
          },
          "paper_bgcolor": "white",
          "plot_bgcolor": "#E5ECF6",
          "polar": {
           "angularaxis": {
            "gridcolor": "white",
            "linecolor": "white",
            "ticks": ""
           },
           "bgcolor": "#E5ECF6",
           "radialaxis": {
            "gridcolor": "white",
            "linecolor": "white",
            "ticks": ""
           }
          },
          "scene": {
           "xaxis": {
            "backgroundcolor": "#E5ECF6",
            "gridcolor": "white",
            "gridwidth": 2,
            "linecolor": "white",
            "showbackground": true,
            "ticks": "",
            "zerolinecolor": "white"
           },
           "yaxis": {
            "backgroundcolor": "#E5ECF6",
            "gridcolor": "white",
            "gridwidth": 2,
            "linecolor": "white",
            "showbackground": true,
            "ticks": "",
            "zerolinecolor": "white"
           },
           "zaxis": {
            "backgroundcolor": "#E5ECF6",
            "gridcolor": "white",
            "gridwidth": 2,
            "linecolor": "white",
            "showbackground": true,
            "ticks": "",
            "zerolinecolor": "white"
           }
          },
          "shapedefaults": {
           "line": {
            "color": "#2a3f5f"
           }
          },
          "ternary": {
           "aaxis": {
            "gridcolor": "white",
            "linecolor": "white",
            "ticks": ""
           },
           "baxis": {
            "gridcolor": "white",
            "linecolor": "white",
            "ticks": ""
           },
           "bgcolor": "#E5ECF6",
           "caxis": {
            "gridcolor": "white",
            "linecolor": "white",
            "ticks": ""
           }
          },
          "title": {
           "x": 0.05
          },
          "xaxis": {
           "automargin": true,
           "gridcolor": "white",
           "linecolor": "white",
           "ticks": "",
           "title": {
            "standoff": 15
           },
           "zerolinecolor": "white",
           "zerolinewidth": 2
          },
          "yaxis": {
           "automargin": true,
           "gridcolor": "white",
           "linecolor": "white",
           "ticks": "",
           "title": {
            "standoff": 15
           },
           "zerolinecolor": "white",
           "zerolinewidth": 2
          }
         }
        },
        "xaxis": {
         "anchor": "y",
         "autorange": false,
         "domain": [
          0,
          1
         ],
         "range": [
          0.559092092398745,
          1.2605206359025842
         ],
         "title": {
          "text": "x"
         },
         "type": "linear"
        },
        "yaxis": {
         "anchor": "x",
         "autorange": false,
         "domain": [
          0,
          1
         ],
         "range": [
          4.206814603176797,
          6.3685323829189695
         ],
         "title": {
          "text": "y"
         },
         "type": "linear"
        }
       }
      },
      "image/png": "[encoded data removed]",
      "text/html": [
       "<div>\n",
       "        \n",
       "        \n",
       "            <div id=\"9a3d9322-01d7-43ba-a3c1-7734f07ff405\" class=\"plotly-graph-div\" style=\"height:525px; width:100%;\"></div>\n",
       "            <script type=\"text/javascript\">\n",
       "                require([\"plotly\"], function(Plotly) {\n",
       "                    window.PLOTLYENV=window.PLOTLYENV || {};\n",
       "                    \n",
       "                if (document.getElementById(\"9a3d9322-01d7-43ba-a3c1-7734f07ff405\")) {\n",
       "                    Plotly.newPlot(\n",
       "                        '9a3d9322-01d7-43ba-a3c1-7734f07ff405',\n",
       "                        [{\"customdata\": [[\"Chandra, Awakened Inferno\", \"This spell can't be countered.\\n[+2]: Each opponent gets an emblem with \\\"At the beginning of your upkeep, this emblem deals 1 damage to you.\\\"\\n[\\u22123]: CARDNAME deals 3 damage to each non-Elemental creature.\\n\\u2212X: CARDNAME deals X damage to target creature or planeswalker. If a permanent dealt damage this way would die this turn, exile it instead.\"], [\"Cavalier of Flame\", \"{1}{R}: Creatures you control get +1/+0 and gain haste until end of turn.\\nETB_EFFECT, discard any number of cards, then draw that many cards.\\nWhen CARDNAME dies, it deals X damage to each opponent and each planeswalker they control, where X is the number of land cards in your graveyard.\"], [\"Cavalier of Thorns\", \"REACH\\nETB_EFFECT, reveal the top five cards of your library. Put a land card from among them onto the battlefield and the rest into your graveyard.\\nWhen CARDNAME dies, you may exile it. If you do, put another target card from your graveyard on top of your library.\"], [\"Omnath, Locus of the Roil\", \"ETB_EFFECT, it deals damage to any target equal to the number of Elementals you control.\\nWhenever a land enters the battlefield under your control, put a +1/+1 counter on target Elemental you control. If you control eight or more lands, draw a card.\"], [\"Kaalia, Zenith Seeker\", \"FLYING, vigilance\\nETB_EFFECT, look at the top six cards of your library. You may reveal an Angel card, a Demon card, and/or a Dragon card from among them and put them into your hand. Put the rest on the bottom of your library in a random order.\"], [\"Mask of Immolation\", \"ETB_EFFECT, create a 1/1 red Elemental creature token, then attach CARDNAME to it.\\nEquipped creature has \\\"Sacrifice this creature: It deals 1 damage to any target.\\\"\\nEquip {2} ({2}: Attach to target creature you control. Equip only as a sorcery.)\"], [\"Cavalier of Dawn\", \"VIGILANCE\\nETB_EFFECT, destroy up to one target nonland permanent. Its controller creates a 3/3 colorless Golem artifact creature token.\\nWhen CARDNAME dies, return target artifact or enchantment card from your graveyard to your hand.\"], [\"Wolfrider's Saddle\", \"ETB_EFFECT, create a 2/2 green Wolf creature token, then attach CARDNAME to it.\\nEquipped creature gets +1/+1 and can't be blocked by more than one creature.\\nEquip {3} ({3}: Attach to target creature you control. Equip only as a sorcery.)\"], [\"Risen Reef\", \"Whenever CARDNAME or another Elemental enters the battlefield under your control, look at the top card of your library. If it's a land card, you may put it onto the battlefield tapped. If you don't put the card onto the battlefield, put it into your hand.\"], [\"Atemsis, All-Seeing\", \"FLYING\\n{2}{U}, {T}: Draw two cards, then discard a card.\\nWhenever CARDNAME deals damage to an opponent, you may reveal your hand. If cards with at least six different converted mana costs are revealed this way, that player loses the game.\"], [\"Overgrowth Elemental\", \"ETB_EFFECT, put a +1/+1 counter on another target Elemental you control.\\nWhenever another creature you control dies, you gain 1 life. If that creature was an Elemental, put a +1/+1 counter on CARDNAME.\"], [\"Barkhide Troll\", \"CARDNAME enters the battlefield with a +1/+1 counter on it.\\n{1}, Remove a +1/+1 counter from CARDNAME: CARDNAME gains hexproof until end of turn. (It can't be the target of spells or abilities your opponents control.)\"], [\"Voracious Hydra\", \"TRAMPLE\\nCARDNAME enters the battlefield with X +1/+1 counters on it.\\nETB_EFFECT, choose one \\u2014\\n\\u2022 Double the number of +1/+1 counters on CARDNAME.\\n\\u2022 CARDNAME fights target creature you don't control.\"], [\"Gruesome Scourger\", \"ETB_EFFECT, it deals damage to target opponent or planeswalker equal to the number of creatures you control.\"], [\"Icon of Ancestry\", \"As CARDNAME enters the battlefield, choose a creature type.\\nCreatures you control of the chosen type get +1/+1.\\n{3}, {T}: Look at the top three cards of your library. You may reveal a creature card of the chosen type from among them and put it into your hand. Put the rest on the bottom of your library in a random order.\"], [\"Cryptic Caves\", \"{T}: Add {C}.\\n{1}, {T}, Sacrifice CARDNAME: Draw a card. Activate this ability only if you control five or more lands.\"], [\"Evolving Wilds\", \"{T}, Sacrifice CARDNAME: Search your library for a basic land card, put it onto the battlefield tapped, then shuffle your library.\"], [\"Mu Yanling, Sky Dancer\", \"[+2]: Until your next turn, up to one target creature gets -2/-0 and loses flying.\\n[\\u22123]: Create a 4/4 blue Elemental Bird creature token with flying.\\n[\\u22128]: You get an emblem with \\\"Islands you control have '{T}: Draw a card.'\\\"\"], [\"Bloodsoaked Altar\", \"{T}, Pay 2 life, Discard a card, Sacrifice a creature: Create a 5/5 black Demon creature token with flying. Activate this ability only any time you could cast a sorcery.\"], [\"Leyline of Abundance\", \"If CARDNAME is in your opening hand, you may begin the game with it on the battlefield.\\nWhenever you tap a creature for mana, add an additional {G}.\\n{6}{G}{G}: Put a +1/+1 counter on each creature you control.\"], [\"Ancestral Blade\", \"ETB_EFFECT, create a 1/1 white Soldier creature token, then attach CARDNAME to it.\\nEquipped creature gets +1/+1.\\nEquip {1} ({1}: Attach to target creature you control. Equip only as a sorcery.)\"], [\"Chandra, Acolyte of Flame\", \"[0]: Put a loyalty counter on each red planeswalker you control.\\n[0]: Create two 1/1 red Elemental creature tokens. They gain haste. Sacrifice them at the beginning of the next end step.\\n[\\u22122]: You may cast target instant or sorcery card with converted mana cost 3 or less from your graveyard. If that card would be put into your graveyard this turn, exile it instead.\"], [\"Chandra's Regulator\", \"Whenever you activate a loyalty ability of a Chandra planeswalker, you may pay {1}. If you do, copy that ability. You may choose new targets for the copy.\\n{1}, {T}, Discard a Mountain card or a red card: Draw a card.\"], [\"Fry\", \"This spell can't be countered.\\nCARDNAME deals 5 damage to target creature or planeswalker that's white or blue.\"], [\"Gauntlets of Light\", \"Enchant creature\\nEnchanted creature gets +0/+2 and assigns combat damage equal to its toughness rather than its power.\\nEnchanted creature has \\\"{2}{W}: Untap this creature.\\\"\"], [\"Angelic Guardian\", \"FLYING\\nWhenever one or more creatures you control attack, they gain indestructible until end of turn. (Damage and effects that say \\\"destroy\\\" don't destroy them.)\"], [\"Gargos, Vicious Watcher\", \"VIGILANCE\\nHydra spells you cast cost {4} less to cast.\\nWhenever a creature you control becomes the target of a spell, CARDNAME fights up to one target creature you don't control.\"], [\"Shifting Ceratops\", \"This spell can't be countered.\\nPROTECTION_FROM_BLUE\\n{G}: CARDNAME gains your choice of reach, trample, or haste until end of turn.\"], [\"Kethis, the Hidden Hand\", \"Legendary spells you cast cost {1} less to cast.\\nExile two legendary cards from your graveyard: Until end of turn, each legendary card in your graveyard gains \\\"You may play this card from your graveyard.\\\"\"], [\"Chandra's Flame Wave\", \"CARDNAME deals 2 damage to target player and each creature that player controls. Search your library and/or graveyard for a card named Chandra, Flame's Fury, reveal it, and put it into your hand. If you search your library this way, shuffle it.\"], [\"Sephara, Sky's Blade\", \"You may pay {W} and tap four untapped creatures you control with flying rather than pay this spell's mana cost.\\nFLYING, lifelink\\nOther creatures you control with flying have indestructible. (Damage and effects that say \\\"destroy\\\" don't destroy them.)\"], [\"Drakuseth, Maw of Flames\", \"FLYING\\nWhenever CARDNAME attacks, it deals 4 damage to any target and 3 damage to each of up to two other targets.\"], [\"Veil of Summer\", \"Draw a card if an opponent has cast a blue or black spell this turn. Spells you control can't be countered this turn. You and permanents you control gain hexproof from blue and from black until end of turn. (You and they can't be the targets of blue or black spells or abilities your opponents control.)\"], [\"Sorin, Vampire Lord\", \"[+1]: Up to one target creature gets +2/+0 until end of turn.\\n[\\u22122]: CARDNAME deals 4 damage to any target. You gain 4 life.\\n[\\u22128]: Until end of turn, each Vampire you control gains \\\"{T}: Gain control of target creature.\\\"\"], [\"Diamond Knight\", \"VIGILANCE\\nAs CARDNAME enters the battlefield, choose a color.\\nWhenever you cast a spell of the chosen color, put a +1/+1 counter on CARDNAME.\"], [\"Thicket Crasher\", \"TRAMPLE\\nOther Elementals you control have trample.\"], [\"Ajani, Strength of the Pride\", \"[+1]: You gain life equal to the number of creatures you control plus the number of planeswalkers you control.\\n[\\u22122]: Create a 2/2 white Cat Soldier creature token named Ajani's Pridemate with \\\"Whenever you gain life, put a +1/+1 counter on Ajani's Pridemate.\\\"\\n[0]: If you have at least 15 life more than your starting life total, exile CARDNAME and each artifact and creature your opponents control.\"], [\"Aggressive Mammoth\", \"TRAMPLE\\nOther creatures you control have trample.\"], [\"Octoprophet\", \"ETB_EFFECT, scry 2. (Look at the top two cards of your library, then put any number of them on the bottom of your library and the rest on top in any order.)\"], [\"Knight of the Ebon Legion\", \"{2}{B}: CARDNAME gets +3/+3 and gains deathtouch until end of turn.\\nAt the beginning of your end step, if a player lost 4 or more life this turn, put a +1/+1 counter on CARDNAME. (Damage causes loss of life.)\"], [\"Salvager of Ruin\", \"Sacrifice CARDNAME: Choose target permanent card in your graveyard that was put there from the battlefield this turn. Return it to your hand.\"], [\"Yanling's Harbinger\", \"FLYING\\nETB_EFFECT, you may search your library and/or graveyard for a card named Mu Yanling, Celestial Wind, reveal it, and put it into your hand. If you search your library this way, shuffle it.\"], [\"Gorging Vulture\", \"FLYING\\nETB_EFFECT, put the top four cards of your library into your graveyard. You gain 1 life for each creature card put into your graveyard this way.\"], [\"Celestial Messenger\", \"FLASH (You may cast this card any time you could cast an instant.)\\nFLYING\\nCARDNAME gets +1/+1 as long as you control a Yanling planeswalker.\"], [\"Glint-Horn Buccaneer\", \"HASTE\\nWhenever you discard a card, CARDNAME deals 1 damage to each opponent.\\n{1}{R}, Discard a card: Draw a card. Activate this ability only if CARDNAME is attacking.\"], [\"Leyline of Combustion\", \"If CARDNAME is in your opening hand, you may begin the game with it on the battlefield.\\nWhenever you and/or at least one permanent you control becomes the target of a spell or ability an opponent controls, CARDNAME deals 2 damage to that player.\"], [\"Gift of Paradise\", \"Enchant land\\nETB_EFFECT, you gain 3 life.\\nEnchanted land has \\\"{T}: Add two mana of any one color.\\\"\"], [\"Loaming Shaman\", \"ETB_EFFECT, target player shuffles any number of target cards from their graveyard into their library.\"], [\"Blossoming Sands\", \"ENTER_TAPPED\\nETB_EFFECT, you gain 1 life.\\n{T}: Add {G} or {W}.\"], [\"Ember Hauler\", \"{1}, Sacrifice CARDNAME: It deals 2 damage to any target.\"], [\"Renowned Weaponsmith\", \"{T}: Add {C}{C}. Spend this mana only to cast artifact spells or activate abilities of artifacts.\\n{U}, {T}: Search your library for a card named Heart-Piercer Bow or Vial of Dragonfire, reveal it, put it into your hand, then shuffle your library.\"], [\"Scholar of the Ages\", \"ETB_EFFECT, return up to two target instant and/or sorcery cards from your graveyard to your hand.\"], [\"Brightwood Tracker\", \"{5}{G}, {T}: Look at the top four cards of your library. You may reveal a creature card from among them and put it into your hand. Put the rest on the bottom of your library in a random order.\"], [\"Tomebound Lich\", \"DEATHTOUCH\\nLifelink (Damage dealt by this creature also causes you to gain that much life.)\\nWhenever CARDNAME enters the battlefield or deals combat damage to a player, draw a card, then discard a card.\"], [\"Leyline of Anticipation\", \"If CARDNAME is in your opening hand, you may begin the game with it on the battlefield.\\nYou may cast spells as though they had flash.\"], [\"Thunderkin Awakener\", \"HASTE\\nWhenever CARDNAME attacks, choose target Elemental creature card in your graveyard with toughness less than CARDNAME's toughness. Return that card to the battlefield tapped and attacking. Sacrifice it at the beginning of the next end step.\"], [\"Flood of Tears\", \"Return all nonland permanents to their owners' hands. If you return four or more nontoken permanents you control this way, you may put a permanent card from your hand onto the battlefield.\"], [\"Eternal Isolation\", \"Put target creature with power 4 or greater on the bottom of its owner's library.\"], [\"Meteor Golem\", \"ETB_EFFECT, destroy target nonland permanent an opponent controls.\"], [\"Pattern Matcher\", \"ETB_EFFECT, you may search your library for a card with the same name as another creature you control, reveal it, put it into your hand, then shuffle your library.\"], [\"Ajani, Inspiring Leader\", \"[+2]: You gain 2 life. Put two +1/+1 counters on up to one target creature.\\n[\\u22123]: Exile target creature. Its controller gains 2 life.\\n[\\u221210]: Creatures you control gain flying and double strike until end of turn.\"], [\"Cloudkin Seer\", \"FLYING\\nETB_EFFECT, draw a card.\"], [\"Mystic Forge\", \"You may look at the top card of your library any time.\\nYou may cast the top card of your library if it's an artifact card or a colorless nonland card.\\n{T}, Pay 1 life: Exile the top card of your library.\"], [\"Sorin's Guide\", \"ETB_EFFECT, you may search your library and/or graveyard for a card named Sorin, Vampire Lord, reveal it, and put it into your hand. If you search your library this way, shuffle it.\"], [\"Wildfire Elemental\", \"Whenever an opponent is dealt noncombat damage, creatures you control get +1/+0 until end of turn.\"], [\"Kykar, Wind's Fury\", \"FLYING\\nWhenever you cast a noncreature spell, create a 1/1 white Spirit creature token with flying.\\nSacrifice a Spirit: Add {R}.\"], [\"Cerulean Drake\", \"FLYING\\nPROTECTION_FROM_RED\\nSacrifice CARDNAME: Counter target spell that targets you.\"], [\"Portal of Sanctuary\", \"{1}, {T}: Return target creature you control and each Aura attached to it to their owners' hands. Activate this ability only during your turn.\"], [\"Frost Lynx\", \"ETB_EFFECT, tap target creature an opponent controls. That creature doesn't untap during its controller's next untap step.\"], [\"Plummet\", \"Destroy target creature with flying.\"], [\"Vivien, Nature's Avenger\", \"[+1]: Put three +1/+1 counters on up to one target creature.\\n[\\u22121]: Reveal cards from the top of your library until you reveal a creature card. Put that card into your hand and the rest on the bottom of your library in a random order.\\n[\\u22126]: Target creature gets +10/+10 and gains trample until end of turn.\"], [\"Embodiment of Agonies\", \"FLYING, deathtouch\\nCARDNAME enters the battlefield with a +1/+1 counter on it for each different mana cost among nonland cards in your graveyard. (For example, {2}{B} and {1}{B}{B} are different mana costs.)\"], [\"Vilis, Broker of Blood\", \"FLYING\\n{B}, Pay 2 life: Target creature gets -1/-1 until end of turn.\\nWhenever you lose life, draw that many cards. (Damage causes loss of life.)\"], [\"Thirsting Bloodlord\", \"Other Vampires you control get +1/+1.\"], [\"Chandra, Flame's Fury\", \"[+1]: CARDNAME deals 2 damage to any target.\\n[\\u22122]: CARDNAME deals 4 damage to target creature and 2 damage to that creature's controller.\\n[\\u22128]: CARDNAME deals 10 damage to target player and each creature that player controls.\"], [\"Sorin, Imperious Bloodlord\", \"[+1]: Target creature you control gains deathtouch and lifelink until end of turn. If it's a Vampire, put a +1/+1 counter on it.\\n[+1]: You may sacrifice a Vampire. When you do, CARDNAME deals 3 damage to any target and you gain 3 life.\\n[\\u22123]: You may put a Vampire creature card from your hand onto the battlefield.\"], [\"Vial of Dragonfire\", \"{2}, {T}, Sacrifice CARDNAME: It deals 2 damage to target creature.\"], [\"Zephyr Charge\", \"{1}{U}: Target creature gains flying until end of turn.\"], [\"Vampire of the Dire Moon\", \"DEATHTOUCH\\nLifelink (Damage dealt by this creature also causes you to gain that much life.)\"], [\"Gravewaker\", \"FLYING\\n{5}{B}{B}: Return target creature card from your graveyard to the battlefield tapped.\"], [\"Sleep Paralysis\", \"Enchant creature\\nETB_EFFECT, tap enchanted creature.\\nEnchanted creature doesn't untap during its controller's untap step.\"], [\"Drawn from Dreams\", \"Look at the top seven cards of your library. Put two of them into your hand and the rest on the bottom of your library in a random order.\"], [\"Heart-Piercer Bow\", \"Whenever equipped creature attacks, CARDNAME deals 1 damage to target creature defending player controls.\\nEquip {1} ({1}: Attach to target creature you control. Equip only as a sorcery.)\"], [\"Tale's End\", \"Counter target activated ability, triggered ability, or legendary spell.\"], [\"Blood for Bones\", \"As an additional cost to cast this spell, sacrifice a creature.\\nReturn a creature card from your graveyard to the battlefield, then return another creature card from your graveyard to your hand.\"], [\"Unholy Indenture\", \"Enchant creature\\nWhen enchanted creature dies, return that card to the battlefield under your control with a +1/+1 counter on it.\"], [\"Bladebrand\", \"Target creature gains deathtouch until end of turn. (Any amount of damage it deals to a creature is enough to destroy it.)\\nDraw a card.\"], [\"Mind Rot\", \"Target player discards two cards.\"], [\"Thought Distortion\", \"This spell can't be countered.\\nTarget opponent reveals their hand. Exile all noncreature, nonland cards from that player's hand and graveyard.\"], [\"Field of the Dead\", \"ENTER_TAPPED\\n{T}: Add {C}.\\nWhenever CARDNAME or another land enters the battlefield under your control, if you control seven or more lands with different names, create a 2/2 black Zombie creature token.\"], [\"Grafdigger's Cage\", \"Creature cards in graveyards and libraries can't enter the battlefield.\\nPlayers can't cast spells from graveyards or libraries.\"], [\"Leyline of Sanctity\", \"If CARDNAME is in your opening hand, you may begin the game with it on the battlefield.\\nYou have hexproof. (You can't be the target of spells or abilities your opponents control.)\"], [\"Mu Yanling, Celestial Wind\", \"[+1]: Until your next turn, up to one target creature gets -5/-0.\\n[\\u22123]: Return up to two target creatures to their owners' hands.\\n[\\u22127]: Creatures you control with flying get +5/+5 until end of turn.\"], [\"Gods Willing\", \"Target creature you control gains protection from the color of your choice until end of turn. (It can't be blocked, targeted, dealt damage, enchanted, or equipped by anything of that color.)\\nScry 1. (Look at the top card of your library. You may put that card on the bottom of your library.)\"], [\"Shivan Dragon\", \"FLYING\\n{R}: CARDNAME gets +1/+0 until end of turn.\"], [\"Griffin Protector\", \"FLYING\\nWhenever another creature enters the battlefield under your control, CARDNAME gets +1/+1 until end of turn.\"], [\"Goblin Bird-Grabber\", \"{R}: CARDNAME gains flying until end of turn. Activate this ability only if you control a creature with flying.\"], [\"Pack Mastiff\", \"{1}{R}: Each creature you control named CARDNAME gets +1/+0 until end of turn.\"], [\"Overcome\", \"Creatures you control get +2/+2 and gain trample until end of turn. (They can deal excess combat damage to the player or planeswalker they're attacking.)\"], [\"Ethereal Elk\", \"TRAMPLE\\nETB_EFFECT, you may search your library and/or graveyard for a card named Vivien, Nature's Avenger, reveal it, and put it into your hand. If you search your library this way, shuffle it.\"], [\"Trusted Pegasus\", \"FLYING\\nWhenever CARDNAME attacks, target attacking creature without flying gains flying until end of turn.\"], [\"Dragon Mage\", \"FLYING\\nWhenever CARDNAME deals combat damage to a player, each player discards their hand, then draws seven cards.\"], [\"Repeated Reverberation\", \"When you next cast an instant spell, cast a sorcery spell, or activate a loyalty ability this turn, copy that spell or ability twice. You may choose new targets for the copies.\"], [\"Rabid Bite\", \"Target creature you control deals damage equal to its power to target creature you don't control.\"], [\"Waterkin Shaman\", \"Whenever a creature with flying enters the battlefield under your control, CARDNAME gets +1/+1 until end of turn.\"], [\"Bristling Boar\", \"CARDNAME can't be blocked by more than one creature.\"], [\"Air Elemental\", \"FLYING\"], [\"Fathom Fleet Cutthroat\", \"ETB_EFFECT, destroy target creature an opponent controls that was dealt damage this turn.\"], [\"Immortal Phoenix\", \"FLYING\\nWhen CARDNAME dies, return it to its owner's hand.\"], [\"Anticipate\", \"Look at the top three cards of your library. Put one of them into your hand and the rest on the bottom of your library in any order.\"], [\"Dungeon Geists\", \"FLYING\\nETB_EFFECT, tap target creature an opponent controls. That creature doesn't untap during its controller's untap step for as long as you control CARDNAME.\"], [\"Wakeroot Elemental\", \"{G}{G}{G}{G}{G}: Untap target land you control. It becomes a 5/5 Elemental creature with haste. It's still a land. (This effect lasts as long as that land remains on the battlefield.)\"], [\"Jungle Hollow\", \"ENTER_TAPPED\\nETB_EFFECT, you gain 1 life.\\n{T}: Add {B} or {G}.\"], [\"Dread Presence\", \"Whenever a Swamp enters the battlefield under your control, choose one \\u2014\\n\\u2022 You draw a card and you lose 1 life.\\n\\u2022 CARDNAME deals 2 damage to any target and you gain 2 life.\"], [\"Shared Summons\", \"Search your library for up to two creature cards with different names, reveal them, put them into your hand, then shuffle your library.\"], [\"Goldmane Griffin\", \"FLYING, vigilance\\nETB_EFFECT, you may search your library and/or graveyard for a card named Ajani, Inspiring Leader, reveal it, and put it into your hand. If you search your library this way, shuffle it.\"], [\"Glaring Aegis\", \"Enchant creature\\nETB_EFFECT, tap target creature an opponent controls.\\nEnchanted creature gets +1/+3.\"], [\"Vivien, Arkbow Ranger\", \"[+1]: Distribute two +1/+1 counters among up to two target creatures. They gain trample until end of turn.\\n[\\u22123]: Target creature you control deals damage equal to its power to target creature or planeswalker.\\n[\\u22125]: You may choose a creature card you own from outside the game, reveal it, and put it into your hand.\"], [\"Titanic Growth\", \"Target creature gets +4/+4 until end of turn.\"], [\"Act of Treason\", \"Gain control of target creature until end of turn. Untap that creature. It gains haste until end of turn. (It can attack and {T} this turn.)\"], [\"Captivating Gyre\", \"Return up to three target creatures to their owners' hands.\"], [\"Battalion Foot Soldier\", \"ETB_EFFECT, you may search your library for any number of cards named CARDNAME, reveal them, put them into your hand, then shuffle your library.\"], [\"Elvish Reclaimer\", \"CARDNAME gets +2/+2 as long as there are three or more land cards in your graveyard.\\n{2}, {T}, Sacrifice a land: Search your library for a land card, put it onto the battlefield tapped, then shuffle your library.\"], [\"Woodland Champion\", \"Whenever one or more tokens enter the battlefield under your control, put that many +1/+1 counters on CARDNAME.\"], [\"Rubblebelt Recluse\", \"CARDNAME attacks each combat if able.\"], [\"Netcaster Spider\", \"REACH\\nWhenever CARDNAME blocks a creature with flying, CARDNAME gets +2/+0 until end of turn.\"], [\"Wolfkin Bond\", \"Enchant creature\\nETB_EFFECT, create a 2/2 green Wolf creature token.\\nEnchanted creature gets +2/+2.\"], [\"Hanged Executioner\", \"FLYING\\nETB_EFFECT, create a 1/1 white Spirit creature token with flying.\\n{3}{W}, Exile CARDNAME: Exile target creature.\"], [\"Loyal Pegasus\", \"FLYING\\nCARDNAME can't attack or block alone.\"], [\"Chandra's Spitfire\", \"FLYING\\nWhenever an opponent is dealt noncombat damage, CARDNAME gets +3/+0 until end of turn.\"], [\"Reckless Air Strike\", \"Choose one \\u2014\\n\\u2022 CARDNAME deals 3 damage to target creature with flying.\\n\\u2022 Destroy target artifact.\"], [\"Riddlemaster Sphinx\", \"FLYING\\nETB_EFFECT, you may return target creature an opponent controls to its owner's hand.\"], [\"Legion's End\", \"Exile target creature an opponent controls with converted mana cost 2 or less and all other creatures that player controls with the same name as that creature. Then that player reveals their hand and exiles all cards with that name from their hand and graveyard.\"], [\"Scampering Scorcher\", \"ETB_EFFECT, create two 1/1 red Elemental creature tokens. Elementals you control gain haste until end of turn. (They can attack and {T} this turn.)\"], [\"Moat Piranhas\", \"DEFENDER\"], [\"Growth Cycle\", \"Target creature gets +3/+3 until end of turn. It gets an additional +2/+2 until end of turn for each card named CARDNAME in your graveyard.\"], [\"Bloodthirsty Aerialist\", \"FLYING\\nWhenever you gain life, put a +1/+1 counter on CARDNAME.\"], [\"Cavalier of Night\", \"Lifelink\\nETB_EFFECT, you may sacrifice another creature. When you do, destroy target creature an opponent controls.\\nWhen CARDNAME dies, return target creature card with converted mana cost 3 or less from your graveyard to the battlefield.\"], [\"Golos, Tireless Pilgrim\", \"ETB_EFFECT, you may search your library for a land card, put that card onto the battlefield tapped, then shuffle your library.\\n{2}{W}{U}{B}{R}{G}: Exile the top three cards of your library. You may play them this turn without paying their mana costs.\"], [\"Skeleton Archer\", \"ETB_EFFECT, it deals 1 damage to any target.\"], [\"Frilled Sandwalla\", \"{1}{G}: CARDNAME gets +2/+2 until end of turn. Activate this ability only once each turn.\"], [\"Winged Words\", \"This spell costs {1} less to cast if you control a creature with flying.\\nDraw two cards.\"], [\"Gnarlback Rhino\", \"TRAMPLE\\nWhenever you cast a spell that targets CARDNAME, draw a card.\"], [\"Agent of Treachery\", \"ETB_EFFECT, gain control of target permanent.\\nAt the beginning of your end step, if you control three or more permanents you don't own, draw three cards.\"], [\"Diviner's Lockbox\", \"{1}, {T}: Choose a card name, then reveal the top card of your library. If that card has the chosen name, sacrifice CARDNAME and draw three cards. Activate this ability only any time you could cast a sorcery.\"], [\"Prismite\", \"{2}: Add one mana of any color.\"], [\"Masterful Replication\", \"Choose one \\u2014\\n\\u2022 Create two 3/3 colorless Golem artifact creature tokens.\\n\\u2022 Choose target artifact you control. Each other artifact you control becomes a copy of that artifact until end of turn.\"], [\"Sage's Row Denizen\", \"Whenever another blue creature enters the battlefield under your control, target player puts the top two cards of their library into their graveyard.\"], [\"Blightbeetle\", \"PROTECTION_FROM_GREEN\\nCreatures your opponents control can't have +1/+1 counters put on them.\"], [\"Chandra's Embercat\", \"{T}: Add {R}. Spend this mana only to cast an Elemental spell or a Chandra planeswalker spell.\"], [\"Ripscale Predator\", \"Menace (This creature can't be blocked except by two or more creatures.)\"], [\"Season of Growth\", \"Whenever a creature enters the battlefield under your control, scry 1. (Look at the top card of your library. You may put that card on the bottom of your library.)\\nWhenever you cast a spell that targets a creature you control, draw a card.\"], [\"Wind-Scarred Crag\", \"ENTER_TAPPED\\nETB_EFFECT, you gain 1 life.\\n{T}: Add {R} or {W}.\"], [\"Lavakin Brawler\", \"Whenever CARDNAME attacks, it gets +1/+0 until end of turn for each Elemental you control.\"], [\"Unchained Berserker\", \"PROTECTION_FROM_WHITE\\nCARDNAME gets +2/+0 as long as it's attacking.\"], [\"Creeping Trailblazer\", \"Other Elementals you control get +1/+0.\\n{2}{R}{G}: CARDNAME gets +1/+1 until end of turn for each Elemental you control.\"], [\"Anvilwrought Raptor\", \"FLYING\\nFirst strike (This creature deals combat damage before creatures without first strike.)\"], [\"Fencing Ace\", \"DOUBLE_STRIKE\"], [\"Scoured Barrens\", \"ENTER_TAPPED\\nETB_EFFECT, you gain 1 life.\\n{T}: Add {W} or {B}.\"], [\"Rule of Law\", \"Each player can't cast more than one spell each turn.\"], [\"Cavalier of Gales\", \"FLYING\\nETB_EFFECT, draw three cards, then put two cards from your hand on top of your library in any order.\\nWhen CARDNAME dies, shuffle it into its owner's library, then scry 2.\"], [\"Inspired Charge\", \"Creatures you control get +2/+1 until end of turn.\"], [\"Take Vengeance\", \"Destroy target tapped creature.\"], [\"Volcanic Dragon\", \"FLYING\\nHASTE\"], [\"Brought Back\", \"Choose up to two target permanent cards in your graveyard that were put there from the battlefield this turn. Return them to the battlefield tapped.\"], [\"Scorch Spitter\", \"Whenever CARDNAME attacks, it deals 1 damage to the player or planeswalker it's attacking.\"], [\"Ironroot Warlord\", \"CARDNAME's power is equal to the number of creatures you control.\\n{3}{G}{W}: Create a 1/1 white Soldier creature token.\"], [\"Steel Overseer\", \"{T}: Put a +1/+1 counter on each artifact creature you control.\"], [\"Duress\", \"Target opponent reveals their hand. You choose a noncreature, nonland card from it. That player discards that card.\"], [\"Skyknight Vanguard\", \"FLYING\\nWhenever CARDNAME attacks, create a 1/1 white Soldier creature token that's tapped and attacking.\"], [\"Loxodon Lifechanter\", \"ETB_EFFECT, you may have your life total become the total toughness of creatures you control.\\n{5}{W}: CARDNAME gets +X/+X until end of turn, where X is your life total.\"], [\"Frilled Sea Serpent\", \"{5}{U}{U}: CARDNAME can't be blocked this turn.\"], [\"Reduce to Ashes\", \"CARDNAME deals 5 damage to target creature. If that creature would die this turn, exile it instead.\"], [\"Gravedigger\", \"ETB_EFFECT, you may return target creature card from your graveyard to your hand.\"], [\"Squad Captain\", \"VIGILANCE\\nCARDNAME enters the battlefield with a +1/+1 counter on it for each other creature you control.\"], [\"Steadfast Sentry\", \"VIGILANCE\\nWhen CARDNAME dies, put a +1/+1 counter on target creature you control.\"], [\"Yarok's Wavecrasher\", \"ETB_EFFECT, return another creature you control to its owner's hand.\"], [\"Vengeful Warchief\", \"Whenever you lose life for the first time each turn, put a +1/+1 counter on CARDNAME. (Damage causes loss of life.)\"], [\"Angel of Vitality\", \"FLYING\\nIf you would gain life, you gain that much life plus 1 instead.\\nCARDNAME gets +2/+2 as long as you have 25 or more life.\"], [\"Goblin Ringleader\", \"HASTE\\nETB_EFFECT, reveal the top four cards of your library. Put all Goblin cards revealed this way into your hand and the rest on the bottom of your library in any order.\"], [\"Disentomb\", \"Return target creature card from your graveyard to your hand.\"], [\"Dismal Backwater\", \"ENTER_TAPPED\\nETB_EFFECT, you gain 1 life.\\n{T}: Add {U} or {B}.\"], [\"Twinblade Paladin\", \"Whenever you gain life, put a +1/+1 counter on CARDNAME.\\nAs long as you have 25 or more life, CARDNAME has double strike. (It deals both first-strike and regular combat damage.)\"], [\"Bag of Holding\", \"Whenever you discard a card, exile that card from your graveyard.\\n{2}, {T}: Draw a card, then discard a card.\\n{4}, {T}, Sacrifice CARDNAME: Return all cards exiled with CARDNAME to their owner's hand.\"], [\"Temple of Epiphany\", \"ENTER_TAPPED\\nETB_EFFECT, scry 1.\\n{T}: Add {U} or {R}.\"], [\"Marauding Raptor\", \"Creature spells you cast cost {1} less to cast.\\nWhenever another creature enters the battlefield under your control, CARDNAME deals 2 damage to it. If a Dinosaur is dealt damage this way, CARDNAME gets +2/+0 until end of turn.\"], [\"Swamp\", \"({T}: Add {B}.)\"], [\"Forest\", \"({T}: Add {G}.)\"], [\"Scheming Symmetry\", \"Choose two target players. Each of them searches their library for a card, then shuffles their library and puts that card on top of it.\"], [\"Moment of Heroism\", \"Target creature gets +2/+2 and gains lifelink until end of turn. (Damage dealt by the creature also causes its controller to gain that much life.)\"], [\"Thornwood Falls\", \"ENTER_TAPPED\\nETB_EFFECT, you gain 1 life.\\n{T}: Add {G} or {U}.\"], [\"Thrashing Brontodon\", \"{1}, Sacrifice CARDNAME: Destroy target artifact or enchantment.\"], [\"Yarok, the Desecrated\", \"DEATHTOUCH, lifelink\\nIf a permanent entering the battlefield causes a triggered ability of a permanent you control to trigger, that ability triggers an additional time.\"], [\"Inspiring Captain\", \"ETB_EFFECT, creatures you control get +1/+1 until end of turn.\"], [\"Silverback Shaman\", \"TRAMPLE\\nWhen CARDNAME dies, draw a card.\"], [\"Colossus Hammer\", \"Equipped creature gets +10/+10 and loses flying.\\nEquip {8} ({8}: Attach to target creature you control. Equip only as a sorcery.)\"], [\"Befuddle\", \"Target creature gets -4/-0 until end of turn.\\nDraw a card.\"], [\"Epicure of Blood\", \"Whenever you gain life, each opponent loses 1 life.\"], [\"Boreal Elemental\", \"FLYING\\nSpells your opponents cast that target CARDNAME cost {2} more to cast.\"], [\"Undead Servant\", \"ETB_EFFECT, create a 2/2 black Zombie creature token for each card named CARDNAME in your graveyard.\"], [\"Temple of Triumph\", \"ENTER_TAPPED\\nETB_EFFECT, scry 1.\\n{T}: Add {R} or {W}.\"], [\"Apostle of Purifying Light\", \"PROTECTION_FROM_BLACK\\n{2}: Exile target card from a graveyard.\"], [\"Leyline of the Void\", \"If CARDNAME is in your opening hand, you may begin the game with it on the battlefield.\\nIf a card would be put into an opponent's graveyard from anywhere, exile it instead.\"], [\"Noxious Grasp\", \"Destroy target creature or planeswalker that's green or white. You gain 1 life.\"], [\"Pulse of Murasa\", \"Return target creature or land card from a graveyard to its owner's hand. You gain 6 life.\"], [\"Swiftwater Cliffs\", \"ENTER_TAPPED\\nETB_EFFECT, you gain 1 life.\\n{T}: Add {U} or {R}.\"], [\"Starfield Mystic\", \"Enchantment spells you cast cost {1} less to cast.\\nWhenever an enchantment you control is put into a graveyard from the battlefield, put a +1/+1 counter on CARDNAME.\"], [\"Chandra, Novice Pyromancer\", \"[+1]: Elementals you control get +2/+0 until end of turn.\\n[\\u22121]: Add {R}{R}.\\n[\\u22122]: CARDNAME deals 2 damage to any target.\"], [\"Herald of the Sun\", \"FLYING\\n{3}{W}: Put a +1/+1 counter on another target creature with flying.\"], [\"Devout Decree\", \"Exile target creature or planeswalker that's black or red. Scry 1. (Look at the top card of your library. You may put that card on the bottom of your library.)\"], [\"Lotus Field\", \"Hexproof\\nENTER_TAPPED\\nETB_EFFECT, sacrifice two lands.\\n{T}: Add three mana of any one color.\"], [\"Chandra's Outrage\", \"CARDNAME deals 4 damage to target creature and 2 damage to that creature's controller.\"], [\"Flame Sweep\", \"CARDNAME deals 2 damage to each creature except for creatures you control with flying.\"], [\"Keldon Raider\", \"ETB_EFFECT, you may discard a card. If you do, draw a card.\"], [\"Rugged Highlands\", \"ENTER_TAPPED\\nETB_EFFECT, you gain 1 life.\\n{T}: Add {R} or {G}.\"], [\"Serra's Guardian\", \"FLYING\\nVIGILANCE\\nOther creatures you control have vigilance.\"], [\"Feral Invocation\", \"FLASH\\nEnchant creature\\nEnchanted creature gets +2/+2.\"], [\"Temple of Mystery\", \"ENTER_TAPPED\\nETB_EFFECT, scry 1.\\n{T}: Add {G} or {U}.\"], [\"Vivien's Crocodile\", \"CARDNAME gets +1/+1 as long as you control a Vivien planeswalker.\"], [\"Leafkin Druid\", \"{T}: Add {G}. If you control four or more creatures, add {G}{G} instead.\"], [\"Temple of Malady\", \"ENTER_TAPPED\\nETB_EFFECT, scry 1.\\n{T}: Add {B} or {G}.\"], [\"Uncaged Fury\", \"Target creature gets +1/+1 and gains double strike until end of turn. (It deals both first-strike and regular combat damage.)\"], [\"Moorland Inquisitor\", \"{2}{W}: CARDNAME gains first strike until end of turn. (It deals combat damage before creatures without first strike.)\"], [\"Warden of Evos Isle\", \"FLYING\\nCreature spells with flying you cast cost {1} less to cast.\"], [\"Plains\", \"({T}: Add {W}.)\"], [\"Rienne, Angel of Rebirth\", \"FLYING\\nOther multicolored creatures you control get +1/+0.\\nWhenever another multicolored creature you control dies, return it to its owner's hand at the beginning of the next end step.\"], [\"Faerie Miscreant\", \"FLYING\\nETB_EFFECT, if you control another creature named CARDNAME, draw a card.\"], [\"Rapacious Dragon\", \"FLYING\\nETB_EFFECT, create two Treasure tokens. (They're artifacts with \\\"{T}, Sacrifice this artifact: Add one mana of any color.\\\")\"], [\"Tranquil Cove\", \"ENTER_TAPPED\\nETB_EFFECT, you gain 1 life.\\n{T}: Add {W} or {U}.\"], [\"Bone to Ash\", \"Counter target creature spell.\\nDraw a card.\"], [\"Nightpack Ambusher\", \"FLASH\\nOther Wolves and Werewolves you control get +1/+1.\\nAt the beginning of your end step, if you didn't cast a spell this turn, create a 2/2 green Wolf creature token.\"], [\"Oakenform\", \"Enchant creature\\nEnchanted creature gets +3/+3.\"], [\"Mammoth Spider\", \"REACH\"], [\"Impassioned Orator\", \"Whenever another creature enters the battlefield under your control, you gain 1 life.\"], [\"Hard Cover\", \"Enchant creature\\nEnchanted creature gets +0/+2 and has \\\"{T}: Draw a card, then discard a card.\\\"\"], [\"Spectral Sailor\", \"FLASH\\nFLYING\\n{3}{U}: Draw a card.\"], [\"Infuriate\", \"Target creature gets +3/+2 until end of turn.\"], [\"Brineborn Cutthroat\", \"FLASH\\nWhenever you cast a spell during an opponent's turn, put a +1/+1 counter on CARDNAME.\"], [\"Moldervine Reclamation\", \"Whenever a creature you control dies, you gain 1 life and draw a card.\"], [\"Lightning Stormkin\", \"FLYING\\nHASTE\"], [\"Savage Gorger\", \"FLYING\\nAt the beginning of your end step, if an opponent lost life this turn, put a +1/+1 counter on CARDNAME. (Damage causes loss of life.)\"], [\"Destructive Digger\", \"{3}, {T}, Sacrifice an artifact or land: Draw a card.\"], [\"Blood Burglar\", \"As long as it's your turn, CARDNAME has lifelink. (Damage dealt by this creature also causes you to gain that much life.)\"], [\"Retributive Wand\", \"{3}, {T}: CARDNAME deals 1 damage to any target.\\nWhen CARDNAME is put into a graveyard from the battlefield, it deals 5 damage to any target.\"], [\"Audacious Thief\", \"Whenever CARDNAME attacks, you draw a card and you lose 1 life.\"], [\"Pyroclastic Elemental\", \"{1}{R}{R}: CARDNAME deals 1 damage to target player.\"], [\"Goblin Smuggler\", \"HASTE\\n{T}: Another target creature with power 2 or less can't be blocked this turn.\"], [\"Healer of the Glade\", \"ETB_EFFECT, you gain 3 life.\"], [\"Manifold Key\", \"{1}, {T}: Untap another target artifact.\\n{3}, {T}: Target creature can't be blocked this turn.\"], [\"Temple of Silence\", \"ENTER_TAPPED\\nETB_EFFECT, scry 1.\\n{T}: Add {W} or {B}.\"], [\"Sorcerer of the Fang\", \"{5}{B}, {T}: CARDNAME deals 2 damage to target opponent or planeswalker.\"], [\"Bloodfell Caves\", \"ENTER_TAPPED\\nETB_EFFECT, you gain 1 life.\\n{T}: Add {B} or {R}.\"], [\"Planar Cleansing\", \"Destroy all nonland permanents.\"], [\"Shock\", \"CARDNAME deals 2 damage to any target.\"], [\"Bishop of Wings\", \"Whenever an Angel enters the battlefield under your control, you gain 4 life.\\nWhenever an Angel you control dies, create a 1/1 white Spirit creature token with flying.\"], [\"Boneclad Necromancer\", \"ETB_EFFECT, you may exile target creature card from a graveyard. If you do, create a 2/2 black Zombie creature token.\"], [\"Disfigure\", \"Target creature gets -2/-2 until end of turn.\"], [\"Metropolis Sprite\", \"FLYING\\n{U}: CARDNAME gets +1/-1 until end of turn.\"], [\"Master Splicer\", \"ETB_EFFECT, create a 3/3 colorless Golem artifact creature token.\\nGolems you control get +1/+1.\"], [\"Negate\", \"Counter target noncreature spell.\"], [\"Tectonic Rift\", \"Destroy target land. Creatures without flying can't block this turn.\"], [\"Vampire Opportunist\", \"{6}{B}: Each opponent loses 2 life and you gain 2 life.\"], [\"Marauder's Axe\", \"Equipped creature gets +2/+0.\\nEquip {2} ({2}: Attach to target creature you control. Equip only as a sorcery.)\"], [\"Bone Splinters\", \"As an additional cost to cast this spell, sacrifice a creature.\\nDestroy target creature.\"], [\"Sanitarium Skeleton\", \"{2}{B}: Return CARDNAME from your graveyard to your hand.\"], [\"Aether Gust\", \"Choose target spell or permanent that's red or green. Its owner puts it on the top or bottom of their library.\"], [\"Daggersail Aeronaut\", \"As long as it's your turn, CARDNAME has flying.\"], [\"Agonizing Syphon\", \"CARDNAME deals 3 damage to any target and you gain 3 life.\"], [\"Rotting Regisaur\", \"At the beginning of your upkeep, discard a card.\"], [\"Disenchant\", \"Destroy target artifact or enchantment.\"], [\"Might of the Masses\", \"Target creature gets +1/+1 until end of turn for each creature you control.\"], [\"Griffin Sentinel\", \"FLYING\\nVIGILANCE\"], [\"Aerial Assault\", \"Destroy target tapped creature. You gain 1 life for each creature you control with flying.\"], [\"Maniacal Rage\", \"Enchant creature\\nEnchanted creature gets +2/+2 and can't block.\"], [\"Snapping Drake\", \"FLYING\"], [\"Greenwood Sentinel\", \"VIGILANCE\"], [\"Corpse Knight\", \"Whenever another creature enters the battlefield under your control, each opponent loses 1 life.\"], [\"Murder\", \"Destroy target creature.\"], [\"Yarok's Fenlurker\", \"ETB_EFFECT, each opponent exiles a card from their hand.\\n{2}{B}: CARDNAME gets +1/+1 until end of turn.\"], [\"Ogre Siegebreaker\", \"{2}{B}{R}: Destroy target creature that was dealt damage this turn.\"], [\"Haazda Officer\", \"ETB_EFFECT, target creature you control gets +1/+1 until end of turn.\"], [\"Sorin's Thirst\", \"CARDNAME deals 2 damage to target creature and you gain 2 life.\"], [\"Scuttlemutt\", \"{T}: Add one mana of any color.\\n{T}: Target creature becomes the color or colors of your choice until end of turn.\"], [\"Bartizan Bats\", \"FLYING\"], [\"Prized Unicorn\", \"All creatures able to block CARDNAME do so.\"], [\"Daybreak Chaplain\", \"Lifelink (Damage dealt by this creature also causes you to gain that much life.)\"], [\"Canopy Spider\", \"REACH\"], [\"Savannah Sage\", \"ETB_EFFECT, you gain 2 life.\"], [\"Howling Giant\", \"REACH\\nETB_EFFECT, create two 2/2 green Wolf creature tokens.\"], [\"Woodland Mystic\", \"{T}: Add {G}.\"], [\"Ferocious Pup\", \"ETB_EFFECT, create a 2/2 green Wolf creature token.\"], [\"Natural End\", \"Destroy target artifact or enchantment. You gain 3 life.\"], [\"Engulfing Eruption\", \"CARDNAME deals 5 damage to target creature.\"], [\"Convolute\", \"Counter target spell unless its controller pays {4}.\"], [\"Feral Abomination\", \"DEATHTOUCH\"], [\"Dawning Angel\", \"FLYING\\nETB_EFFECT, you gain 4 life.\"], [\"Raise the Alarm\", \"Create two 1/1 white Soldier creature tokens.\"], [\"Dark Remedy\", \"Target creature gets +1/+3 until end of turn.\"], [\"Soul Salvage\", \"Return up to two target creature cards from your graveyard to your hand.\"], [\"Pacifism\", \"Enchant creature\\nEnchanted creature can't attack or block.\"], [\"Nimble Birdsticker\", \"REACH\"], [\"Concordia Pegasus\", \"FLYING\"], [\"Phantom Warrior\", \"CARDNAME can't be blocked.\"], [\"Sedge Scorpion\", \"DEATHTOUCH\"], [\"Show of Valor\", \"Target creature gets +2/+4 until end of turn.\"], [\"Empyrean Eagle\", \"FLYING\\nOther creatures you control with flying get +1/+1.\"], [\"Unsummon\", \"Return target creature to its owner's hand.\"], [\"Mountain\", \"({T}: Add {R}.)\"], [\"Angelic Gift\", \"Enchant creature\\nETB_EFFECT, draw a card.\\nEnchanted creature has flying.\"], [\"Soulmender\", \"{T}: You gain 1 life.\"], [\"Island\", \"({T}: Add {U}.)\"], [\"Hostile Minotaur\", \"HASTE\"]], \"hovertemplate\": \"x=%{x}<br>y=%{y}<br>name=%{customdata[0]}<br>text=%{customdata[1]}<extra></extra>\", \"legendgroup\": \"\", \"marker\": {\"color\": \"#636efa\", \"symbol\": \"circle\"}, \"mode\": \"markers\", \"name\": \"\", \"showlegend\": false, \"type\": \"scatter\", \"x\": [\"5.2924757\", \"4.995775\", \"3.3935332\", \"4.21971\", \"2.9438045\", \"7.138548\", \"5.8923664\", \"7.0815296\", \"3.7288997\", \"3.8320186\", \"2.918658\", \"0.5327107\", \"3.501515\", \"5.1305504\", \"2.3995993\", \"3.996649\", \"3.709413\", \"6.2740793\", \"3.9895902\", \"2.961242\", \"7.0990553\", \"4.8387733\", \"3.7676299\", \"5.527703\", \"2.988848\", \"0.4330233\", \"3.6779547\", \"1.8215157\", \"5.158506\", \"8.232647\", \"0.3428019\", \"4.1760917\", \"2.8658395\", \"5.718011\", \"2.7574413\", \"3.8779166\", \"3.8737743\", \"3.7541451\", \"2.1796281\", \"1.5807818\", \"5.92165\", \"8.277984\", \"2.4401393\", \"2.9789941\", \"4.1157403\", \"4.393066\", \"5.510202\", \"4.0123463\", \"2.1321063\", \"4.51747\", \"3.5242522\", \"5.6079817\", \"2.0742135\", \"0.13191745\", \"0.86369455\", \"1.0530779\", \"4.1916323\", \"5.537451\", \"4.197289\", \"3.4565272\", \"3.1129718\", \"3.747899\", \"1.0166003\", \"8.221465\", \"1.2701727\", \"4.2004395\", \"4.4418473\", \"6.5905457\", \"2.9072158\", \"4.661193\", \"6.2061777\", \"1.7900091\", \"0.97953814\", \"3.1371293\", \"3.5718606\", \"5.7557364\", \"4.6207128\", \"6.204174\", \"0.07533651\", \"5.7456656\", \"2.751118\", \"2.246926\", \"7.0648956\", \"4.1418405\", \"5.4737954\", \"4.7458706\", \"6.2437043\", \"2.664011\", \"3.6725655\", \"3.6153133\", \"3.0942214\", \"0.6705054\", \"6.2841177\", \"0.6752763\", \"4.266702\", \"4.6615276\", \"4.7109838\", \"6.4495134\", \"0.07857479\", \"8.283421\", \"1.4331249\", \"1.7771956\", \"4.044228\", \"3.6481402\", \"4.6157446\", \"3.7767286\", \"1.9267216\", \"4.557024\", \"1.6639796\", \"2.3276002\", \"2.895336\", \"0.1622061\", \"2.5199485\", \"3.3167605\", \"4.0251546\", \"8.2632475\", \"2.7734904\", \"3.9071574\", \"6.222824\", \"0.024871208\", \"6.2003894\", \"4.0381365\", \"3.6536388\", \"3.0054986\", \"3.8837485\", \"4.3743534\", \"2.8079016\", \"4.285772\", \"3.3646526\", \"1.2658031\", \"4.7886477\", \"4.9862785\", \"3.2433877\", \"0.25461355\", \"1.8725452\", \"5.7994347\", \"1.8858297\", \"5.4750423\", \"3.8627996\", \"4.383475\", \"2.4605558\", \"1.9537888\", \"4.0142975\", \"3.8189793\", \"3.951816\", \"2.1509979\", \"3.4690003\", \"2.7188785\", \"3.4501765\", \"3.132965\", \"0.13184056\", \"0.6090143\", \"2.3492315\", \"2.8061259\", \"0.8775711\", \"2.515659\", \"0.23996125\", \"1.8403457\", \"2.1237304\", \"4.0252614\", \"2.021902\", \"5.583974\", \"4.6465282\", \"1.7026938\", \"5.787886\", \"0.9461931\", \"3.3973591\", \"2.0456328\", \"4.0169435\", \"1.0824189\", \"5.278886\", \"4.951841\", \"5.410447\", \"5.4512362\", \"3.0724363\", \"3.5668292\", \"3.5561893\", \"1.7103703\", \"2.151848\", \"2.0396936\", \"5.8511896\", \"2.8478587\", \"1.878108\", \"4.5128694\", \"3.0195787\", \"2.5645368\", \"0.24872488\", \"0.3094889\", \"2.9815443\", \"0.1037295\", \"2.784314\", \"4.2102175\", \"-0.0015919592\", \"5.716781\", \"3.9073668\", \"7.0957885\", \"6.2675943\", \"2.0721498\", \"3.5902507\", \"4.23663\", \"2.404717\", \"4.702725\", \"1.12894\", \"5.1840143\", \"5.925053\", \"2.9284613\", \"1.3252321\", \"5.5411787\", \"3.634403\", \"0.62734634\", \"1.2181144\", \"3.4890406\", \"0.4978928\", \"3.8108852\", \"2.7076585\", \"3.2674475\", \"2.8368914\", \"2.8944733\", \"3.2659106\", \"2.3063154\", \"2.4206278\", \"6.146725\", \"0.30809984\", \"2.0567796\", \"0.38636693\", \"1.728129\", \"3.6803133\", \"0.848887\", \"2.1756456\", \"4.4249177\", \"2.8370748\", \"2.8291218\", \"1.985484\", \"2.310747\", \"3.0790007\", \"3.7684767\", \"6.1774178\", \"1.5142034\", \"2.9793365\", \"1.7347817\", \"1.5973234\", \"4.103765\", \"0.74673414\", \"4.556841\", \"3.0719104\", \"4.24107\", \"1.6917102\", \"5.6049814\", \"4.135823\", \"2.1710007\", \"5.1332803\", \"2.7624543\", \"4.1114173\", \"4.5794153\", \"2.3602362\", \"5.0661755\", \"6.1874814\", \"4.701207\", \"3.5174634\", \"4.372262\", \"4.323414\", \"2.9092066\", \"7.104686\", \"5.036915\", \"5.707318\", \"2.3221493\", \"0.8476687\", \"5.654652\", \"3.7921143\", \"4.6636796\", \"6.18281\", \"2.81268\", \"4.796611\", \"3.0844004\", \"1.8992697\", \"2.5869102\", \"2.5025856\", \"4.721586\", \"6.1993694\", \"4.614676\", \"6.008267\", \"3.3147492\", \"2.1901255\", \"2.0697565\", \"3.5875285\", \"0.16287623\", \"1.9864327\", \"2.8417482\", \"2.375973\", \"2.1446025\", \"3.6264887\", \"5.309959\", \"5.571464\", \"4.2758026\", \"1.8254099\", \"2.520436\", \"2.769547\", \"6.001748\", \"5.5589557\", \"3.1957088\", \"2.0812392\", \"1.941403\", \"3.9591024\", \"1.86769\", \"6.038287\", \"3.3738356\", \"6.069596\", \"0.5376186\", \"3.1502154\", \"2.2937267\", \"0.3612234\", \"1.8274479\"], \"xaxis\": \"x\", \"y\": [\"2.7116091\", \"1.8271025\", \"4.1822352\", \"2.1602767\", \"3.8373077\", \"-4.2270026\", \"4.4077115\", \"-4.1721034\", \"2.5427616\", \"2.9686656\", \"2.6647503\", \"2.3102505\", \"6.1806436\", \"2.0855155\", \"3.5261445\", \"1.3781544\", \"1.1905602\", \"3.4736164\", \"3.0210056\", \"4.881201\", \"-4.190132\", \"4.414321\", \"2.1257536\", \"2.8017054\", \"4.800525\", \"3.1553955\", \"6.2630043\", \"5.2443504\", \"3.7558846\", \"7.0596585\", \"3.3755226\", \"5.34326\", \"0.77256304\", \"2.0526853\", \"3.673329\", \"4.5562615\", \"4.1010213\", \"4.616181\", \"6.031171\", \"2.536858\", \"4.5395265\", \"6.999938\", \"1.7197201\", \"4.321277\", \"2.8177211\", \"2.5201013\", \"5.8021054\", \"2.3357873\", \"1.0480046\", \"1.7330145\", \"1.0686842\", \"4.1615314\", \"3.4398935\", \"4.013707\", \"2.1352315\", \"5.3178835\", \"6.1010156\", \"2.9570642\", \"6.297665\", \"3.738656\", \"2.3899527\", \"3.8440297\", \"1.5200012\", \"7.0392604\", \"2.7425137\", \"3.0662084\", \"5.766951\", \"2.6329641\", \"5.1833982\", \"5.447794\", \"2.8543785\", \"2.064329\", \"2.56812\", \"4.2087874\", \"2.3768046\", \"5.643114\", \"1.8305842\", \"2.3046327\", \"3.9765718\", \"4.248819\", \"4.8076086\", \"5.9439178\", \"-4.158301\", \"5.518664\", \"4.727595\", \"5.275043\", \"2.9203057\", \"3.3157508\", \"5.442887\", \"1.2075044\", \"5.5647917\", \"2.2310145\", \"3.4099407\", \"1.5282196\", \"2.8169742\", \"2.9720018\", \"2.7331235\", \"2.475195\", \"4.1253147\", \"6.9846125\", \"5.2149954\", \"5.1944532\", \"5.3631907\", \"6.268005\", \"2.9987495\", \"3.1619792\", \"4.2675643\", \"6.1512184\", \"5.172832\", \"5.992032\", \"5.134497\", \"2.7305446\", \"0.62241405\", \"1.8030281\", \"3.6963441\", \"7.0001106\", \"5.0605664\", \"4.443597\", \"2.352865\", \"2.881173\", \"3.4997513\", \"3.6919355\", \"1.1061392\", \"5.997102\", \"4.8355737\", \"3.0814981\", \"4.913869\", \"4.107123\", \"5.796861\", \"2.6060424\", \"5.5831428\", \"4.3649178\", \"5.48371\", \"2.771094\", \"3.8490481\", \"2.7235973\", \"1.720775\", \"4.5421214\", \"5.811909\", \"2.0065434\", \"3.4331238\", \"4.9426403\", \"4.3306704\", \"6.4520016\", \"1.2977664\", \"2.831763\", \"4.002903\", \"3.104309\", \"4.5173974\", \"0.78344685\", \"3.233857\", \"1.5665854\", \"0.9046964\", \"3.8612788\", \"5.1343575\", \"3.6422613\", \"3.621168\", \"4.100817\", \"1.0513822\", \"5.495959\", \"5.878037\", \"2.2443175\", \"5.456754\", \"5.0049877\", \"4.870999\", \"5.140724\", \"3.659979\", \"2.880293\", \"5.854442\", \"5.2673044\", \"2.1630142\", \"3.1164563\", \"2.7376175\", \"4.386823\", \"4.0879173\", \"3.8144634\", \"3.754601\", \"2.0718017\", \"1.6926632\", \"5.901348\", \"4.256937\", \"0.7985138\", \"1.6095057\", \"3.4384234\", \"0.7623462\", \"2.1645992\", \"2.8205154\", \"2.678344\", \"5.887506\", \"3.9357443\", \"0.96269053\", \"1.5238478\", \"3.9541116\", \"2.1984382\", \"4.4272227\", \"-4.188693\", \"2.6981287\", \"1.7664938\", \"3.1813266\", \"3.5626729\", \"0.8937788\", \"3.7473328\", \"1.971386\", \"5.8014326\", \"4.14842\", \"0.82049924\", \"1.8335594\", \"2.122706\", \"5.0946684\", \"1.7111862\", \"3.2799788\", \"2.33321\", \"3.846359\", \"2.6729178\", \"0.82529956\", \"4.0990353\", \"4.568792\", \"0.97694886\", \"3.5506299\", \"3.0305486\", \"0.61464787\", \"2.4888964\", \"3.086325\", \"4.9641466\", \"2.9331498\", \"5.2509637\", \"3.5736709\", \"3.1375606\", \"1.3360215\", \"5.3604627\", \"4.6821985\", \"4.475894\", \"3.6850204\", \"1.865191\", \"4.6178455\", \"4.358409\", \"2.3224854\", \"1.8889879\", \"1.7372149\", \"4.9922075\", \"2.3138483\", \"4.6681547\", \"4.9588885\", \"1.9287126\", \"1.5780143\", \"2.6635287\", \"4.928699\", \"5.7150397\", \"6.003847\", \"0.78654045\", \"2.2968717\", \"0.71647894\", \"5.8388534\", \"2.2533314\", \"2.2165885\", \"4.251981\", \"2.5402777\", \"3.019112\", \"3.907837\", \"5.6370673\", \"5.939664\", \"2.3215237\", \"-4.1962776\", \"5.3160777\", \"4.087335\", \"0.610878\", \"5.0689025\", \"5.6820984\", \"2.986512\", \"5.8186126\", \"2.400326\", \"4.1064334\", \"5.342056\", \"5.436449\", \"4.307622\", \"4.1643\", \"2.0549083\", \"5.654256\", \"2.1762314\", \"5.9595222\", \"2.2369003\", \"2.339003\", \"3.0320907\", \"4.316283\", \"5.8080144\", \"3.9420233\", \"3.7044172\", \"2.392702\", \"5.808891\", \"3.2737298\", \"3.5088475\", \"5.780984\", \"2.7720075\", \"5.937312\", \"4.4258666\", \"2.4566875\", \"5.962432\", \"2.4227612\", \"4.2704577\", \"5.608286\", \"3.5911024\", \"4.267227\", \"3.120267\", \"4.358803\", \"2.1892781\", \"4.9338884\", \"3.8518355\", \"2.8539739\", \"4.5091558\", \"2.075811\", \"2.7134993\", \"3.910824\"], \"yaxis\": \"y\"}],\n",
       "                        {\"legend\": {\"tracegroupgap\": 0}, \"margin\": {\"t\": 60}, \"template\": {\"data\": {\"bar\": [{\"error_x\": {\"color\": \"#2a3f5f\"}, \"error_y\": {\"color\": \"#2a3f5f\"}, \"marker\": {\"line\": {\"color\": \"#E5ECF6\", \"width\": 0.5}}, \"type\": \"bar\"}], \"barpolar\": [{\"marker\": {\"line\": {\"color\": \"#E5ECF6\", \"width\": 0.5}}, \"type\": \"barpolar\"}], \"carpet\": [{\"aaxis\": {\"endlinecolor\": \"#2a3f5f\", \"gridcolor\": \"white\", \"linecolor\": \"white\", \"minorgridcolor\": \"white\", \"startlinecolor\": \"#2a3f5f\"}, \"baxis\": {\"endlinecolor\": \"#2a3f5f\", \"gridcolor\": \"white\", \"linecolor\": \"white\", \"minorgridcolor\": \"white\", \"startlinecolor\": \"#2a3f5f\"}, \"type\": \"carpet\"}], \"choropleth\": [{\"colorbar\": {\"outlinewidth\": 0, \"ticks\": \"\"}, \"type\": \"choropleth\"}], \"contour\": [{\"colorbar\": {\"outlinewidth\": 0, \"ticks\": \"\"}, \"colorscale\": [[0.0, \"#0d0887\"], [0.1111111111111111, \"#46039f\"], [0.2222222222222222, \"#7201a8\"], [0.3333333333333333, \"#9c179e\"], [0.4444444444444444, \"#bd3786\"], [0.5555555555555556, \"#d8576b\"], [0.6666666666666666, \"#ed7953\"], [0.7777777777777778, \"#fb9f3a\"], [0.8888888888888888, \"#fdca26\"], [1.0, \"#f0f921\"]], \"type\": \"contour\"}], \"contourcarpet\": [{\"colorbar\": {\"outlinewidth\": 0, \"ticks\": \"\"}, \"type\": \"contourcarpet\"}], \"heatmap\": [{\"colorbar\": {\"outlinewidth\": 0, \"ticks\": \"\"}, \"colorscale\": [[0.0, \"#0d0887\"], [0.1111111111111111, \"#46039f\"], [0.2222222222222222, \"#7201a8\"], [0.3333333333333333, \"#9c179e\"], [0.4444444444444444, \"#bd3786\"], [0.5555555555555556, \"#d8576b\"], [0.6666666666666666, \"#ed7953\"], [0.7777777777777778, \"#fb9f3a\"], [0.8888888888888888, \"#fdca26\"], [1.0, \"#f0f921\"]], \"type\": \"heatmap\"}], \"heatmapgl\": [{\"colorbar\": {\"outlinewidth\": 0, \"ticks\": \"\"}, \"colorscale\": [[0.0, \"#0d0887\"], [0.1111111111111111, \"#46039f\"], [0.2222222222222222, \"#7201a8\"], [0.3333333333333333, \"#9c179e\"], [0.4444444444444444, \"#bd3786\"], [0.5555555555555556, \"#d8576b\"], [0.6666666666666666, \"#ed7953\"], [0.7777777777777778, \"#fb9f3a\"], [0.8888888888888888, \"#fdca26\"], [1.0, \"#f0f921\"]], \"type\": \"heatmapgl\"}], \"histogram\": [{\"marker\": {\"colorbar\": {\"outlinewidth\": 0, \"ticks\": \"\"}}, \"type\": \"histogram\"}], \"histogram2d\": [{\"colorbar\": {\"outlinewidth\": 0, \"ticks\": \"\"}, \"colorscale\": [[0.0, \"#0d0887\"], [0.1111111111111111, \"#46039f\"], [0.2222222222222222, \"#7201a8\"], [0.3333333333333333, \"#9c179e\"], [0.4444444444444444, \"#bd3786\"], [0.5555555555555556, \"#d8576b\"], [0.6666666666666666, \"#ed7953\"], [0.7777777777777778, \"#fb9f3a\"], [0.8888888888888888, \"#fdca26\"], [1.0, \"#f0f921\"]], \"type\": \"histogram2d\"}], \"histogram2dcontour\": [{\"colorbar\": {\"outlinewidth\": 0, \"ticks\": \"\"}, \"colorscale\": [[0.0, \"#0d0887\"], [0.1111111111111111, \"#46039f\"], [0.2222222222222222, \"#7201a8\"], [0.3333333333333333, \"#9c179e\"], [0.4444444444444444, \"#bd3786\"], [0.5555555555555556, \"#d8576b\"], [0.6666666666666666, \"#ed7953\"], [0.7777777777777778, \"#fb9f3a\"], [0.8888888888888888, \"#fdca26\"], [1.0, \"#f0f921\"]], \"type\": \"histogram2dcontour\"}], \"mesh3d\": [{\"colorbar\": {\"outlinewidth\": 0, \"ticks\": \"\"}, \"type\": \"mesh3d\"}], \"parcoords\": [{\"line\": {\"colorbar\": {\"outlinewidth\": 0, \"ticks\": \"\"}}, \"type\": \"parcoords\"}], \"pie\": [{\"automargin\": true, \"type\": \"pie\"}], \"scatter\": [{\"marker\": {\"colorbar\": {\"outlinewidth\": 0, \"ticks\": \"\"}}, \"type\": \"scatter\"}], \"scatter3d\": [{\"line\": {\"colorbar\": {\"outlinewidth\": 0, \"ticks\": \"\"}}, \"marker\": {\"colorbar\": {\"outlinewidth\": 0, \"ticks\": \"\"}}, \"type\": \"scatter3d\"}], \"scattercarpet\": [{\"marker\": {\"colorbar\": {\"outlinewidth\": 0, \"ticks\": \"\"}}, \"type\": \"scattercarpet\"}], \"scattergeo\": [{\"marker\": {\"colorbar\": {\"outlinewidth\": 0, \"ticks\": \"\"}}, \"type\": \"scattergeo\"}], \"scattergl\": [{\"marker\": {\"colorbar\": {\"outlinewidth\": 0, \"ticks\": \"\"}}, \"type\": \"scattergl\"}], \"scattermapbox\": [{\"marker\": {\"colorbar\": {\"outlinewidth\": 0, \"ticks\": \"\"}}, \"type\": \"scattermapbox\"}], \"scatterpolar\": [{\"marker\": {\"colorbar\": {\"outlinewidth\": 0, \"ticks\": \"\"}}, \"type\": \"scatterpolar\"}], \"scatterpolargl\": [{\"marker\": {\"colorbar\": {\"outlinewidth\": 0, \"ticks\": \"\"}}, \"type\": \"scatterpolargl\"}], \"scatterternary\": [{\"marker\": {\"colorbar\": {\"outlinewidth\": 0, \"ticks\": \"\"}}, \"type\": \"scatterternary\"}], \"surface\": [{\"colorbar\": {\"outlinewidth\": 0, \"ticks\": \"\"}, \"colorscale\": [[0.0, \"#0d0887\"], [0.1111111111111111, \"#46039f\"], [0.2222222222222222, \"#7201a8\"], [0.3333333333333333, \"#9c179e\"], [0.4444444444444444, \"#bd3786\"], [0.5555555555555556, \"#d8576b\"], [0.6666666666666666, \"#ed7953\"], [0.7777777777777778, \"#fb9f3a\"], [0.8888888888888888, \"#fdca26\"], [1.0, \"#f0f921\"]], \"type\": \"surface\"}], \"table\": [{\"cells\": {\"fill\": {\"color\": \"#EBF0F8\"}, \"line\": {\"color\": \"white\"}}, \"header\": {\"fill\": {\"color\": \"#C8D4E3\"}, \"line\": {\"color\": \"white\"}}, \"type\": \"table\"}]}, \"layout\": {\"annotationdefaults\": {\"arrowcolor\": \"#2a3f5f\", \"arrowhead\": 0, \"arrowwidth\": 1}, \"coloraxis\": {\"colorbar\": {\"outlinewidth\": 0, \"ticks\": \"\"}}, \"colorscale\": {\"diverging\": [[0, \"#8e0152\"], [0.1, \"#c51b7d\"], [0.2, \"#de77ae\"], [0.3, \"#f1b6da\"], [0.4, \"#fde0ef\"], [0.5, \"#f7f7f7\"], [0.6, \"#e6f5d0\"], [0.7, \"#b8e186\"], [0.8, \"#7fbc41\"], [0.9, \"#4d9221\"], [1, \"#276419\"]], \"sequential\": [[0.0, \"#0d0887\"], [0.1111111111111111, \"#46039f\"], [0.2222222222222222, \"#7201a8\"], [0.3333333333333333, \"#9c179e\"], [0.4444444444444444, \"#bd3786\"], [0.5555555555555556, \"#d8576b\"], [0.6666666666666666, \"#ed7953\"], [0.7777777777777778, \"#fb9f3a\"], [0.8888888888888888, \"#fdca26\"], [1.0, \"#f0f921\"]], \"sequentialminus\": [[0.0, \"#0d0887\"], [0.1111111111111111, \"#46039f\"], [0.2222222222222222, \"#7201a8\"], [0.3333333333333333, \"#9c179e\"], [0.4444444444444444, \"#bd3786\"], [0.5555555555555556, \"#d8576b\"], [0.6666666666666666, \"#ed7953\"], [0.7777777777777778, \"#fb9f3a\"], [0.8888888888888888, \"#fdca26\"], [1.0, \"#f0f921\"]]}, \"colorway\": [\"#636efa\", \"#EF553B\", \"#00cc96\", \"#ab63fa\", \"#FFA15A\", \"#19d3f3\", \"#FF6692\", \"#B6E880\", \"#FF97FF\", \"#FECB52\"], \"font\": {\"color\": \"#2a3f5f\"}, \"geo\": {\"bgcolor\": \"white\", \"lakecolor\": \"white\", \"landcolor\": \"#E5ECF6\", \"showlakes\": true, \"showland\": true, \"subunitcolor\": \"white\"}, \"hoverlabel\": {\"align\": \"left\"}, \"hovermode\": \"closest\", \"mapbox\": {\"style\": \"light\"}, \"paper_bgcolor\": \"white\", \"plot_bgcolor\": \"#E5ECF6\", \"polar\": {\"angularaxis\": {\"gridcolor\": \"white\", \"linecolor\": \"white\", \"ticks\": \"\"}, \"bgcolor\": \"#E5ECF6\", \"radialaxis\": {\"gridcolor\": \"white\", \"linecolor\": \"white\", \"ticks\": \"\"}}, \"scene\": {\"xaxis\": {\"backgroundcolor\": \"#E5ECF6\", \"gridcolor\": \"white\", \"gridwidth\": 2, \"linecolor\": \"white\", \"showbackground\": true, \"ticks\": \"\", \"zerolinecolor\": \"white\"}, \"yaxis\": {\"backgroundcolor\": \"#E5ECF6\", \"gridcolor\": \"white\", \"gridwidth\": 2, \"linecolor\": \"white\", \"showbackground\": true, \"ticks\": \"\", \"zerolinecolor\": \"white\"}, \"zaxis\": {\"backgroundcolor\": \"#E5ECF6\", \"gridcolor\": \"white\", \"gridwidth\": 2, \"linecolor\": \"white\", \"showbackground\": true, \"ticks\": \"\", \"zerolinecolor\": \"white\"}}, \"shapedefaults\": {\"line\": {\"color\": \"#2a3f5f\"}}, \"ternary\": {\"aaxis\": {\"gridcolor\": \"white\", \"linecolor\": \"white\", \"ticks\": \"\"}, \"baxis\": {\"gridcolor\": \"white\", \"linecolor\": \"white\", \"ticks\": \"\"}, \"bgcolor\": \"#E5ECF6\", \"caxis\": {\"gridcolor\": \"white\", \"linecolor\": \"white\", \"ticks\": \"\"}}, \"title\": {\"x\": 0.05}, \"xaxis\": {\"automargin\": true, \"gridcolor\": \"white\", \"linecolor\": \"white\", \"ticks\": \"\", \"title\": {\"standoff\": 15}, \"zerolinecolor\": \"white\", \"zerolinewidth\": 2}, \"yaxis\": {\"automargin\": true, \"gridcolor\": \"white\", \"linecolor\": \"white\", \"ticks\": \"\", \"title\": {\"standoff\": 15}, \"zerolinecolor\": \"white\", \"zerolinewidth\": 2}}}, \"xaxis\": {\"anchor\": \"y\", \"domain\": [0.0, 1.0], \"title\": {\"text\": \"x\"}}, \"yaxis\": {\"anchor\": \"x\", \"domain\": [0.0, 1.0], \"title\": {\"text\": \"y\"}}},\n",
       "                        {\"responsive\": true}\n",
       "                    ).then(function(){\n",
       "                            \n",
       "var gd = document.getElementById('9a3d9322-01d7-43ba-a3c1-7734f07ff405');\n",
       "var x = new MutationObserver(function (mutations, observer) {{\n",
       "        var display = window.getComputedStyle(gd).display;\n",
       "        if (!display || display === 'none') {{\n",
       "            console.log([gd, 'removed!']);\n",
       "            Plotly.purge(gd);\n",
       "            observer.disconnect();\n",
       "        }}\n",
       "}});\n",
       "\n",
       "// Listen for the removal of the full notebook cells\n",
       "var notebookContainer = gd.closest('#notebook-container');\n",
       "if (notebookContainer) {{\n",
       "    x.observe(notebookContainer, {childList: true});\n",
       "}}\n",
       "\n",
       "// Listen for the clearing of the current output cell\n",
       "var outputEl = gd.closest('.output');\n",
       "if (outputEl) {{\n",
       "    x.observe(outputEl, {childList: true});\n",
       "}}\n",
       "\n",
       "                        })\n",
       "                };\n",
       "                });\n",
       "            </script>\n",
       "        </div>"
      ]
     },
     "metadata": {},
     "output_type": "display_data"
    }
   ],
   "source": [
    "import plotly\n",
    "import plotly.express as px\n",
    "plotly.offline.init_notebook_mode(connected=True)\n",
    "\n",
    "fig = px.scatter(data_frame=df, x='x', y='y', hover_data=['name', 'text'])\n",
    "fig.show()"
   ]
  },
  {
   "cell_type": "code",
   "execution_count": null,
   "metadata": {},
   "outputs": [],
   "source": []
  }
 ],
 "metadata": {
  "kernelspec": {
   "display_name": "Python 3",
   "language": "python",
   "name": "python3"
  },
  "language_info": {
   "codemirror_mode": {
    "name": "ipython",
    "version": 3
   },
   "file_extension": ".py",
   "mimetype": "text/x-python",
   "name": "python",
   "nbconvert_exporter": "python",
   "pygments_lexer": "ipython3",
   "version": "3.6.9"
  },
  "toc-autonumbering": true,
  "widgets": {
   "application/vnd.jupyter.widget-state+json": {
    "state": {},
    "version_major": 2,
    "version_minor": 0
   }
  }
 },
 "nbformat": 4,
 "nbformat_minor": 4
}
