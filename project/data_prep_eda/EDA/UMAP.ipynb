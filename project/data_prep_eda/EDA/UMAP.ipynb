{
 "cells": [
  {
   "cell_type": "markdown",
   "metadata": {
    "Collapsed": "false"
   },
   "source": [
    "# Imports"
   ]
  },
  {
   "cell_type": "code",
   "execution_count": 1,
   "metadata": {
    "Collapsed": "false"
   },
   "outputs": [],
   "source": [
    "import gensim\n",
    "from gensim import corpora\n",
    "from pprint import pprint\n",
    "from gensim.models.doc2vec import Doc2Vec, TaggedDocument\n",
    "from nltk.tokenize import word_tokenize\n",
    "import numpy as np\n",
    "import sklearn\n",
    "import pandas as pd\n",
    "import umap\n",
    "from pymongo import MongoClient\n",
    "from sklearn.neighbors import NearestNeighbors\n",
    "import tqdm\n",
    "import pickle"
   ]
  },
  {
   "cell_type": "markdown",
   "metadata": {
    "Collapsed": "false"
   },
   "source": [
    "# Read Data "
   ]
  },
  {
   "cell_type": "code",
   "execution_count": 2,
   "metadata": {
    "Collapsed": "false"
   },
   "outputs": [
    {
     "data": {
      "text/plain": [
       "pyspark.sql.session.SparkSession"
      ]
     },
     "execution_count": 2,
     "metadata": {},
     "output_type": "execute_result"
    }
   ],
   "source": [
    "type(spark)"
   ]
  },
  {
   "cell_type": "code",
   "execution_count": 3,
   "metadata": {
    "Collapsed": "false"
   },
   "outputs": [],
   "source": [
    "df = spark.read.parquet('../dataset/M20_cards.parquet')"
   ]
  },
  {
   "cell_type": "code",
   "execution_count": 4,
   "metadata": {
    "Collapsed": "false"
   },
   "outputs": [],
   "source": [
    "as_dict = df.rdd.map(lambda row: row.asDict())"
   ]
  },
  {
   "cell_type": "code",
   "execution_count": 5,
   "metadata": {
    "Collapsed": "false"
   },
   "outputs": [],
   "source": [
    "cards = as_dict.collect()"
   ]
  },
  {
   "cell_type": "markdown",
   "metadata": {
    "Collapsed": "false"
   },
   "source": [
    "# Tokenize"
   ]
  },
  {
   "cell_type": "code",
   "execution_count": 6,
   "metadata": {
    "Collapsed": "false"
   },
   "outputs": [],
   "source": [
    "field_text = \"filteredText\"\n",
    "\n",
    "data_list = [{'number': card['number'], 'text': card[field_text], 'name': card['name']} for card in cards if field_text in card if card[field_text] is not None]\n",
    "card_names = list(map(lambda card: card['name'], data_list))\n",
    "data = list(map(lambda card: card['text'], data_list))"
   ]
  },
  {
   "cell_type": "code",
   "execution_count": 7,
   "metadata": {
    "Collapsed": "false"
   },
   "outputs": [],
   "source": [
    "tagged_data = [\n",
    "    TaggedDocument(words=word_tokenize(_d.lower()), tags=[str(i)])\n",
    "    for i, _d in enumerate(data) if _d is not None\n",
    "]"
   ]
  },
  {
   "cell_type": "markdown",
   "metadata": {
    "Collapsed": "false"
   },
   "source": [
    "# Train model"
   ]
  },
  {
   "cell_type": "code",
   "execution_count": 8,
   "metadata": {
    "Collapsed": "false"
   },
   "outputs": [],
   "source": [
    "max_epochs = 100\n",
    "vec_size = 50\n",
    "alpha = 0.025"
   ]
  },
  {
   "cell_type": "code",
   "execution_count": 9,
   "metadata": {
    "Collapsed": "false"
   },
   "outputs": [],
   "source": [
    "model = Doc2Vec(vector_size=vec_size, alpha=alpha, min_alpha=0.00025, min_count=1, dm=1)\n",
    "model.build_vocab(tagged_data)"
   ]
  },
  {
   "cell_type": "code",
   "execution_count": 10,
   "metadata": {
    "Collapsed": "false"
   },
   "outputs": [
    {
     "name": "stderr",
     "output_type": "stream",
     "text": [
      "100%|██████████| 100/100 [00:14<00:00,  6.86it/s]\n"
     ]
    }
   ],
   "source": [
    "for epoch in tqdm.tqdm(range(max_epochs)):\n",
    "    model.train(tagged_data, total_examples=model.corpus_count, epochs=model.epochs)\n",
    "    # decrease the learning rate\n",
    "    model.alpha -= 0.0002\n",
    "    # fix the learning rate, no decay\n",
    "    model.min_alpha = model.alpha"
   ]
  },
  {
   "cell_type": "code",
   "execution_count": 11,
   "metadata": {
    "Collapsed": "false"
   },
   "outputs": [],
   "source": [
    "# model.save(\"d2v.model\")"
   ]
  },
  {
   "cell_type": "code",
   "execution_count": 12,
   "metadata": {
    "Collapsed": "false"
   },
   "outputs": [
    {
     "name": "stderr",
     "output_type": "stream",
     "text": [
      "100%|██████████| 312/312 [00:00<00:00, 147069.32it/s]\n"
     ]
    }
   ],
   "source": [
    "X = list()\n",
    "\n",
    "for i in tqdm.tqdm(range(len(model.docvecs))):\n",
    "    X.append(model.docvecs[i])\n",
    "    \n",
    "docvecs = np.array(X)"
   ]
  },
  {
   "cell_type": "markdown",
   "metadata": {
    "Collapsed": "false"
   },
   "source": [
    "# Project and embed data"
   ]
  },
  {
   "cell_type": "code",
   "execution_count": 13,
   "metadata": {
    "Collapsed": "false"
   },
   "outputs": [],
   "source": [
    "rng = np.random.RandomState(0)"
   ]
  },
  {
   "cell_type": "code",
   "execution_count": 14,
   "metadata": {
    "Collapsed": "false"
   },
   "outputs": [],
   "source": [
    "pca = sklearn.decomposition.PCA(random_state=rng)\n",
    "X_docvecs = pca.fit_transform(docvecs)"
   ]
  },
  {
   "cell_type": "code",
   "execution_count": 15,
   "metadata": {
    "Collapsed": "false"
   },
   "outputs": [],
   "source": [
    "mdl_umap = umap.UMAP(n_neighbors=5, metric='euclidean', random_state=rng, transform_seed=rng)\n",
    "embedded_docvecs = mdl_umap.fit_transform(docvecs)"
   ]
  },
  {
   "cell_type": "code",
   "execution_count": 16,
   "metadata": {
    "Collapsed": "false"
   },
   "outputs": [],
   "source": [
    "# with open(\"../mdl_umap.pickle\",\"wb\") as fp:\n",
    "#     pickle.dump(mdl_umap, fp)\n",
    "# fp.close()"
   ]
  },
  {
   "cell_type": "markdown",
   "metadata": {
    "Collapsed": "false"
   },
   "source": [
    "# Find similar cards (up to 20) and cache the results"
   ]
  },
  {
   "cell_type": "code",
   "execution_count": 17,
   "metadata": {
    "Collapsed": "false"
   },
   "outputs": [],
   "source": [
    "similarity_results = list()\n",
    "\n",
    "for card, embedded_vector in zip(cards, embedded_docvecs):\n",
    "    knn = NearestNeighbors(n_neighbors=1, metric='euclidean')\n",
    "    knn.fit(embedded_docvecs)\n",
    "    \n",
    "    distances, neighs_ids = knn.kneighbors(np.reshape(embedded_vector,[1, 2]), 20, return_distance=True)\n",
    "    \n",
    "    similarity_results.append({'number': card['number'], 'similar': neighs_ids[0].tolist()})"
   ]
  },
  {
   "cell_type": "markdown",
   "metadata": {
    "Collapsed": "false"
   },
   "source": [
    "# Save feature vectors "
   ]
  },
  {
   "cell_type": "code",
   "execution_count": 18,
   "metadata": {
    "Collapsed": "false"
   },
   "outputs": [],
   "source": [
    "client = MongoClient(\"localhost\")\n",
    "db = client['mtggg']"
   ]
  },
  {
   "cell_type": "code",
   "execution_count": 19,
   "metadata": {
    "Collapsed": "false"
   },
   "outputs": [],
   "source": [
    "feats = [{'number': card['number'], 'docvect': feature_vector.tolist(), 'embedded_vect': embedded_vector.tolist()} \n",
    "             for card, feature_vector, embedded_vector in zip(cards, docvecs, embedded_docvecs)\n",
    "]"
   ]
  },
  {
   "cell_type": "code",
   "execution_count": 20,
   "metadata": {
    "Collapsed": "false"
   },
   "outputs": [],
   "source": [
    "# result = db.ml.feats.v1.insert_many(feats)\n",
    "# result.acknowledged"
   ]
  },
  {
   "cell_type": "code",
   "execution_count": 21,
   "metadata": {
    "Collapsed": "false"
   },
   "outputs": [],
   "source": [
    "# result = db.ml.similar.v1.insert_many(similarity_results)\n",
    "# result.acknowledged"
   ]
  },
  {
   "cell_type": "markdown",
   "metadata": {
    "Collapsed": "false"
   },
   "source": [
    "# Plot scatter"
   ]
  },
  {
   "cell_type": "code",
   "execution_count": 22,
   "metadata": {
    "Collapsed": "false"
   },
   "outputs": [],
   "source": [
    "mdl_umap = umap.UMAP(n_neighbors=5, metric='euclidean', random_state=rng, transform_seed=rng)\n",
    "embedded_docvecs = mdl_umap.fit_transform(docvecs)"
   ]
  },
  {
   "cell_type": "code",
   "execution_count": 23,
   "metadata": {
    "Collapsed": "false"
   },
   "outputs": [],
   "source": [
    "df = pd.DataFrame(np.hstack([embedded_docvecs, np.reshape(data, [312, 1]), np.reshape(card_names, [312, 1])]), columns=['x', 'y', 'text', 'name'])"
   ]
  },
  {
   "cell_type": "code",
   "execution_count": 24,
   "metadata": {
    "Collapsed": "false"
   },
   "outputs": [
    {
     "data": {
      "text/html": [
       "        <script type=\"text/javascript\">\n",
       "        window.PlotlyConfig = {MathJaxConfig: 'local'};\n",
       "        if (window.MathJax) {MathJax.Hub.Config({SVG: {font: \"STIX-Web\"}});}\n",
       "        if (typeof require !== 'undefined') {\n",
       "        require.undef(\"plotly\");\n",
       "        requirejs.config({\n",
       "            paths: {\n",
       "                'plotly': ['https://cdn.plot.ly/plotly-latest.min']\n",
       "            }\n",
       "        });\n",
       "        require(['plotly'], function(Plotly) {\n",
       "            window._Plotly = Plotly;\n",
       "        });\n",
       "        }\n",
       "        </script>\n",
       "        "
      ]
     },
     "metadata": {},
     "output_type": "display_data"
    },
    {
     "data": {
      "application/vnd.plotly.v1+json": {
       "config": {
        "plotlyServerURL": "https://plot.ly"
       },
       "data": [
        {
         "customdata": [
          [
           "Chandra, Awakened Inferno",
           "This spell can't be countered.\n[+2]: Each opponent gets an emblem with \"At the beginning of your upkeep, this emblem deals 1 damage to you.\"\n[−3]: CARDNAME deals 3 damage to each non-Elemental creature.\n−X: CARDNAME deals X damage to target creature or planeswalker. If a permanent dealt damage this way would die this turn, exile it instead."
          ],
          [
           "Cavalier of Flame",
           "{1}{R}: Creatures you control get +1/+0 and gain haste until end of turn.\nETB_EFFECT, discard any number of cards, then draw that many cards.\nWhen CARDNAME dies, it deals X damage to each opponent and each planeswalker they control, where X is the number of land cards in your graveyard."
          ],
          [
           "Cavalier of Thorns",
           "REACH\nETB_EFFECT, reveal the top five cards of your library. Put a land card from among them onto the battlefield and the rest into your graveyard.\nWhen CARDNAME dies, you may exile it. If you do, put another target card from your graveyard on top of your library."
          ],
          [
           "Omnath, Locus of the Roil",
           "ETB_EFFECT, it deals damage to any target equal to the number of Elementals you control.\nWhenever a land enters the battlefield under your control, put a +1/+1 counter on target Elemental you control. If you control eight or more lands, draw a card."
          ],
          [
           "Kaalia, Zenith Seeker",
           "FLYING, vigilance\nETB_EFFECT, look at the top six cards of your library. You may reveal an Angel card, a Demon card, and/or a Dragon card from among them and put them into your hand. Put the rest on the bottom of your library in a random order."
          ],
          [
           "Mask of Immolation",
           "ETB_EFFECT, create a 1/1 red Elemental creature token, then attach CARDNAME to it.\nEquipped creature has \"Sacrifice this creature: It deals 1 damage to any target.\"\nEquip {2} ({2}: Attach to target creature you control. Equip only as a sorcery.)"
          ],
          [
           "Cavalier of Dawn",
           "VIGILANCE\nETB_EFFECT, destroy up to one target nonland permanent. Its controller creates a 3/3 colorless Golem artifact creature token.\nWhen CARDNAME dies, return target artifact or enchantment card from your graveyard to your hand."
          ],
          [
           "Wolfrider's Saddle",
           "ETB_EFFECT, create a 2/2 green Wolf creature token, then attach CARDNAME to it.\nEquipped creature gets +1/+1 and can't be blocked by more than one creature.\nEquip {3} ({3}: Attach to target creature you control. Equip only as a sorcery.)"
          ],
          [
           "Risen Reef",
           "Whenever CARDNAME or another Elemental enters the battlefield under your control, look at the top card of your library. If it's a land card, you may put it onto the battlefield tapped. If you don't put the card onto the battlefield, put it into your hand."
          ],
          [
           "Atemsis, All-Seeing",
           "FLYING\n{2}{U}, {T}: Draw two cards, then discard a card.\nWhenever CARDNAME deals damage to an opponent, you may reveal your hand. If cards with at least six different converted mana costs are revealed this way, that player loses the game."
          ],
          [
           "Overgrowth Elemental",
           "ETB_EFFECT, put a +1/+1 counter on another target Elemental you control.\nWhenever another creature you control dies, you gain 1 life. If that creature was an Elemental, put a +1/+1 counter on CARDNAME."
          ],
          [
           "Barkhide Troll",
           "CARDNAME enters the battlefield with a +1/+1 counter on it.\n{1}, Remove a +1/+1 counter from CARDNAME: CARDNAME gains hexproof until end of turn. (It can't be the target of spells or abilities your opponents control.)"
          ],
          [
           "Voracious Hydra",
           "TRAMPLE\nCARDNAME enters the battlefield with X +1/+1 counters on it.\nETB_EFFECT, choose one —\n• Double the number of +1/+1 counters on CARDNAME.\n• CARDNAME fights target creature you don't control."
          ],
          [
           "Gruesome Scourger",
           "ETB_EFFECT, it deals damage to target opponent or planeswalker equal to the number of creatures you control."
          ],
          [
           "Icon of Ancestry",
           "As CARDNAME enters the battlefield, choose a creature type.\nCreatures you control of the chosen type get +1/+1.\n{3}, {T}: Look at the top three cards of your library. You may reveal a creature card of the chosen type from among them and put it into your hand. Put the rest on the bottom of your library in a random order."
          ],
          [
           "Cryptic Caves",
           "{T}: Add {C}.\n{1}, {T}, Sacrifice CARDNAME: Draw a card. Activate this ability only if you control five or more lands."
          ],
          [
           "Evolving Wilds",
           "{T}, Sacrifice CARDNAME: Search your library for a basic land card, put it onto the battlefield tapped, then shuffle your library."
          ],
          [
           "Mu Yanling, Sky Dancer",
           "[+2]: Until your next turn, up to one target creature gets -2/-0 and loses flying.\n[−3]: Create a 4/4 blue Elemental Bird creature token with flying.\n[−8]: You get an emblem with \"Islands you control have '{T}: Draw a card.'\""
          ],
          [
           "Bloodsoaked Altar",
           "{T}, Pay 2 life, Discard a card, Sacrifice a creature: Create a 5/5 black Demon creature token with flying. Activate this ability only any time you could cast a sorcery."
          ],
          [
           "Leyline of Abundance",
           "If CARDNAME is in your opening hand, you may begin the game with it on the battlefield.\nWhenever you tap a creature for mana, add an additional {G}.\n{6}{G}{G}: Put a +1/+1 counter on each creature you control."
          ],
          [
           "Ancestral Blade",
           "ETB_EFFECT, create a 1/1 white Soldier creature token, then attach CARDNAME to it.\nEquipped creature gets +1/+1.\nEquip {1} ({1}: Attach to target creature you control. Equip only as a sorcery.)"
          ],
          [
           "Chandra, Acolyte of Flame",
           "[0]: Put a loyalty counter on each red planeswalker you control.\n[0]: Create two 1/1 red Elemental creature tokens. They gain haste. Sacrifice them at the beginning of the next end step.\n[−2]: You may cast target instant or sorcery card with converted mana cost 3 or less from your graveyard. If that card would be put into your graveyard this turn, exile it instead."
          ],
          [
           "Chandra's Regulator",
           "Whenever you activate a loyalty ability of a Chandra planeswalker, you may pay {1}. If you do, copy that ability. You may choose new targets for the copy.\n{1}, {T}, Discard a Mountain card or a red card: Draw a card."
          ],
          [
           "Fry",
           "This spell can't be countered.\nCARDNAME deals 5 damage to target creature or planeswalker that's white or blue."
          ],
          [
           "Gauntlets of Light",
           "Enchant creature\nEnchanted creature gets +0/+2 and assigns combat damage equal to its toughness rather than its power.\nEnchanted creature has \"{2}{W}: Untap this creature.\""
          ],
          [
           "Angelic Guardian",
           "FLYING\nWhenever one or more creatures you control attack, they gain indestructible until end of turn. (Damage and effects that say \"destroy\" don't destroy them.)"
          ],
          [
           "Gargos, Vicious Watcher",
           "VIGILANCE\nHydra spells you cast cost {4} less to cast.\nWhenever a creature you control becomes the target of a spell, CARDNAME fights up to one target creature you don't control."
          ],
          [
           "Shifting Ceratops",
           "This spell can't be countered.\nPROTECTION_FROM_BLUE\n{G}: CARDNAME gains your choice of reach, trample, or haste until end of turn."
          ],
          [
           "Kethis, the Hidden Hand",
           "Legendary spells you cast cost {1} less to cast.\nExile two legendary cards from your graveyard: Until end of turn, each legendary card in your graveyard gains \"You may play this card from your graveyard.\""
          ],
          [
           "Chandra's Flame Wave",
           "CARDNAME deals 2 damage to target player and each creature that player controls. Search your library and/or graveyard for a card named Chandra, Flame's Fury, reveal it, and put it into your hand. If you search your library this way, shuffle it."
          ],
          [
           "Sephara, Sky's Blade",
           "You may pay {W} and tap four untapped creatures you control with flying rather than pay this spell's mana cost.\nFLYING, lifelink\nOther creatures you control with flying have indestructible. (Damage and effects that say \"destroy\" don't destroy them.)"
          ],
          [
           "Drakuseth, Maw of Flames",
           "FLYING\nWhenever CARDNAME attacks, it deals 4 damage to any target and 3 damage to each of up to two other targets."
          ],
          [
           "Veil of Summer",
           "Draw a card if an opponent has cast a blue or black spell this turn. Spells you control can't be countered this turn. You and permanents you control gain hexproof from blue and from black until end of turn. (You and they can't be the targets of blue or black spells or abilities your opponents control.)"
          ],
          [
           "Sorin, Vampire Lord",
           "[+1]: Up to one target creature gets +2/+0 until end of turn.\n[−2]: CARDNAME deals 4 damage to any target. You gain 4 life.\n[−8]: Until end of turn, each Vampire you control gains \"{T}: Gain control of target creature.\""
          ],
          [
           "Diamond Knight",
           "VIGILANCE\nAs CARDNAME enters the battlefield, choose a color.\nWhenever you cast a spell of the chosen color, put a +1/+1 counter on CARDNAME."
          ],
          [
           "Thicket Crasher",
           "TRAMPLE\nOther Elementals you control have trample."
          ],
          [
           "Ajani, Strength of the Pride",
           "[+1]: You gain life equal to the number of creatures you control plus the number of planeswalkers you control.\n[−2]: Create a 2/2 white Cat Soldier creature token named Ajani's Pridemate with \"Whenever you gain life, put a +1/+1 counter on Ajani's Pridemate.\"\n[0]: If you have at least 15 life more than your starting life total, exile CARDNAME and each artifact and creature your opponents control."
          ],
          [
           "Aggressive Mammoth",
           "TRAMPLE\nOther creatures you control have trample."
          ],
          [
           "Octoprophet",
           "ETB_EFFECT, scry 2. (Look at the top two cards of your library, then put any number of them on the bottom of your library and the rest on top in any order.)"
          ],
          [
           "Knight of the Ebon Legion",
           "{2}{B}: CARDNAME gets +3/+3 and gains deathtouch until end of turn.\nAt the beginning of your end step, if a player lost 4 or more life this turn, put a +1/+1 counter on CARDNAME. (Damage causes loss of life.)"
          ],
          [
           "Salvager of Ruin",
           "Sacrifice CARDNAME: Choose target permanent card in your graveyard that was put there from the battlefield this turn. Return it to your hand."
          ],
          [
           "Yanling's Harbinger",
           "FLYING\nETB_EFFECT, you may search your library and/or graveyard for a card named Mu Yanling, Celestial Wind, reveal it, and put it into your hand. If you search your library this way, shuffle it."
          ],
          [
           "Gorging Vulture",
           "FLYING\nETB_EFFECT, put the top four cards of your library into your graveyard. You gain 1 life for each creature card put into your graveyard this way."
          ],
          [
           "Celestial Messenger",
           "FLASH (You may cast this card any time you could cast an instant.)\nFLYING\nCARDNAME gets +1/+1 as long as you control a Yanling planeswalker."
          ],
          [
           "Glint-Horn Buccaneer",
           "HASTE\nWhenever you discard a card, CARDNAME deals 1 damage to each opponent.\n{1}{R}, Discard a card: Draw a card. Activate this ability only if CARDNAME is attacking."
          ],
          [
           "Leyline of Combustion",
           "If CARDNAME is in your opening hand, you may begin the game with it on the battlefield.\nWhenever you and/or at least one permanent you control becomes the target of a spell or ability an opponent controls, CARDNAME deals 2 damage to that player."
          ],
          [
           "Gift of Paradise",
           "Enchant land\nETB_EFFECT, you gain 3 life.\nEnchanted land has \"{T}: Add two mana of any one color.\""
          ],
          [
           "Loaming Shaman",
           "ETB_EFFECT, target player shuffles any number of target cards from their graveyard into their library."
          ],
          [
           "Blossoming Sands",
           "ENTER_TAPPED\nETB_EFFECT, you gain 1 life.\n{T}: Add {G} or {W}."
          ],
          [
           "Ember Hauler",
           "{1}, Sacrifice CARDNAME: It deals 2 damage to any target."
          ],
          [
           "Renowned Weaponsmith",
           "{T}: Add {C}{C}. Spend this mana only to cast artifact spells or activate abilities of artifacts.\n{U}, {T}: Search your library for a card named Heart-Piercer Bow or Vial of Dragonfire, reveal it, put it into your hand, then shuffle your library."
          ],
          [
           "Scholar of the Ages",
           "ETB_EFFECT, return up to two target instant and/or sorcery cards from your graveyard to your hand."
          ],
          [
           "Brightwood Tracker",
           "{5}{G}, {T}: Look at the top four cards of your library. You may reveal a creature card from among them and put it into your hand. Put the rest on the bottom of your library in a random order."
          ],
          [
           "Tomebound Lich",
           "DEATHTOUCH\nLifelink (Damage dealt by this creature also causes you to gain that much life.)\nWhenever CARDNAME enters the battlefield or deals combat damage to a player, draw a card, then discard a card."
          ],
          [
           "Leyline of Anticipation",
           "If CARDNAME is in your opening hand, you may begin the game with it on the battlefield.\nYou may cast spells as though they had flash."
          ],
          [
           "Thunderkin Awakener",
           "HASTE\nWhenever CARDNAME attacks, choose target Elemental creature card in your graveyard with toughness less than CARDNAME's toughness. Return that card to the battlefield tapped and attacking. Sacrifice it at the beginning of the next end step."
          ],
          [
           "Flood of Tears",
           "Return all nonland permanents to their owners' hands. If you return four or more nontoken permanents you control this way, you may put a permanent card from your hand onto the battlefield."
          ],
          [
           "Eternal Isolation",
           "Put target creature with power 4 or greater on the bottom of its owner's library."
          ],
          [
           "Meteor Golem",
           "ETB_EFFECT, destroy target nonland permanent an opponent controls."
          ],
          [
           "Pattern Matcher",
           "ETB_EFFECT, you may search your library for a card with the same name as another creature you control, reveal it, put it into your hand, then shuffle your library."
          ],
          [
           "Ajani, Inspiring Leader",
           "[+2]: You gain 2 life. Put two +1/+1 counters on up to one target creature.\n[−3]: Exile target creature. Its controller gains 2 life.\n[−10]: Creatures you control gain flying and double strike until end of turn."
          ],
          [
           "Cloudkin Seer",
           "FLYING\nETB_EFFECT, draw a card."
          ],
          [
           "Mystic Forge",
           "You may look at the top card of your library any time.\nYou may cast the top card of your library if it's an artifact card or a colorless nonland card.\n{T}, Pay 1 life: Exile the top card of your library."
          ],
          [
           "Sorin's Guide",
           "ETB_EFFECT, you may search your library and/or graveyard for a card named Sorin, Vampire Lord, reveal it, and put it into your hand. If you search your library this way, shuffle it."
          ],
          [
           "Wildfire Elemental",
           "Whenever an opponent is dealt noncombat damage, creatures you control get +1/+0 until end of turn."
          ],
          [
           "Kykar, Wind's Fury",
           "FLYING\nWhenever you cast a noncreature spell, create a 1/1 white Spirit creature token with flying.\nSacrifice a Spirit: Add {R}."
          ],
          [
           "Cerulean Drake",
           "FLYING\nPROTECTION_FROM_RED\nSacrifice CARDNAME: Counter target spell that targets you."
          ],
          [
           "Portal of Sanctuary",
           "{1}, {T}: Return target creature you control and each Aura attached to it to their owners' hands. Activate this ability only during your turn."
          ],
          [
           "Frost Lynx",
           "ETB_EFFECT, tap target creature an opponent controls. That creature doesn't untap during its controller's next untap step."
          ],
          [
           "Plummet",
           "Destroy target creature with flying."
          ],
          [
           "Vivien, Nature's Avenger",
           "[+1]: Put three +1/+1 counters on up to one target creature.\n[−1]: Reveal cards from the top of your library until you reveal a creature card. Put that card into your hand and the rest on the bottom of your library in a random order.\n[−6]: Target creature gets +10/+10 and gains trample until end of turn."
          ],
          [
           "Embodiment of Agonies",
           "FLYING, deathtouch\nCARDNAME enters the battlefield with a +1/+1 counter on it for each different mana cost among nonland cards in your graveyard. (For example, {2}{B} and {1}{B}{B} are different mana costs.)"
          ],
          [
           "Vilis, Broker of Blood",
           "FLYING\n{B}, Pay 2 life: Target creature gets -1/-1 until end of turn.\nWhenever you lose life, draw that many cards. (Damage causes loss of life.)"
          ],
          [
           "Thirsting Bloodlord",
           "Other Vampires you control get +1/+1."
          ],
          [
           "Chandra, Flame's Fury",
           "[+1]: CARDNAME deals 2 damage to any target.\n[−2]: CARDNAME deals 4 damage to target creature and 2 damage to that creature's controller.\n[−8]: CARDNAME deals 10 damage to target player and each creature that player controls."
          ],
          [
           "Sorin, Imperious Bloodlord",
           "[+1]: Target creature you control gains deathtouch and lifelink until end of turn. If it's a Vampire, put a +1/+1 counter on it.\n[+1]: You may sacrifice a Vampire. When you do, CARDNAME deals 3 damage to any target and you gain 3 life.\n[−3]: You may put a Vampire creature card from your hand onto the battlefield."
          ],
          [
           "Vial of Dragonfire",
           "{2}, {T}, Sacrifice CARDNAME: It deals 2 damage to target creature."
          ],
          [
           "Zephyr Charge",
           "{1}{U}: Target creature gains flying until end of turn."
          ],
          [
           "Vampire of the Dire Moon",
           "DEATHTOUCH\nLifelink (Damage dealt by this creature also causes you to gain that much life.)"
          ],
          [
           "Gravewaker",
           "FLYING\n{5}{B}{B}: Return target creature card from your graveyard to the battlefield tapped."
          ],
          [
           "Sleep Paralysis",
           "Enchant creature\nETB_EFFECT, tap enchanted creature.\nEnchanted creature doesn't untap during its controller's untap step."
          ],
          [
           "Drawn from Dreams",
           "Look at the top seven cards of your library. Put two of them into your hand and the rest on the bottom of your library in a random order."
          ],
          [
           "Heart-Piercer Bow",
           "Whenever equipped creature attacks, CARDNAME deals 1 damage to target creature defending player controls.\nEquip {1} ({1}: Attach to target creature you control. Equip only as a sorcery.)"
          ],
          [
           "Tale's End",
           "Counter target activated ability, triggered ability, or legendary spell."
          ],
          [
           "Blood for Bones",
           "As an additional cost to cast this spell, sacrifice a creature.\nReturn a creature card from your graveyard to the battlefield, then return another creature card from your graveyard to your hand."
          ],
          [
           "Unholy Indenture",
           "Enchant creature\nWhen enchanted creature dies, return that card to the battlefield under your control with a +1/+1 counter on it."
          ],
          [
           "Bladebrand",
           "Target creature gains deathtouch until end of turn. (Any amount of damage it deals to a creature is enough to destroy it.)\nDraw a card."
          ],
          [
           "Mind Rot",
           "Target player discards two cards."
          ],
          [
           "Thought Distortion",
           "This spell can't be countered.\nTarget opponent reveals their hand. Exile all noncreature, nonland cards from that player's hand and graveyard."
          ],
          [
           "Field of the Dead",
           "ENTER_TAPPED\n{T}: Add {C}.\nWhenever CARDNAME or another land enters the battlefield under your control, if you control seven or more lands with different names, create a 2/2 black Zombie creature token."
          ],
          [
           "Grafdigger's Cage",
           "Creature cards in graveyards and libraries can't enter the battlefield.\nPlayers can't cast spells from graveyards or libraries."
          ],
          [
           "Leyline of Sanctity",
           "If CARDNAME is in your opening hand, you may begin the game with it on the battlefield.\nYou have hexproof. (You can't be the target of spells or abilities your opponents control.)"
          ],
          [
           "Mu Yanling, Celestial Wind",
           "[+1]: Until your next turn, up to one target creature gets -5/-0.\n[−3]: Return up to two target creatures to their owners' hands.\n[−7]: Creatures you control with flying get +5/+5 until end of turn."
          ],
          [
           "Gods Willing",
           "Target creature you control gains protection from the color of your choice until end of turn. (It can't be blocked, targeted, dealt damage, enchanted, or equipped by anything of that color.)\nScry 1. (Look at the top card of your library. You may put that card on the bottom of your library.)"
          ],
          [
           "Shivan Dragon",
           "FLYING\n{R}: CARDNAME gets +1/+0 until end of turn."
          ],
          [
           "Griffin Protector",
           "FLYING\nWhenever another creature enters the battlefield under your control, CARDNAME gets +1/+1 until end of turn."
          ],
          [
           "Goblin Bird-Grabber",
           "{R}: CARDNAME gains flying until end of turn. Activate this ability only if you control a creature with flying."
          ],
          [
           "Pack Mastiff",
           "{1}{R}: Each creature you control named CARDNAME gets +1/+0 until end of turn."
          ],
          [
           "Overcome",
           "Creatures you control get +2/+2 and gain trample until end of turn. (They can deal excess combat damage to the player or planeswalker they're attacking.)"
          ],
          [
           "Ethereal Elk",
           "TRAMPLE\nETB_EFFECT, you may search your library and/or graveyard for a card named Vivien, Nature's Avenger, reveal it, and put it into your hand. If you search your library this way, shuffle it."
          ],
          [
           "Trusted Pegasus",
           "FLYING\nWhenever CARDNAME attacks, target attacking creature without flying gains flying until end of turn."
          ],
          [
           "Dragon Mage",
           "FLYING\nWhenever CARDNAME deals combat damage to a player, each player discards their hand, then draws seven cards."
          ],
          [
           "Repeated Reverberation",
           "When you next cast an instant spell, cast a sorcery spell, or activate a loyalty ability this turn, copy that spell or ability twice. You may choose new targets for the copies."
          ],
          [
           "Rabid Bite",
           "Target creature you control deals damage equal to its power to target creature you don't control."
          ],
          [
           "Waterkin Shaman",
           "Whenever a creature with flying enters the battlefield under your control, CARDNAME gets +1/+1 until end of turn."
          ],
          [
           "Bristling Boar",
           "CARDNAME can't be blocked by more than one creature."
          ],
          [
           "Air Elemental",
           "FLYING"
          ],
          [
           "Fathom Fleet Cutthroat",
           "ETB_EFFECT, destroy target creature an opponent controls that was dealt damage this turn."
          ],
          [
           "Immortal Phoenix",
           "FLYING\nWhen CARDNAME dies, return it to its owner's hand."
          ],
          [
           "Anticipate",
           "Look at the top three cards of your library. Put one of them into your hand and the rest on the bottom of your library in any order."
          ],
          [
           "Dungeon Geists",
           "FLYING\nETB_EFFECT, tap target creature an opponent controls. That creature doesn't untap during its controller's untap step for as long as you control CARDNAME."
          ],
          [
           "Wakeroot Elemental",
           "{G}{G}{G}{G}{G}: Untap target land you control. It becomes a 5/5 Elemental creature with haste. It's still a land. (This effect lasts as long as that land remains on the battlefield.)"
          ],
          [
           "Jungle Hollow",
           "ENTER_TAPPED\nETB_EFFECT, you gain 1 life.\n{T}: Add {B} or {G}."
          ],
          [
           "Dread Presence",
           "Whenever a Swamp enters the battlefield under your control, choose one —\n• You draw a card and you lose 1 life.\n• CARDNAME deals 2 damage to any target and you gain 2 life."
          ],
          [
           "Shared Summons",
           "Search your library for up to two creature cards with different names, reveal them, put them into your hand, then shuffle your library."
          ],
          [
           "Goldmane Griffin",
           "FLYING, vigilance\nETB_EFFECT, you may search your library and/or graveyard for a card named Ajani, Inspiring Leader, reveal it, and put it into your hand. If you search your library this way, shuffle it."
          ],
          [
           "Glaring Aegis",
           "Enchant creature\nETB_EFFECT, tap target creature an opponent controls.\nEnchanted creature gets +1/+3."
          ],
          [
           "Vivien, Arkbow Ranger",
           "[+1]: Distribute two +1/+1 counters among up to two target creatures. They gain trample until end of turn.\n[−3]: Target creature you control deals damage equal to its power to target creature or planeswalker.\n[−5]: You may choose a creature card you own from outside the game, reveal it, and put it into your hand."
          ],
          [
           "Titanic Growth",
           "Target creature gets +4/+4 until end of turn."
          ],
          [
           "Act of Treason",
           "Gain control of target creature until end of turn. Untap that creature. It gains haste until end of turn. (It can attack and {T} this turn.)"
          ],
          [
           "Captivating Gyre",
           "Return up to three target creatures to their owners' hands."
          ],
          [
           "Battalion Foot Soldier",
           "ETB_EFFECT, you may search your library for any number of cards named CARDNAME, reveal them, put them into your hand, then shuffle your library."
          ],
          [
           "Elvish Reclaimer",
           "CARDNAME gets +2/+2 as long as there are three or more land cards in your graveyard.\n{2}, {T}, Sacrifice a land: Search your library for a land card, put it onto the battlefield tapped, then shuffle your library."
          ],
          [
           "Woodland Champion",
           "Whenever one or more tokens enter the battlefield under your control, put that many +1/+1 counters on CARDNAME."
          ],
          [
           "Rubblebelt Recluse",
           "CARDNAME attacks each combat if able."
          ],
          [
           "Netcaster Spider",
           "REACH\nWhenever CARDNAME blocks a creature with flying, CARDNAME gets +2/+0 until end of turn."
          ],
          [
           "Wolfkin Bond",
           "Enchant creature\nETB_EFFECT, create a 2/2 green Wolf creature token.\nEnchanted creature gets +2/+2."
          ],
          [
           "Hanged Executioner",
           "FLYING\nETB_EFFECT, create a 1/1 white Spirit creature token with flying.\n{3}{W}, Exile CARDNAME: Exile target creature."
          ],
          [
           "Loyal Pegasus",
           "FLYING\nCARDNAME can't attack or block alone."
          ],
          [
           "Chandra's Spitfire",
           "FLYING\nWhenever an opponent is dealt noncombat damage, CARDNAME gets +3/+0 until end of turn."
          ],
          [
           "Reckless Air Strike",
           "Choose one —\n• CARDNAME deals 3 damage to target creature with flying.\n• Destroy target artifact."
          ],
          [
           "Riddlemaster Sphinx",
           "FLYING\nETB_EFFECT, you may return target creature an opponent controls to its owner's hand."
          ],
          [
           "Legion's End",
           "Exile target creature an opponent controls with converted mana cost 2 or less and all other creatures that player controls with the same name as that creature. Then that player reveals their hand and exiles all cards with that name from their hand and graveyard."
          ],
          [
           "Scampering Scorcher",
           "ETB_EFFECT, create two 1/1 red Elemental creature tokens. Elementals you control gain haste until end of turn. (They can attack and {T} this turn.)"
          ],
          [
           "Moat Piranhas",
           "DEFENDER"
          ],
          [
           "Growth Cycle",
           "Target creature gets +3/+3 until end of turn. It gets an additional +2/+2 until end of turn for each card named CARDNAME in your graveyard."
          ],
          [
           "Bloodthirsty Aerialist",
           "FLYING\nWhenever you gain life, put a +1/+1 counter on CARDNAME."
          ],
          [
           "Cavalier of Night",
           "Lifelink\nETB_EFFECT, you may sacrifice another creature. When you do, destroy target creature an opponent controls.\nWhen CARDNAME dies, return target creature card with converted mana cost 3 or less from your graveyard to the battlefield."
          ],
          [
           "Golos, Tireless Pilgrim",
           "ETB_EFFECT, you may search your library for a land card, put that card onto the battlefield tapped, then shuffle your library.\n{2}{W}{U}{B}{R}{G}: Exile the top three cards of your library. You may play them this turn without paying their mana costs."
          ],
          [
           "Skeleton Archer",
           "ETB_EFFECT, it deals 1 damage to any target."
          ],
          [
           "Frilled Sandwalla",
           "{1}{G}: CARDNAME gets +2/+2 until end of turn. Activate this ability only once each turn."
          ],
          [
           "Winged Words",
           "This spell costs {1} less to cast if you control a creature with flying.\nDraw two cards."
          ],
          [
           "Gnarlback Rhino",
           "TRAMPLE\nWhenever you cast a spell that targets CARDNAME, draw a card."
          ],
          [
           "Agent of Treachery",
           "ETB_EFFECT, gain control of target permanent.\nAt the beginning of your end step, if you control three or more permanents you don't own, draw three cards."
          ],
          [
           "Diviner's Lockbox",
           "{1}, {T}: Choose a card name, then reveal the top card of your library. If that card has the chosen name, sacrifice CARDNAME and draw three cards. Activate this ability only any time you could cast a sorcery."
          ],
          [
           "Prismite",
           "{2}: Add one mana of any color."
          ],
          [
           "Masterful Replication",
           "Choose one —\n• Create two 3/3 colorless Golem artifact creature tokens.\n• Choose target artifact you control. Each other artifact you control becomes a copy of that artifact until end of turn."
          ],
          [
           "Sage's Row Denizen",
           "Whenever another blue creature enters the battlefield under your control, target player puts the top two cards of their library into their graveyard."
          ],
          [
           "Blightbeetle",
           "PROTECTION_FROM_GREEN\nCreatures your opponents control can't have +1/+1 counters put on them."
          ],
          [
           "Chandra's Embercat",
           "{T}: Add {R}. Spend this mana only to cast an Elemental spell or a Chandra planeswalker spell."
          ],
          [
           "Ripscale Predator",
           "Menace (This creature can't be blocked except by two or more creatures.)"
          ],
          [
           "Season of Growth",
           "Whenever a creature enters the battlefield under your control, scry 1. (Look at the top card of your library. You may put that card on the bottom of your library.)\nWhenever you cast a spell that targets a creature you control, draw a card."
          ],
          [
           "Wind-Scarred Crag",
           "ENTER_TAPPED\nETB_EFFECT, you gain 1 life.\n{T}: Add {R} or {W}."
          ],
          [
           "Lavakin Brawler",
           "Whenever CARDNAME attacks, it gets +1/+0 until end of turn for each Elemental you control."
          ],
          [
           "Unchained Berserker",
           "PROTECTION_FROM_WHITE\nCARDNAME gets +2/+0 as long as it's attacking."
          ],
          [
           "Creeping Trailblazer",
           "Other Elementals you control get +1/+0.\n{2}{R}{G}: CARDNAME gets +1/+1 until end of turn for each Elemental you control."
          ],
          [
           "Anvilwrought Raptor",
           "FLYING\nFirst strike (This creature deals combat damage before creatures without first strike.)"
          ],
          [
           "Fencing Ace",
           "DOUBLE_STRIKE"
          ],
          [
           "Scoured Barrens",
           "ENTER_TAPPED\nETB_EFFECT, you gain 1 life.\n{T}: Add {W} or {B}."
          ],
          [
           "Rule of Law",
           "Each player can't cast more than one spell each turn."
          ],
          [
           "Cavalier of Gales",
           "FLYING\nETB_EFFECT, draw three cards, then put two cards from your hand on top of your library in any order.\nWhen CARDNAME dies, shuffle it into its owner's library, then scry 2."
          ],
          [
           "Inspired Charge",
           "Creatures you control get +2/+1 until end of turn."
          ],
          [
           "Take Vengeance",
           "Destroy target tapped creature."
          ],
          [
           "Volcanic Dragon",
           "FLYING\nHASTE"
          ],
          [
           "Brought Back",
           "Choose up to two target permanent cards in your graveyard that were put there from the battlefield this turn. Return them to the battlefield tapped."
          ],
          [
           "Scorch Spitter",
           "Whenever CARDNAME attacks, it deals 1 damage to the player or planeswalker it's attacking."
          ],
          [
           "Ironroot Warlord",
           "CARDNAME's power is equal to the number of creatures you control.\n{3}{G}{W}: Create a 1/1 white Soldier creature token."
          ],
          [
           "Steel Overseer",
           "{T}: Put a +1/+1 counter on each artifact creature you control."
          ],
          [
           "Duress",
           "Target opponent reveals their hand. You choose a noncreature, nonland card from it. That player discards that card."
          ],
          [
           "Skyknight Vanguard",
           "FLYING\nWhenever CARDNAME attacks, create a 1/1 white Soldier creature token that's tapped and attacking."
          ],
          [
           "Loxodon Lifechanter",
           "ETB_EFFECT, you may have your life total become the total toughness of creatures you control.\n{5}{W}: CARDNAME gets +X/+X until end of turn, where X is your life total."
          ],
          [
           "Frilled Sea Serpent",
           "{5}{U}{U}: CARDNAME can't be blocked this turn."
          ],
          [
           "Reduce to Ashes",
           "CARDNAME deals 5 damage to target creature. If that creature would die this turn, exile it instead."
          ],
          [
           "Gravedigger",
           "ETB_EFFECT, you may return target creature card from your graveyard to your hand."
          ],
          [
           "Squad Captain",
           "VIGILANCE\nCARDNAME enters the battlefield with a +1/+1 counter on it for each other creature you control."
          ],
          [
           "Steadfast Sentry",
           "VIGILANCE\nWhen CARDNAME dies, put a +1/+1 counter on target creature you control."
          ],
          [
           "Yarok's Wavecrasher",
           "ETB_EFFECT, return another creature you control to its owner's hand."
          ],
          [
           "Vengeful Warchief",
           "Whenever you lose life for the first time each turn, put a +1/+1 counter on CARDNAME. (Damage causes loss of life.)"
          ],
          [
           "Angel of Vitality",
           "FLYING\nIf you would gain life, you gain that much life plus 1 instead.\nCARDNAME gets +2/+2 as long as you have 25 or more life."
          ],
          [
           "Goblin Ringleader",
           "HASTE\nETB_EFFECT, reveal the top four cards of your library. Put all Goblin cards revealed this way into your hand and the rest on the bottom of your library in any order."
          ],
          [
           "Disentomb",
           "Return target creature card from your graveyard to your hand."
          ],
          [
           "Dismal Backwater",
           "ENTER_TAPPED\nETB_EFFECT, you gain 1 life.\n{T}: Add {U} or {B}."
          ],
          [
           "Twinblade Paladin",
           "Whenever you gain life, put a +1/+1 counter on CARDNAME.\nAs long as you have 25 or more life, CARDNAME has double strike. (It deals both first-strike and regular combat damage.)"
          ],
          [
           "Bag of Holding",
           "Whenever you discard a card, exile that card from your graveyard.\n{2}, {T}: Draw a card, then discard a card.\n{4}, {T}, Sacrifice CARDNAME: Return all cards exiled with CARDNAME to their owner's hand."
          ],
          [
           "Temple of Epiphany",
           "ENTER_TAPPED\nETB_EFFECT, scry 1.\n{T}: Add {U} or {R}."
          ],
          [
           "Marauding Raptor",
           "Creature spells you cast cost {1} less to cast.\nWhenever another creature enters the battlefield under your control, CARDNAME deals 2 damage to it. If a Dinosaur is dealt damage this way, CARDNAME gets +2/+0 until end of turn."
          ],
          [
           "Swamp",
           "({T}: Add {B}.)"
          ],
          [
           "Forest",
           "({T}: Add {G}.)"
          ],
          [
           "Scheming Symmetry",
           "Choose two target players. Each of them searches their library for a card, then shuffles their library and puts that card on top of it."
          ],
          [
           "Moment of Heroism",
           "Target creature gets +2/+2 and gains lifelink until end of turn. (Damage dealt by the creature also causes its controller to gain that much life.)"
          ],
          [
           "Thornwood Falls",
           "ENTER_TAPPED\nETB_EFFECT, you gain 1 life.\n{T}: Add {G} or {U}."
          ],
          [
           "Thrashing Brontodon",
           "{1}, Sacrifice CARDNAME: Destroy target artifact or enchantment."
          ],
          [
           "Yarok, the Desecrated",
           "DEATHTOUCH, lifelink\nIf a permanent entering the battlefield causes a triggered ability of a permanent you control to trigger, that ability triggers an additional time."
          ],
          [
           "Inspiring Captain",
           "ETB_EFFECT, creatures you control get +1/+1 until end of turn."
          ],
          [
           "Silverback Shaman",
           "TRAMPLE\nWhen CARDNAME dies, draw a card."
          ],
          [
           "Colossus Hammer",
           "Equipped creature gets +10/+10 and loses flying.\nEquip {8} ({8}: Attach to target creature you control. Equip only as a sorcery.)"
          ],
          [
           "Befuddle",
           "Target creature gets -4/-0 until end of turn.\nDraw a card."
          ],
          [
           "Epicure of Blood",
           "Whenever you gain life, each opponent loses 1 life."
          ],
          [
           "Boreal Elemental",
           "FLYING\nSpells your opponents cast that target CARDNAME cost {2} more to cast."
          ],
          [
           "Undead Servant",
           "ETB_EFFECT, create a 2/2 black Zombie creature token for each card named CARDNAME in your graveyard."
          ],
          [
           "Temple of Triumph",
           "ENTER_TAPPED\nETB_EFFECT, scry 1.\n{T}: Add {R} or {W}."
          ],
          [
           "Apostle of Purifying Light",
           "PROTECTION_FROM_BLACK\n{2}: Exile target card from a graveyard."
          ],
          [
           "Pulse of Murasa",
           "Return target creature or land card from a graveyard to its owner's hand. You gain 6 life."
          ],
          [
           "Leyline of the Void",
           "If CARDNAME is in your opening hand, you may begin the game with it on the battlefield.\nIf a card would be put into an opponent's graveyard from anywhere, exile it instead."
          ],
          [
           "Noxious Grasp",
           "Destroy target creature or planeswalker that's green or white. You gain 1 life."
          ],
          [
           "Swiftwater Cliffs",
           "ENTER_TAPPED\nETB_EFFECT, you gain 1 life.\n{T}: Add {U} or {R}."
          ],
          [
           "Starfield Mystic",
           "Enchantment spells you cast cost {1} less to cast.\nWhenever an enchantment you control is put into a graveyard from the battlefield, put a +1/+1 counter on CARDNAME."
          ],
          [
           "Chandra, Novice Pyromancer",
           "[+1]: Elementals you control get +2/+0 until end of turn.\n[−1]: Add {R}{R}.\n[−2]: CARDNAME deals 2 damage to any target."
          ],
          [
           "Herald of the Sun",
           "FLYING\n{3}{W}: Put a +1/+1 counter on another target creature with flying."
          ],
          [
           "Devout Decree",
           "Exile target creature or planeswalker that's black or red. Scry 1. (Look at the top card of your library. You may put that card on the bottom of your library.)"
          ],
          [
           "Lotus Field",
           "Hexproof\nENTER_TAPPED\nETB_EFFECT, sacrifice two lands.\n{T}: Add three mana of any one color."
          ],
          [
           "Chandra's Outrage",
           "CARDNAME deals 4 damage to target creature and 2 damage to that creature's controller."
          ],
          [
           "Flame Sweep",
           "CARDNAME deals 2 damage to each creature except for creatures you control with flying."
          ],
          [
           "Keldon Raider",
           "ETB_EFFECT, you may discard a card. If you do, draw a card."
          ],
          [
           "Rugged Highlands",
           "ENTER_TAPPED\nETB_EFFECT, you gain 1 life.\n{T}: Add {R} or {G}."
          ],
          [
           "Serra's Guardian",
           "FLYING\nVIGILANCE\nOther creatures you control have vigilance."
          ],
          [
           "Feral Invocation",
           "FLASH\nEnchant creature\nEnchanted creature gets +2/+2."
          ],
          [
           "Temple of Mystery",
           "ENTER_TAPPED\nETB_EFFECT, scry 1.\n{T}: Add {G} or {U}."
          ],
          [
           "Vivien's Crocodile",
           "CARDNAME gets +1/+1 as long as you control a Vivien planeswalker."
          ],
          [
           "Leafkin Druid",
           "{T}: Add {G}. If you control four or more creatures, add {G}{G} instead."
          ],
          [
           "Temple of Malady",
           "ENTER_TAPPED\nETB_EFFECT, scry 1.\n{T}: Add {B} or {G}."
          ],
          [
           "Uncaged Fury",
           "Target creature gets +1/+1 and gains double strike until end of turn. (It deals both first-strike and regular combat damage.)"
          ],
          [
           "Moorland Inquisitor",
           "{2}{W}: CARDNAME gains first strike until end of turn. (It deals combat damage before creatures without first strike.)"
          ],
          [
           "Warden of Evos Isle",
           "FLYING\nCreature spells with flying you cast cost {1} less to cast."
          ],
          [
           "Plains",
           "({T}: Add {W}.)"
          ],
          [
           "Rienne, Angel of Rebirth",
           "FLYING\nOther multicolored creatures you control get +1/+0.\nWhenever another multicolored creature you control dies, return it to its owner's hand at the beginning of the next end step."
          ],
          [
           "Faerie Miscreant",
           "FLYING\nETB_EFFECT, if you control another creature named CARDNAME, draw a card."
          ],
          [
           "Rapacious Dragon",
           "FLYING\nETB_EFFECT, create two Treasure tokens. (They're artifacts with \"{T}, Sacrifice this artifact: Add one mana of any color.\")"
          ],
          [
           "Tranquil Cove",
           "ENTER_TAPPED\nETB_EFFECT, you gain 1 life.\n{T}: Add {W} or {U}."
          ],
          [
           "Bone to Ash",
           "Counter target creature spell.\nDraw a card."
          ],
          [
           "Nightpack Ambusher",
           "FLASH\nOther Wolves and Werewolves you control get +1/+1.\nAt the beginning of your end step, if you didn't cast a spell this turn, create a 2/2 green Wolf creature token."
          ],
          [
           "Oakenform",
           "Enchant creature\nEnchanted creature gets +3/+3."
          ],
          [
           "Mammoth Spider",
           "REACH"
          ],
          [
           "Impassioned Orator",
           "Whenever another creature enters the battlefield under your control, you gain 1 life."
          ],
          [
           "Hard Cover",
           "Enchant creature\nEnchanted creature gets +0/+2 and has \"{T}: Draw a card, then discard a card.\""
          ],
          [
           "Spectral Sailor",
           "FLASH\nFLYING\n{3}{U}: Draw a card."
          ],
          [
           "Infuriate",
           "Target creature gets +3/+2 until end of turn."
          ],
          [
           "Brineborn Cutthroat",
           "FLASH\nWhenever you cast a spell during an opponent's turn, put a +1/+1 counter on CARDNAME."
          ],
          [
           "Moldervine Reclamation",
           "Whenever a creature you control dies, you gain 1 life and draw a card."
          ],
          [
           "Lightning Stormkin",
           "FLYING\nHASTE"
          ],
          [
           "Savage Gorger",
           "FLYING\nAt the beginning of your end step, if an opponent lost life this turn, put a +1/+1 counter on CARDNAME. (Damage causes loss of life.)"
          ],
          [
           "Destructive Digger",
           "{3}, {T}, Sacrifice an artifact or land: Draw a card."
          ],
          [
           "Blood Burglar",
           "As long as it's your turn, CARDNAME has lifelink. (Damage dealt by this creature also causes you to gain that much life.)"
          ],
          [
           "Retributive Wand",
           "{3}, {T}: CARDNAME deals 1 damage to any target.\nWhen CARDNAME is put into a graveyard from the battlefield, it deals 5 damage to any target."
          ],
          [
           "Audacious Thief",
           "Whenever CARDNAME attacks, you draw a card and you lose 1 life."
          ],
          [
           "Pyroclastic Elemental",
           "{1}{R}{R}: CARDNAME deals 1 damage to target player."
          ],
          [
           "Goblin Smuggler",
           "HASTE\n{T}: Another target creature with power 2 or less can't be blocked this turn."
          ],
          [
           "Healer of the Glade",
           "ETB_EFFECT, you gain 3 life."
          ],
          [
           "Manifold Key",
           "{1}, {T}: Untap another target artifact.\n{3}, {T}: Target creature can't be blocked this turn."
          ],
          [
           "Temple of Silence",
           "ENTER_TAPPED\nETB_EFFECT, scry 1.\n{T}: Add {W} or {B}."
          ],
          [
           "Sorcerer of the Fang",
           "{5}{B}, {T}: CARDNAME deals 2 damage to target opponent or planeswalker."
          ],
          [
           "Bloodfell Caves",
           "ENTER_TAPPED\nETB_EFFECT, you gain 1 life.\n{T}: Add {B} or {R}."
          ],
          [
           "Planar Cleansing",
           "Destroy all nonland permanents."
          ],
          [
           "Shock",
           "CARDNAME deals 2 damage to any target."
          ],
          [
           "Bishop of Wings",
           "Whenever an Angel enters the battlefield under your control, you gain 4 life.\nWhenever an Angel you control dies, create a 1/1 white Spirit creature token with flying."
          ],
          [
           "Boneclad Necromancer",
           "ETB_EFFECT, you may exile target creature card from a graveyard. If you do, create a 2/2 black Zombie creature token."
          ],
          [
           "Disfigure",
           "Target creature gets -2/-2 until end of turn."
          ],
          [
           "Metropolis Sprite",
           "FLYING\n{U}: CARDNAME gets +1/-1 until end of turn."
          ],
          [
           "Master Splicer",
           "ETB_EFFECT, create a 3/3 colorless Golem artifact creature token.\nGolems you control get +1/+1."
          ],
          [
           "Negate",
           "Counter target noncreature spell."
          ],
          [
           "Tectonic Rift",
           "Destroy target land. Creatures without flying can't block this turn."
          ],
          [
           "Vampire Opportunist",
           "{6}{B}: Each opponent loses 2 life and you gain 2 life."
          ],
          [
           "Marauder's Axe",
           "Equipped creature gets +2/+0.\nEquip {2} ({2}: Attach to target creature you control. Equip only as a sorcery.)"
          ],
          [
           "Bone Splinters",
           "As an additional cost to cast this spell, sacrifice a creature.\nDestroy target creature."
          ],
          [
           "Sanitarium Skeleton",
           "{2}{B}: Return CARDNAME from your graveyard to your hand."
          ],
          [
           "Aether Gust",
           "Choose target spell or permanent that's red or green. Its owner puts it on the top or bottom of their library."
          ],
          [
           "Daggersail Aeronaut",
           "As long as it's your turn, CARDNAME has flying."
          ],
          [
           "Agonizing Syphon",
           "CARDNAME deals 3 damage to any target and you gain 3 life."
          ],
          [
           "Rotting Regisaur",
           "At the beginning of your upkeep, discard a card."
          ],
          [
           "Disenchant",
           "Destroy target artifact or enchantment."
          ],
          [
           "Might of the Masses",
           "Target creature gets +1/+1 until end of turn for each creature you control."
          ],
          [
           "Griffin Sentinel",
           "FLYING\nVIGILANCE"
          ],
          [
           "Aerial Assault",
           "Destroy target tapped creature. You gain 1 life for each creature you control with flying."
          ],
          [
           "Maniacal Rage",
           "Enchant creature\nEnchanted creature gets +2/+2 and can't block."
          ],
          [
           "Snapping Drake",
           "FLYING"
          ],
          [
           "Greenwood Sentinel",
           "VIGILANCE"
          ],
          [
           "Corpse Knight",
           "Whenever another creature enters the battlefield under your control, each opponent loses 1 life."
          ],
          [
           "Murder",
           "Destroy target creature."
          ],
          [
           "Yarok's Fenlurker",
           "ETB_EFFECT, each opponent exiles a card from their hand.\n{2}{B}: CARDNAME gets +1/+1 until end of turn."
          ],
          [
           "Ogre Siegebreaker",
           "{2}{B}{R}: Destroy target creature that was dealt damage this turn."
          ],
          [
           "Haazda Officer",
           "ETB_EFFECT, target creature you control gets +1/+1 until end of turn."
          ],
          [
           "Sorin's Thirst",
           "CARDNAME deals 2 damage to target creature and you gain 2 life."
          ],
          [
           "Scuttlemutt",
           "{T}: Add one mana of any color.\n{T}: Target creature becomes the color or colors of your choice until end of turn."
          ],
          [
           "Bartizan Bats",
           "FLYING"
          ],
          [
           "Prized Unicorn",
           "All creatures able to block CARDNAME do so."
          ],
          [
           "Daybreak Chaplain",
           "Lifelink (Damage dealt by this creature also causes you to gain that much life.)"
          ],
          [
           "Canopy Spider",
           "REACH"
          ],
          [
           "Savannah Sage",
           "ETB_EFFECT, you gain 2 life."
          ],
          [
           "Howling Giant",
           "REACH\nETB_EFFECT, create two 2/2 green Wolf creature tokens."
          ],
          [
           "Woodland Mystic",
           "{T}: Add {G}."
          ],
          [
           "Ferocious Pup",
           "ETB_EFFECT, create a 2/2 green Wolf creature token."
          ],
          [
           "Natural End",
           "Destroy target artifact or enchantment. You gain 3 life."
          ],
          [
           "Engulfing Eruption",
           "CARDNAME deals 5 damage to target creature."
          ],
          [
           "Convolute",
           "Counter target spell unless its controller pays {4}."
          ],
          [
           "Feral Abomination",
           "DEATHTOUCH"
          ],
          [
           "Dawning Angel",
           "FLYING\nETB_EFFECT, you gain 4 life."
          ],
          [
           "Raise the Alarm",
           "Create two 1/1 white Soldier creature tokens."
          ],
          [
           "Dark Remedy",
           "Target creature gets +1/+3 until end of turn."
          ],
          [
           "Soul Salvage",
           "Return up to two target creature cards from your graveyard to your hand."
          ],
          [
           "Pacifism",
           "Enchant creature\nEnchanted creature can't attack or block."
          ],
          [
           "Nimble Birdsticker",
           "REACH"
          ],
          [
           "Concordia Pegasus",
           "FLYING"
          ],
          [
           "Phantom Warrior",
           "CARDNAME can't be blocked."
          ],
          [
           "Sedge Scorpion",
           "DEATHTOUCH"
          ],
          [
           "Show of Valor",
           "Target creature gets +2/+4 until end of turn."
          ],
          [
           "Empyrean Eagle",
           "FLYING\nOther creatures you control with flying get +1/+1."
          ],
          [
           "Unsummon",
           "Return target creature to its owner's hand."
          ],
          [
           "Mountain",
           "({T}: Add {R}.)"
          ],
          [
           "Angelic Gift",
           "Enchant creature\nETB_EFFECT, draw a card.\nEnchanted creature has flying."
          ],
          [
           "Soulmender",
           "{T}: You gain 1 life."
          ],
          [
           "Island",
           "({T}: Add {U}.)"
          ],
          [
           "Hostile Minotaur",
           "HASTE"
          ]
         ],
         "hoverlabel": {
          "namelength": 0
         },
         "hovertemplate": "x=%{x}<br>y=%{y}<br>name=%{customdata[0]}<br>text=%{customdata[1]}",
         "legendgroup": "",
         "marker": {
          "color": "#636efa",
          "symbol": "circle"
         },
         "mode": "markers",
         "name": "",
         "showlegend": false,
         "type": "scatter",
         "x": [
          "-0.529934",
          "-1.3930423",
          "-2.4675472",
          "-1.8944299",
          "-3.5089166",
          "6.220444",
          "0.39466262",
          "6.2527137",
          "-1.1992091",
          "-0.5538299",
          "-0.8534023",
          "-4.145302",
          "-2.629656",
          "-1.317069",
          "-3.1787949",
          "-1.5299692",
          "-2.0307665",
          "0.74359757",
          "-0.44369137",
          "-3.7371786",
          "6.2497005",
          "-1.5563897",
          "-1.2875191",
          "-0.38350424",
          "-3.426257",
          "2.3236732",
          "-2.49514",
          "-2.0601172",
          "-0.66745996",
          "-4.2853394",
          "1.9660167",
          "-3.2611146",
          "-1.7111138",
          "-1.0262449",
          "-3.440249",
          "-3.4185238",
          "-3.396687",
          "-3.4928067",
          "-2.5866733",
          "0.012119153",
          "0.4034959",
          "-4.329642",
          "-0.94133776",
          "-3.17159",
          "-0.52639204",
          "-1.3910569",
          "-1.8996607",
          "-2.9365907",
          "-1.0221883",
          "-1.4332464",
          "-2.0394847",
          "0.32963058",
          "-3.1585138",
          "1.474564",
          "-3.9708092",
          "0.60514885",
          "-1.0023185",
          "-2.70142",
          "-1.1135745",
          "-2.5376482",
          "-1.8033235",
          "-2.5939095",
          "1.1850337",
          "-4.3229527",
          "0.6510971",
          "-0.23415717",
          "-1.6742153",
          "-2.6021702",
          "-3.678438",
          "-0.81184596",
          "1.5704008",
          "-0.24583204",
          "0.37446424",
          "-2.8147411",
          "-1.7721432",
          "-1.8446466",
          "-1.3612365",
          "1.5803947",
          "1.6297897",
          "0.369182",
          "-3.5727975",
          "-2.7374105",
          "6.2925735",
          "-1.547494",
          "0.10558654",
          "-0.83190584",
          "2.2240336",
          "-3.1736898",
          "-2.7333891",
          "-2.1209307",
          "-3.157967",
          "-4.0037785",
          "0.746309",
          "1.4305834",
          "-0.070806846",
          "0.008209229",
          "0.072532676",
          "0.687879",
          "1.694869",
          "-4.347702",
          "0.010906849",
          "-0.21745211",
          "-2.0762706",
          "-2.4908776",
          "-0.041058477",
          "-1.7051239",
          "-3.6164753",
          "-1.2664503",
          "-1.0047067",
          "-2.8457",
          "-3.7544138",
          "2.4337897",
          "-1.7598106",
          "-1.497712",
          "-2.2384737",
          "-4.3479753",
          "-3.5435808",
          "-3.5515463",
          "1.4441639",
          "2.4566727",
          "0.7286113",
          "-2.293233",
          "-2.006184",
          "-2.7743404",
          "-1.5729781",
          "-0.3195343",
          "-3.4363613",
          "-2.2172549",
          "-3.1775358",
          "0.30168846",
          "-0.8850905",
          "0.083102636",
          "-3.3738105",
          "2.393603",
          "-3.64619",
          "1.7014804",
          "-0.5721709",
          "0.20716532",
          "-2.2739453",
          "-1.636628",
          "-2.8863535",
          "-0.11644599",
          "-3.3388815",
          "-2.1005075",
          "-1.5915089",
          "-2.3660061",
          "-2.519344",
          "-3.1350586",
          "-3.6179745",
          "-0.31935507",
          "1.9150704",
          "1.4140964",
          "-1.2421443",
          "-2.7844698",
          "0.54086804",
          "-2.760106",
          "2.0428498",
          "-3.6739154",
          "-1.1567613",
          "-1.5820692",
          "-1.9581895",
          "0.68108416",
          "-0.8655985",
          "-0.17029393",
          "0.09407295",
          "0.36604178",
          "-3.3778138",
          "-2.8548658",
          "-1.4458926",
          "0.4151179",
          "-2.446972",
          "-0.5148025",
          "-0.42752498",
          "0.22670552",
          "-3.3281143",
          "-2.1100252",
          "-2.4682121",
          "-0.14835408",
          "-0.76342356",
          "-2.2961128",
          "0.48719555",
          "-1.6320566",
          "-0.47744507",
          "-0.96124876",
          "-1.9011151",
          "-0.045842882",
          "2.326451",
          "2.3340611",
          "-2.7441034",
          "1.6991811",
          "-1.7782979",
          "-1.4221997",
          "1.5929585",
          "0.6900915",
          "-3.2082293",
          "6.2900424",
          "1.6258826",
          "-0.5608596",
          "-1.8117975",
          "-2.1441321",
          "-1.4099625",
          "-0.9600851",
          "0.67356193",
          "-3.9726176",
          "-1.3632253",
          "-1.6671805",
          "-1.4845047",
          "-0.99001116",
          "-0.9687627",
          "1.4159892",
          "-2.901748",
          "-1.8140874",
          "-0.8418074",
          "-1.2999803",
          "-1.4729778",
          "-3.5139222",
          "-3.1700375",
          "-2.1462665",
          "-2.815354",
          "-2.9825928",
          "-1.9287612",
          "1.5747089",
          "2.2564025",
          "-0.16985688",
          "2.2900767",
          "-1.0623448",
          "-2.407659",
          "2.2394087",
          "-0.9790566",
          "-1.4905598",
          "-3.239215",
          "-2.730908",
          "-3.738245",
          "-0.93412447",
          "-2.7687774",
          "-3.1094792",
          "1.3651588",
          "-3.3125942",
          "-1.4956849",
          "-0.00940355",
          "-0.109979756",
          "-2.235691",
          "0.99533147",
          "-1.5079856",
          "-1.5355228",
          "-0.546218",
          "-0.13480529",
          "-1.9279485",
          "-1.9767864",
          "-1.5543432",
          "-0.73845583",
          "-1.5581439",
          "-1.4683075",
          "-1.4745139",
          "-3.161422",
          "-0.25665215",
          "1.3836534",
          "-0.32618362",
          "-2.4587567",
          "-1.5581967",
          "-1.7249848",
          "-1.5942426",
          "6.2208595",
          "-0.7482435",
          "0.4683283",
          "-2.4015632",
          "0.6903447",
          "-1.8092664",
          "-1.0737218",
          "-1.377133",
          "1.4617938",
          "-3.5261884",
          "-0.7445906",
          "-3.229689",
          "-3.5144014",
          "-3.4857006",
          "-0.8964568",
          "-1.1660722",
          "1.6302955",
          "-1.2295551",
          "1.5237236",
          "-1.8983448",
          "-2.4687896",
          "-3.5770822",
          "-3.445311",
          "1.6807656",
          "-3.805938",
          "-2.3258235",
          "-2.9830418",
          "-3.0555024",
          "-2.215592",
          "-1.6186674",
          "-0.5117941",
          "-1.9507607",
          "-3.7371323",
          "-3.1933281",
          "-2.8433387",
          "1.4656132",
          "0.35689834",
          "-2.9624562",
          "-3.7727377",
          "-3.608287",
          "-1.5390544",
          "-3.7281625",
          "1.6321377",
          "-0.9063358",
          "0.6839531",
          "2.3231108",
          "-2.848357",
          "-2.6509147",
          "2.3234692",
          "-3.7492228"
         ],
         "xaxis": "x",
         "y": [
          "1.1221701",
          "1.2910787",
          "-1.4016165",
          "0.6417258",
          "0.4635115",
          "3.5590744",
          "2.9273496",
          "3.5913372",
          "-0.37831852",
          "-0.7146131",
          "-1.7640834",
          "0.418606",
          "2.4686756",
          "1.1806093",
          "-0.80508083",
          "-0.2969412",
          "-0.85930485",
          "1.9017934",
          "-0.38458633",
          "1.8893915",
          "3.5882268",
          "3.0155823",
          "-0.2994528",
          "1.4596324",
          "2.290564",
          "-0.88056856",
          "2.5605707",
          "-1.6973895",
          "0.41918746",
          "4.6392207",
          "-0.45774162",
          "0.88846767",
          "-1.7835962",
          "0.6912114",
          "0.2247397",
          "0.7372335",
          "0.6752776",
          "0.91105175",
          "-2.8987963",
          "-1.9430972",
          "2.5633044",
          "4.617363",
          "-2.1724126",
          "1.3809938",
          "-0.23859578",
          "0.3379273",
          "1.7833259",
          "-1.9836122",
          "-2.473645",
          "0.8069929",
          "-0.9178649",
          "2.997422",
          "-0.94658375",
          "-0.5668814",
          "0.7466405",
          "-0.7110189",
          "2.9124625",
          "-2.1196053",
          "2.7929704",
          "0.8166088",
          "-1.3513331",
          "0.59886473",
          "-1.6346109",
          "4.60893",
          "0.77641684",
          "-0.34405804",
          "2.904175",
          "-0.8051796",
          "2.4454868",
          "2.256864",
          "1.5805945",
          "-1.9089092",
          "0.004980386",
          "0.9512979",
          "0.1918159",
          "1.5148576",
          "0.696335",
          "1.2419785",
          "-0.4570267",
          "2.855384",
          "2.3592567",
          "-2.8417628",
          "3.630815",
          "2.946527",
          "2.6927013",
          "2.238246",
          "-0.5459517",
          "-2.2755811",
          "2.904452",
          "-1.8361824",
          "2.4608698",
          "0.5962691",
          "1.8046992",
          "-1.5820295",
          "-0.15028444",
          "0.67697006",
          "-0.008167371",
          "0.3984446",
          "-0.37239945",
          "4.5955453",
          "-0.44642898",
          "-0.64487255",
          "3.014594",
          "2.5402231",
          "0.35149515",
          "0.3612759",
          "-0.53816795",
          "2.531984",
          "1.3758771",
          "-2.7272913",
          "2.1802285",
          "-1.3453676",
          "-2.2485132",
          "-0.84734476",
          "1.1903474",
          "4.5918546",
          "2.432591",
          "0.9498981",
          "1.1702594",
          "-1.3619152",
          "1.8194234",
          "1.2632165",
          "-0.83621025",
          "-2.3501449",
          "1.4781486",
          "0.32273665",
          "2.2001712",
          "1.0609415",
          "2.098142",
          "0.18072915",
          "2.1834507",
          "3.0764375",
          "2.7256024",
          "-1.3972187",
          "-2.3089511",
          "1.3842468",
          "-2.200151",
          "3.1395001",
          "2.0458767",
          "0.75743765",
          "-0.5912825",
          "1.113469",
          "0.9393618",
          "2.6247694",
          "-0.15246356",
          "-0.15698577",
          "1.2511404",
          "-2.2648838",
          "0.99533576",
          "-0.35985917",
          "-0.61495125",
          "-1.6067146",
          "-2.3740776",
          "0.21630086",
          "-0.7924808",
          "-0.3048857",
          "-0.7006709",
          "-2.302834",
          "-2.5170503",
          "2.8014193",
          "-2.8312721",
          "1.0777274",
          "2.237156",
          "-0.52729386",
          "2.4642286",
          "-0.87584627",
          "0.5651372",
          "-0.7996229",
          "2.4804213",
          "-0.58885694",
          "0.04427121",
          "0.6671443",
          "1.4381454",
          "3.0806916",
          "0.6949225",
          "1.3780218",
          "0.93526965",
          "-1.964698",
          "-2.0180147",
          "-2.920298",
          "2.8110788",
          "-1.9191451",
          "-2.255191",
          "-0.036256563",
          "-1.8071448",
          "0.935618",
          "-1.1904119",
          "-1.2890551",
          "-2.8244345",
          "-0.2996926",
          "-1.9691105",
          "0.919509",
          "-0.3672196",
          "1.1665747",
          "0.97664124",
          "3.6283848",
          "1.377639",
          "-2.1162302",
          "0.40143177",
          "0.6216738",
          "-2.5251584",
          "0.12334336",
          "2.828528",
          "0.8457152",
          "2.1054993",
          "-1.907885",
          "2.229614",
          "0.6224231",
          "1.5902002",
          "-1.5942658",
          "-2.5038466",
          "0.15455435",
          "1.8086474",
          "-0.2011615",
          "-2.0624366",
          "0.6349956",
          "1.4872271",
          "-1.6987305",
          "1.0657077",
          "-0.7318215",
          "-2.2552195",
          "1.5193466",
          "-1.0616614",
          "1.1735044",
          "-1.1427891",
          "1.4558653",
          "0.70152515",
          "-1.1693425",
          "-2.3021026",
          "2.9958339",
          "1.5410864",
          "1.4126453",
          "-2.1514843",
          "-1.9709785",
          "1.5633516",
          "1.2184764",
          "1.1255599",
          "1.4586703",
          "-1.0129992",
          "-0.5913101",
          "-1.9729353",
          "2.000142",
          "-0.8045487",
          "0.79552054",
          "-0.93811",
          "-0.261449",
          "-0.6257332",
          "1.4716706",
          "2.5300615",
          "-2.649816",
          "1.2027308",
          "-1.995799",
          "2.4002504",
          "0.42373118",
          "-0.13293374",
          "3.0352194",
          "1.2560505",
          "0.5012205",
          "1.1305343",
          "2.8163908",
          "2.423725",
          "-1.3538727",
          "3.5611472",
          "2.533114",
          "2.6367779",
          "-2.3310354",
          "-0.82865983",
          "1.527318",
          "-0.15868549",
          "2.2541087",
          "1.2951891",
          "0.11699745",
          "2.1706169",
          "2.15355",
          "-0.43674576",
          "-0.13752037",
          "-1.8620331",
          "2.3406591",
          "1.2928499",
          "2.469685",
          "1.2246252",
          "0.017067507",
          "-0.2926164",
          "-0.5728102",
          "1.4428003",
          "-0.46342048",
          "-2.0847301",
          "-0.11810119",
          "-2.5791073",
          "-0.6082236",
          "0.94132316",
          "1.9770535",
          "1.5130213",
          "2.6056886",
          "-0.939686",
          "-0.17060532",
          "-2.500147",
          "1.1939144",
          "2.9309497",
          "2.3165982",
          "-2.119989",
          "-0.4128943",
          "0.25328526",
          "-0.9359834",
          "1.3315613",
          "1.59211",
          "2.3445916",
          "-0.9522654",
          "1.4635593",
          "-0.831422",
          "-1.1556468",
          "-1.8669013"
         ],
         "yaxis": "y"
        }
       ],
       "layout": {
        "autosize": true,
        "legend": {
         "tracegroupgap": 0
        },
        "margin": {
         "t": 60
        },
        "template": {
         "data": {
          "bar": [
           {
            "error_x": {
             "color": "#2a3f5f"
            },
            "error_y": {
             "color": "#2a3f5f"
            },
            "marker": {
             "line": {
              "color": "#E5ECF6",
              "width": 0.5
             }
            },
            "type": "bar"
           }
          ],
          "barpolar": [
           {
            "marker": {
             "line": {
              "color": "#E5ECF6",
              "width": 0.5
             }
            },
            "type": "barpolar"
           }
          ],
          "carpet": [
           {
            "aaxis": {
             "endlinecolor": "#2a3f5f",
             "gridcolor": "white",
             "linecolor": "white",
             "minorgridcolor": "white",
             "startlinecolor": "#2a3f5f"
            },
            "baxis": {
             "endlinecolor": "#2a3f5f",
             "gridcolor": "white",
             "linecolor": "white",
             "minorgridcolor": "white",
             "startlinecolor": "#2a3f5f"
            },
            "type": "carpet"
           }
          ],
          "choropleth": [
           {
            "colorbar": {
             "outlinewidth": 0,
             "ticks": ""
            },
            "type": "choropleth"
           }
          ],
          "contour": [
           {
            "colorbar": {
             "outlinewidth": 0,
             "ticks": ""
            },
            "colorscale": [
             [
              0,
              "#0d0887"
             ],
             [
              0.1111111111111111,
              "#46039f"
             ],
             [
              0.2222222222222222,
              "#7201a8"
             ],
             [
              0.3333333333333333,
              "#9c179e"
             ],
             [
              0.4444444444444444,
              "#bd3786"
             ],
             [
              0.5555555555555556,
              "#d8576b"
             ],
             [
              0.6666666666666666,
              "#ed7953"
             ],
             [
              0.7777777777777778,
              "#fb9f3a"
             ],
             [
              0.8888888888888888,
              "#fdca26"
             ],
             [
              1,
              "#f0f921"
             ]
            ],
            "type": "contour"
           }
          ],
          "contourcarpet": [
           {
            "colorbar": {
             "outlinewidth": 0,
             "ticks": ""
            },
            "type": "contourcarpet"
           }
          ],
          "heatmap": [
           {
            "colorbar": {
             "outlinewidth": 0,
             "ticks": ""
            },
            "colorscale": [
             [
              0,
              "#0d0887"
             ],
             [
              0.1111111111111111,
              "#46039f"
             ],
             [
              0.2222222222222222,
              "#7201a8"
             ],
             [
              0.3333333333333333,
              "#9c179e"
             ],
             [
              0.4444444444444444,
              "#bd3786"
             ],
             [
              0.5555555555555556,
              "#d8576b"
             ],
             [
              0.6666666666666666,
              "#ed7953"
             ],
             [
              0.7777777777777778,
              "#fb9f3a"
             ],
             [
              0.8888888888888888,
              "#fdca26"
             ],
             [
              1,
              "#f0f921"
             ]
            ],
            "type": "heatmap"
           }
          ],
          "heatmapgl": [
           {
            "colorbar": {
             "outlinewidth": 0,
             "ticks": ""
            },
            "colorscale": [
             [
              0,
              "#0d0887"
             ],
             [
              0.1111111111111111,
              "#46039f"
             ],
             [
              0.2222222222222222,
              "#7201a8"
             ],
             [
              0.3333333333333333,
              "#9c179e"
             ],
             [
              0.4444444444444444,
              "#bd3786"
             ],
             [
              0.5555555555555556,
              "#d8576b"
             ],
             [
              0.6666666666666666,
              "#ed7953"
             ],
             [
              0.7777777777777778,
              "#fb9f3a"
             ],
             [
              0.8888888888888888,
              "#fdca26"
             ],
             [
              1,
              "#f0f921"
             ]
            ],
            "type": "heatmapgl"
           }
          ],
          "histogram": [
           {
            "marker": {
             "colorbar": {
              "outlinewidth": 0,
              "ticks": ""
             }
            },
            "type": "histogram"
           }
          ],
          "histogram2d": [
           {
            "colorbar": {
             "outlinewidth": 0,
             "ticks": ""
            },
            "colorscale": [
             [
              0,
              "#0d0887"
             ],
             [
              0.1111111111111111,
              "#46039f"
             ],
             [
              0.2222222222222222,
              "#7201a8"
             ],
             [
              0.3333333333333333,
              "#9c179e"
             ],
             [
              0.4444444444444444,
              "#bd3786"
             ],
             [
              0.5555555555555556,
              "#d8576b"
             ],
             [
              0.6666666666666666,
              "#ed7953"
             ],
             [
              0.7777777777777778,
              "#fb9f3a"
             ],
             [
              0.8888888888888888,
              "#fdca26"
             ],
             [
              1,
              "#f0f921"
             ]
            ],
            "type": "histogram2d"
           }
          ],
          "histogram2dcontour": [
           {
            "colorbar": {
             "outlinewidth": 0,
             "ticks": ""
            },
            "colorscale": [
             [
              0,
              "#0d0887"
             ],
             [
              0.1111111111111111,
              "#46039f"
             ],
             [
              0.2222222222222222,
              "#7201a8"
             ],
             [
              0.3333333333333333,
              "#9c179e"
             ],
             [
              0.4444444444444444,
              "#bd3786"
             ],
             [
              0.5555555555555556,
              "#d8576b"
             ],
             [
              0.6666666666666666,
              "#ed7953"
             ],
             [
              0.7777777777777778,
              "#fb9f3a"
             ],
             [
              0.8888888888888888,
              "#fdca26"
             ],
             [
              1,
              "#f0f921"
             ]
            ],
            "type": "histogram2dcontour"
           }
          ],
          "mesh3d": [
           {
            "colorbar": {
             "outlinewidth": 0,
             "ticks": ""
            },
            "type": "mesh3d"
           }
          ],
          "parcoords": [
           {
            "line": {
             "colorbar": {
              "outlinewidth": 0,
              "ticks": ""
             }
            },
            "type": "parcoords"
           }
          ],
          "pie": [
           {
            "automargin": true,
            "type": "pie"
           }
          ],
          "scatter": [
           {
            "marker": {
             "colorbar": {
              "outlinewidth": 0,
              "ticks": ""
             }
            },
            "type": "scatter"
           }
          ],
          "scatter3d": [
           {
            "line": {
             "colorbar": {
              "outlinewidth": 0,
              "ticks": ""
             }
            },
            "marker": {
             "colorbar": {
              "outlinewidth": 0,
              "ticks": ""
             }
            },
            "type": "scatter3d"
           }
          ],
          "scattercarpet": [
           {
            "marker": {
             "colorbar": {
              "outlinewidth": 0,
              "ticks": ""
             }
            },
            "type": "scattercarpet"
           }
          ],
          "scattergeo": [
           {
            "marker": {
             "colorbar": {
              "outlinewidth": 0,
              "ticks": ""
             }
            },
            "type": "scattergeo"
           }
          ],
          "scattergl": [
           {
            "marker": {
             "colorbar": {
              "outlinewidth": 0,
              "ticks": ""
             }
            },
            "type": "scattergl"
           }
          ],
          "scattermapbox": [
           {
            "marker": {
             "colorbar": {
              "outlinewidth": 0,
              "ticks": ""
             }
            },
            "type": "scattermapbox"
           }
          ],
          "scatterpolar": [
           {
            "marker": {
             "colorbar": {
              "outlinewidth": 0,
              "ticks": ""
             }
            },
            "type": "scatterpolar"
           }
          ],
          "scatterpolargl": [
           {
            "marker": {
             "colorbar": {
              "outlinewidth": 0,
              "ticks": ""
             }
            },
            "type": "scatterpolargl"
           }
          ],
          "scatterternary": [
           {
            "marker": {
             "colorbar": {
              "outlinewidth": 0,
              "ticks": ""
             }
            },
            "type": "scatterternary"
           }
          ],
          "surface": [
           {
            "colorbar": {
             "outlinewidth": 0,
             "ticks": ""
            },
            "colorscale": [
             [
              0,
              "#0d0887"
             ],
             [
              0.1111111111111111,
              "#46039f"
             ],
             [
              0.2222222222222222,
              "#7201a8"
             ],
             [
              0.3333333333333333,
              "#9c179e"
             ],
             [
              0.4444444444444444,
              "#bd3786"
             ],
             [
              0.5555555555555556,
              "#d8576b"
             ],
             [
              0.6666666666666666,
              "#ed7953"
             ],
             [
              0.7777777777777778,
              "#fb9f3a"
             ],
             [
              0.8888888888888888,
              "#fdca26"
             ],
             [
              1,
              "#f0f921"
             ]
            ],
            "type": "surface"
           }
          ],
          "table": [
           {
            "cells": {
             "fill": {
              "color": "#EBF0F8"
             },
             "line": {
              "color": "white"
             }
            },
            "header": {
             "fill": {
              "color": "#C8D4E3"
             },
             "line": {
              "color": "white"
             }
            },
            "type": "table"
           }
          ]
         },
         "layout": {
          "annotationdefaults": {
           "arrowcolor": "#2a3f5f",
           "arrowhead": 0,
           "arrowwidth": 1
          },
          "coloraxis": {
           "colorbar": {
            "outlinewidth": 0,
            "ticks": ""
           }
          },
          "colorscale": {
           "diverging": [
            [
             0,
             "#8e0152"
            ],
            [
             0.1,
             "#c51b7d"
            ],
            [
             0.2,
             "#de77ae"
            ],
            [
             0.3,
             "#f1b6da"
            ],
            [
             0.4,
             "#fde0ef"
            ],
            [
             0.5,
             "#f7f7f7"
            ],
            [
             0.6,
             "#e6f5d0"
            ],
            [
             0.7,
             "#b8e186"
            ],
            [
             0.8,
             "#7fbc41"
            ],
            [
             0.9,
             "#4d9221"
            ],
            [
             1,
             "#276419"
            ]
           ],
           "sequential": [
            [
             0,
             "#0d0887"
            ],
            [
             0.1111111111111111,
             "#46039f"
            ],
            [
             0.2222222222222222,
             "#7201a8"
            ],
            [
             0.3333333333333333,
             "#9c179e"
            ],
            [
             0.4444444444444444,
             "#bd3786"
            ],
            [
             0.5555555555555556,
             "#d8576b"
            ],
            [
             0.6666666666666666,
             "#ed7953"
            ],
            [
             0.7777777777777778,
             "#fb9f3a"
            ],
            [
             0.8888888888888888,
             "#fdca26"
            ],
            [
             1,
             "#f0f921"
            ]
           ],
           "sequentialminus": [
            [
             0,
             "#0d0887"
            ],
            [
             0.1111111111111111,
             "#46039f"
            ],
            [
             0.2222222222222222,
             "#7201a8"
            ],
            [
             0.3333333333333333,
             "#9c179e"
            ],
            [
             0.4444444444444444,
             "#bd3786"
            ],
            [
             0.5555555555555556,
             "#d8576b"
            ],
            [
             0.6666666666666666,
             "#ed7953"
            ],
            [
             0.7777777777777778,
             "#fb9f3a"
            ],
            [
             0.8888888888888888,
             "#fdca26"
            ],
            [
             1,
             "#f0f921"
            ]
           ]
          },
          "colorway": [
           "#636efa",
           "#EF553B",
           "#00cc96",
           "#ab63fa",
           "#FFA15A",
           "#19d3f3",
           "#FF6692",
           "#B6E880",
           "#FF97FF",
           "#FECB52"
          ],
          "font": {
           "color": "#2a3f5f"
          },
          "geo": {
           "bgcolor": "white",
           "lakecolor": "white",
           "landcolor": "#E5ECF6",
           "showlakes": true,
           "showland": true,
           "subunitcolor": "white"
          },
          "hoverlabel": {
           "align": "left"
          },
          "hovermode": "closest",
          "mapbox": {
           "style": "light"
          },
          "paper_bgcolor": "white",
          "plot_bgcolor": "#E5ECF6",
          "polar": {
           "angularaxis": {
            "gridcolor": "white",
            "linecolor": "white",
            "ticks": ""
           },
           "bgcolor": "#E5ECF6",
           "radialaxis": {
            "gridcolor": "white",
            "linecolor": "white",
            "ticks": ""
           }
          },
          "scene": {
           "xaxis": {
            "backgroundcolor": "#E5ECF6",
            "gridcolor": "white",
            "gridwidth": 2,
            "linecolor": "white",
            "showbackground": true,
            "ticks": "",
            "zerolinecolor": "white"
           },
           "yaxis": {
            "backgroundcolor": "#E5ECF6",
            "gridcolor": "white",
            "gridwidth": 2,
            "linecolor": "white",
            "showbackground": true,
            "ticks": "",
            "zerolinecolor": "white"
           },
           "zaxis": {
            "backgroundcolor": "#E5ECF6",
            "gridcolor": "white",
            "gridwidth": 2,
            "linecolor": "white",
            "showbackground": true,
            "ticks": "",
            "zerolinecolor": "white"
           }
          },
          "shapedefaults": {
           "line": {
            "color": "#2a3f5f"
           }
          },
          "ternary": {
           "aaxis": {
            "gridcolor": "white",
            "linecolor": "white",
            "ticks": ""
           },
           "baxis": {
            "gridcolor": "white",
            "linecolor": "white",
            "ticks": ""
           },
           "bgcolor": "#E5ECF6",
           "caxis": {
            "gridcolor": "white",
            "linecolor": "white",
            "ticks": ""
           }
          },
          "title": {
           "x": 0.05
          },
          "xaxis": {
           "automargin": true,
           "gridcolor": "white",
           "linecolor": "white",
           "ticks": "",
           "title": {
            "standoff": 15
           },
           "zerolinecolor": "white",
           "zerolinewidth": 2
          },
          "yaxis": {
           "automargin": true,
           "gridcolor": "white",
           "linecolor": "white",
           "ticks": "",
           "title": {
            "standoff": 15
           },
           "zerolinecolor": "white",
           "zerolinewidth": 2
          }
         }
        },
        "xaxis": {
         "anchor": "y",
         "autorange": true,
         "domain": [
          0,
          1
         ],
         "range": [
          -5.0169806513171755,
          6.961578851317175
         ],
         "title": {
          "text": "x"
         },
         "type": "linear"
        },
        "yaxis": {
         "anchor": "x",
         "autorange": true,
         "domain": [
          0,
          1
         ],
         "range": [
          -3.45628597412523,
          5.17520867412523
         ],
         "title": {
          "text": "y"
         },
         "type": "linear"
        }
       }
      },
      "image/png": "[encoded data removed]",
      "text/html": [
       "<div>\n",
       "        \n",
       "        \n",
       "            <div id=\"bfbf237a-12a8-4ecb-9adb-04cd639c5fed\" class=\"plotly-graph-div\" style=\"height:525px; width:100%;\"></div>\n",
       "            <script type=\"text/javascript\">\n",
       "                require([\"plotly\"], function(Plotly) {\n",
       "                    window.PLOTLYENV=window.PLOTLYENV || {};\n",
       "                    \n",
       "                if (document.getElementById(\"bfbf237a-12a8-4ecb-9adb-04cd639c5fed\")) {\n",
       "                    Plotly.newPlot(\n",
       "                        'bfbf237a-12a8-4ecb-9adb-04cd639c5fed',\n",
       "                        [{\"customdata\": [[\"Chandra, Awakened Inferno\", \"This spell can't be countered.\\n[+2]: Each opponent gets an emblem with \\\"At the beginning of your upkeep, this emblem deals 1 damage to you.\\\"\\n[\\u22123]: CARDNAME deals 3 damage to each non-Elemental creature.\\n\\u2212X: CARDNAME deals X damage to target creature or planeswalker. If a permanent dealt damage this way would die this turn, exile it instead.\"], [\"Cavalier of Flame\", \"{1}{R}: Creatures you control get +1/+0 and gain haste until end of turn.\\nETB_EFFECT, discard any number of cards, then draw that many cards.\\nWhen CARDNAME dies, it deals X damage to each opponent and each planeswalker they control, where X is the number of land cards in your graveyard.\"], [\"Cavalier of Thorns\", \"REACH\\nETB_EFFECT, reveal the top five cards of your library. Put a land card from among them onto the battlefield and the rest into your graveyard.\\nWhen CARDNAME dies, you may exile it. If you do, put another target card from your graveyard on top of your library.\"], [\"Omnath, Locus of the Roil\", \"ETB_EFFECT, it deals damage to any target equal to the number of Elementals you control.\\nWhenever a land enters the battlefield under your control, put a +1/+1 counter on target Elemental you control. If you control eight or more lands, draw a card.\"], [\"Kaalia, Zenith Seeker\", \"FLYING, vigilance\\nETB_EFFECT, look at the top six cards of your library. You may reveal an Angel card, a Demon card, and/or a Dragon card from among them and put them into your hand. Put the rest on the bottom of your library in a random order.\"], [\"Mask of Immolation\", \"ETB_EFFECT, create a 1/1 red Elemental creature token, then attach CARDNAME to it.\\nEquipped creature has \\\"Sacrifice this creature: It deals 1 damage to any target.\\\"\\nEquip {2} ({2}: Attach to target creature you control. Equip only as a sorcery.)\"], [\"Cavalier of Dawn\", \"VIGILANCE\\nETB_EFFECT, destroy up to one target nonland permanent. Its controller creates a 3/3 colorless Golem artifact creature token.\\nWhen CARDNAME dies, return target artifact or enchantment card from your graveyard to your hand.\"], [\"Wolfrider's Saddle\", \"ETB_EFFECT, create a 2/2 green Wolf creature token, then attach CARDNAME to it.\\nEquipped creature gets +1/+1 and can't be blocked by more than one creature.\\nEquip {3} ({3}: Attach to target creature you control. Equip only as a sorcery.)\"], [\"Risen Reef\", \"Whenever CARDNAME or another Elemental enters the battlefield under your control, look at the top card of your library. If it's a land card, you may put it onto the battlefield tapped. If you don't put the card onto the battlefield, put it into your hand.\"], [\"Atemsis, All-Seeing\", \"FLYING\\n{2}{U}, {T}: Draw two cards, then discard a card.\\nWhenever CARDNAME deals damage to an opponent, you may reveal your hand. If cards with at least six different converted mana costs are revealed this way, that player loses the game.\"], [\"Overgrowth Elemental\", \"ETB_EFFECT, put a +1/+1 counter on another target Elemental you control.\\nWhenever another creature you control dies, you gain 1 life. If that creature was an Elemental, put a +1/+1 counter on CARDNAME.\"], [\"Barkhide Troll\", \"CARDNAME enters the battlefield with a +1/+1 counter on it.\\n{1}, Remove a +1/+1 counter from CARDNAME: CARDNAME gains hexproof until end of turn. (It can't be the target of spells or abilities your opponents control.)\"], [\"Voracious Hydra\", \"TRAMPLE\\nCARDNAME enters the battlefield with X +1/+1 counters on it.\\nETB_EFFECT, choose one \\u2014\\n\\u2022 Double the number of +1/+1 counters on CARDNAME.\\n\\u2022 CARDNAME fights target creature you don't control.\"], [\"Gruesome Scourger\", \"ETB_EFFECT, it deals damage to target opponent or planeswalker equal to the number of creatures you control.\"], [\"Icon of Ancestry\", \"As CARDNAME enters the battlefield, choose a creature type.\\nCreatures you control of the chosen type get +1/+1.\\n{3}, {T}: Look at the top three cards of your library. You may reveal a creature card of the chosen type from among them and put it into your hand. Put the rest on the bottom of your library in a random order.\"], [\"Cryptic Caves\", \"{T}: Add {C}.\\n{1}, {T}, Sacrifice CARDNAME: Draw a card. Activate this ability only if you control five or more lands.\"], [\"Evolving Wilds\", \"{T}, Sacrifice CARDNAME: Search your library for a basic land card, put it onto the battlefield tapped, then shuffle your library.\"], [\"Mu Yanling, Sky Dancer\", \"[+2]: Until your next turn, up to one target creature gets -2/-0 and loses flying.\\n[\\u22123]: Create a 4/4 blue Elemental Bird creature token with flying.\\n[\\u22128]: You get an emblem with \\\"Islands you control have '{T}: Draw a card.'\\\"\"], [\"Bloodsoaked Altar\", \"{T}, Pay 2 life, Discard a card, Sacrifice a creature: Create a 5/5 black Demon creature token with flying. Activate this ability only any time you could cast a sorcery.\"], [\"Leyline of Abundance\", \"If CARDNAME is in your opening hand, you may begin the game with it on the battlefield.\\nWhenever you tap a creature for mana, add an additional {G}.\\n{6}{G}{G}: Put a +1/+1 counter on each creature you control.\"], [\"Ancestral Blade\", \"ETB_EFFECT, create a 1/1 white Soldier creature token, then attach CARDNAME to it.\\nEquipped creature gets +1/+1.\\nEquip {1} ({1}: Attach to target creature you control. Equip only as a sorcery.)\"], [\"Chandra, Acolyte of Flame\", \"[0]: Put a loyalty counter on each red planeswalker you control.\\n[0]: Create two 1/1 red Elemental creature tokens. They gain haste. Sacrifice them at the beginning of the next end step.\\n[\\u22122]: You may cast target instant or sorcery card with converted mana cost 3 or less from your graveyard. If that card would be put into your graveyard this turn, exile it instead.\"], [\"Chandra's Regulator\", \"Whenever you activate a loyalty ability of a Chandra planeswalker, you may pay {1}. If you do, copy that ability. You may choose new targets for the copy.\\n{1}, {T}, Discard a Mountain card or a red card: Draw a card.\"], [\"Fry\", \"This spell can't be countered.\\nCARDNAME deals 5 damage to target creature or planeswalker that's white or blue.\"], [\"Gauntlets of Light\", \"Enchant creature\\nEnchanted creature gets +0/+2 and assigns combat damage equal to its toughness rather than its power.\\nEnchanted creature has \\\"{2}{W}: Untap this creature.\\\"\"], [\"Angelic Guardian\", \"FLYING\\nWhenever one or more creatures you control attack, they gain indestructible until end of turn. (Damage and effects that say \\\"destroy\\\" don't destroy them.)\"], [\"Gargos, Vicious Watcher\", \"VIGILANCE\\nHydra spells you cast cost {4} less to cast.\\nWhenever a creature you control becomes the target of a spell, CARDNAME fights up to one target creature you don't control.\"], [\"Shifting Ceratops\", \"This spell can't be countered.\\nPROTECTION_FROM_BLUE\\n{G}: CARDNAME gains your choice of reach, trample, or haste until end of turn.\"], [\"Kethis, the Hidden Hand\", \"Legendary spells you cast cost {1} less to cast.\\nExile two legendary cards from your graveyard: Until end of turn, each legendary card in your graveyard gains \\\"You may play this card from your graveyard.\\\"\"], [\"Chandra's Flame Wave\", \"CARDNAME deals 2 damage to target player and each creature that player controls. Search your library and/or graveyard for a card named Chandra, Flame's Fury, reveal it, and put it into your hand. If you search your library this way, shuffle it.\"], [\"Sephara, Sky's Blade\", \"You may pay {W} and tap four untapped creatures you control with flying rather than pay this spell's mana cost.\\nFLYING, lifelink\\nOther creatures you control with flying have indestructible. (Damage and effects that say \\\"destroy\\\" don't destroy them.)\"], [\"Drakuseth, Maw of Flames\", \"FLYING\\nWhenever CARDNAME attacks, it deals 4 damage to any target and 3 damage to each of up to two other targets.\"], [\"Veil of Summer\", \"Draw a card if an opponent has cast a blue or black spell this turn. Spells you control can't be countered this turn. You and permanents you control gain hexproof from blue and from black until end of turn. (You and they can't be the targets of blue or black spells or abilities your opponents control.)\"], [\"Sorin, Vampire Lord\", \"[+1]: Up to one target creature gets +2/+0 until end of turn.\\n[\\u22122]: CARDNAME deals 4 damage to any target. You gain 4 life.\\n[\\u22128]: Until end of turn, each Vampire you control gains \\\"{T}: Gain control of target creature.\\\"\"], [\"Diamond Knight\", \"VIGILANCE\\nAs CARDNAME enters the battlefield, choose a color.\\nWhenever you cast a spell of the chosen color, put a +1/+1 counter on CARDNAME.\"], [\"Thicket Crasher\", \"TRAMPLE\\nOther Elementals you control have trample.\"], [\"Ajani, Strength of the Pride\", \"[+1]: You gain life equal to the number of creatures you control plus the number of planeswalkers you control.\\n[\\u22122]: Create a 2/2 white Cat Soldier creature token named Ajani's Pridemate with \\\"Whenever you gain life, put a +1/+1 counter on Ajani's Pridemate.\\\"\\n[0]: If you have at least 15 life more than your starting life total, exile CARDNAME and each artifact and creature your opponents control.\"], [\"Aggressive Mammoth\", \"TRAMPLE\\nOther creatures you control have trample.\"], [\"Octoprophet\", \"ETB_EFFECT, scry 2. (Look at the top two cards of your library, then put any number of them on the bottom of your library and the rest on top in any order.)\"], [\"Knight of the Ebon Legion\", \"{2}{B}: CARDNAME gets +3/+3 and gains deathtouch until end of turn.\\nAt the beginning of your end step, if a player lost 4 or more life this turn, put a +1/+1 counter on CARDNAME. (Damage causes loss of life.)\"], [\"Salvager of Ruin\", \"Sacrifice CARDNAME: Choose target permanent card in your graveyard that was put there from the battlefield this turn. Return it to your hand.\"], [\"Yanling's Harbinger\", \"FLYING\\nETB_EFFECT, you may search your library and/or graveyard for a card named Mu Yanling, Celestial Wind, reveal it, and put it into your hand. If you search your library this way, shuffle it.\"], [\"Gorging Vulture\", \"FLYING\\nETB_EFFECT, put the top four cards of your library into your graveyard. You gain 1 life for each creature card put into your graveyard this way.\"], [\"Celestial Messenger\", \"FLASH (You may cast this card any time you could cast an instant.)\\nFLYING\\nCARDNAME gets +1/+1 as long as you control a Yanling planeswalker.\"], [\"Glint-Horn Buccaneer\", \"HASTE\\nWhenever you discard a card, CARDNAME deals 1 damage to each opponent.\\n{1}{R}, Discard a card: Draw a card. Activate this ability only if CARDNAME is attacking.\"], [\"Leyline of Combustion\", \"If CARDNAME is in your opening hand, you may begin the game with it on the battlefield.\\nWhenever you and/or at least one permanent you control becomes the target of a spell or ability an opponent controls, CARDNAME deals 2 damage to that player.\"], [\"Gift of Paradise\", \"Enchant land\\nETB_EFFECT, you gain 3 life.\\nEnchanted land has \\\"{T}: Add two mana of any one color.\\\"\"], [\"Loaming Shaman\", \"ETB_EFFECT, target player shuffles any number of target cards from their graveyard into their library.\"], [\"Blossoming Sands\", \"ENTER_TAPPED\\nETB_EFFECT, you gain 1 life.\\n{T}: Add {G} or {W}.\"], [\"Ember Hauler\", \"{1}, Sacrifice CARDNAME: It deals 2 damage to any target.\"], [\"Renowned Weaponsmith\", \"{T}: Add {C}{C}. Spend this mana only to cast artifact spells or activate abilities of artifacts.\\n{U}, {T}: Search your library for a card named Heart-Piercer Bow or Vial of Dragonfire, reveal it, put it into your hand, then shuffle your library.\"], [\"Scholar of the Ages\", \"ETB_EFFECT, return up to two target instant and/or sorcery cards from your graveyard to your hand.\"], [\"Brightwood Tracker\", \"{5}{G}, {T}: Look at the top four cards of your library. You may reveal a creature card from among them and put it into your hand. Put the rest on the bottom of your library in a random order.\"], [\"Tomebound Lich\", \"DEATHTOUCH\\nLifelink (Damage dealt by this creature also causes you to gain that much life.)\\nWhenever CARDNAME enters the battlefield or deals combat damage to a player, draw a card, then discard a card.\"], [\"Leyline of Anticipation\", \"If CARDNAME is in your opening hand, you may begin the game with it on the battlefield.\\nYou may cast spells as though they had flash.\"], [\"Thunderkin Awakener\", \"HASTE\\nWhenever CARDNAME attacks, choose target Elemental creature card in your graveyard with toughness less than CARDNAME's toughness. Return that card to the battlefield tapped and attacking. Sacrifice it at the beginning of the next end step.\"], [\"Flood of Tears\", \"Return all nonland permanents to their owners' hands. If you return four or more nontoken permanents you control this way, you may put a permanent card from your hand onto the battlefield.\"], [\"Eternal Isolation\", \"Put target creature with power 4 or greater on the bottom of its owner's library.\"], [\"Meteor Golem\", \"ETB_EFFECT, destroy target nonland permanent an opponent controls.\"], [\"Pattern Matcher\", \"ETB_EFFECT, you may search your library for a card with the same name as another creature you control, reveal it, put it into your hand, then shuffle your library.\"], [\"Ajani, Inspiring Leader\", \"[+2]: You gain 2 life. Put two +1/+1 counters on up to one target creature.\\n[\\u22123]: Exile target creature. Its controller gains 2 life.\\n[\\u221210]: Creatures you control gain flying and double strike until end of turn.\"], [\"Cloudkin Seer\", \"FLYING\\nETB_EFFECT, draw a card.\"], [\"Mystic Forge\", \"You may look at the top card of your library any time.\\nYou may cast the top card of your library if it's an artifact card or a colorless nonland card.\\n{T}, Pay 1 life: Exile the top card of your library.\"], [\"Sorin's Guide\", \"ETB_EFFECT, you may search your library and/or graveyard for a card named Sorin, Vampire Lord, reveal it, and put it into your hand. If you search your library this way, shuffle it.\"], [\"Wildfire Elemental\", \"Whenever an opponent is dealt noncombat damage, creatures you control get +1/+0 until end of turn.\"], [\"Kykar, Wind's Fury\", \"FLYING\\nWhenever you cast a noncreature spell, create a 1/1 white Spirit creature token with flying.\\nSacrifice a Spirit: Add {R}.\"], [\"Cerulean Drake\", \"FLYING\\nPROTECTION_FROM_RED\\nSacrifice CARDNAME: Counter target spell that targets you.\"], [\"Portal of Sanctuary\", \"{1}, {T}: Return target creature you control and each Aura attached to it to their owners' hands. Activate this ability only during your turn.\"], [\"Frost Lynx\", \"ETB_EFFECT, tap target creature an opponent controls. That creature doesn't untap during its controller's next untap step.\"], [\"Plummet\", \"Destroy target creature with flying.\"], [\"Vivien, Nature's Avenger\", \"[+1]: Put three +1/+1 counters on up to one target creature.\\n[\\u22121]: Reveal cards from the top of your library until you reveal a creature card. Put that card into your hand and the rest on the bottom of your library in a random order.\\n[\\u22126]: Target creature gets +10/+10 and gains trample until end of turn.\"], [\"Embodiment of Agonies\", \"FLYING, deathtouch\\nCARDNAME enters the battlefield with a +1/+1 counter on it for each different mana cost among nonland cards in your graveyard. (For example, {2}{B} and {1}{B}{B} are different mana costs.)\"], [\"Vilis, Broker of Blood\", \"FLYING\\n{B}, Pay 2 life: Target creature gets -1/-1 until end of turn.\\nWhenever you lose life, draw that many cards. (Damage causes loss of life.)\"], [\"Thirsting Bloodlord\", \"Other Vampires you control get +1/+1.\"], [\"Chandra, Flame's Fury\", \"[+1]: CARDNAME deals 2 damage to any target.\\n[\\u22122]: CARDNAME deals 4 damage to target creature and 2 damage to that creature's controller.\\n[\\u22128]: CARDNAME deals 10 damage to target player and each creature that player controls.\"], [\"Sorin, Imperious Bloodlord\", \"[+1]: Target creature you control gains deathtouch and lifelink until end of turn. If it's a Vampire, put a +1/+1 counter on it.\\n[+1]: You may sacrifice a Vampire. When you do, CARDNAME deals 3 damage to any target and you gain 3 life.\\n[\\u22123]: You may put a Vampire creature card from your hand onto the battlefield.\"], [\"Vial of Dragonfire\", \"{2}, {T}, Sacrifice CARDNAME: It deals 2 damage to target creature.\"], [\"Zephyr Charge\", \"{1}{U}: Target creature gains flying until end of turn.\"], [\"Vampire of the Dire Moon\", \"DEATHTOUCH\\nLifelink (Damage dealt by this creature also causes you to gain that much life.)\"], [\"Gravewaker\", \"FLYING\\n{5}{B}{B}: Return target creature card from your graveyard to the battlefield tapped.\"], [\"Sleep Paralysis\", \"Enchant creature\\nETB_EFFECT, tap enchanted creature.\\nEnchanted creature doesn't untap during its controller's untap step.\"], [\"Drawn from Dreams\", \"Look at the top seven cards of your library. Put two of them into your hand and the rest on the bottom of your library in a random order.\"], [\"Heart-Piercer Bow\", \"Whenever equipped creature attacks, CARDNAME deals 1 damage to target creature defending player controls.\\nEquip {1} ({1}: Attach to target creature you control. Equip only as a sorcery.)\"], [\"Tale's End\", \"Counter target activated ability, triggered ability, or legendary spell.\"], [\"Blood for Bones\", \"As an additional cost to cast this spell, sacrifice a creature.\\nReturn a creature card from your graveyard to the battlefield, then return another creature card from your graveyard to your hand.\"], [\"Unholy Indenture\", \"Enchant creature\\nWhen enchanted creature dies, return that card to the battlefield under your control with a +1/+1 counter on it.\"], [\"Bladebrand\", \"Target creature gains deathtouch until end of turn. (Any amount of damage it deals to a creature is enough to destroy it.)\\nDraw a card.\"], [\"Mind Rot\", \"Target player discards two cards.\"], [\"Thought Distortion\", \"This spell can't be countered.\\nTarget opponent reveals their hand. Exile all noncreature, nonland cards from that player's hand and graveyard.\"], [\"Field of the Dead\", \"ENTER_TAPPED\\n{T}: Add {C}.\\nWhenever CARDNAME or another land enters the battlefield under your control, if you control seven or more lands with different names, create a 2/2 black Zombie creature token.\"], [\"Grafdigger's Cage\", \"Creature cards in graveyards and libraries can't enter the battlefield.\\nPlayers can't cast spells from graveyards or libraries.\"], [\"Leyline of Sanctity\", \"If CARDNAME is in your opening hand, you may begin the game with it on the battlefield.\\nYou have hexproof. (You can't be the target of spells or abilities your opponents control.)\"], [\"Mu Yanling, Celestial Wind\", \"[+1]: Until your next turn, up to one target creature gets -5/-0.\\n[\\u22123]: Return up to two target creatures to their owners' hands.\\n[\\u22127]: Creatures you control with flying get +5/+5 until end of turn.\"], [\"Gods Willing\", \"Target creature you control gains protection from the color of your choice until end of turn. (It can't be blocked, targeted, dealt damage, enchanted, or equipped by anything of that color.)\\nScry 1. (Look at the top card of your library. You may put that card on the bottom of your library.)\"], [\"Shivan Dragon\", \"FLYING\\n{R}: CARDNAME gets +1/+0 until end of turn.\"], [\"Griffin Protector\", \"FLYING\\nWhenever another creature enters the battlefield under your control, CARDNAME gets +1/+1 until end of turn.\"], [\"Goblin Bird-Grabber\", \"{R}: CARDNAME gains flying until end of turn. Activate this ability only if you control a creature with flying.\"], [\"Pack Mastiff\", \"{1}{R}: Each creature you control named CARDNAME gets +1/+0 until end of turn.\"], [\"Overcome\", \"Creatures you control get +2/+2 and gain trample until end of turn. (They can deal excess combat damage to the player or planeswalker they're attacking.)\"], [\"Ethereal Elk\", \"TRAMPLE\\nETB_EFFECT, you may search your library and/or graveyard for a card named Vivien, Nature's Avenger, reveal it, and put it into your hand. If you search your library this way, shuffle it.\"], [\"Trusted Pegasus\", \"FLYING\\nWhenever CARDNAME attacks, target attacking creature without flying gains flying until end of turn.\"], [\"Dragon Mage\", \"FLYING\\nWhenever CARDNAME deals combat damage to a player, each player discards their hand, then draws seven cards.\"], [\"Repeated Reverberation\", \"When you next cast an instant spell, cast a sorcery spell, or activate a loyalty ability this turn, copy that spell or ability twice. You may choose new targets for the copies.\"], [\"Rabid Bite\", \"Target creature you control deals damage equal to its power to target creature you don't control.\"], [\"Waterkin Shaman\", \"Whenever a creature with flying enters the battlefield under your control, CARDNAME gets +1/+1 until end of turn.\"], [\"Bristling Boar\", \"CARDNAME can't be blocked by more than one creature.\"], [\"Air Elemental\", \"FLYING\"], [\"Fathom Fleet Cutthroat\", \"ETB_EFFECT, destroy target creature an opponent controls that was dealt damage this turn.\"], [\"Immortal Phoenix\", \"FLYING\\nWhen CARDNAME dies, return it to its owner's hand.\"], [\"Anticipate\", \"Look at the top three cards of your library. Put one of them into your hand and the rest on the bottom of your library in any order.\"], [\"Dungeon Geists\", \"FLYING\\nETB_EFFECT, tap target creature an opponent controls. That creature doesn't untap during its controller's untap step for as long as you control CARDNAME.\"], [\"Wakeroot Elemental\", \"{G}{G}{G}{G}{G}: Untap target land you control. It becomes a 5/5 Elemental creature with haste. It's still a land. (This effect lasts as long as that land remains on the battlefield.)\"], [\"Jungle Hollow\", \"ENTER_TAPPED\\nETB_EFFECT, you gain 1 life.\\n{T}: Add {B} or {G}.\"], [\"Dread Presence\", \"Whenever a Swamp enters the battlefield under your control, choose one \\u2014\\n\\u2022 You draw a card and you lose 1 life.\\n\\u2022 CARDNAME deals 2 damage to any target and you gain 2 life.\"], [\"Shared Summons\", \"Search your library for up to two creature cards with different names, reveal them, put them into your hand, then shuffle your library.\"], [\"Goldmane Griffin\", \"FLYING, vigilance\\nETB_EFFECT, you may search your library and/or graveyard for a card named Ajani, Inspiring Leader, reveal it, and put it into your hand. If you search your library this way, shuffle it.\"], [\"Glaring Aegis\", \"Enchant creature\\nETB_EFFECT, tap target creature an opponent controls.\\nEnchanted creature gets +1/+3.\"], [\"Vivien, Arkbow Ranger\", \"[+1]: Distribute two +1/+1 counters among up to two target creatures. They gain trample until end of turn.\\n[\\u22123]: Target creature you control deals damage equal to its power to target creature or planeswalker.\\n[\\u22125]: You may choose a creature card you own from outside the game, reveal it, and put it into your hand.\"], [\"Titanic Growth\", \"Target creature gets +4/+4 until end of turn.\"], [\"Act of Treason\", \"Gain control of target creature until end of turn. Untap that creature. It gains haste until end of turn. (It can attack and {T} this turn.)\"], [\"Captivating Gyre\", \"Return up to three target creatures to their owners' hands.\"], [\"Battalion Foot Soldier\", \"ETB_EFFECT, you may search your library for any number of cards named CARDNAME, reveal them, put them into your hand, then shuffle your library.\"], [\"Elvish Reclaimer\", \"CARDNAME gets +2/+2 as long as there are three or more land cards in your graveyard.\\n{2}, {T}, Sacrifice a land: Search your library for a land card, put it onto the battlefield tapped, then shuffle your library.\"], [\"Woodland Champion\", \"Whenever one or more tokens enter the battlefield under your control, put that many +1/+1 counters on CARDNAME.\"], [\"Rubblebelt Recluse\", \"CARDNAME attacks each combat if able.\"], [\"Netcaster Spider\", \"REACH\\nWhenever CARDNAME blocks a creature with flying, CARDNAME gets +2/+0 until end of turn.\"], [\"Wolfkin Bond\", \"Enchant creature\\nETB_EFFECT, create a 2/2 green Wolf creature token.\\nEnchanted creature gets +2/+2.\"], [\"Hanged Executioner\", \"FLYING\\nETB_EFFECT, create a 1/1 white Spirit creature token with flying.\\n{3}{W}, Exile CARDNAME: Exile target creature.\"], [\"Loyal Pegasus\", \"FLYING\\nCARDNAME can't attack or block alone.\"], [\"Chandra's Spitfire\", \"FLYING\\nWhenever an opponent is dealt noncombat damage, CARDNAME gets +3/+0 until end of turn.\"], [\"Reckless Air Strike\", \"Choose one \\u2014\\n\\u2022 CARDNAME deals 3 damage to target creature with flying.\\n\\u2022 Destroy target artifact.\"], [\"Riddlemaster Sphinx\", \"FLYING\\nETB_EFFECT, you may return target creature an opponent controls to its owner's hand.\"], [\"Legion's End\", \"Exile target creature an opponent controls with converted mana cost 2 or less and all other creatures that player controls with the same name as that creature. Then that player reveals their hand and exiles all cards with that name from their hand and graveyard.\"], [\"Scampering Scorcher\", \"ETB_EFFECT, create two 1/1 red Elemental creature tokens. Elementals you control gain haste until end of turn. (They can attack and {T} this turn.)\"], [\"Moat Piranhas\", \"DEFENDER\"], [\"Growth Cycle\", \"Target creature gets +3/+3 until end of turn. It gets an additional +2/+2 until end of turn for each card named CARDNAME in your graveyard.\"], [\"Bloodthirsty Aerialist\", \"FLYING\\nWhenever you gain life, put a +1/+1 counter on CARDNAME.\"], [\"Cavalier of Night\", \"Lifelink\\nETB_EFFECT, you may sacrifice another creature. When you do, destroy target creature an opponent controls.\\nWhen CARDNAME dies, return target creature card with converted mana cost 3 or less from your graveyard to the battlefield.\"], [\"Golos, Tireless Pilgrim\", \"ETB_EFFECT, you may search your library for a land card, put that card onto the battlefield tapped, then shuffle your library.\\n{2}{W}{U}{B}{R}{G}: Exile the top three cards of your library. You may play them this turn without paying their mana costs.\"], [\"Skeleton Archer\", \"ETB_EFFECT, it deals 1 damage to any target.\"], [\"Frilled Sandwalla\", \"{1}{G}: CARDNAME gets +2/+2 until end of turn. Activate this ability only once each turn.\"], [\"Winged Words\", \"This spell costs {1} less to cast if you control a creature with flying.\\nDraw two cards.\"], [\"Gnarlback Rhino\", \"TRAMPLE\\nWhenever you cast a spell that targets CARDNAME, draw a card.\"], [\"Agent of Treachery\", \"ETB_EFFECT, gain control of target permanent.\\nAt the beginning of your end step, if you control three or more permanents you don't own, draw three cards.\"], [\"Diviner's Lockbox\", \"{1}, {T}: Choose a card name, then reveal the top card of your library. If that card has the chosen name, sacrifice CARDNAME and draw three cards. Activate this ability only any time you could cast a sorcery.\"], [\"Prismite\", \"{2}: Add one mana of any color.\"], [\"Masterful Replication\", \"Choose one \\u2014\\n\\u2022 Create two 3/3 colorless Golem artifact creature tokens.\\n\\u2022 Choose target artifact you control. Each other artifact you control becomes a copy of that artifact until end of turn.\"], [\"Sage's Row Denizen\", \"Whenever another blue creature enters the battlefield under your control, target player puts the top two cards of their library into their graveyard.\"], [\"Blightbeetle\", \"PROTECTION_FROM_GREEN\\nCreatures your opponents control can't have +1/+1 counters put on them.\"], [\"Chandra's Embercat\", \"{T}: Add {R}. Spend this mana only to cast an Elemental spell or a Chandra planeswalker spell.\"], [\"Ripscale Predator\", \"Menace (This creature can't be blocked except by two or more creatures.)\"], [\"Season of Growth\", \"Whenever a creature enters the battlefield under your control, scry 1. (Look at the top card of your library. You may put that card on the bottom of your library.)\\nWhenever you cast a spell that targets a creature you control, draw a card.\"], [\"Wind-Scarred Crag\", \"ENTER_TAPPED\\nETB_EFFECT, you gain 1 life.\\n{T}: Add {R} or {W}.\"], [\"Lavakin Brawler\", \"Whenever CARDNAME attacks, it gets +1/+0 until end of turn for each Elemental you control.\"], [\"Unchained Berserker\", \"PROTECTION_FROM_WHITE\\nCARDNAME gets +2/+0 as long as it's attacking.\"], [\"Creeping Trailblazer\", \"Other Elementals you control get +1/+0.\\n{2}{R}{G}: CARDNAME gets +1/+1 until end of turn for each Elemental you control.\"], [\"Anvilwrought Raptor\", \"FLYING\\nFirst strike (This creature deals combat damage before creatures without first strike.)\"], [\"Fencing Ace\", \"DOUBLE_STRIKE\"], [\"Scoured Barrens\", \"ENTER_TAPPED\\nETB_EFFECT, you gain 1 life.\\n{T}: Add {W} or {B}.\"], [\"Rule of Law\", \"Each player can't cast more than one spell each turn.\"], [\"Cavalier of Gales\", \"FLYING\\nETB_EFFECT, draw three cards, then put two cards from your hand on top of your library in any order.\\nWhen CARDNAME dies, shuffle it into its owner's library, then scry 2.\"], [\"Inspired Charge\", \"Creatures you control get +2/+1 until end of turn.\"], [\"Take Vengeance\", \"Destroy target tapped creature.\"], [\"Volcanic Dragon\", \"FLYING\\nHASTE\"], [\"Brought Back\", \"Choose up to two target permanent cards in your graveyard that were put there from the battlefield this turn. Return them to the battlefield tapped.\"], [\"Scorch Spitter\", \"Whenever CARDNAME attacks, it deals 1 damage to the player or planeswalker it's attacking.\"], [\"Ironroot Warlord\", \"CARDNAME's power is equal to the number of creatures you control.\\n{3}{G}{W}: Create a 1/1 white Soldier creature token.\"], [\"Steel Overseer\", \"{T}: Put a +1/+1 counter on each artifact creature you control.\"], [\"Duress\", \"Target opponent reveals their hand. You choose a noncreature, nonland card from it. That player discards that card.\"], [\"Skyknight Vanguard\", \"FLYING\\nWhenever CARDNAME attacks, create a 1/1 white Soldier creature token that's tapped and attacking.\"], [\"Loxodon Lifechanter\", \"ETB_EFFECT, you may have your life total become the total toughness of creatures you control.\\n{5}{W}: CARDNAME gets +X/+X until end of turn, where X is your life total.\"], [\"Frilled Sea Serpent\", \"{5}{U}{U}: CARDNAME can't be blocked this turn.\"], [\"Reduce to Ashes\", \"CARDNAME deals 5 damage to target creature. If that creature would die this turn, exile it instead.\"], [\"Gravedigger\", \"ETB_EFFECT, you may return target creature card from your graveyard to your hand.\"], [\"Squad Captain\", \"VIGILANCE\\nCARDNAME enters the battlefield with a +1/+1 counter on it for each other creature you control.\"], [\"Steadfast Sentry\", \"VIGILANCE\\nWhen CARDNAME dies, put a +1/+1 counter on target creature you control.\"], [\"Yarok's Wavecrasher\", \"ETB_EFFECT, return another creature you control to its owner's hand.\"], [\"Vengeful Warchief\", \"Whenever you lose life for the first time each turn, put a +1/+1 counter on CARDNAME. (Damage causes loss of life.)\"], [\"Angel of Vitality\", \"FLYING\\nIf you would gain life, you gain that much life plus 1 instead.\\nCARDNAME gets +2/+2 as long as you have 25 or more life.\"], [\"Goblin Ringleader\", \"HASTE\\nETB_EFFECT, reveal the top four cards of your library. Put all Goblin cards revealed this way into your hand and the rest on the bottom of your library in any order.\"], [\"Disentomb\", \"Return target creature card from your graveyard to your hand.\"], [\"Dismal Backwater\", \"ENTER_TAPPED\\nETB_EFFECT, you gain 1 life.\\n{T}: Add {U} or {B}.\"], [\"Twinblade Paladin\", \"Whenever you gain life, put a +1/+1 counter on CARDNAME.\\nAs long as you have 25 or more life, CARDNAME has double strike. (It deals both first-strike and regular combat damage.)\"], [\"Bag of Holding\", \"Whenever you discard a card, exile that card from your graveyard.\\n{2}, {T}: Draw a card, then discard a card.\\n{4}, {T}, Sacrifice CARDNAME: Return all cards exiled with CARDNAME to their owner's hand.\"], [\"Temple of Epiphany\", \"ENTER_TAPPED\\nETB_EFFECT, scry 1.\\n{T}: Add {U} or {R}.\"], [\"Marauding Raptor\", \"Creature spells you cast cost {1} less to cast.\\nWhenever another creature enters the battlefield under your control, CARDNAME deals 2 damage to it. If a Dinosaur is dealt damage this way, CARDNAME gets +2/+0 until end of turn.\"], [\"Swamp\", \"({T}: Add {B}.)\"], [\"Forest\", \"({T}: Add {G}.)\"], [\"Scheming Symmetry\", \"Choose two target players. Each of them searches their library for a card, then shuffles their library and puts that card on top of it.\"], [\"Moment of Heroism\", \"Target creature gets +2/+2 and gains lifelink until end of turn. (Damage dealt by the creature also causes its controller to gain that much life.)\"], [\"Thornwood Falls\", \"ENTER_TAPPED\\nETB_EFFECT, you gain 1 life.\\n{T}: Add {G} or {U}.\"], [\"Thrashing Brontodon\", \"{1}, Sacrifice CARDNAME: Destroy target artifact or enchantment.\"], [\"Yarok, the Desecrated\", \"DEATHTOUCH, lifelink\\nIf a permanent entering the battlefield causes a triggered ability of a permanent you control to trigger, that ability triggers an additional time.\"], [\"Inspiring Captain\", \"ETB_EFFECT, creatures you control get +1/+1 until end of turn.\"], [\"Silverback Shaman\", \"TRAMPLE\\nWhen CARDNAME dies, draw a card.\"], [\"Colossus Hammer\", \"Equipped creature gets +10/+10 and loses flying.\\nEquip {8} ({8}: Attach to target creature you control. Equip only as a sorcery.)\"], [\"Befuddle\", \"Target creature gets -4/-0 until end of turn.\\nDraw a card.\"], [\"Epicure of Blood\", \"Whenever you gain life, each opponent loses 1 life.\"], [\"Boreal Elemental\", \"FLYING\\nSpells your opponents cast that target CARDNAME cost {2} more to cast.\"], [\"Undead Servant\", \"ETB_EFFECT, create a 2/2 black Zombie creature token for each card named CARDNAME in your graveyard.\"], [\"Temple of Triumph\", \"ENTER_TAPPED\\nETB_EFFECT, scry 1.\\n{T}: Add {R} or {W}.\"], [\"Apostle of Purifying Light\", \"PROTECTION_FROM_BLACK\\n{2}: Exile target card from a graveyard.\"], [\"Pulse of Murasa\", \"Return target creature or land card from a graveyard to its owner's hand. You gain 6 life.\"], [\"Leyline of the Void\", \"If CARDNAME is in your opening hand, you may begin the game with it on the battlefield.\\nIf a card would be put into an opponent's graveyard from anywhere, exile it instead.\"], [\"Noxious Grasp\", \"Destroy target creature or planeswalker that's green or white. You gain 1 life.\"], [\"Swiftwater Cliffs\", \"ENTER_TAPPED\\nETB_EFFECT, you gain 1 life.\\n{T}: Add {U} or {R}.\"], [\"Starfield Mystic\", \"Enchantment spells you cast cost {1} less to cast.\\nWhenever an enchantment you control is put into a graveyard from the battlefield, put a +1/+1 counter on CARDNAME.\"], [\"Chandra, Novice Pyromancer\", \"[+1]: Elementals you control get +2/+0 until end of turn.\\n[\\u22121]: Add {R}{R}.\\n[\\u22122]: CARDNAME deals 2 damage to any target.\"], [\"Herald of the Sun\", \"FLYING\\n{3}{W}: Put a +1/+1 counter on another target creature with flying.\"], [\"Devout Decree\", \"Exile target creature or planeswalker that's black or red. Scry 1. (Look at the top card of your library. You may put that card on the bottom of your library.)\"], [\"Lotus Field\", \"Hexproof\\nENTER_TAPPED\\nETB_EFFECT, sacrifice two lands.\\n{T}: Add three mana of any one color.\"], [\"Chandra's Outrage\", \"CARDNAME deals 4 damage to target creature and 2 damage to that creature's controller.\"], [\"Flame Sweep\", \"CARDNAME deals 2 damage to each creature except for creatures you control with flying.\"], [\"Keldon Raider\", \"ETB_EFFECT, you may discard a card. If you do, draw a card.\"], [\"Rugged Highlands\", \"ENTER_TAPPED\\nETB_EFFECT, you gain 1 life.\\n{T}: Add {R} or {G}.\"], [\"Serra's Guardian\", \"FLYING\\nVIGILANCE\\nOther creatures you control have vigilance.\"], [\"Feral Invocation\", \"FLASH\\nEnchant creature\\nEnchanted creature gets +2/+2.\"], [\"Temple of Mystery\", \"ENTER_TAPPED\\nETB_EFFECT, scry 1.\\n{T}: Add {G} or {U}.\"], [\"Vivien's Crocodile\", \"CARDNAME gets +1/+1 as long as you control a Vivien planeswalker.\"], [\"Leafkin Druid\", \"{T}: Add {G}. If you control four or more creatures, add {G}{G} instead.\"], [\"Temple of Malady\", \"ENTER_TAPPED\\nETB_EFFECT, scry 1.\\n{T}: Add {B} or {G}.\"], [\"Uncaged Fury\", \"Target creature gets +1/+1 and gains double strike until end of turn. (It deals both first-strike and regular combat damage.)\"], [\"Moorland Inquisitor\", \"{2}{W}: CARDNAME gains first strike until end of turn. (It deals combat damage before creatures without first strike.)\"], [\"Warden of Evos Isle\", \"FLYING\\nCreature spells with flying you cast cost {1} less to cast.\"], [\"Plains\", \"({T}: Add {W}.)\"], [\"Rienne, Angel of Rebirth\", \"FLYING\\nOther multicolored creatures you control get +1/+0.\\nWhenever another multicolored creature you control dies, return it to its owner's hand at the beginning of the next end step.\"], [\"Faerie Miscreant\", \"FLYING\\nETB_EFFECT, if you control another creature named CARDNAME, draw a card.\"], [\"Rapacious Dragon\", \"FLYING\\nETB_EFFECT, create two Treasure tokens. (They're artifacts with \\\"{T}, Sacrifice this artifact: Add one mana of any color.\\\")\"], [\"Tranquil Cove\", \"ENTER_TAPPED\\nETB_EFFECT, you gain 1 life.\\n{T}: Add {W} or {U}.\"], [\"Bone to Ash\", \"Counter target creature spell.\\nDraw a card.\"], [\"Nightpack Ambusher\", \"FLASH\\nOther Wolves and Werewolves you control get +1/+1.\\nAt the beginning of your end step, if you didn't cast a spell this turn, create a 2/2 green Wolf creature token.\"], [\"Oakenform\", \"Enchant creature\\nEnchanted creature gets +3/+3.\"], [\"Mammoth Spider\", \"REACH\"], [\"Impassioned Orator\", \"Whenever another creature enters the battlefield under your control, you gain 1 life.\"], [\"Hard Cover\", \"Enchant creature\\nEnchanted creature gets +0/+2 and has \\\"{T}: Draw a card, then discard a card.\\\"\"], [\"Spectral Sailor\", \"FLASH\\nFLYING\\n{3}{U}: Draw a card.\"], [\"Infuriate\", \"Target creature gets +3/+2 until end of turn.\"], [\"Brineborn Cutthroat\", \"FLASH\\nWhenever you cast a spell during an opponent's turn, put a +1/+1 counter on CARDNAME.\"], [\"Moldervine Reclamation\", \"Whenever a creature you control dies, you gain 1 life and draw a card.\"], [\"Lightning Stormkin\", \"FLYING\\nHASTE\"], [\"Savage Gorger\", \"FLYING\\nAt the beginning of your end step, if an opponent lost life this turn, put a +1/+1 counter on CARDNAME. (Damage causes loss of life.)\"], [\"Destructive Digger\", \"{3}, {T}, Sacrifice an artifact or land: Draw a card.\"], [\"Blood Burglar\", \"As long as it's your turn, CARDNAME has lifelink. (Damage dealt by this creature also causes you to gain that much life.)\"], [\"Retributive Wand\", \"{3}, {T}: CARDNAME deals 1 damage to any target.\\nWhen CARDNAME is put into a graveyard from the battlefield, it deals 5 damage to any target.\"], [\"Audacious Thief\", \"Whenever CARDNAME attacks, you draw a card and you lose 1 life.\"], [\"Pyroclastic Elemental\", \"{1}{R}{R}: CARDNAME deals 1 damage to target player.\"], [\"Goblin Smuggler\", \"HASTE\\n{T}: Another target creature with power 2 or less can't be blocked this turn.\"], [\"Healer of the Glade\", \"ETB_EFFECT, you gain 3 life.\"], [\"Manifold Key\", \"{1}, {T}: Untap another target artifact.\\n{3}, {T}: Target creature can't be blocked this turn.\"], [\"Temple of Silence\", \"ENTER_TAPPED\\nETB_EFFECT, scry 1.\\n{T}: Add {W} or {B}.\"], [\"Sorcerer of the Fang\", \"{5}{B}, {T}: CARDNAME deals 2 damage to target opponent or planeswalker.\"], [\"Bloodfell Caves\", \"ENTER_TAPPED\\nETB_EFFECT, you gain 1 life.\\n{T}: Add {B} or {R}.\"], [\"Planar Cleansing\", \"Destroy all nonland permanents.\"], [\"Shock\", \"CARDNAME deals 2 damage to any target.\"], [\"Bishop of Wings\", \"Whenever an Angel enters the battlefield under your control, you gain 4 life.\\nWhenever an Angel you control dies, create a 1/1 white Spirit creature token with flying.\"], [\"Boneclad Necromancer\", \"ETB_EFFECT, you may exile target creature card from a graveyard. If you do, create a 2/2 black Zombie creature token.\"], [\"Disfigure\", \"Target creature gets -2/-2 until end of turn.\"], [\"Metropolis Sprite\", \"FLYING\\n{U}: CARDNAME gets +1/-1 until end of turn.\"], [\"Master Splicer\", \"ETB_EFFECT, create a 3/3 colorless Golem artifact creature token.\\nGolems you control get +1/+1.\"], [\"Negate\", \"Counter target noncreature spell.\"], [\"Tectonic Rift\", \"Destroy target land. Creatures without flying can't block this turn.\"], [\"Vampire Opportunist\", \"{6}{B}: Each opponent loses 2 life and you gain 2 life.\"], [\"Marauder's Axe\", \"Equipped creature gets +2/+0.\\nEquip {2} ({2}: Attach to target creature you control. Equip only as a sorcery.)\"], [\"Bone Splinters\", \"As an additional cost to cast this spell, sacrifice a creature.\\nDestroy target creature.\"], [\"Sanitarium Skeleton\", \"{2}{B}: Return CARDNAME from your graveyard to your hand.\"], [\"Aether Gust\", \"Choose target spell or permanent that's red or green. Its owner puts it on the top or bottom of their library.\"], [\"Daggersail Aeronaut\", \"As long as it's your turn, CARDNAME has flying.\"], [\"Agonizing Syphon\", \"CARDNAME deals 3 damage to any target and you gain 3 life.\"], [\"Rotting Regisaur\", \"At the beginning of your upkeep, discard a card.\"], [\"Disenchant\", \"Destroy target artifact or enchantment.\"], [\"Might of the Masses\", \"Target creature gets +1/+1 until end of turn for each creature you control.\"], [\"Griffin Sentinel\", \"FLYING\\nVIGILANCE\"], [\"Aerial Assault\", \"Destroy target tapped creature. You gain 1 life for each creature you control with flying.\"], [\"Maniacal Rage\", \"Enchant creature\\nEnchanted creature gets +2/+2 and can't block.\"], [\"Snapping Drake\", \"FLYING\"], [\"Greenwood Sentinel\", \"VIGILANCE\"], [\"Corpse Knight\", \"Whenever another creature enters the battlefield under your control, each opponent loses 1 life.\"], [\"Murder\", \"Destroy target creature.\"], [\"Yarok's Fenlurker\", \"ETB_EFFECT, each opponent exiles a card from their hand.\\n{2}{B}: CARDNAME gets +1/+1 until end of turn.\"], [\"Ogre Siegebreaker\", \"{2}{B}{R}: Destroy target creature that was dealt damage this turn.\"], [\"Haazda Officer\", \"ETB_EFFECT, target creature you control gets +1/+1 until end of turn.\"], [\"Sorin's Thirst\", \"CARDNAME deals 2 damage to target creature and you gain 2 life.\"], [\"Scuttlemutt\", \"{T}: Add one mana of any color.\\n{T}: Target creature becomes the color or colors of your choice until end of turn.\"], [\"Bartizan Bats\", \"FLYING\"], [\"Prized Unicorn\", \"All creatures able to block CARDNAME do so.\"], [\"Daybreak Chaplain\", \"Lifelink (Damage dealt by this creature also causes you to gain that much life.)\"], [\"Canopy Spider\", \"REACH\"], [\"Savannah Sage\", \"ETB_EFFECT, you gain 2 life.\"], [\"Howling Giant\", \"REACH\\nETB_EFFECT, create two 2/2 green Wolf creature tokens.\"], [\"Woodland Mystic\", \"{T}: Add {G}.\"], [\"Ferocious Pup\", \"ETB_EFFECT, create a 2/2 green Wolf creature token.\"], [\"Natural End\", \"Destroy target artifact or enchantment. You gain 3 life.\"], [\"Engulfing Eruption\", \"CARDNAME deals 5 damage to target creature.\"], [\"Convolute\", \"Counter target spell unless its controller pays {4}.\"], [\"Feral Abomination\", \"DEATHTOUCH\"], [\"Dawning Angel\", \"FLYING\\nETB_EFFECT, you gain 4 life.\"], [\"Raise the Alarm\", \"Create two 1/1 white Soldier creature tokens.\"], [\"Dark Remedy\", \"Target creature gets +1/+3 until end of turn.\"], [\"Soul Salvage\", \"Return up to two target creature cards from your graveyard to your hand.\"], [\"Pacifism\", \"Enchant creature\\nEnchanted creature can't attack or block.\"], [\"Nimble Birdsticker\", \"REACH\"], [\"Concordia Pegasus\", \"FLYING\"], [\"Phantom Warrior\", \"CARDNAME can't be blocked.\"], [\"Sedge Scorpion\", \"DEATHTOUCH\"], [\"Show of Valor\", \"Target creature gets +2/+4 until end of turn.\"], [\"Empyrean Eagle\", \"FLYING\\nOther creatures you control with flying get +1/+1.\"], [\"Unsummon\", \"Return target creature to its owner's hand.\"], [\"Mountain\", \"({T}: Add {R}.)\"], [\"Angelic Gift\", \"Enchant creature\\nETB_EFFECT, draw a card.\\nEnchanted creature has flying.\"], [\"Soulmender\", \"{T}: You gain 1 life.\"], [\"Island\", \"({T}: Add {U}.)\"], [\"Hostile Minotaur\", \"HASTE\"]], \"hoverlabel\": {\"namelength\": 0}, \"hovertemplate\": \"x=%{x}<br>y=%{y}<br>name=%{customdata[0]}<br>text=%{customdata[1]}\", \"legendgroup\": \"\", \"marker\": {\"color\": \"#636efa\", \"symbol\": \"circle\"}, \"mode\": \"markers\", \"name\": \"\", \"showlegend\": false, \"type\": \"scatter\", \"x\": [\"-0.529934\", \"-1.3930423\", \"-2.4675472\", \"-1.8944299\", \"-3.5089166\", \"6.220444\", \"0.39466262\", \"6.2527137\", \"-1.1992091\", \"-0.5538299\", \"-0.8534023\", \"-4.145302\", \"-2.629656\", \"-1.317069\", \"-3.1787949\", \"-1.5299692\", \"-2.0307665\", \"0.74359757\", \"-0.44369137\", \"-3.7371786\", \"6.2497005\", \"-1.5563897\", \"-1.2875191\", \"-0.38350424\", \"-3.426257\", \"2.3236732\", \"-2.49514\", \"-2.0601172\", \"-0.66745996\", \"-4.2853394\", \"1.9660167\", \"-3.2611146\", \"-1.7111138\", \"-1.0262449\", \"-3.440249\", \"-3.4185238\", \"-3.396687\", \"-3.4928067\", \"-2.5866733\", \"0.012119153\", \"0.4034959\", \"-4.329642\", \"-0.94133776\", \"-3.17159\", \"-0.52639204\", \"-1.3910569\", \"-1.8996607\", \"-2.9365907\", \"-1.0221883\", \"-1.4332464\", \"-2.0394847\", \"0.32963058\", \"-3.1585138\", \"1.474564\", \"-3.9708092\", \"0.60514885\", \"-1.0023185\", \"-2.70142\", \"-1.1135745\", \"-2.5376482\", \"-1.8033235\", \"-2.5939095\", \"1.1850337\", \"-4.3229527\", \"0.6510971\", \"-0.23415717\", \"-1.6742153\", \"-2.6021702\", \"-3.678438\", \"-0.81184596\", \"1.5704008\", \"-0.24583204\", \"0.37446424\", \"-2.8147411\", \"-1.7721432\", \"-1.8446466\", \"-1.3612365\", \"1.5803947\", \"1.6297897\", \"0.369182\", \"-3.5727975\", \"-2.7374105\", \"6.2925735\", \"-1.547494\", \"0.10558654\", \"-0.83190584\", \"2.2240336\", \"-3.1736898\", \"-2.7333891\", \"-2.1209307\", \"-3.157967\", \"-4.0037785\", \"0.746309\", \"1.4305834\", \"-0.070806846\", \"0.008209229\", \"0.072532676\", \"0.687879\", \"1.694869\", \"-4.347702\", \"0.010906849\", \"-0.21745211\", \"-2.0762706\", \"-2.4908776\", \"-0.041058477\", \"-1.7051239\", \"-3.6164753\", \"-1.2664503\", \"-1.0047067\", \"-2.8457\", \"-3.7544138\", \"2.4337897\", \"-1.7598106\", \"-1.497712\", \"-2.2384737\", \"-4.3479753\", \"-3.5435808\", \"-3.5515463\", \"1.4441639\", \"2.4566727\", \"0.7286113\", \"-2.293233\", \"-2.006184\", \"-2.7743404\", \"-1.5729781\", \"-0.3195343\", \"-3.4363613\", \"-2.2172549\", \"-3.1775358\", \"0.30168846\", \"-0.8850905\", \"0.083102636\", \"-3.3738105\", \"2.393603\", \"-3.64619\", \"1.7014804\", \"-0.5721709\", \"0.20716532\", \"-2.2739453\", \"-1.636628\", \"-2.8863535\", \"-0.11644599\", \"-3.3388815\", \"-2.1005075\", \"-1.5915089\", \"-2.3660061\", \"-2.519344\", \"-3.1350586\", \"-3.6179745\", \"-0.31935507\", \"1.9150704\", \"1.4140964\", \"-1.2421443\", \"-2.7844698\", \"0.54086804\", \"-2.760106\", \"2.0428498\", \"-3.6739154\", \"-1.1567613\", \"-1.5820692\", \"-1.9581895\", \"0.68108416\", \"-0.8655985\", \"-0.17029393\", \"0.09407295\", \"0.36604178\", \"-3.3778138\", \"-2.8548658\", \"-1.4458926\", \"0.4151179\", \"-2.446972\", \"-0.5148025\", \"-0.42752498\", \"0.22670552\", \"-3.3281143\", \"-2.1100252\", \"-2.4682121\", \"-0.14835408\", \"-0.76342356\", \"-2.2961128\", \"0.48719555\", \"-1.6320566\", \"-0.47744507\", \"-0.96124876\", \"-1.9011151\", \"-0.045842882\", \"2.326451\", \"2.3340611\", \"-2.7441034\", \"1.6991811\", \"-1.7782979\", \"-1.4221997\", \"1.5929585\", \"0.6900915\", \"-3.2082293\", \"6.2900424\", \"1.6258826\", \"-0.5608596\", \"-1.8117975\", \"-2.1441321\", \"-1.4099625\", \"-0.9600851\", \"0.67356193\", \"-3.9726176\", \"-1.3632253\", \"-1.6671805\", \"-1.4845047\", \"-0.99001116\", \"-0.9687627\", \"1.4159892\", \"-2.901748\", \"-1.8140874\", \"-0.8418074\", \"-1.2999803\", \"-1.4729778\", \"-3.5139222\", \"-3.1700375\", \"-2.1462665\", \"-2.815354\", \"-2.9825928\", \"-1.9287612\", \"1.5747089\", \"2.2564025\", \"-0.16985688\", \"2.2900767\", \"-1.0623448\", \"-2.407659\", \"2.2394087\", \"-0.9790566\", \"-1.4905598\", \"-3.239215\", \"-2.730908\", \"-3.738245\", \"-0.93412447\", \"-2.7687774\", \"-3.1094792\", \"1.3651588\", \"-3.3125942\", \"-1.4956849\", \"-0.00940355\", \"-0.109979756\", \"-2.235691\", \"0.99533147\", \"-1.5079856\", \"-1.5355228\", \"-0.546218\", \"-0.13480529\", \"-1.9279485\", \"-1.9767864\", \"-1.5543432\", \"-0.73845583\", \"-1.5581439\", \"-1.4683075\", \"-1.4745139\", \"-3.161422\", \"-0.25665215\", \"1.3836534\", \"-0.32618362\", \"-2.4587567\", \"-1.5581967\", \"-1.7249848\", \"-1.5942426\", \"6.2208595\", \"-0.7482435\", \"0.4683283\", \"-2.4015632\", \"0.6903447\", \"-1.8092664\", \"-1.0737218\", \"-1.377133\", \"1.4617938\", \"-3.5261884\", \"-0.7445906\", \"-3.229689\", \"-3.5144014\", \"-3.4857006\", \"-0.8964568\", \"-1.1660722\", \"1.6302955\", \"-1.2295551\", \"1.5237236\", \"-1.8983448\", \"-2.4687896\", \"-3.5770822\", \"-3.445311\", \"1.6807656\", \"-3.805938\", \"-2.3258235\", \"-2.9830418\", \"-3.0555024\", \"-2.215592\", \"-1.6186674\", \"-0.5117941\", \"-1.9507607\", \"-3.7371323\", \"-3.1933281\", \"-2.8433387\", \"1.4656132\", \"0.35689834\", \"-2.9624562\", \"-3.7727377\", \"-3.608287\", \"-1.5390544\", \"-3.7281625\", \"1.6321377\", \"-0.9063358\", \"0.6839531\", \"2.3231108\", \"-2.848357\", \"-2.6509147\", \"2.3234692\", \"-3.7492228\"], \"xaxis\": \"x\", \"y\": [\"1.1221701\", \"1.2910787\", \"-1.4016165\", \"0.6417258\", \"0.4635115\", \"3.5590744\", \"2.9273496\", \"3.5913372\", \"-0.37831852\", \"-0.7146131\", \"-1.7640834\", \"0.418606\", \"2.4686756\", \"1.1806093\", \"-0.80508083\", \"-0.2969412\", \"-0.85930485\", \"1.9017934\", \"-0.38458633\", \"1.8893915\", \"3.5882268\", \"3.0155823\", \"-0.2994528\", \"1.4596324\", \"2.290564\", \"-0.88056856\", \"2.5605707\", \"-1.6973895\", \"0.41918746\", \"4.6392207\", \"-0.45774162\", \"0.88846767\", \"-1.7835962\", \"0.6912114\", \"0.2247397\", \"0.7372335\", \"0.6752776\", \"0.91105175\", \"-2.8987963\", \"-1.9430972\", \"2.5633044\", \"4.617363\", \"-2.1724126\", \"1.3809938\", \"-0.23859578\", \"0.3379273\", \"1.7833259\", \"-1.9836122\", \"-2.473645\", \"0.8069929\", \"-0.9178649\", \"2.997422\", \"-0.94658375\", \"-0.5668814\", \"0.7466405\", \"-0.7110189\", \"2.9124625\", \"-2.1196053\", \"2.7929704\", \"0.8166088\", \"-1.3513331\", \"0.59886473\", \"-1.6346109\", \"4.60893\", \"0.77641684\", \"-0.34405804\", \"2.904175\", \"-0.8051796\", \"2.4454868\", \"2.256864\", \"1.5805945\", \"-1.9089092\", \"0.004980386\", \"0.9512979\", \"0.1918159\", \"1.5148576\", \"0.696335\", \"1.2419785\", \"-0.4570267\", \"2.855384\", \"2.3592567\", \"-2.8417628\", \"3.630815\", \"2.946527\", \"2.6927013\", \"2.238246\", \"-0.5459517\", \"-2.2755811\", \"2.904452\", \"-1.8361824\", \"2.4608698\", \"0.5962691\", \"1.8046992\", \"-1.5820295\", \"-0.15028444\", \"0.67697006\", \"-0.008167371\", \"0.3984446\", \"-0.37239945\", \"4.5955453\", \"-0.44642898\", \"-0.64487255\", \"3.014594\", \"2.5402231\", \"0.35149515\", \"0.3612759\", \"-0.53816795\", \"2.531984\", \"1.3758771\", \"-2.7272913\", \"2.1802285\", \"-1.3453676\", \"-2.2485132\", \"-0.84734476\", \"1.1903474\", \"4.5918546\", \"2.432591\", \"0.9498981\", \"1.1702594\", \"-1.3619152\", \"1.8194234\", \"1.2632165\", \"-0.83621025\", \"-2.3501449\", \"1.4781486\", \"0.32273665\", \"2.2001712\", \"1.0609415\", \"2.098142\", \"0.18072915\", \"2.1834507\", \"3.0764375\", \"2.7256024\", \"-1.3972187\", \"-2.3089511\", \"1.3842468\", \"-2.200151\", \"3.1395001\", \"2.0458767\", \"0.75743765\", \"-0.5912825\", \"1.113469\", \"0.9393618\", \"2.6247694\", \"-0.15246356\", \"-0.15698577\", \"1.2511404\", \"-2.2648838\", \"0.99533576\", \"-0.35985917\", \"-0.61495125\", \"-1.6067146\", \"-2.3740776\", \"0.21630086\", \"-0.7924808\", \"-0.3048857\", \"-0.7006709\", \"-2.302834\", \"-2.5170503\", \"2.8014193\", \"-2.8312721\", \"1.0777274\", \"2.237156\", \"-0.52729386\", \"2.4642286\", \"-0.87584627\", \"0.5651372\", \"-0.7996229\", \"2.4804213\", \"-0.58885694\", \"0.04427121\", \"0.6671443\", \"1.4381454\", \"3.0806916\", \"0.6949225\", \"1.3780218\", \"0.93526965\", \"-1.964698\", \"-2.0180147\", \"-2.920298\", \"2.8110788\", \"-1.9191451\", \"-2.255191\", \"-0.036256563\", \"-1.8071448\", \"0.935618\", \"-1.1904119\", \"-1.2890551\", \"-2.8244345\", \"-0.2996926\", \"-1.9691105\", \"0.919509\", \"-0.3672196\", \"1.1665747\", \"0.97664124\", \"3.6283848\", \"1.377639\", \"-2.1162302\", \"0.40143177\", \"0.6216738\", \"-2.5251584\", \"0.12334336\", \"2.828528\", \"0.8457152\", \"2.1054993\", \"-1.907885\", \"2.229614\", \"0.6224231\", \"1.5902002\", \"-1.5942658\", \"-2.5038466\", \"0.15455435\", \"1.8086474\", \"-0.2011615\", \"-2.0624366\", \"0.6349956\", \"1.4872271\", \"-1.6987305\", \"1.0657077\", \"-0.7318215\", \"-2.2552195\", \"1.5193466\", \"-1.0616614\", \"1.1735044\", \"-1.1427891\", \"1.4558653\", \"0.70152515\", \"-1.1693425\", \"-2.3021026\", \"2.9958339\", \"1.5410864\", \"1.4126453\", \"-2.1514843\", \"-1.9709785\", \"1.5633516\", \"1.2184764\", \"1.1255599\", \"1.4586703\", \"-1.0129992\", \"-0.5913101\", \"-1.9729353\", \"2.000142\", \"-0.8045487\", \"0.79552054\", \"-0.93811\", \"-0.261449\", \"-0.6257332\", \"1.4716706\", \"2.5300615\", \"-2.649816\", \"1.2027308\", \"-1.995799\", \"2.4002504\", \"0.42373118\", \"-0.13293374\", \"3.0352194\", \"1.2560505\", \"0.5012205\", \"1.1305343\", \"2.8163908\", \"2.423725\", \"-1.3538727\", \"3.5611472\", \"2.533114\", \"2.6367779\", \"-2.3310354\", \"-0.82865983\", \"1.527318\", \"-0.15868549\", \"2.2541087\", \"1.2951891\", \"0.11699745\", \"2.1706169\", \"2.15355\", \"-0.43674576\", \"-0.13752037\", \"-1.8620331\", \"2.3406591\", \"1.2928499\", \"2.469685\", \"1.2246252\", \"0.017067507\", \"-0.2926164\", \"-0.5728102\", \"1.4428003\", \"-0.46342048\", \"-2.0847301\", \"-0.11810119\", \"-2.5791073\", \"-0.6082236\", \"0.94132316\", \"1.9770535\", \"1.5130213\", \"2.6056886\", \"-0.939686\", \"-0.17060532\", \"-2.500147\", \"1.1939144\", \"2.9309497\", \"2.3165982\", \"-2.119989\", \"-0.4128943\", \"0.25328526\", \"-0.9359834\", \"1.3315613\", \"1.59211\", \"2.3445916\", \"-0.9522654\", \"1.4635593\", \"-0.831422\", \"-1.1556468\", \"-1.8669013\"], \"yaxis\": \"y\"}],\n",
       "                        {\"legend\": {\"tracegroupgap\": 0}, \"margin\": {\"t\": 60}, \"template\": {\"data\": {\"bar\": [{\"error_x\": {\"color\": \"#2a3f5f\"}, \"error_y\": {\"color\": \"#2a3f5f\"}, \"marker\": {\"line\": {\"color\": \"#E5ECF6\", \"width\": 0.5}}, \"type\": \"bar\"}], \"barpolar\": [{\"marker\": {\"line\": {\"color\": \"#E5ECF6\", \"width\": 0.5}}, \"type\": \"barpolar\"}], \"carpet\": [{\"aaxis\": {\"endlinecolor\": \"#2a3f5f\", \"gridcolor\": \"white\", \"linecolor\": \"white\", \"minorgridcolor\": \"white\", \"startlinecolor\": \"#2a3f5f\"}, \"baxis\": {\"endlinecolor\": \"#2a3f5f\", \"gridcolor\": \"white\", \"linecolor\": \"white\", \"minorgridcolor\": \"white\", \"startlinecolor\": \"#2a3f5f\"}, \"type\": \"carpet\"}], \"choropleth\": [{\"colorbar\": {\"outlinewidth\": 0, \"ticks\": \"\"}, \"type\": \"choropleth\"}], \"contour\": [{\"colorbar\": {\"outlinewidth\": 0, \"ticks\": \"\"}, \"colorscale\": [[0.0, \"#0d0887\"], [0.1111111111111111, \"#46039f\"], [0.2222222222222222, \"#7201a8\"], [0.3333333333333333, \"#9c179e\"], [0.4444444444444444, \"#bd3786\"], [0.5555555555555556, \"#d8576b\"], [0.6666666666666666, \"#ed7953\"], [0.7777777777777778, \"#fb9f3a\"], [0.8888888888888888, \"#fdca26\"], [1.0, \"#f0f921\"]], \"type\": \"contour\"}], \"contourcarpet\": [{\"colorbar\": {\"outlinewidth\": 0, \"ticks\": \"\"}, \"type\": \"contourcarpet\"}], \"heatmap\": [{\"colorbar\": {\"outlinewidth\": 0, \"ticks\": \"\"}, \"colorscale\": [[0.0, \"#0d0887\"], [0.1111111111111111, \"#46039f\"], [0.2222222222222222, \"#7201a8\"], [0.3333333333333333, \"#9c179e\"], [0.4444444444444444, \"#bd3786\"], [0.5555555555555556, \"#d8576b\"], [0.6666666666666666, \"#ed7953\"], [0.7777777777777778, \"#fb9f3a\"], [0.8888888888888888, \"#fdca26\"], [1.0, \"#f0f921\"]], \"type\": \"heatmap\"}], \"heatmapgl\": [{\"colorbar\": {\"outlinewidth\": 0, \"ticks\": \"\"}, \"colorscale\": [[0.0, \"#0d0887\"], [0.1111111111111111, \"#46039f\"], [0.2222222222222222, \"#7201a8\"], [0.3333333333333333, \"#9c179e\"], [0.4444444444444444, \"#bd3786\"], [0.5555555555555556, \"#d8576b\"], [0.6666666666666666, \"#ed7953\"], [0.7777777777777778, \"#fb9f3a\"], [0.8888888888888888, \"#fdca26\"], [1.0, \"#f0f921\"]], \"type\": \"heatmapgl\"}], \"histogram\": [{\"marker\": {\"colorbar\": {\"outlinewidth\": 0, \"ticks\": \"\"}}, \"type\": \"histogram\"}], \"histogram2d\": [{\"colorbar\": {\"outlinewidth\": 0, \"ticks\": \"\"}, \"colorscale\": [[0.0, \"#0d0887\"], [0.1111111111111111, \"#46039f\"], [0.2222222222222222, \"#7201a8\"], [0.3333333333333333, \"#9c179e\"], [0.4444444444444444, \"#bd3786\"], [0.5555555555555556, \"#d8576b\"], [0.6666666666666666, \"#ed7953\"], [0.7777777777777778, \"#fb9f3a\"], [0.8888888888888888, \"#fdca26\"], [1.0, \"#f0f921\"]], \"type\": \"histogram2d\"}], \"histogram2dcontour\": [{\"colorbar\": {\"outlinewidth\": 0, \"ticks\": \"\"}, \"colorscale\": [[0.0, \"#0d0887\"], [0.1111111111111111, \"#46039f\"], [0.2222222222222222, \"#7201a8\"], [0.3333333333333333, \"#9c179e\"], [0.4444444444444444, \"#bd3786\"], [0.5555555555555556, \"#d8576b\"], [0.6666666666666666, \"#ed7953\"], [0.7777777777777778, \"#fb9f3a\"], [0.8888888888888888, \"#fdca26\"], [1.0, \"#f0f921\"]], \"type\": \"histogram2dcontour\"}], \"mesh3d\": [{\"colorbar\": {\"outlinewidth\": 0, \"ticks\": \"\"}, \"type\": \"mesh3d\"}], \"parcoords\": [{\"line\": {\"colorbar\": {\"outlinewidth\": 0, \"ticks\": \"\"}}, \"type\": \"parcoords\"}], \"pie\": [{\"automargin\": true, \"type\": \"pie\"}], \"scatter\": [{\"marker\": {\"colorbar\": {\"outlinewidth\": 0, \"ticks\": \"\"}}, \"type\": \"scatter\"}], \"scatter3d\": [{\"line\": {\"colorbar\": {\"outlinewidth\": 0, \"ticks\": \"\"}}, \"marker\": {\"colorbar\": {\"outlinewidth\": 0, \"ticks\": \"\"}}, \"type\": \"scatter3d\"}], \"scattercarpet\": [{\"marker\": {\"colorbar\": {\"outlinewidth\": 0, \"ticks\": \"\"}}, \"type\": \"scattercarpet\"}], \"scattergeo\": [{\"marker\": {\"colorbar\": {\"outlinewidth\": 0, \"ticks\": \"\"}}, \"type\": \"scattergeo\"}], \"scattergl\": [{\"marker\": {\"colorbar\": {\"outlinewidth\": 0, \"ticks\": \"\"}}, \"type\": \"scattergl\"}], \"scattermapbox\": [{\"marker\": {\"colorbar\": {\"outlinewidth\": 0, \"ticks\": \"\"}}, \"type\": \"scattermapbox\"}], \"scatterpolar\": [{\"marker\": {\"colorbar\": {\"outlinewidth\": 0, \"ticks\": \"\"}}, \"type\": \"scatterpolar\"}], \"scatterpolargl\": [{\"marker\": {\"colorbar\": {\"outlinewidth\": 0, \"ticks\": \"\"}}, \"type\": \"scatterpolargl\"}], \"scatterternary\": [{\"marker\": {\"colorbar\": {\"outlinewidth\": 0, \"ticks\": \"\"}}, \"type\": \"scatterternary\"}], \"surface\": [{\"colorbar\": {\"outlinewidth\": 0, \"ticks\": \"\"}, \"colorscale\": [[0.0, \"#0d0887\"], [0.1111111111111111, \"#46039f\"], [0.2222222222222222, \"#7201a8\"], [0.3333333333333333, \"#9c179e\"], [0.4444444444444444, \"#bd3786\"], [0.5555555555555556, \"#d8576b\"], [0.6666666666666666, \"#ed7953\"], [0.7777777777777778, \"#fb9f3a\"], [0.8888888888888888, \"#fdca26\"], [1.0, \"#f0f921\"]], \"type\": \"surface\"}], \"table\": [{\"cells\": {\"fill\": {\"color\": \"#EBF0F8\"}, \"line\": {\"color\": \"white\"}}, \"header\": {\"fill\": {\"color\": \"#C8D4E3\"}, \"line\": {\"color\": \"white\"}}, \"type\": \"table\"}]}, \"layout\": {\"annotationdefaults\": {\"arrowcolor\": \"#2a3f5f\", \"arrowhead\": 0, \"arrowwidth\": 1}, \"coloraxis\": {\"colorbar\": {\"outlinewidth\": 0, \"ticks\": \"\"}}, \"colorscale\": {\"diverging\": [[0, \"#8e0152\"], [0.1, \"#c51b7d\"], [0.2, \"#de77ae\"], [0.3, \"#f1b6da\"], [0.4, \"#fde0ef\"], [0.5, \"#f7f7f7\"], [0.6, \"#e6f5d0\"], [0.7, \"#b8e186\"], [0.8, \"#7fbc41\"], [0.9, \"#4d9221\"], [1, \"#276419\"]], \"sequential\": [[0.0, \"#0d0887\"], [0.1111111111111111, \"#46039f\"], [0.2222222222222222, \"#7201a8\"], [0.3333333333333333, \"#9c179e\"], [0.4444444444444444, \"#bd3786\"], [0.5555555555555556, \"#d8576b\"], [0.6666666666666666, \"#ed7953\"], [0.7777777777777778, \"#fb9f3a\"], [0.8888888888888888, \"#fdca26\"], [1.0, \"#f0f921\"]], \"sequentialminus\": [[0.0, \"#0d0887\"], [0.1111111111111111, \"#46039f\"], [0.2222222222222222, \"#7201a8\"], [0.3333333333333333, \"#9c179e\"], [0.4444444444444444, \"#bd3786\"], [0.5555555555555556, \"#d8576b\"], [0.6666666666666666, \"#ed7953\"], [0.7777777777777778, \"#fb9f3a\"], [0.8888888888888888, \"#fdca26\"], [1.0, \"#f0f921\"]]}, \"colorway\": [\"#636efa\", \"#EF553B\", \"#00cc96\", \"#ab63fa\", \"#FFA15A\", \"#19d3f3\", \"#FF6692\", \"#B6E880\", \"#FF97FF\", \"#FECB52\"], \"font\": {\"color\": \"#2a3f5f\"}, \"geo\": {\"bgcolor\": \"white\", \"lakecolor\": \"white\", \"landcolor\": \"#E5ECF6\", \"showlakes\": true, \"showland\": true, \"subunitcolor\": \"white\"}, \"hoverlabel\": {\"align\": \"left\"}, \"hovermode\": \"closest\", \"mapbox\": {\"style\": \"light\"}, \"paper_bgcolor\": \"white\", \"plot_bgcolor\": \"#E5ECF6\", \"polar\": {\"angularaxis\": {\"gridcolor\": \"white\", \"linecolor\": \"white\", \"ticks\": \"\"}, \"bgcolor\": \"#E5ECF6\", \"radialaxis\": {\"gridcolor\": \"white\", \"linecolor\": \"white\", \"ticks\": \"\"}}, \"scene\": {\"xaxis\": {\"backgroundcolor\": \"#E5ECF6\", \"gridcolor\": \"white\", \"gridwidth\": 2, \"linecolor\": \"white\", \"showbackground\": true, \"ticks\": \"\", \"zerolinecolor\": \"white\"}, \"yaxis\": {\"backgroundcolor\": \"#E5ECF6\", \"gridcolor\": \"white\", \"gridwidth\": 2, \"linecolor\": \"white\", \"showbackground\": true, \"ticks\": \"\", \"zerolinecolor\": \"white\"}, \"zaxis\": {\"backgroundcolor\": \"#E5ECF6\", \"gridcolor\": \"white\", \"gridwidth\": 2, \"linecolor\": \"white\", \"showbackground\": true, \"ticks\": \"\", \"zerolinecolor\": \"white\"}}, \"shapedefaults\": {\"line\": {\"color\": \"#2a3f5f\"}}, \"ternary\": {\"aaxis\": {\"gridcolor\": \"white\", \"linecolor\": \"white\", \"ticks\": \"\"}, \"baxis\": {\"gridcolor\": \"white\", \"linecolor\": \"white\", \"ticks\": \"\"}, \"bgcolor\": \"#E5ECF6\", \"caxis\": {\"gridcolor\": \"white\", \"linecolor\": \"white\", \"ticks\": \"\"}}, \"title\": {\"x\": 0.05}, \"xaxis\": {\"automargin\": true, \"gridcolor\": \"white\", \"linecolor\": \"white\", \"ticks\": \"\", \"title\": {\"standoff\": 15}, \"zerolinecolor\": \"white\", \"zerolinewidth\": 2}, \"yaxis\": {\"automargin\": true, \"gridcolor\": \"white\", \"linecolor\": \"white\", \"ticks\": \"\", \"title\": {\"standoff\": 15}, \"zerolinecolor\": \"white\", \"zerolinewidth\": 2}}}, \"xaxis\": {\"anchor\": \"y\", \"domain\": [0.0, 1.0], \"title\": {\"text\": \"x\"}}, \"yaxis\": {\"anchor\": \"x\", \"domain\": [0.0, 1.0], \"title\": {\"text\": \"y\"}}},\n",
       "                        {\"responsive\": true}\n",
       "                    ).then(function(){\n",
       "                            \n",
       "var gd = document.getElementById('bfbf237a-12a8-4ecb-9adb-04cd639c5fed');\n",
       "var x = new MutationObserver(function (mutations, observer) {{\n",
       "        var display = window.getComputedStyle(gd).display;\n",
       "        if (!display || display === 'none') {{\n",
       "            console.log([gd, 'removed!']);\n",
       "            Plotly.purge(gd);\n",
       "            observer.disconnect();\n",
       "        }}\n",
       "}});\n",
       "\n",
       "// Listen for the removal of the full notebook cells\n",
       "var notebookContainer = gd.closest('#notebook-container');\n",
       "if (notebookContainer) {{\n",
       "    x.observe(notebookContainer, {childList: true});\n",
       "}}\n",
       "\n",
       "// Listen for the clearing of the current output cell\n",
       "var outputEl = gd.closest('.output');\n",
       "if (outputEl) {{\n",
       "    x.observe(outputEl, {childList: true});\n",
       "}}\n",
       "\n",
       "                        })\n",
       "                };\n",
       "                });\n",
       "            </script>\n",
       "        </div>"
      ]
     },
     "metadata": {},
     "output_type": "display_data"
    }
   ],
   "source": [
    "import plotly\n",
    "import plotly.express as px\n",
    "plotly.offline.init_notebook_mode(connected=True)\n",
    "\n",
    "fig = px.scatter(data_frame=df, x='x', y='y', hover_data=['name', 'text'])\n",
    "fig.show()"
   ]
  },
  {
   "cell_type": "code",
   "execution_count": null,
   "metadata": {
    "Collapsed": "false"
   },
   "outputs": [],
   "source": []
  }
 ],
 "metadata": {
  "kernelspec": {
   "display_name": "Python 3",
   "language": "python",
   "name": "python3"
  },
  "language_info": {
   "codemirror_mode": {
    "name": "ipython",
    "version": 3
   },
   "file_extension": ".py",
   "mimetype": "text/x-python",
   "name": "python",
   "nbconvert_exporter": "python",
   "pygments_lexer": "ipython3",
   "version": "3.6.9"
  },
  "toc-autonumbering": true,
  "widgets": {
   "application/vnd.jupyter.widget-state+json": {
    "state": {},
    "version_major": 2,
    "version_minor": 0
   }
  }
 },
 "nbformat": 4,
 "nbformat_minor": 4
}
