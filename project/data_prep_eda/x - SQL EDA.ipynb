{
 "cells": [
  {
   "cell_type": "markdown",
   "metadata": {
    "Collapsed": "false"
   },
   "source": [
    "# Application-specific"
   ]
  },
  {
   "cell_type": "code",
   "execution_count": null,
   "metadata": {
    "Collapsed": "false"
   },
   "outputs": [],
   "source": [
    "import sys"
   ]
  },
  {
   "cell_type": "code",
   "execution_count": null,
   "metadata": {
    "Collapsed": "false"
   },
   "outputs": [],
   "source": [
    "sys.path.append(\"../config/\")\n",
    "import config"
   ]
  },
  {
   "cell_type": "markdown",
   "metadata": {
    "Collapsed": "false"
   },
   "source": [
    "## General"
   ]
  },
  {
   "cell_type": "code",
   "execution_count": null,
   "metadata": {
    "Collapsed": "false"
   },
   "outputs": [],
   "source": [
    "import pandas as pd\n",
    "import numpy as np\n",
    "import seaborn as sns\n",
    "import matplotlib.pyplot as plt\n",
    "import seaborn as sns\n",
    "sns.set(color_codes=True)"
   ]
  },
  {
   "cell_type": "code",
   "execution_count": null,
   "metadata": {
    "Collapsed": "false"
   },
   "outputs": [],
   "source": [
    "from IPython.display import display, HTML"
   ]
  },
  {
   "cell_type": "code",
   "execution_count": null,
   "metadata": {
    "Collapsed": "false"
   },
   "outputs": [],
   "source": [
    "import pyspark.sql.functions as fn\n",
    "import pyspark.sql.types as t"
   ]
  },
  {
   "cell_type": "markdown",
   "metadata": {
    "Collapsed": "false"
   },
   "source": [
    "# Load from Parquet"
   ]
  },
  {
   "cell_type": "code",
   "execution_count": null,
   "metadata": {
    "Collapsed": "false"
   },
   "outputs": [],
   "source": [
    "df = spark.read.parquet(f'{config.OUTPUT_DATASET}/M20_cards.parquet')"
   ]
  },
  {
   "cell_type": "code",
   "execution_count": null,
   "metadata": {
    "Collapsed": "false"
   },
   "outputs": [],
   "source": [
    "# df.createOrReplaceTempView(\"cards\")"
   ]
  },
  {
   "cell_type": "markdown",
   "metadata": {
    "Collapsed": "false"
   },
   "source": [
    "# Descriptive Statistics "
   ]
  },
  {
   "cell_type": "markdown",
   "metadata": {
    "Collapsed": "false"
   },
   "source": [
    "## Total number of cards "
   ]
  },
  {
   "cell_type": "code",
   "execution_count": null,
   "metadata": {
    "Collapsed": "false"
   },
   "outputs": [],
   "source": [
    "print(f'Total cards int the set: {df.count()}')"
   ]
  },
  {
   "cell_type": "code",
   "execution_count": null,
   "metadata": {
    "Collapsed": "false"
   },
   "outputs": [],
   "source": [
    "print(f'Total cards int the set: {df.distinct().count()}')"
   ]
  },
  {
   "cell_type": "markdown",
   "metadata": {
    "Collapsed": "false"
   },
   "source": [
    "## Types"
   ]
  },
  {
   "cell_type": "code",
   "execution_count": null,
   "metadata": {
    "Collapsed": "false"
   },
   "outputs": [],
   "source": [
    "df_result = df.select(fn.col('types').alias('Permanent Type')).distinct()\n",
    "pd_df = df_result.toPandas()"
   ]
  },
  {
   "cell_type": "code",
   "execution_count": null,
   "metadata": {
    "Collapsed": "false"
   },
   "outputs": [],
   "source": [
    "pd_df"
   ]
  },
  {
   "cell_type": "code",
   "execution_count": null,
   "metadata": {
    "Collapsed": "false"
   },
   "outputs": [],
   "source": [
    "card_sum = df.groupBy(\"types\").count().agg(\n",
    "    fn.sum(\"count\")\n",
    ")"
   ]
  },
  {
   "cell_type": "code",
   "execution_count": null,
   "metadata": {
    "Collapsed": "false"
   },
   "outputs": [],
   "source": [
    "card_sum = int(card_sum.toPandas().loc[0])"
   ]
  },
  {
   "cell_type": "code",
   "execution_count": null,
   "metadata": {
    "Collapsed": "false"
   },
   "outputs": [],
   "source": [
    "df_result = df.groupBy(fn.col('types').alias('Parmanent Type')).count()\n",
    "pd_df = df_result.toPandas()"
   ]
  },
  {
   "cell_type": "code",
   "execution_count": null,
   "metadata": {
    "Collapsed": "false"
   },
   "outputs": [],
   "source": [
    "pd_df"
   ]
  },
  {
   "cell_type": "code",
   "execution_count": null,
   "metadata": {},
   "outputs": [],
   "source": [
    "with open(f\"{config.ARTIFACTS}/EDA/perma_types.md\", \"w\") as fp:\n",
    "    pd_df.to_markdown(fp)"
   ]
  },
  {
   "cell_type": "code",
   "execution_count": null,
   "metadata": {
    "Collapsed": "false"
   },
   "outputs": [],
   "source": [
    "bcast = sc.broadcast(card_sum)\n",
    "\n",
    "@fn.udf(returnType=t.FloatType())\n",
    "def udf_count_to_perc(count):\n",
    "#     print(count, bcast.value)\n",
    "    return count / bcast.value"
   ]
  },
  {
   "cell_type": "code",
   "execution_count": null,
   "metadata": {
    "Collapsed": "false"
   },
   "outputs": [],
   "source": [
    "df_result = df.groupBy(fn.col(\"types\").alias('Permanent Type')).count().withColumn('perc', fn.format_number(udf_count_to_perc('count'), 2))\n",
    "pd_df = df_result.toPandas()"
   ]
  },
  {
   "cell_type": "code",
   "execution_count": null,
   "metadata": {
    "Collapsed": "false"
   },
   "outputs": [],
   "source": [
    "pd_df"
   ]
  },
  {
   "cell_type": "code",
   "execution_count": null,
   "metadata": {},
   "outputs": [],
   "source": [
    "with open(f\"{config.ARTIFACTS}/EDA/perma_types_stats.md\", \"w\") as fp:\n",
    "    pd_df.to_markdown(fp)"
   ]
  },
  {
   "cell_type": "code",
   "execution_count": null,
   "metadata": {
    "Collapsed": "false"
   },
   "outputs": [],
   "source": [
    "df_result = df.groupBy(\"encodedTypes\").count()\n",
    "pd_df = df_result.toPandas()"
   ]
  },
  {
   "cell_type": "code",
   "execution_count": null,
   "metadata": {
    "Collapsed": "false"
   },
   "outputs": [],
   "source": [
    "pd_df"
   ]
  },
  {
   "cell_type": "markdown",
   "metadata": {
    "Collapsed": "false"
   },
   "source": [
    "## Power & Toughness"
   ]
  },
  {
   "cell_type": "code",
   "execution_count": null,
   "metadata": {
    "Collapsed": "false"
   },
   "outputs": [],
   "source": [
    "df_result = df.select(\"name\", \"power\", \"toughness\").where(\"encodedTypes == 2\")\n",
    "df_result = df_result.na.fill(0)\n",
    "pd_df = df_result.toPandas()"
   ]
  },
  {
   "cell_type": "code",
   "execution_count": null,
   "metadata": {
    "Collapsed": "false"
   },
   "outputs": [],
   "source": [
    "pd_df"
   ]
  },
  {
   "cell_type": "code",
   "execution_count": null,
   "metadata": {},
   "outputs": [],
   "source": [
    "with open(f\"{config.ARTIFACTS}/EDA/creatures_power_toughness.md\", \"w\") as fp:\n",
    "    pd_df.to_markdown(fp)"
   ]
  },
  {
   "cell_type": "code",
   "execution_count": null,
   "metadata": {
    "Collapsed": "false"
   },
   "outputs": [],
   "source": [
    "ax = sns.pairplot(pd_df, height=4, kind='reg')"
   ]
  },
  {
   "cell_type": "code",
   "execution_count": null,
   "metadata": {},
   "outputs": [],
   "source": [
    "ax.savefig(f\"{config.ARTIFACTS}/EDA/power_toughness_pairplot.png\")"
   ]
  },
  {
   "cell_type": "code",
   "execution_count": null,
   "metadata": {
    "Collapsed": "false"
   },
   "outputs": [],
   "source": [
    "# df_result.corr(\"power\", \"toughness\", method=\"pearson\")"
   ]
  },
  {
   "cell_type": "code",
   "execution_count": null,
   "metadata": {
    "Collapsed": "false"
   },
   "outputs": [],
   "source": [
    "pd_df.corr(method=\"spearman\")"
   ]
  },
  {
   "cell_type": "code",
   "execution_count": null,
   "metadata": {},
   "outputs": [],
   "source": [
    "with open(f\"{config.ARTIFACTS}/EDA/creatures_power_toughness_correlation_spearman.md\", \"w\") as fp:\n",
    "    pd_df.to_markdown(fp)"
   ]
  },
  {
   "cell_type": "code",
   "execution_count": null,
   "metadata": {
    "Collapsed": "false"
   },
   "outputs": [],
   "source": [
    "df.agg({\"toughness\": \"mean\"}).collect()"
   ]
  },
  {
   "cell_type": "code",
   "execution_count": null,
   "metadata": {
    "Collapsed": "false"
   },
   "outputs": [],
   "source": [
    "df_result = df.agg(\n",
    "    *[fn.min(\"power\").alias(\"min\"),\n",
    "      fn.max(\"power\").alias(\"max\"),\n",
    "      fn.format_number(fn.mean(\"power\"), 2).alias(\"avg\")\n",
    "])\n",
    "pd_df_power = df_result.toPandas().rename(index={0: 'power'})"
   ]
  },
  {
   "cell_type": "code",
   "execution_count": null,
   "metadata": {
    "Collapsed": "false"
   },
   "outputs": [],
   "source": [
    "df_result = df.agg(\n",
    "    *[fn.min(\"toughness\").alias(\"min\"),\n",
    "      fn.max(\"toughness\").alias(\"max\"),\n",
    "      fn.format_number(fn.mean(\"toughness\"), 2).alias(\"avg\")\n",
    "])\n",
    "pd_df_toughness = df_result.toPandas().rename(index={0: 'toughness'})"
   ]
  },
  {
   "cell_type": "code",
   "execution_count": null,
   "metadata": {
    "Collapsed": "false"
   },
   "outputs": [],
   "source": [
    "pd.concat([pd_df_power, pd_df_toughness])"
   ]
  },
  {
   "cell_type": "code",
   "execution_count": null,
   "metadata": {},
   "outputs": [],
   "source": [
    "with open(f\"{config.ARTIFACTS}/EDA/creatures_power_toughness_agg_min_max_avg.md\", \"w\") as fp:\n",
    "    pd_df.to_markdown(fp)"
   ]
  },
  {
   "cell_type": "markdown",
   "metadata": {
    "Collapsed": "false"
   },
   "source": [
    "## Length of name "
   ]
  },
  {
   "cell_type": "code",
   "execution_count": null,
   "metadata": {
    "Collapsed": "false"
   },
   "outputs": [],
   "source": [
    "df_result = df.selectExpr(\"name\").select('name', fn.length(\"name\").alias(\"length\"))\n",
    "pd_df = df_result.toPandas()"
   ]
  },
  {
   "cell_type": "code",
   "execution_count": null,
   "metadata": {
    "Collapsed": "false"
   },
   "outputs": [],
   "source": [
    "pd_df"
   ]
  },
  {
   "cell_type": "code",
   "execution_count": null,
   "metadata": {
    "Collapsed": "false"
   },
   "outputs": [],
   "source": [
    "df_result = df.selectExpr(\"name\").\\\n",
    "    select(\"name\", fn.split(\"name\", \"\\s+\").alias(\"tokens\")).\\\n",
    "    select(\"name\", \"tokens\", fn.size(\"tokens\").alias(\"# tokens\"))\n",
    "pd_df = df_result.toPandas()"
   ]
  },
  {
   "cell_type": "code",
   "execution_count": null,
   "metadata": {
    "Collapsed": "false"
   },
   "outputs": [],
   "source": [
    "pd_df"
   ]
  },
  {
   "cell_type": "code",
   "execution_count": null,
   "metadata": {},
   "outputs": [],
   "source": [
    "with open(f\"{config.ARTIFACTS}/EDA/cards_names_length_and_tokens.md\", \"w\") as fp:\n",
    "    pd_df.to_markdown(fp)"
   ]
  },
  {
   "cell_type": "markdown",
   "metadata": {
    "Collapsed": "false"
   },
   "source": [
    "## Length of text "
   ]
  },
  {
   "cell_type": "code",
   "execution_count": null,
   "metadata": {
    "Collapsed": "false"
   },
   "outputs": [],
   "source": [
    "df_result = df.selectExpr(\"name\", \"originalText\").\\\n",
    "    select(fn.col(\"name\").alias(\"card name\"), fn.length(\"originalText\").alias(\"length\")).\\\n",
    "    orderBy(fn.desc(\"length\"))\n",
    "df_result = df_result.na.fill(value=0, subset=['length'])\n",
    "pd_df = df_result.toPandas()"
   ]
  },
  {
   "cell_type": "code",
   "execution_count": null,
   "metadata": {
    "Collapsed": "false"
   },
   "outputs": [],
   "source": [
    "pd_df"
   ]
  },
  {
   "cell_type": "code",
   "execution_count": null,
   "metadata": {},
   "outputs": [],
   "source": [
    "with open(f\"{config.ARTIFACTS}/EDA/cards_text_length.md\", \"w\") as fp:\n",
    "    pd_df.to_markdown(fp)"
   ]
  },
  {
   "cell_type": "markdown",
   "metadata": {
    "Collapsed": "false"
   },
   "source": [
    "## Mana costs "
   ]
  },
  {
   "cell_type": "code",
   "execution_count": null,
   "metadata": {
    "Collapsed": "false"
   },
   "outputs": [],
   "source": [
    "df_result = df.select(fn.col(\"name\").alias(\"card name\"),\n",
    "                      fn.col(\"convertedManaCost\").alias(\"converted mana cost\")).\\\n",
    "                orderBy(fn.desc(\"converted mana cost\"))\n",
    "pd_df = df_result.toPandas()"
   ]
  },
  {
   "cell_type": "code",
   "execution_count": null,
   "metadata": {
    "Collapsed": "false"
   },
   "outputs": [],
   "source": [
    "pd_df"
   ]
  },
  {
   "cell_type": "code",
   "execution_count": null,
   "metadata": {},
   "outputs": [],
   "source": [
    "with open(f\"{config.ARTIFACTS}/EDA/cards_cmc.md\", \"w\") as fp:\n",
    "    pd_df.to_markdown(fp)"
   ]
  },
  {
   "cell_type": "code",
   "execution_count": null,
   "metadata": {
    "Collapsed": "false"
   },
   "outputs": [],
   "source": [
    "max_cmc = pd_df['converted mana cost'].max()"
   ]
  },
  {
   "cell_type": "code",
   "execution_count": null,
   "metadata": {
    "Collapsed": "false"
   },
   "outputs": [],
   "source": [
    "ax = sns.distplot(pd_df['converted mana cost'], bins=range(max_cmc + 1))\n",
    "_ = ax.set_ylabel('% cards')\n",
    "_ = ax.set_title('M20 Set')\n",
    "_ = ax.set_xticks(range(max_cmc + 1))"
   ]
  },
  {
   "cell_type": "code",
   "execution_count": null,
   "metadata": {},
   "outputs": [],
   "source": [
    "ax.figure.savefig(f\"{config.ARTIFACTS}/EDA/cards_cmc_plot.png\")"
   ]
  },
  {
   "cell_type": "markdown",
   "metadata": {
    "Collapsed": "false"
   },
   "source": [
    "# Groups "
   ]
  },
  {
   "cell_type": "markdown",
   "metadata": {
    "Collapsed": "false"
   },
   "source": [
    "## By color identity"
   ]
  },
  {
   "cell_type": "code",
   "execution_count": null,
   "metadata": {
    "Collapsed": "false"
   },
   "outputs": [],
   "source": [
    "df_result = df.groupby(fn.col('colorIdentity').alias('Color Identity')).count()\n",
    "pd_df = df_result.toPandas()"
   ]
  },
  {
   "cell_type": "code",
   "execution_count": null,
   "metadata": {
    "Collapsed": "false"
   },
   "outputs": [],
   "source": [
    "pd_df"
   ]
  },
  {
   "cell_type": "code",
   "execution_count": null,
   "metadata": {},
   "outputs": [],
   "source": [
    "with open(f\"{config.ARTIFACTS}/EDA/cards_cmc_groups_count.md\", \"w\") as fp:\n",
    "    pd_df.to_markdown(fp)"
   ]
  },
  {
   "cell_type": "code",
   "execution_count": null,
   "metadata": {
    "Collapsed": "false"
   },
   "outputs": [],
   "source": [
    "df_result = df.groupby('colorIdentity').count().agg(\n",
    "    fn.sum(\"count\").alias(\"total number\")\n",
    ").collect()"
   ]
  },
  {
   "cell_type": "code",
   "execution_count": null,
   "metadata": {
    "Collapsed": "false"
   },
   "outputs": [],
   "source": [
    "print(df_result)"
   ]
  },
  {
   "cell_type": "markdown",
   "metadata": {
    "Collapsed": "false"
   },
   "source": [
    "## From Models, show encoded types"
   ]
  },
  {
   "cell_type": "code",
   "execution_count": null,
   "metadata": {
    "Collapsed": "false"
   },
   "outputs": [],
   "source": [
    "from pyspark.ml.feature import StringIndexer, StringIndexerModel"
   ]
  },
  {
   "cell_type": "code",
   "execution_count": null,
   "metadata": {
    "Collapsed": "false"
   },
   "outputs": [],
   "source": [
    "indexer = StringIndexer.load(f\"{config.SPARK_MODELS}/stringindexer_str_types\")\n",
    "model = StringIndexerModel.load(f\"{config.SPARK_MODELS}/stringindexer_model_str_types\")"
   ]
  },
  {
   "cell_type": "code",
   "execution_count": null,
   "metadata": {
    "Collapsed": "false"
   },
   "outputs": [],
   "source": [
    "# model.stringOrderType"
   ]
  },
  {
   "cell_type": "code",
   "execution_count": null,
   "metadata": {
    "Collapsed": "false"
   },
   "outputs": [],
   "source": [
    "model.labels"
   ]
  },
  {
   "cell_type": "code",
   "execution_count": null,
   "metadata": {
    "Collapsed": "false"
   },
   "outputs": [],
   "source": [
    "df.agg(\n",
    "    *[fn.min(df.encodedTypes), fn.max(df.encodedTypes)]\n",
    ").show()"
   ]
  },
  {
   "cell_type": "markdown",
   "metadata": {
    "Collapsed": "false"
   },
   "source": [
    "## Make an overall histogram from encoded types. "
   ]
  },
  {
   "cell_type": "code",
   "execution_count": null,
   "metadata": {
    "Collapsed": "false"
   },
   "outputs": [],
   "source": [
    "tmp = df.select(\"encodedTypes\").rdd.flatMap(lambda x: x)"
   ]
  },
  {
   "cell_type": "code",
   "execution_count": null,
   "metadata": {
    "Collapsed": "false"
   },
   "outputs": [],
   "source": [
    "tmp.min(), tmp.max()"
   ]
  },
  {
   "cell_type": "code",
   "execution_count": null,
   "metadata": {
    "Collapsed": "false"
   },
   "outputs": [],
   "source": [
    "hist = df.select(\"encodedTypes\").rdd.flatMap(lambda x: x).histogram(8)"
   ]
  },
  {
   "cell_type": "code",
   "execution_count": null,
   "metadata": {
    "Collapsed": "false"
   },
   "outputs": [],
   "source": [
    "hist"
   ]
  },
  {
   "cell_type": "code",
   "execution_count": null,
   "metadata": {
    "Collapsed": "false"
   },
   "outputs": [],
   "source": [
    "pd_hist = pd.DataFrame(data=list(zip(*hist)), columns=['bin', 'freq'])"
   ]
  },
  {
   "cell_type": "code",
   "execution_count": null,
   "metadata": {
    "Collapsed": "false"
   },
   "outputs": [],
   "source": [
    "pd_hist['perc'] = pd_hist['freq'] / pd_hist['freq'].sum()"
   ]
  },
  {
   "cell_type": "code",
   "execution_count": null,
   "metadata": {
    "Collapsed": "false"
   },
   "outputs": [],
   "source": [
    "sns.set(style=\"whitegrid\")\n",
    "\n",
    "f, ax = plt.subplots(figsize=(6, 6))\n",
    "\n",
    "sns.set_color_codes(\"pastel\")\n",
    "sns.barplot(x=\"perc\", y=\"bin\", data=pd_hist, label=\"Total\", orient='h', color=\"b\")\n",
    "\n",
    "# ax.set(xlim=(0, 0.4), xlabel=\"\", ylabel=\"\")\n",
    "ax.set(xlim=(0, 0.5), xlabel=\"% of total cards in the Set\", ylabel=\"Card Type\")\n",
    "ax.set(yticklabels=model.labels)\n",
    "\n",
    "sns.despine(left=True, bottom=True)"
   ]
  },
  {
   "cell_type": "code",
   "execution_count": null,
   "metadata": {},
   "outputs": [],
   "source": [
    "ax.figure.savefig(f'{config.ARTIFACTS}/EDA/cards_types_hist.png')"
   ]
  },
  {
   "cell_type": "markdown",
   "metadata": {
    "Collapsed": "false"
   },
   "source": [
    "## By color identity and encoded type"
   ]
  },
  {
   "cell_type": "markdown",
   "metadata": {
    "Collapsed": "false"
   },
   "source": [
    "First, let's fetch the distinct color identities"
   ]
  },
  {
   "cell_type": "code",
   "execution_count": null,
   "metadata": {
    "Collapsed": "false"
   },
   "outputs": [],
   "source": [
    "pd_colorIdentities  = df.select(\"colorIdentity\").alias(\"Color_Identity\").distinct().sort(\"colorIdentity\").toPandas()"
   ]
  },
  {
   "cell_type": "code",
   "execution_count": null,
   "metadata": {
    "Collapsed": "false"
   },
   "outputs": [],
   "source": [
    "pd_colorIdentities"
   ]
  },
  {
   "cell_type": "code",
   "execution_count": null,
   "metadata": {
    "Collapsed": "false"
   },
   "outputs": [],
   "source": [
    "pd_encodedTypes = pd.DataFrame(np.arange(8), columns=['Encoded_Types'])"
   ]
  },
  {
   "cell_type": "code",
   "execution_count": null,
   "metadata": {
    "Collapsed": "false"
   },
   "outputs": [],
   "source": [
    "pd_encodedTypes"
   ]
  },
  {
   "cell_type": "markdown",
   "metadata": {
    "Collapsed": "false"
   },
   "source": [
    "Create a cartesian product of the color identities and the encoded types."
   ]
  },
  {
   "cell_type": "code",
   "execution_count": null,
   "metadata": {
    "Collapsed": "false"
   },
   "outputs": [],
   "source": [
    "pd_colorIdentities['key'] = 0\n",
    "pd_encodedTypes['key'] = 0"
   ]
  },
  {
   "cell_type": "code",
   "execution_count": null,
   "metadata": {
    "Collapsed": "false"
   },
   "outputs": [],
   "source": [
    "pd_cartesian = pd_colorIdentities.merge(pd_encodedTypes, how='outer').drop(columns=['key'])"
   ]
  },
  {
   "cell_type": "code",
   "execution_count": null,
   "metadata": {
    "Collapsed": "false"
   },
   "outputs": [],
   "source": [
    "pd_cartesian = pd_cartesian.rename(columns={'colorIdentity':'Color_Identity'})"
   ]
  },
  {
   "cell_type": "code",
   "execution_count": null,
   "metadata": {
    "Collapsed": "false"
   },
   "outputs": [],
   "source": [
    "pd_cartesian"
   ]
  },
  {
   "cell_type": "markdown",
   "metadata": {
    "Collapsed": "false"
   },
   "source": [
    "Now, let's create a list which will hold the following: ((color identity, encoded type), 1)."
   ]
  },
  {
   "cell_type": "code",
   "execution_count": null,
   "metadata": {
    "Collapsed": "false"
   },
   "outputs": [],
   "source": [
    "map1 = df.select([\"colorIdentity\", \"encodedTypes\"]).rdd.map(\n",
    "    lambda x: ((x[0], x[1]), 1)\n",
    ")\n",
    "\n",
    "map1.take(10)"
   ]
  },
  {
   "cell_type": "markdown",
   "metadata": {
    "Collapsed": "false"
   },
   "source": [
    "Finally, let's compute the sum of the number of a found encoded types per color identity."
   ]
  },
  {
   "cell_type": "code",
   "execution_count": null,
   "metadata": {
    "Collapsed": "false"
   },
   "outputs": [],
   "source": [
    "map2 = map1.reduceByKey(lambda a, b: a + b).sortByKey()"
   ]
  },
  {
   "cell_type": "code",
   "execution_count": null,
   "metadata": {
    "Collapsed": "false"
   },
   "outputs": [],
   "source": [
    "map2.take(5)"
   ]
  },
  {
   "cell_type": "markdown",
   "metadata": {
    "Collapsed": "false"
   },
   "source": [
    "For convience, let's break down the (color identity, encoded type) key into a list of: (color identity, encoded type, sum). "
   ]
  },
  {
   "cell_type": "code",
   "execution_count": null,
   "metadata": {
    "Collapsed": "false"
   },
   "outputs": [],
   "source": [
    "map3 = map2.map(lambda x: (x[0][0], x[0][1], x[1]))"
   ]
  },
  {
   "cell_type": "code",
   "execution_count": null,
   "metadata": {
    "Collapsed": "false"
   },
   "outputs": [],
   "source": [
    "pd_tab = map3.toDF().toPandas()"
   ]
  },
  {
   "cell_type": "code",
   "execution_count": null,
   "metadata": {
    "Collapsed": "false"
   },
   "outputs": [],
   "source": [
    "pd_tab.columns = ['Color_Identity', 'Encoded_Types', 'Total']"
   ]
  },
  {
   "cell_type": "code",
   "execution_count": null,
   "metadata": {
    "Collapsed": "false"
   },
   "outputs": [],
   "source": [
    "pd_tab.head(5)"
   ]
  },
  {
   "cell_type": "code",
   "execution_count": null,
   "metadata": {},
   "outputs": [],
   "source": [
    "with open(f\"{config.ARTIFACTS}/EDA/cards_ci_type_counts.md\", \"w\") as fp:\n",
    "    pd_df.to_markdown(fp)"
   ]
  },
  {
   "cell_type": "markdown",
   "metadata": {
    "Collapsed": "false"
   },
   "source": [
    "Based on the color identity and encoded types, assign a key that corresponds to the cartesian product."
   ]
  },
  {
   "cell_type": "code",
   "execution_count": null,
   "metadata": {
    "Collapsed": "false"
   },
   "outputs": [],
   "source": [
    "def assign_index(row):\n",
    "    filter1 = pd_cartesian['Color_Identity'] ==  row['Color_Identity']\n",
    "    filter2 = pd_cartesian['Encoded_Types'] == row['Encoded_Types']\n",
    "    \n",
    "    idx = pd_cartesian.index[filter1 & filter2].tolist()[0]\n",
    "\n",
    "    return idx"
   ]
  },
  {
   "cell_type": "code",
   "execution_count": null,
   "metadata": {
    "Collapsed": "false"
   },
   "outputs": [],
   "source": [
    "pd_tab['Cart_Index'] = pd_tab.apply (lambda row: assign_index(row), axis=1)"
   ]
  },
  {
   "cell_type": "code",
   "execution_count": null,
   "metadata": {
    "Collapsed": "false"
   },
   "outputs": [],
   "source": [
    "# pd_tab.max()"
   ]
  },
  {
   "cell_type": "code",
   "execution_count": null,
   "metadata": {
    "Collapsed": "false"
   },
   "outputs": [],
   "source": [
    "pd_tab.head(5)"
   ]
  },
  {
   "cell_type": "markdown",
   "metadata": {
    "Collapsed": "false"
   },
   "source": [
    "Find the missing indexes from the cartesian product, and fill-in with \"total = 0\"."
   ]
  },
  {
   "cell_type": "code",
   "execution_count": null,
   "metadata": {
    "Collapsed": "false"
   },
   "outputs": [],
   "source": [
    "missing_cart_indexes = set(pd_cartesian.index.tolist()) - set(pd_tab.Cart_Index.tolist())"
   ]
  },
  {
   "cell_type": "code",
   "execution_count": null,
   "metadata": {
    "Collapsed": "false"
   },
   "outputs": [],
   "source": [
    "for index in missing_cart_indexes:\n",
    "    row = pd_cartesian.iloc[index]\n",
    "\n",
    "    new_df = row.copy()\n",
    "    new_df['Total'] = 0\n",
    "    new_df['Cart_Index'] = index\n",
    "    \n",
    "    pd_tab = pd_tab.append(new_df)"
   ]
  },
  {
   "cell_type": "code",
   "execution_count": null,
   "metadata": {
    "Collapsed": "false"
   },
   "outputs": [],
   "source": [
    "group_result = pd_tab.groupby('Encoded_Types')"
   ]
  },
  {
   "cell_type": "code",
   "execution_count": null,
   "metadata": {
    "Collapsed": "false"
   },
   "outputs": [],
   "source": [
    "for group_id, (name, indices) in enumerate(group_result.indices.items()):\n",
    "    group = pd_tab.iloc[indices]\n",
    "    group.fillna(0)\n",
    "    \n",
    "#     print(group)\n",
    "\n",
    "    f_group = group[group['Total'] > 0]\n",
    "\n",
    "    labels = f_group['Color_Identity']\n",
    "    totals = f_group['Total']\n",
    "\n",
    "    sns.set(style=\"whitegrid\")\n",
    "    # sns.set()\n",
    "    sns.set_palette(\"pastel\")\n",
    "\n",
    "    colors = {\n",
    "        '': 'lightgray',\n",
    "        'W': 'w',\n",
    "        'U': 'b',\n",
    "        'B': 'k',\n",
    "        'R': 'r',\n",
    "        'G': 'g'\n",
    "    }\n",
    "\n",
    "    edge_colors = {\n",
    "        '': '',\n",
    "        'W': 'lightgray',\n",
    "        'U': '',\n",
    "        'B': '',\n",
    "        'R': '',\n",
    "        'G': ''\n",
    "    }\n",
    "\n",
    "    prev = 0 \n",
    "    for i in range(len(totals)):\n",
    "        val = totals.iloc[i]\n",
    "        label = labels.iloc[i]\n",
    "        color = colors[label]\n",
    "        ecolor = edge_colors[label]\n",
    "        plt.barh(i, val, color=color, linewidth=1.0, alpha=1.0, edgecolor=ecolor)#, hatch=\"/\")\n",
    "\n",
    "    plt.title(model.labels[group_id])\n",
    "    plt.xlabel('Total')  \n",
    "    plt.ylabel('Color Identity')\n",
    "#     plt.yticks(range(6), labels)\n",
    "    plt.yticks([])\n",
    "    sns.despine(left=True, bottom=True)\n",
    "\n",
    "    plt.show()  \n",
    "    \n",
    "    break"
   ]
  },
  {
   "cell_type": "markdown",
   "metadata": {
    "Collapsed": "false"
   },
   "source": [
    "### Bars with Gradients"
   ]
  },
  {
   "cell_type": "code",
   "execution_count": null,
   "metadata": {
    "Collapsed": "false"
   },
   "outputs": [],
   "source": [
    "import matplotlib\n",
    "from matplotlib.colors import LinearSegmentedColormap\n",
    "\n",
    "def gradientbars(bars, color):\n",
    "    grad = np.atleast_2d(np.linspace(0,1,256))\n",
    "    rgb0 = matplotlib.colors.to_rgba('w')\n",
    "    rgb1 = matplotlib.colors.to_rgba(color)\n",
    "    cmap = LinearSegmentedColormap.from_list('tmp', (rgb0, rgb1))\n",
    "\n",
    "    \n",
    "    ax = bars[0].axes\n",
    "    lim = ax.get_xlim() + ax.get_ylim()\n",
    "    for bar in bars:\n",
    "        bar.set_zorder(1)\n",
    "        bar.set_facecolor(\"none\")\n",
    "        x, y = bar.get_xy()\n",
    "        w, h = bar.get_width(), bar.get_height()\n",
    "        ax.imshow(grad, extent=[x, x+w, y, y+h], cmap=cmap,aspect=\"auto\", zorder=0)"
   ]
  },
  {
   "cell_type": "code",
   "execution_count": null,
   "metadata": {
    "Collapsed": "false"
   },
   "outputs": [],
   "source": [
    "f_group = group[group['Total'] > 0]\n",
    "\n",
    "labels = f_group['Color_Identity']\n",
    "totals = f_group['Total']\n",
    "\n",
    "sns.set_palette(\"pastel\")\n",
    "\n",
    "\n",
    "with sns.color_palette(\"pastel\"):\n",
    "    colors = {\n",
    "        '': 'lightgray',\n",
    "        'W': 'w',\n",
    "        'U': 'b',\n",
    "        'B': 'k',\n",
    "        'R': 'r',\n",
    "        'G': 'g'\n",
    "    }\n",
    "\n",
    "    edge_colors = {\n",
    "        '': '',\n",
    "        'W': 'lightgray',\n",
    "        'U': '',\n",
    "        'B': '',\n",
    "        'R': '',\n",
    "        'G': ''\n",
    "    }\n",
    "\n",
    "    fig, ax = plt.subplots()\n",
    "\n",
    "    prev = 0 \n",
    "    for i in range(len(totals)):\n",
    "        val = totals.iloc[i]\n",
    "        label = labels.iloc[i]\n",
    "        color = colors[label]\n",
    "        ecolor = edge_colors[label]\n",
    "        bar = ax.barh(i, val, color=color, linewidth=1.0, alpha=1.0, edgecolor=ecolor)#, hatch=\"/\")\n",
    "        \n",
    "        gradientbars(bar, color)\n",
    "\n",
    "    ax.set_title(model.labels[group_id])\n",
    "    ax.set_xlabel('Total')  \n",
    "    ax.set_ylabel('Color Identity')\n",
    "    #     plt.yticks(range(6), labels)\n",
    "    ax.set_yticks([])\n",
    "    ax.axis('auto')\n",
    "    sns.despine(left=True, bottom=True)\n",
    "\n",
    "    plt.show()  "
   ]
  },
  {
   "cell_type": "code",
   "execution_count": null,
   "metadata": {},
   "outputs": [],
   "source": [
    "ax.figure.savefig(f'{config.ARTIFACTS}/EDA/cards_artifacts_hist_fx1.png')"
   ]
  },
  {
   "cell_type": "markdown",
   "metadata": {
    "Collapsed": "false"
   },
   "source": [
    "### Bars with Gradient and Symbols"
   ]
  },
  {
   "cell_type": "code",
   "execution_count": null,
   "metadata": {
    "Collapsed": "false"
   },
   "outputs": [],
   "source": [
    "from matplotlib.offsetbox import OffsetImage, AnnotationBbox"
   ]
  },
  {
   "cell_type": "code",
   "execution_count": null,
   "metadata": {
    "Collapsed": "false"
   },
   "outputs": [],
   "source": [
    "sns.set()"
   ]
  },
  {
   "cell_type": "code",
   "execution_count": null,
   "metadata": {
    "Collapsed": "false"
   },
   "outputs": [],
   "source": [
    "f_group = group[group['Total'] > 0]\n",
    "\n",
    "labels = f_group['Color_Identity']\n",
    "totals = f_group['Total']\n",
    "\n",
    "sns.set(style=\"whitegrid\")\n",
    "# sns.set()\n",
    "sns.set_palette(\"pastel\")\n",
    "\n",
    "colors = {\n",
    "    '': '#cac5c0ff',\n",
    "    'W': '#f8f6d8ff',\n",
    "    'U': '#c1d7e9ff',\n",
    "    'B': '#bab1abff',\n",
    "    'R': '#e49977ff',\n",
    "    'G': '#a3c095ff'\n",
    "}\n",
    "\n",
    "edge_colors = {\n",
    "    '': '',\n",
    "    'W': '',\n",
    "    'U': '',\n",
    "    'B': '',\n",
    "    'R': '',\n",
    "    'G': ''\n",
    "}\n",
    "\n",
    "images = {\n",
    "    '': '../assets/Mana/C.png',\n",
    "    'W': '../assets/Mana/W.png',\n",
    "    'U': '../assets/Mana/U.png',\n",
    "    'B': '../assets/Mana/B.png',\n",
    "    'R': '../assets/Mana/R.png',\n",
    "    'G': '../assets/Mana/G.png'\n",
    "}\n",
    "\n",
    "fig, ax = plt.subplots()\n",
    "\n",
    "prev = 0 \n",
    "for i in range(len(totals)):\n",
    "    val = totals.iloc[i]\n",
    "    label = labels.iloc[i]\n",
    "    color = colors[label]\n",
    "    ecolor = ''\n",
    "    image = images[label]\n",
    "    bar = plt.barh(i, val, color=color, height=0.60, linewidth=0.0, alpha=1.0, edgecolor=ecolor)#, hatch='/')\n",
    "    \n",
    "    ab = AnnotationBbox(OffsetImage(plt.imread(image), zoom=0.075), (val, i), frameon=False)\n",
    "    ax.add_artist(ab)\n",
    "    \n",
    "    gradientbars(bar, color)\n",
    "\n",
    "plt.title(model.labels[group_id])\n",
    "plt.xlabel('# Cards')  \n",
    "plt.ylabel('Color Identity')\n",
    "plt.yticks([])\n",
    "plt.grid(linewidth=1.0, alpha=0.25)\n",
    "sns.despine(left=True, bottom=True)\n",
    "plt.axis('auto')\n",
    "\n",
    "\n",
    "plt.show()  "
   ]
  },
  {
   "cell_type": "code",
   "execution_count": null,
   "metadata": {},
   "outputs": [],
   "source": [
    "ax.figure.savefig(f'{config.ARTIFACTS}/EDA/cards_artifacts_hist_fx2.png')"
   ]
  },
  {
   "cell_type": "markdown",
   "metadata": {
    "Collapsed": "false"
   },
   "source": [
    "###  Cummulative Bar"
   ]
  },
  {
   "cell_type": "code",
   "execution_count": null,
   "metadata": {
    "Collapsed": "false"
   },
   "outputs": [],
   "source": [
    "sns.set(style=\"whitegrid\")\n",
    "\n",
    "prev = 0 \n",
    "for i in range(len(totals)):\n",
    "    val = totals.iloc[i]\n",
    "    label = labels.iloc[i]\n",
    "    \n",
    "    plt.barh(i, val)\n",
    "#     prev = prev + val\n",
    "\n",
    "plt.xlabel('Total')  \n",
    "plt.ylabel('Spell Type')\n",
    "\n",
    "plt.show()  "
   ]
  }
 ],
 "metadata": {
  "kernelspec": {
   "display_name": "Python 3",
   "language": "python",
   "name": "python3"
  },
  "language_info": {
   "codemirror_mode": {
    "name": "ipython",
    "version": 3
   },
   "file_extension": ".py",
   "mimetype": "text/x-python",
   "name": "python",
   "nbconvert_exporter": "python",
   "pygments_lexer": "ipython3",
   "version": "3.6.9"
  },
  "toc-autonumbering": true,
  "widgets": {
   "application/vnd.jupyter.widget-state+json": {
    "state": {},
    "version_major": 2,
    "version_minor": 0
   }
  }
 },
 "nbformat": 4,
 "nbformat_minor": 4
}
