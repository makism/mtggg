{
 "cells": [
  {
   "cell_type": "code",
   "execution_count": 1,
   "metadata": {
    "Collapsed": "false"
   },
   "outputs": [],
   "source": [
    "import pyspark.sql.functions as fn"
   ]
  },
  {
   "cell_type": "code",
   "execution_count": 2,
   "metadata": {
    "Collapsed": "false"
   },
   "outputs": [],
   "source": [
    "import pandas as pd\n",
    "import numpy as np"
   ]
  },
  {
   "cell_type": "code",
   "execution_count": 3,
   "metadata": {
    "Collapsed": "false"
   },
   "outputs": [],
   "source": [
    "import seaborn as sns\n",
    "import matplotlib.pyplot as plt"
   ]
  },
  {
   "cell_type": "markdown",
   "metadata": {
    "Collapsed": "true"
   },
   "source": [
    "# Load from Parquet"
   ]
  },
  {
   "cell_type": "code",
   "execution_count": 4,
   "metadata": {
    "Collapsed": "false"
   },
   "outputs": [],
   "source": [
    "df = spark.read.parquet('../dataset/M20_cards.parquet')"
   ]
  },
  {
   "cell_type": "code",
   "execution_count": 5,
   "metadata": {
    "Collapsed": "false"
   },
   "outputs": [],
   "source": [
    "df.createOrReplaceTempView(\"cards\")"
   ]
  },
  {
   "cell_type": "code",
   "execution_count": 6,
   "metadata": {
    "Collapsed": "false"
   },
   "outputs": [
    {
     "data": {
      "text/plain": [
       "['number',\n",
       " 'rarity',\n",
       " 'name',\n",
       " 'convertedManaCost',\n",
       " 'numColors',\n",
       " 'colorIdentity',\n",
       " 'encodedColorIdentity',\n",
       " 'types',\n",
       " 'encodedTypes',\n",
       " 'subTypes',\n",
       " 'encodedSubTypes',\n",
       " 'superTypes',\n",
       " 'encodedSuperTypes',\n",
       " 'originalText',\n",
       " 'filteredText',\n",
       " 'power',\n",
       " 'toughness']"
      ]
     },
     "execution_count": 6,
     "metadata": {},
     "output_type": "execute_result"
    }
   ],
   "source": [
    "df.columns"
   ]
  },
  {
   "cell_type": "markdown",
   "metadata": {
    "Collapsed": "false"
   },
   "source": [
    "# Descriptive Statistics "
   ]
  },
  {
   "cell_type": "markdown",
   "metadata": {
    "Collapsed": "true"
   },
   "source": [
    "## Types"
   ]
  },
  {
   "cell_type": "code",
   "execution_count": 7,
   "metadata": {
    "Collapsed": "false"
   },
   "outputs": [
    {
     "name": "stdout",
     "output_type": "stream",
     "text": [
      "+-----------------+\n",
      "|            types|\n",
      "+-----------------+\n",
      "|             Land|\n",
      "|          Sorcery|\n",
      "|          Instant|\n",
      "|      Enchantment|\n",
      "|         Artifact|\n",
      "|Artifact,Creature|\n",
      "|     Planeswalker|\n",
      "|         Creature|\n",
      "+-----------------+\n",
      "\n"
     ]
    }
   ],
   "source": [
    "df.select(\"types\").distinct().show()"
   ]
  },
  {
   "cell_type": "code",
   "execution_count": 8,
   "metadata": {
    "Collapsed": "false"
   },
   "outputs": [],
   "source": [
    "card_sum = df.groupBy(\"types\").count().agg(\n",
    "    fn.sum(\"count\")\n",
    ").alias('sum')"
   ]
  },
  {
   "cell_type": "code",
   "execution_count": 9,
   "metadata": {
    "Collapsed": "false"
   },
   "outputs": [
    {
     "name": "stdout",
     "output_type": "stream",
     "text": [
      "+----------+\n",
      "|sum(count)|\n",
      "+----------+\n",
      "|       329|\n",
      "+----------+\n",
      "\n"
     ]
    }
   ],
   "source": [
    "card_sum.show()"
   ]
  },
  {
   "cell_type": "code",
   "execution_count": 10,
   "metadata": {
    "Collapsed": "false"
   },
   "outputs": [],
   "source": [
    "card_sum = int(card_sum.toPandas().loc[0])"
   ]
  },
  {
   "cell_type": "code",
   "execution_count": 11,
   "metadata": {
    "Collapsed": "false"
   },
   "outputs": [],
   "source": [
    "bcast = sc.broadcast(card_sum)"
   ]
  },
  {
   "cell_type": "code",
   "execution_count": 12,
   "metadata": {
    "Collapsed": "false"
   },
   "outputs": [
    {
     "data": {
      "text/plain": [
       "329"
      ]
     },
     "execution_count": 12,
     "metadata": {},
     "output_type": "execute_result"
    }
   ],
   "source": [
    "bcast.value"
   ]
  },
  {
   "cell_type": "code",
   "execution_count": 13,
   "metadata": {
    "Collapsed": "false"
   },
   "outputs": [
    {
     "name": "stdout",
     "output_type": "stream",
     "text": [
      "+-----------------+-----+\n",
      "|            types|count|\n",
      "+-----------------+-----+\n",
      "|             Land|   24|\n",
      "|          Sorcery|   27|\n",
      "|          Instant|   37|\n",
      "|      Enchantment|   21|\n",
      "|         Artifact|   17|\n",
      "|Artifact,Creature|   10|\n",
      "|     Planeswalker|   12|\n",
      "|         Creature|  181|\n",
      "+-----------------+-----+\n",
      "\n"
     ]
    }
   ],
   "source": [
    "df.groupBy(\"types\").count().show()"
   ]
  },
  {
   "cell_type": "code",
   "execution_count": 14,
   "metadata": {
    "Collapsed": "false"
   },
   "outputs": [],
   "source": [
    "@fn.udf\n",
    "def udf_count_to_perc(count):\n",
    "    print(count, bcast.value)\n",
    "    return count / bcast.value"
   ]
  },
  {
   "cell_type": "code",
   "execution_count": 15,
   "metadata": {
    "Collapsed": "false"
   },
   "outputs": [
    {
     "name": "stdout",
     "output_type": "stream",
     "text": [
      "+-----------------+-----+--------------------+\n",
      "|            types|count|                perc|\n",
      "+-----------------+-----+--------------------+\n",
      "|             Land|   24|  0.0729483282674772|\n",
      "|          Sorcery|   27| 0.08206686930091185|\n",
      "|          Instant|   37| 0.11246200607902736|\n",
      "|      Enchantment|   21| 0.06382978723404255|\n",
      "|         Artifact|   17| 0.05167173252279635|\n",
      "|Artifact,Creature|   10|0.030395136778115502|\n",
      "|     Planeswalker|   12|  0.0364741641337386|\n",
      "|         Creature|  181|  0.5501519756838906|\n",
      "+-----------------+-----+--------------------+\n",
      "\n"
     ]
    }
   ],
   "source": [
    "df.groupBy(\"types\").count().withColumn('perc', udf_count_to_perc('count')).show()"
   ]
  },
  {
   "cell_type": "code",
   "execution_count": 16,
   "metadata": {
    "Collapsed": "false"
   },
   "outputs": [
    {
     "name": "stdout",
     "output_type": "stream",
     "text": [
      "+------------+-----+\n",
      "|encodedTypes|count|\n",
      "+------------+-----+\n",
      "|           1|   10|\n",
      "|           6|   12|\n",
      "|           3|   21|\n",
      "|           5|   24|\n",
      "|           4|   37|\n",
      "|           7|   27|\n",
      "|           2|  181|\n",
      "|           0|   17|\n",
      "+------------+-----+\n",
      "\n"
     ]
    }
   ],
   "source": [
    "df.groupBy(\"encodedTypes\").count().show()"
   ]
  },
  {
   "cell_type": "markdown",
   "metadata": {
    "Collapsed": "false"
   },
   "source": [
    "## Power & Toughness"
   ]
  },
  {
   "cell_type": "code",
   "execution_count": 17,
   "metadata": {
    "Collapsed": "false"
   },
   "outputs": [
    {
     "data": {
      "text/plain": [
       "[Row(avg(toughness)=2.93717277486911)]"
      ]
     },
     "execution_count": 17,
     "metadata": {},
     "output_type": "execute_result"
    }
   ],
   "source": [
    "df.agg({\"toughness\": \"min\", \"toughness\": \"max\", \"toughness\": \"mean\"}).collect()"
   ]
  },
  {
   "cell_type": "code",
   "execution_count": 18,
   "metadata": {
    "Collapsed": "false"
   },
   "outputs": [
    {
     "name": "stdout",
     "output_type": "stream",
     "text": [
      "+----------+----------+------------------+\n",
      "|min(power)|max(power)|        avg(power)|\n",
      "+----------+----------+------------------+\n",
      "|         0|         8|2.7421052631578946|\n",
      "+----------+----------+------------------+\n",
      "\n"
     ]
    }
   ],
   "source": [
    "df.agg(\n",
    "    *[fn.min(\"power\"),  fn.max(\"power\"), fn.mean(\"power\")]\n",
    ").show()"
   ]
  },
  {
   "cell_type": "code",
   "execution_count": 19,
   "metadata": {
    "Collapsed": "false"
   },
   "outputs": [
    {
     "name": "stdout",
     "output_type": "stream",
     "text": [
      "+--------------+--------------+----------------+\n",
      "|min(toughness)|max(toughness)|  avg(toughness)|\n",
      "+--------------+--------------+----------------+\n",
      "|             0|             8|2.93717277486911|\n",
      "+--------------+--------------+----------------+\n",
      "\n"
     ]
    }
   ],
   "source": [
    "df.agg(\n",
    "    *[fn.min(\"toughness\"),  fn.max(\"toughness\"), fn.mean(\"toughness\")]\n",
    ").show()"
   ]
  },
  {
   "cell_type": "markdown",
   "metadata": {
    "Collapsed": "true"
   },
   "source": [
    "## Length of name "
   ]
  },
  {
   "cell_type": "code",
   "execution_count": 20,
   "metadata": {
    "Collapsed": "false"
   },
   "outputs": [
    {
     "name": "stdout",
     "output_type": "stream",
     "text": [
      "+--------------------+------------+\n",
      "|                name|length(name)|\n",
      "+--------------------+------------+\n",
      "|Chandra, Awakened...|          25|\n",
      "|   Cavalier of Flame|          17|\n",
      "|  Cavalier of Thorns|          18|\n",
      "|Omnath, Locus of ...|          25|\n",
      "|Kaalia, Zenith Se...|          21|\n",
      "|       Coral Merfolk|          13|\n",
      "|  Mask of Immolation|          18|\n",
      "|    Cavalier of Dawn|          16|\n",
      "|  Wolfrider's Saddle|          18|\n",
      "|          Risen Reef|          10|\n",
      "| Atemsis, All-Seeing|          19|\n",
      "|Overgrowth Elemental|          20|\n",
      "|      Barkhide Troll|          14|\n",
      "|     Voracious Hydra|          15|\n",
      "|   Gruesome Scourger|          17|\n",
      "|    Icon of Ancestry|          16|\n",
      "|       Cryptic Caves|          13|\n",
      "|      Evolving Wilds|          14|\n",
      "|       Fortress Crab|          13|\n",
      "|Mu Yanling, Sky D...|          22|\n",
      "+--------------------+------------+\n",
      "only showing top 20 rows\n",
      "\n"
     ]
    }
   ],
   "source": [
    "df.selectExpr(\"name\").select('name', fn.length(\"name\")).show()"
   ]
  },
  {
   "cell_type": "code",
   "execution_count": 21,
   "metadata": {
    "Collapsed": "false"
   },
   "outputs": [
    {
     "name": "stdout",
     "output_type": "stream",
     "text": [
      "+--------------------+--------------------+----------+\n",
      "|                name|              tokens|num_tokens|\n",
      "+--------------------+--------------------+----------+\n",
      "|Chandra, Awakened...|[Chandra,, Awaken...|         3|\n",
      "|   Cavalier of Flame|[Cavalier, of, Fl...|         3|\n",
      "|  Cavalier of Thorns|[Cavalier, of, Th...|         3|\n",
      "|Omnath, Locus of ...|[Omnath,, Locus, ...|         5|\n",
      "|Kaalia, Zenith Se...|[Kaalia,, Zenith,...|         3|\n",
      "|       Coral Merfolk|    [Coral, Merfolk]|         2|\n",
      "|  Mask of Immolation|[Mask, of, Immola...|         3|\n",
      "|    Cavalier of Dawn|[Cavalier, of, Dawn]|         3|\n",
      "|  Wolfrider's Saddle|[Wolfrider's, Sad...|         2|\n",
      "|          Risen Reef|       [Risen, Reef]|         2|\n",
      "| Atemsis, All-Seeing|[Atemsis,, All-Se...|         2|\n",
      "|Overgrowth Elemental|[Overgrowth, Elem...|         2|\n",
      "|      Barkhide Troll|   [Barkhide, Troll]|         2|\n",
      "|     Voracious Hydra|  [Voracious, Hydra]|         2|\n",
      "|   Gruesome Scourger|[Gruesome, Scourger]|         2|\n",
      "|    Icon of Ancestry|[Icon, of, Ancestry]|         3|\n",
      "|       Cryptic Caves|    [Cryptic, Caves]|         2|\n",
      "|      Evolving Wilds|   [Evolving, Wilds]|         2|\n",
      "|       Fortress Crab|    [Fortress, Crab]|         2|\n",
      "|Mu Yanling, Sky D...|[Mu, Yanling,, Sk...|         4|\n",
      "+--------------------+--------------------+----------+\n",
      "only showing top 20 rows\n",
      "\n"
     ]
    }
   ],
   "source": [
    "df.selectExpr(\"name\").\\\n",
    "    select(\"name\", fn.split(\"name\", \"\\s+\").alias(\"tokens\")).\\\n",
    "    select(\"name\", \"tokens\", fn.size(\"tokens\").alias(\"num_tokens\")).\\\n",
    "    show()"
   ]
  },
  {
   "cell_type": "markdown",
   "metadata": {
    "Collapsed": "true"
   },
   "source": [
    "## Length of text "
   ]
  },
  {
   "cell_type": "code",
   "execution_count": 22,
   "metadata": {
    "Collapsed": "false"
   },
   "outputs": [
    {
     "name": "stdout",
     "output_type": "stream",
     "text": [
      "+--------------------+--------+\n",
      "|                name|len_text|\n",
      "+--------------------+--------+\n",
      "|Ajani, Strength o...|     419|\n",
      "|Chandra, Awakened...|     376|\n",
      "|Chandra, Acolyte ...|     367|\n",
      "|Sorin, Imperious ...|     332|\n",
      "|   Cavalier of Flame|     331|\n",
      "|    Icon of Ancestry|     329|\n",
      "|Vivien, Arkbow Ra...|     314|\n",
      "|  Cavalier of Thorns|     310|\n",
      "|Vivien, Nature's ...|     305|\n",
      "|      Veil of Summer|     303|\n",
      "|Omnath, Locus of ...|     292|\n",
      "|  Mask of Immolation|     291|\n",
      "|        Gods Willing|     291|\n",
      "|Golos, Tireless P...|     291|\n",
      "|  Wolfrider's Saddle|     283|\n",
      "|Kaalia, Zenith Se...|     283|\n",
      "|   Cavalier of Night|     282|\n",
      "|   Goblin Ringleader|     281|\n",
      "|      Tomebound Lich|     281|\n",
      "|    Cavalier of Dawn|     274|\n",
      "+--------------------+--------+\n",
      "only showing top 20 rows\n",
      "\n"
     ]
    }
   ],
   "source": [
    "df.selectExpr(\"name\", \"originalText\").\\\n",
    "    select(\"name\", fn.length(\"originalText\").alias(\"len_text\")).\\\n",
    "    orderBy(fn.desc(\"len_text\")).\\\n",
    "    show()"
   ]
  },
  {
   "cell_type": "markdown",
   "metadata": {
    "Collapsed": "true"
   },
   "source": [
    "## Mana costs "
   ]
  },
  {
   "cell_type": "code",
   "execution_count": 23,
   "metadata": {
    "Collapsed": "false"
   },
   "outputs": [
    {
     "name": "stdout",
     "output_type": "stream",
     "text": [
      "+--------------------+---+\n",
      "|                name|cmc|\n",
      "+--------------------+---+\n",
      "|Vilis, Broker of ...|  8|\n",
      "|        Meteor Golem|  7|\n",
      "| Scholar of the Ages|  7|\n",
      "|         Dragon Mage|  7|\n",
      "|Drakuseth, Maw of...|  7|\n",
      "|  Agent of Treachery|  7|\n",
      "|Sephara, Sky's Blade|  7|\n",
      "|       Howling Giant|  7|\n",
      "|Chandra, Awakened...|  6|\n",
      "|Gargos, Vicious W...|  6|\n",
      "|Chandra, Flame's ...|  6|\n",
      "|      Flood of Tears|  6|\n",
      "|Ajani, Inspiring ...|  6|\n",
      "|   Bloodsoaked Altar|  6|\n",
      "|    Captivating Gyre|  6|\n",
      "| Sorin, Vampire Lord|  6|\n",
      "|Vivien, Nature's ...|  6|\n",
      "|  Aggressive Mammoth|  6|\n",
      "|    Angelic Guardian|  6|\n",
      "|  Wakeroot Elemental|  6|\n",
      "+--------------------+---+\n",
      "only showing top 20 rows\n",
      "\n"
     ]
    }
   ],
   "source": [
    "df.select(\"name\", fn.col(\"convertedManaCost\").alias(\"cmc\")).orderBy(fn.desc(\"cmc\")).show()"
   ]
  },
  {
   "cell_type": "markdown",
   "metadata": {
    "Collapsed": "false"
   },
   "source": [
    "# Groups "
   ]
  },
  {
   "cell_type": "markdown",
   "metadata": {
    "Collapsed": "false"
   },
   "source": [
    "## By color identity"
   ]
  },
  {
   "cell_type": "code",
   "execution_count": 24,
   "metadata": {
    "Collapsed": "false"
   },
   "outputs": [
    {
     "name": "stdout",
     "output_type": "stream",
     "text": [
      "+-------------+-----+\n",
      "|colorIdentity|count|\n",
      "+-------------+-----+\n",
      "|          G,W|    2|\n",
      "|        G,R,U|    1|\n",
      "|        B,G,U|    1|\n",
      "|        B,G,W|    1|\n",
      "|    B,G,R,U,W|    1|\n",
      "|            B|   55|\n",
      "|          R,W|    3|\n",
      "|        G,R,W|    1|\n",
      "|          G,R|    2|\n",
      "|            U|   50|\n",
      "|          B,W|    3|\n",
      "|          B,R|    2|\n",
      "|          G,U|    3|\n",
      "|            W|   59|\n",
      "|            R|   55|\n",
      "|          B,U|    2|\n",
      "|            G|   54|\n",
      "|        R,U,W|    1|\n",
      "|          U,W|    2|\n",
      "|        B,R,W|    1|\n",
      "+-------------+-----+\n",
      "only showing top 20 rows\n",
      "\n"
     ]
    }
   ],
   "source": [
    "df.groupby('colorIdentity').count().show()"
   ]
  },
  {
   "cell_type": "code",
   "execution_count": 25,
   "metadata": {
    "Collapsed": "false"
   },
   "outputs": [
    {
     "name": "stdout",
     "output_type": "stream",
     "text": [
      "+----------+\n",
      "|sum(count)|\n",
      "+----------+\n",
      "|       329|\n",
      "+----------+\n",
      "\n"
     ]
    }
   ],
   "source": [
    "df.groupby('colorIdentity').count().agg(\n",
    "    fn.sum(\"count\")\n",
    ").show()"
   ]
  },
  {
   "cell_type": "markdown",
   "metadata": {
    "Collapsed": "false"
   },
   "source": [
    "## From Models, show encoded types"
   ]
  },
  {
   "cell_type": "code",
   "execution_count": 26,
   "metadata": {
    "Collapsed": "false"
   },
   "outputs": [],
   "source": [
    "from pyspark.ml.feature import StringIndexer, StringIndexerModel"
   ]
  },
  {
   "cell_type": "code",
   "execution_count": 27,
   "metadata": {
    "Collapsed": "false"
   },
   "outputs": [],
   "source": [
    "indexer = StringIndexer.load(\"../models/pyspark/stringindexer_str_types\")\n",
    "model = StringIndexerModel.load(\"../models/pyspark/stringindexer_model_str_types\")"
   ]
  },
  {
   "cell_type": "code",
   "execution_count": 28,
   "metadata": {
    "Collapsed": "false"
   },
   "outputs": [],
   "source": [
    "# model.stringOrderType"
   ]
  },
  {
   "cell_type": "code",
   "execution_count": 29,
   "metadata": {
    "Collapsed": "false"
   },
   "outputs": [
    {
     "data": {
      "text/plain": [
       "['Artifact',\n",
       " 'Artifact,Creature',\n",
       " 'Creature',\n",
       " 'Enchantment',\n",
       " 'Instant',\n",
       " 'Land',\n",
       " 'Planeswalker',\n",
       " 'Sorcery']"
      ]
     },
     "execution_count": 29,
     "metadata": {},
     "output_type": "execute_result"
    }
   ],
   "source": [
    "model.labels"
   ]
  },
  {
   "cell_type": "code",
   "execution_count": 30,
   "metadata": {
    "Collapsed": "false"
   },
   "outputs": [
    {
     "name": "stdout",
     "output_type": "stream",
     "text": [
      "+-----------------+-----------------+\n",
      "|min(encodedTypes)|max(encodedTypes)|\n",
      "+-----------------+-----------------+\n",
      "|                0|                7|\n",
      "+-----------------+-----------------+\n",
      "\n"
     ]
    }
   ],
   "source": [
    "df.agg(fn.min(df.encodedTypes),fn.max(df.encodedTypes)).show()"
   ]
  },
  {
   "cell_type": "markdown",
   "metadata": {
    "Collapsed": "false"
   },
   "source": [
    "## Make an overall histogram from encoded types. "
   ]
  },
  {
   "cell_type": "code",
   "execution_count": 31,
   "metadata": {
    "Collapsed": "false"
   },
   "outputs": [],
   "source": [
    "tmp = df.select(\"encodedTypes\").rdd.flatMap(lambda x: x)"
   ]
  },
  {
   "cell_type": "code",
   "execution_count": 32,
   "metadata": {
    "Collapsed": "false"
   },
   "outputs": [
    {
     "data": {
      "text/plain": [
       "0"
      ]
     },
     "execution_count": 32,
     "metadata": {},
     "output_type": "execute_result"
    }
   ],
   "source": [
    "tmp.min()"
   ]
  },
  {
   "cell_type": "code",
   "execution_count": 33,
   "metadata": {
    "Collapsed": "false"
   },
   "outputs": [
    {
     "data": {
      "text/plain": [
       "7"
      ]
     },
     "execution_count": 33,
     "metadata": {},
     "output_type": "execute_result"
    }
   ],
   "source": [
    "tmp.max()"
   ]
  },
  {
   "cell_type": "code",
   "execution_count": 34,
   "metadata": {
    "Collapsed": "false"
   },
   "outputs": [],
   "source": [
    "hist = df.select(\"encodedTypes\").rdd.flatMap(lambda x: x).histogram(8)"
   ]
  },
  {
   "cell_type": "code",
   "execution_count": 35,
   "metadata": {
    "Collapsed": "false"
   },
   "outputs": [
    {
     "data": {
      "text/plain": [
       "([0.0, 0.875, 1.75, 2.625, 3.5, 4.375, 5.25, 6.125, 7],\n",
       " [17, 10, 181, 21, 37, 24, 12, 27])"
      ]
     },
     "execution_count": 35,
     "metadata": {},
     "output_type": "execute_result"
    }
   ],
   "source": [
    "hist"
   ]
  },
  {
   "cell_type": "code",
   "execution_count": 36,
   "metadata": {
    "Collapsed": "false"
   },
   "outputs": [],
   "source": [
    "pd_hist = pd.DataFrame(data=list(zip(*hist)), columns=['bin', 'freq'])"
   ]
  },
  {
   "cell_type": "code",
   "execution_count": 37,
   "metadata": {
    "Collapsed": "false"
   },
   "outputs": [],
   "source": [
    "pd_hist['perc'] = pd_hist['freq'] / pd_hist['freq'].sum()"
   ]
  },
  {
   "cell_type": "code",
   "execution_count": 38,
   "metadata": {
    "Collapsed": "false"
   },
   "outputs": [
    {
     "data": {
      "image/png": "[encoded data removed]",
      "text/plain": [
       "<Figure size 432x432 with 1 Axes>"
      ]
     },
     "metadata": {},
     "output_type": "display_data"
    }
   ],
   "source": [
    "sns.set(style=\"whitegrid\")\n",
    "\n",
    "f, ax = plt.subplots(figsize=(6, 6))\n",
    "\n",
    "sns.set_color_codes(\"pastel\")\n",
    "sns.barplot(x=\"perc\", y=\"bin\", data=pd_hist, label=\"Total\", orient='h', color=\"b\")\n",
    "\n",
    "ax.set(xlim=(0, 0.4), xlabel=\"\", ylabel=\"\")\n",
    "# ax.set(xlim=(0, 0.5), xlabel=\"%\", ylabel=\"Creature type\")\n",
    "ax.set(yticklabels=model.labels)\n",
    "\n",
    "sns.despine(left=True, bottom=True)"
   ]
  },
  {
   "cell_type": "markdown",
   "metadata": {
    "Collapsed": "false"
   },
   "source": [
    "## By color identity and encoded type"
   ]
  },
  {
   "cell_type": "markdown",
   "metadata": {
    "Collapsed": "false"
   },
   "source": [
    "First, let's fetch the distinct color identities"
   ]
  },
  {
   "cell_type": "code",
   "execution_count": 39,
   "metadata": {
    "Collapsed": "false"
   },
   "outputs": [],
   "source": [
    "pd_colorIdentities  = df.select(\"colorIdentity\").alias(\"Color_Identity\").distinct().sort(\"colorIdentity\").toPandas()"
   ]
  },
  {
   "cell_type": "code",
   "execution_count": 40,
   "metadata": {
    "Collapsed": "false"
   },
   "outputs": [
    {
     "data": {
      "text/html": [
       "<div>\n",
       "<style scoped>\n",
       "    .dataframe tbody tr th:only-of-type {\n",
       "        vertical-align: middle;\n",
       "    }\n",
       "\n",
       "    .dataframe tbody tr th {\n",
       "        vertical-align: top;\n",
       "    }\n",
       "\n",
       "    .dataframe thead th {\n",
       "        text-align: right;\n",
       "    }\n",
       "</style>\n",
       "<table border=\"1\" class=\"dataframe\">\n",
       "  <thead>\n",
       "    <tr style=\"text-align: right;\">\n",
       "      <th></th>\n",
       "      <th>colorIdentity</th>\n",
       "    </tr>\n",
       "  </thead>\n",
       "  <tbody>\n",
       "    <tr>\n",
       "      <th>0</th>\n",
       "      <td></td>\n",
       "    </tr>\n",
       "    <tr>\n",
       "      <th>1</th>\n",
       "      <td>B</td>\n",
       "    </tr>\n",
       "    <tr>\n",
       "      <th>2</th>\n",
       "      <td>B,G</td>\n",
       "    </tr>\n",
       "    <tr>\n",
       "      <th>3</th>\n",
       "      <td>B,G,R,U,W</td>\n",
       "    </tr>\n",
       "    <tr>\n",
       "      <th>4</th>\n",
       "      <td>B,G,U</td>\n",
       "    </tr>\n",
       "    <tr>\n",
       "      <th>5</th>\n",
       "      <td>B,G,W</td>\n",
       "    </tr>\n",
       "    <tr>\n",
       "      <th>6</th>\n",
       "      <td>B,R</td>\n",
       "    </tr>\n",
       "    <tr>\n",
       "      <th>7</th>\n",
       "      <td>B,R,W</td>\n",
       "    </tr>\n",
       "    <tr>\n",
       "      <th>8</th>\n",
       "      <td>B,U</td>\n",
       "    </tr>\n",
       "    <tr>\n",
       "      <th>9</th>\n",
       "      <td>B,W</td>\n",
       "    </tr>\n",
       "    <tr>\n",
       "      <th>10</th>\n",
       "      <td>G</td>\n",
       "    </tr>\n",
       "    <tr>\n",
       "      <th>11</th>\n",
       "      <td>G,R</td>\n",
       "    </tr>\n",
       "    <tr>\n",
       "      <th>12</th>\n",
       "      <td>G,R,U</td>\n",
       "    </tr>\n",
       "    <tr>\n",
       "      <th>13</th>\n",
       "      <td>G,R,W</td>\n",
       "    </tr>\n",
       "    <tr>\n",
       "      <th>14</th>\n",
       "      <td>G,U</td>\n",
       "    </tr>\n",
       "    <tr>\n",
       "      <th>15</th>\n",
       "      <td>G,W</td>\n",
       "    </tr>\n",
       "    <tr>\n",
       "      <th>16</th>\n",
       "      <td>R</td>\n",
       "    </tr>\n",
       "    <tr>\n",
       "      <th>17</th>\n",
       "      <td>R,U</td>\n",
       "    </tr>\n",
       "    <tr>\n",
       "      <th>18</th>\n",
       "      <td>R,U,W</td>\n",
       "    </tr>\n",
       "    <tr>\n",
       "      <th>19</th>\n",
       "      <td>R,W</td>\n",
       "    </tr>\n",
       "    <tr>\n",
       "      <th>20</th>\n",
       "      <td>U</td>\n",
       "    </tr>\n",
       "    <tr>\n",
       "      <th>21</th>\n",
       "      <td>U,W</td>\n",
       "    </tr>\n",
       "    <tr>\n",
       "      <th>22</th>\n",
       "      <td>W</td>\n",
       "    </tr>\n",
       "  </tbody>\n",
       "</table>\n",
       "</div>"
      ],
      "text/plain": [
       "   colorIdentity\n",
       "0               \n",
       "1              B\n",
       "2            B,G\n",
       "3      B,G,R,U,W\n",
       "4          B,G,U\n",
       "5          B,G,W\n",
       "6            B,R\n",
       "7          B,R,W\n",
       "8            B,U\n",
       "9            B,W\n",
       "10             G\n",
       "11           G,R\n",
       "12         G,R,U\n",
       "13         G,R,W\n",
       "14           G,U\n",
       "15           G,W\n",
       "16             R\n",
       "17           R,U\n",
       "18         R,U,W\n",
       "19           R,W\n",
       "20             U\n",
       "21           U,W\n",
       "22             W"
      ]
     },
     "execution_count": 40,
     "metadata": {},
     "output_type": "execute_result"
    }
   ],
   "source": [
    "pd_colorIdentities"
   ]
  },
  {
   "cell_type": "code",
   "execution_count": 41,
   "metadata": {
    "Collapsed": "false"
   },
   "outputs": [],
   "source": [
    "pd_encodedTypes = pd.DataFrame(np.arange(8), columns=['Encoded_Types'])"
   ]
  },
  {
   "cell_type": "code",
   "execution_count": 42,
   "metadata": {
    "Collapsed": "false"
   },
   "outputs": [
    {
     "data": {
      "text/html": [
       "<div>\n",
       "<style scoped>\n",
       "    .dataframe tbody tr th:only-of-type {\n",
       "        vertical-align: middle;\n",
       "    }\n",
       "\n",
       "    .dataframe tbody tr th {\n",
       "        vertical-align: top;\n",
       "    }\n",
       "\n",
       "    .dataframe thead th {\n",
       "        text-align: right;\n",
       "    }\n",
       "</style>\n",
       "<table border=\"1\" class=\"dataframe\">\n",
       "  <thead>\n",
       "    <tr style=\"text-align: right;\">\n",
       "      <th></th>\n",
       "      <th>Encoded_Types</th>\n",
       "    </tr>\n",
       "  </thead>\n",
       "  <tbody>\n",
       "    <tr>\n",
       "      <th>0</th>\n",
       "      <td>0</td>\n",
       "    </tr>\n",
       "    <tr>\n",
       "      <th>1</th>\n",
       "      <td>1</td>\n",
       "    </tr>\n",
       "    <tr>\n",
       "      <th>2</th>\n",
       "      <td>2</td>\n",
       "    </tr>\n",
       "    <tr>\n",
       "      <th>3</th>\n",
       "      <td>3</td>\n",
       "    </tr>\n",
       "    <tr>\n",
       "      <th>4</th>\n",
       "      <td>4</td>\n",
       "    </tr>\n",
       "    <tr>\n",
       "      <th>5</th>\n",
       "      <td>5</td>\n",
       "    </tr>\n",
       "    <tr>\n",
       "      <th>6</th>\n",
       "      <td>6</td>\n",
       "    </tr>\n",
       "    <tr>\n",
       "      <th>7</th>\n",
       "      <td>7</td>\n",
       "    </tr>\n",
       "  </tbody>\n",
       "</table>\n",
       "</div>"
      ],
      "text/plain": [
       "   Encoded_Types\n",
       "0              0\n",
       "1              1\n",
       "2              2\n",
       "3              3\n",
       "4              4\n",
       "5              5\n",
       "6              6\n",
       "7              7"
      ]
     },
     "execution_count": 42,
     "metadata": {},
     "output_type": "execute_result"
    }
   ],
   "source": [
    "pd_encodedTypes"
   ]
  },
  {
   "cell_type": "markdown",
   "metadata": {
    "Collapsed": "false"
   },
   "source": [
    "Create a cartesian product of the color identities and the encoded types."
   ]
  },
  {
   "cell_type": "code",
   "execution_count": 43,
   "metadata": {
    "Collapsed": "false"
   },
   "outputs": [],
   "source": [
    "pd_colorIdentities['key'] = 0\n",
    "pd_encodedTypes['key'] = 0"
   ]
  },
  {
   "cell_type": "code",
   "execution_count": 44,
   "metadata": {
    "Collapsed": "false"
   },
   "outputs": [],
   "source": [
    "pd_cartesian = pd_colorIdentities.merge(pd_encodedTypes, how='outer').drop(columns=['key'])"
   ]
  },
  {
   "cell_type": "code",
   "execution_count": 45,
   "metadata": {
    "Collapsed": "false"
   },
   "outputs": [],
   "source": [
    "pd_cartesian = pd_cartesian.rename(columns={'colorIdentity':'Color_Identity'})"
   ]
  },
  {
   "cell_type": "code",
   "execution_count": 46,
   "metadata": {
    "Collapsed": "false"
   },
   "outputs": [
    {
     "data": {
      "text/html": [
       "<div>\n",
       "<style scoped>\n",
       "    .dataframe tbody tr th:only-of-type {\n",
       "        vertical-align: middle;\n",
       "    }\n",
       "\n",
       "    .dataframe tbody tr th {\n",
       "        vertical-align: top;\n",
       "    }\n",
       "\n",
       "    .dataframe thead th {\n",
       "        text-align: right;\n",
       "    }\n",
       "</style>\n",
       "<table border=\"1\" class=\"dataframe\">\n",
       "  <thead>\n",
       "    <tr style=\"text-align: right;\">\n",
       "      <th></th>\n",
       "      <th>Color_Identity</th>\n",
       "      <th>Encoded_Types</th>\n",
       "    </tr>\n",
       "  </thead>\n",
       "  <tbody>\n",
       "    <tr>\n",
       "      <th>0</th>\n",
       "      <td></td>\n",
       "      <td>0</td>\n",
       "    </tr>\n",
       "    <tr>\n",
       "      <th>1</th>\n",
       "      <td></td>\n",
       "      <td>1</td>\n",
       "    </tr>\n",
       "    <tr>\n",
       "      <th>2</th>\n",
       "      <td></td>\n",
       "      <td>2</td>\n",
       "    </tr>\n",
       "    <tr>\n",
       "      <th>3</th>\n",
       "      <td></td>\n",
       "      <td>3</td>\n",
       "    </tr>\n",
       "    <tr>\n",
       "      <th>4</th>\n",
       "      <td></td>\n",
       "      <td>4</td>\n",
       "    </tr>\n",
       "    <tr>\n",
       "      <th>...</th>\n",
       "      <td>...</td>\n",
       "      <td>...</td>\n",
       "    </tr>\n",
       "    <tr>\n",
       "      <th>179</th>\n",
       "      <td>W</td>\n",
       "      <td>3</td>\n",
       "    </tr>\n",
       "    <tr>\n",
       "      <th>180</th>\n",
       "      <td>W</td>\n",
       "      <td>4</td>\n",
       "    </tr>\n",
       "    <tr>\n",
       "      <th>181</th>\n",
       "      <td>W</td>\n",
       "      <td>5</td>\n",
       "    </tr>\n",
       "    <tr>\n",
       "      <th>182</th>\n",
       "      <td>W</td>\n",
       "      <td>6</td>\n",
       "    </tr>\n",
       "    <tr>\n",
       "      <th>183</th>\n",
       "      <td>W</td>\n",
       "      <td>7</td>\n",
       "    </tr>\n",
       "  </tbody>\n",
       "</table>\n",
       "<p>184 rows × 2 columns</p>\n",
       "</div>"
      ],
      "text/plain": [
       "    Color_Identity  Encoded_Types\n",
       "0                               0\n",
       "1                               1\n",
       "2                               2\n",
       "3                               3\n",
       "4                               4\n",
       "..             ...            ...\n",
       "179              W              3\n",
       "180              W              4\n",
       "181              W              5\n",
       "182              W              6\n",
       "183              W              7\n",
       "\n",
       "[184 rows x 2 columns]"
      ]
     },
     "execution_count": 46,
     "metadata": {},
     "output_type": "execute_result"
    }
   ],
   "source": [
    "pd_cartesian"
   ]
  },
  {
   "cell_type": "markdown",
   "metadata": {
    "Collapsed": "false"
   },
   "source": [
    "Now, let's create a list which will hold the following: ((color identity, encoded type), 1)."
   ]
  },
  {
   "cell_type": "code",
   "execution_count": 47,
   "metadata": {
    "Collapsed": "false"
   },
   "outputs": [
    {
     "data": {
      "text/plain": [
       "[(('R', 6), 1),\n",
       " (('R', 2), 1),\n",
       " (('G', 2), 1),\n",
       " (('G,R,U', 2), 1),\n",
       " (('B,R,W', 2), 1),\n",
       " (('U', 2), 1),\n",
       " (('R', 0), 1),\n",
       " (('W', 2), 1),\n",
       " (('G', 0), 1),\n",
       " (('G,U', 2), 1)]"
      ]
     },
     "execution_count": 47,
     "metadata": {},
     "output_type": "execute_result"
    }
   ],
   "source": [
    "map1 = df.select([\"colorIdentity\", \"encodedTypes\"]).rdd.map(\n",
    "    lambda x: ((x[0], x[1]), 1)\n",
    ")\n",
    "\n",
    "map1.take(10)"
   ]
  },
  {
   "cell_type": "markdown",
   "metadata": {
    "Collapsed": "false"
   },
   "source": [
    "Finally, let's compute the sum of the number of a found encoded types per color identity."
   ]
  },
  {
   "cell_type": "code",
   "execution_count": 48,
   "metadata": {
    "Collapsed": "false"
   },
   "outputs": [],
   "source": [
    "map2 = map1.reduceByKey(lambda a, b: a + b).sortByKey()"
   ]
  },
  {
   "cell_type": "code",
   "execution_count": 49,
   "metadata": {
    "Collapsed": "false"
   },
   "outputs": [
    {
     "data": {
      "text/plain": [
       "[(('', 0), 11), (('', 1), 9), (('', 5), 4), (('B', 0), 1), (('B', 2), 33)]"
      ]
     },
     "execution_count": 49,
     "metadata": {},
     "output_type": "execute_result"
    }
   ],
   "source": [
    "map2.take(5)"
   ]
  },
  {
   "cell_type": "markdown",
   "metadata": {
    "Collapsed": "false"
   },
   "source": [
    "For convience, let's break down the (color identity, encoded type) key into a list of: (color identity, encoded type, sum). "
   ]
  },
  {
   "cell_type": "code",
   "execution_count": 50,
   "metadata": {
    "Collapsed": "false"
   },
   "outputs": [],
   "source": [
    "map3 = map2.map(lambda x: (x[0][0], x[0][1], x[1]))"
   ]
  },
  {
   "cell_type": "code",
   "execution_count": 51,
   "metadata": {
    "Collapsed": "false"
   },
   "outputs": [],
   "source": [
    "pd_tab = map3.toDF().toPandas()"
   ]
  },
  {
   "cell_type": "code",
   "execution_count": 52,
   "metadata": {
    "Collapsed": "false"
   },
   "outputs": [],
   "source": [
    "pd_tab.columns = ['Color_Identity', 'Encoded_Types', 'Total']"
   ]
  },
  {
   "cell_type": "code",
   "execution_count": 53,
   "metadata": {
    "Collapsed": "false"
   },
   "outputs": [
    {
     "data": {
      "text/html": [
       "<div>\n",
       "<style scoped>\n",
       "    .dataframe tbody tr th:only-of-type {\n",
       "        vertical-align: middle;\n",
       "    }\n",
       "\n",
       "    .dataframe tbody tr th {\n",
       "        vertical-align: top;\n",
       "    }\n",
       "\n",
       "    .dataframe thead th {\n",
       "        text-align: right;\n",
       "    }\n",
       "</style>\n",
       "<table border=\"1\" class=\"dataframe\">\n",
       "  <thead>\n",
       "    <tr style=\"text-align: right;\">\n",
       "      <th></th>\n",
       "      <th>Color_Identity</th>\n",
       "      <th>Encoded_Types</th>\n",
       "      <th>Total</th>\n",
       "    </tr>\n",
       "  </thead>\n",
       "  <tbody>\n",
       "    <tr>\n",
       "      <th>0</th>\n",
       "      <td></td>\n",
       "      <td>0</td>\n",
       "      <td>11</td>\n",
       "    </tr>\n",
       "    <tr>\n",
       "      <th>1</th>\n",
       "      <td></td>\n",
       "      <td>1</td>\n",
       "      <td>9</td>\n",
       "    </tr>\n",
       "    <tr>\n",
       "      <th>2</th>\n",
       "      <td></td>\n",
       "      <td>5</td>\n",
       "      <td>4</td>\n",
       "    </tr>\n",
       "    <tr>\n",
       "      <th>3</th>\n",
       "      <td>B</td>\n",
       "      <td>0</td>\n",
       "      <td>1</td>\n",
       "    </tr>\n",
       "    <tr>\n",
       "      <th>4</th>\n",
       "      <td>B</td>\n",
       "      <td>2</td>\n",
       "      <td>33</td>\n",
       "    </tr>\n",
       "  </tbody>\n",
       "</table>\n",
       "</div>"
      ],
      "text/plain": [
       "  Color_Identity  Encoded_Types  Total\n",
       "0                             0     11\n",
       "1                             1      9\n",
       "2                             5      4\n",
       "3              B              0      1\n",
       "4              B              2     33"
      ]
     },
     "execution_count": 53,
     "metadata": {},
     "output_type": "execute_result"
    }
   ],
   "source": [
    "pd_tab.head(5)"
   ]
  },
  {
   "cell_type": "markdown",
   "metadata": {
    "Collapsed": "false"
   },
   "source": [
    "Based on the color identity and encoded types, assign a key that corresponds to the cartesian product."
   ]
  },
  {
   "cell_type": "code",
   "execution_count": 54,
   "metadata": {
    "Collapsed": "false"
   },
   "outputs": [],
   "source": [
    "def assign_index(row):\n",
    "    filter1 = pd_cartesian['Color_Identity'] ==  row['Color_Identity']\n",
    "    filter2 = pd_cartesian['Encoded_Types'] == row['Encoded_Types']\n",
    "    \n",
    "    idx = pd_cartesian.index[filter1 & filter2].tolist()[0]\n",
    "\n",
    "    return idx"
   ]
  },
  {
   "cell_type": "code",
   "execution_count": 55,
   "metadata": {
    "Collapsed": "false"
   },
   "outputs": [],
   "source": [
    "pd_tab['Cart_Index'] = pd_tab.apply (lambda row: assign_index(row), axis=1)"
   ]
  },
  {
   "cell_type": "code",
   "execution_count": 56,
   "metadata": {
    "Collapsed": "false"
   },
   "outputs": [],
   "source": [
    "# pd_tab.max()"
   ]
  },
  {
   "cell_type": "code",
   "execution_count": 57,
   "metadata": {
    "Collapsed": "false"
   },
   "outputs": [
    {
     "data": {
      "text/html": [
       "<div>\n",
       "<style scoped>\n",
       "    .dataframe tbody tr th:only-of-type {\n",
       "        vertical-align: middle;\n",
       "    }\n",
       "\n",
       "    .dataframe tbody tr th {\n",
       "        vertical-align: top;\n",
       "    }\n",
       "\n",
       "    .dataframe thead th {\n",
       "        text-align: right;\n",
       "    }\n",
       "</style>\n",
       "<table border=\"1\" class=\"dataframe\">\n",
       "  <thead>\n",
       "    <tr style=\"text-align: right;\">\n",
       "      <th></th>\n",
       "      <th>Color_Identity</th>\n",
       "      <th>Encoded_Types</th>\n",
       "      <th>Total</th>\n",
       "      <th>Cart_Index</th>\n",
       "    </tr>\n",
       "  </thead>\n",
       "  <tbody>\n",
       "    <tr>\n",
       "      <th>0</th>\n",
       "      <td></td>\n",
       "      <td>0</td>\n",
       "      <td>11</td>\n",
       "      <td>0</td>\n",
       "    </tr>\n",
       "    <tr>\n",
       "      <th>1</th>\n",
       "      <td></td>\n",
       "      <td>1</td>\n",
       "      <td>9</td>\n",
       "      <td>1</td>\n",
       "    </tr>\n",
       "    <tr>\n",
       "      <th>2</th>\n",
       "      <td></td>\n",
       "      <td>5</td>\n",
       "      <td>4</td>\n",
       "      <td>5</td>\n",
       "    </tr>\n",
       "    <tr>\n",
       "      <th>3</th>\n",
       "      <td>B</td>\n",
       "      <td>0</td>\n",
       "      <td>1</td>\n",
       "      <td>8</td>\n",
       "    </tr>\n",
       "    <tr>\n",
       "      <th>4</th>\n",
       "      <td>B</td>\n",
       "      <td>2</td>\n",
       "      <td>33</td>\n",
       "      <td>10</td>\n",
       "    </tr>\n",
       "  </tbody>\n",
       "</table>\n",
       "</div>"
      ],
      "text/plain": [
       "  Color_Identity  Encoded_Types  Total  Cart_Index\n",
       "0                             0     11           0\n",
       "1                             1      9           1\n",
       "2                             5      4           5\n",
       "3              B              0      1           8\n",
       "4              B              2     33          10"
      ]
     },
     "execution_count": 57,
     "metadata": {},
     "output_type": "execute_result"
    }
   ],
   "source": [
    "pd_tab.head(5)"
   ]
  },
  {
   "cell_type": "markdown",
   "metadata": {
    "Collapsed": "false"
   },
   "source": [
    "Find the missing indexes from the cartesian product, and fill-in with \"total = 0\"."
   ]
  },
  {
   "cell_type": "code",
   "execution_count": 58,
   "metadata": {
    "Collapsed": "false"
   },
   "outputs": [],
   "source": [
    "missing_cart_indexes = set(pd_cartesian.index.tolist()) - set(pd_tab.Cart_Index.tolist())"
   ]
  },
  {
   "cell_type": "code",
   "execution_count": 59,
   "metadata": {
    "Collapsed": "false"
   },
   "outputs": [],
   "source": [
    "for index in missing_cart_indexes:\n",
    "    row = pd_cartesian.iloc[index]\n",
    "\n",
    "    new_df = row.copy()\n",
    "    new_df['Total'] = 0\n",
    "    new_df['Cart_Index'] = index\n",
    "    \n",
    "    pd_tab = pd_tab.append(new_df)"
   ]
  },
  {
   "cell_type": "code",
   "execution_count": 117,
   "metadata": {
    "Collapsed": "false"
   },
   "outputs": [],
   "source": [
    "group_result = pd_tab.groupby('Encoded_Types')"
   ]
  },
  {
   "cell_type": "code",
   "execution_count": 118,
   "metadata": {
    "Collapsed": "false"
   },
   "outputs": [
    {
     "data": {
      "image/png": "[encoded data removed]",
      "text/plain": [
       "<Figure size 432x288 with 1 Axes>"
      ]
     },
     "metadata": {},
     "output_type": "display_data"
    }
   ],
   "source": [
    "for group_id, (name, indices) in enumerate(group_result.indices.items()):\n",
    "    group = pd_tab.iloc[indices]\n",
    "    group.fillna(0)\n",
    "    \n",
    "#     print(group)\n",
    "\n",
    "    f_group = group[group['Total'] > 0]\n",
    "\n",
    "    labels = f_group['Color_Identity']\n",
    "    totals = f_group['Total']\n",
    "\n",
    "    sns.set(style=\"whitegrid\")\n",
    "    # sns.set()\n",
    "    sns.set_palette(\"pastel\")\n",
    "\n",
    "    colors = {\n",
    "        '': 'lightgray',\n",
    "        'W': 'w',\n",
    "        'U': 'b',\n",
    "        'B': 'k',\n",
    "        'R': 'r',\n",
    "        'G': 'g'\n",
    "    }\n",
    "\n",
    "    edge_colors = {\n",
    "        '': '',\n",
    "        'W': 'lightgray',\n",
    "        'U': '',\n",
    "        'B': '',\n",
    "        'R': '',\n",
    "        'G': ''\n",
    "    }\n",
    "\n",
    "    prev = 0 \n",
    "    for i in range(len(totals)):\n",
    "        val = totals.iloc[i]\n",
    "        label = labels.iloc[i]\n",
    "        color = colors[label]\n",
    "        ecolor = edge_colors[label]\n",
    "        plt.barh(i, val, color=color, linewidth=1.0, alpha=1.0, edgecolor=ecolor)#, hatch=\"/\")\n",
    "\n",
    "    plt.title(model.labels[group_id])\n",
    "    plt.xlabel('Total')  \n",
    "    plt.ylabel('Color Identity')\n",
    "#     plt.yticks(range(6), labels)\n",
    "    plt.yticks([])\n",
    "    sns.despine(left=True, bottom=True)\n",
    "\n",
    "    plt.show()  \n",
    "    \n",
    "    break"
   ]
  },
  {
   "cell_type": "markdown",
   "metadata": {
    "Collapsed": "false"
   },
   "source": [
    "### Bars with Gradients"
   ]
  },
  {
   "cell_type": "code",
   "execution_count": 176,
   "metadata": {
    "Collapsed": "false"
   },
   "outputs": [],
   "source": [
    "import matplotlib\n",
    "from matplotlib.colors import LinearSegmentedColormap\n",
    "\n",
    "def gradientbars(bars, color):\n",
    "    grad = np.atleast_2d(np.linspace(0,1,256))\n",
    "    rgb0 = matplotlib.colors.to_rgba('w')\n",
    "    rgb1 = matplotlib.colors.to_rgba(color)\n",
    "    cmap = LinearSegmentedColormap.from_list('tmp', (rgb0, rgb1))\n",
    "\n",
    "    \n",
    "    ax = bars[0].axes\n",
    "    lim = ax.get_xlim() + ax.get_ylim()\n",
    "    for bar in bars:\n",
    "        bar.set_zorder(1)\n",
    "        bar.set_facecolor(\"none\")\n",
    "        x, y = bar.get_xy()\n",
    "        w, h = bar.get_width(), bar.get_height()\n",
    "        ax.imshow(grad, extent=[x, x+w, y, y+h], cmap=cmap,aspect=\"auto\", zorder=0)"
   ]
  },
  {
   "cell_type": "code",
   "execution_count": 179,
   "metadata": {
    "Collapsed": "false"
   },
   "outputs": [
    {
     "data": {
      "image/png": "[encoded data removed]",
      "text/plain": [
       "<Figure size 432x288 with 1 Axes>"
      ]
     },
     "metadata": {},
     "output_type": "display_data"
    }
   ],
   "source": [
    "f_group = group[group['Total'] > 0]\n",
    "\n",
    "labels = f_group['Color_Identity']\n",
    "totals = f_group['Total']\n",
    "\n",
    "sns.set_palette(\"pastel\")\n",
    "\n",
    "\n",
    "with sns.color_palette(\"pastel\"):\n",
    "    colors = {\n",
    "        '': 'lightgray',\n",
    "        'W': 'w',\n",
    "        'U': 'b',\n",
    "        'B': 'k',\n",
    "        'R': 'r',\n",
    "        'G': 'g'\n",
    "    }\n",
    "\n",
    "    edge_colors = {\n",
    "        '': '',\n",
    "        'W': 'lightgray',\n",
    "        'U': '',\n",
    "        'B': '',\n",
    "        'R': '',\n",
    "        'G': ''\n",
    "    }\n",
    "\n",
    "    fig, ax = plt.subplots()\n",
    "\n",
    "    prev = 0 \n",
    "    for i in range(len(totals)):\n",
    "        val = totals.iloc[i]\n",
    "        label = labels.iloc[i]\n",
    "        color = colors[label]\n",
    "        ecolor = edge_colors[label]\n",
    "        bar = ax.barh(i, val, color=color, linewidth=1.0, alpha=1.0, edgecolor=ecolor)#, hatch=\"/\")\n",
    "        \n",
    "        gradientbars(bar, color)\n",
    "\n",
    "    ax.set_title(model.labels[group_id])\n",
    "    ax.set_xlabel('Total')  \n",
    "    ax.set_ylabel('Color Identity')\n",
    "    #     plt.yticks(range(6), labels)\n",
    "    ax.set_yticks([])\n",
    "    ax.axis('auto')\n",
    "    sns.despine(left=True, bottom=True)\n",
    "\n",
    "    plt.show()  "
   ]
  },
  {
   "cell_type": "markdown",
   "metadata": {
    "Collapsed": "false"
   },
   "source": [
    "### Bars with Gradient and Symbols"
   ]
  },
  {
   "cell_type": "code",
   "execution_count": 166,
   "metadata": {
    "Collapsed": "false"
   },
   "outputs": [],
   "source": [
    "from matplotlib.offsetbox import OffsetImage, AnnotationBbox"
   ]
  },
  {
   "cell_type": "code",
   "execution_count": 188,
   "metadata": {
    "Collapsed": "false"
   },
   "outputs": [],
   "source": [
    "sns.set()"
   ]
  },
  {
   "cell_type": "code",
   "execution_count": 194,
   "metadata": {
    "Collapsed": "false"
   },
   "outputs": [
    {
     "data": {
      "image/png": "[encoded data removed]",
      "text/plain": [
       "<Figure size 432x288 with 1 Axes>"
      ]
     },
     "metadata": {},
     "output_type": "display_data"
    }
   ],
   "source": [
    "f_group = group[group['Total'] > 0]\n",
    "\n",
    "labels = f_group['Color_Identity']\n",
    "totals = f_group['Total']\n",
    "\n",
    "sns.set(style=\"whitegrid\")\n",
    "# sns.set()\n",
    "sns.set_palette(\"pastel\")\n",
    "\n",
    "colors = {\n",
    "    '': '#cac5c0ff',\n",
    "    'W': '#f8f6d8ff',\n",
    "    'U': '#c1d7e9ff',\n",
    "    'B': '#bab1abff',\n",
    "    'R': '#e49977ff',\n",
    "    'G': '#a3c095ff'\n",
    "}\n",
    "\n",
    "edge_colors = {\n",
    "    '': '',\n",
    "    'W': '',\n",
    "    'U': '',\n",
    "    'B': '',\n",
    "    'R': '',\n",
    "    'G': ''\n",
    "}\n",
    "\n",
    "images = {\n",
    "    '': '../assets/Mana/C.png',\n",
    "    'W': '../assets/Mana/W.png',\n",
    "    'U': '../assets/Mana/U.png',\n",
    "    'B': '../assets/Mana/B.png',\n",
    "    'R': '../assets/Mana/R.png',\n",
    "    'G': '../assets/Mana/G.png'\n",
    "}\n",
    "\n",
    "fig, ax = plt.subplots()\n",
    "\n",
    "prev = 0 \n",
    "for i in range(len(totals)):\n",
    "    val = totals.iloc[i]\n",
    "    label = labels.iloc[i]\n",
    "    color = colors[label]\n",
    "    ecolor = ''\n",
    "    image = images[label]\n",
    "    bar = plt.barh(i, val, color=color, height=0.60, linewidth=0.0, alpha=1.0, edgecolor=ecolor)#, hatch='/')\n",
    "    \n",
    "    ab = AnnotationBbox(OffsetImage(plt.imread(image), zoom=0.075), (val, i), frameon=False)\n",
    "    ax.add_artist(ab)\n",
    "    \n",
    "    gradientbars(bar, color)\n",
    "\n",
    "plt.title(model.labels[group_id])\n",
    "plt.xlabel('# Cards')  \n",
    "plt.ylabel('Color Identity')\n",
    "plt.yticks([])\n",
    "plt.grid(linewidth=1.0, alpha=0.25)\n",
    "sns.despine(left=True, bottom=True)\n",
    "plt.axis('auto')\n",
    "\n",
    "\n",
    "plt.show()  "
   ]
  },
  {
   "cell_type": "markdown",
   "metadata": {
    "Collapsed": "false"
   },
   "source": [
    "###  Cummulative Bar"
   ]
  },
  {
   "cell_type": "code",
   "execution_count": 185,
   "metadata": {
    "Collapsed": "false"
   },
   "outputs": [
    {
     "data": {
      "image/png": "[encoded data removed]",
      "text/plain": [
       "<Figure size 432x288 with 1 Axes>"
      ]
     },
     "metadata": {},
     "output_type": "display_data"
    }
   ],
   "source": [
    "sns.set(style=\"whitegrid\")\n",
    "\n",
    "prev = 0 \n",
    "for i in range(len(totals)):\n",
    "    val = totals.iloc[i]\n",
    "    label = labels.iloc[i]\n",
    "    \n",
    "    plt.barh(i, val)\n",
    "#     prev = prev + val\n",
    "\n",
    "plt.xlabel('Total')  \n",
    "plt.ylabel('Spell Type')\n",
    "\n",
    "plt.show()  "
   ]
  },
  {
   "cell_type": "code",
   "execution_count": null,
   "metadata": {
    "Collapsed": "false"
   },
   "outputs": [],
   "source": []
  }
 ],
 "metadata": {
  "kernelspec": {
   "display_name": "Python 3",
   "language": "python",
   "name": "python3"
  },
  "language_info": {
   "codemirror_mode": {
    "name": "ipython",
    "version": 3
   },
   "file_extension": ".py",
   "mimetype": "text/x-python",
   "name": "python",
   "nbconvert_exporter": "python",
   "pygments_lexer": "ipython3",
   "version": "3.6.9"
  },
  "toc-autonumbering": true,
  "widgets": {
   "application/vnd.jupyter.widget-state+json": {
    "state": {},
    "version_major": 2,
    "version_minor": 0
   }
  }
 },
 "nbformat": 4,
 "nbformat_minor": 4
}
