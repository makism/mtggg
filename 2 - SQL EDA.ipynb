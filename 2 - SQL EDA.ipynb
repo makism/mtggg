{
 "cells": [
  {
   "cell_type": "code",
   "execution_count": 19,
   "metadata": {},
   "outputs": [],
   "source": [
    "import pyspark.sql.functions as fn"
   ]
  },
  {
   "cell_type": "markdown",
   "metadata": {},
   "source": [
    "# Load from Parquet"
   ]
  },
  {
   "cell_type": "code",
   "execution_count": 20,
   "metadata": {},
   "outputs": [],
   "source": [
    "df = spark.read.parquet('dataset/THB_cards.parquet')"
   ]
  },
  {
   "cell_type": "code",
   "execution_count": 27,
   "metadata": {},
   "outputs": [],
   "source": [
    "df.createOrReplaceTempView(\"cards\")"
   ]
  },
  {
   "cell_type": "code",
   "execution_count": 21,
   "metadata": {},
   "outputs": [
    {
     "data": {
      "text/plain": [
       "['number',\n",
       " 'rarity',\n",
       " 'name',\n",
       " 'convertedManaCost',\n",
       " 'encoded_colorIdentity',\n",
       " 'colorIdentity',\n",
       " 'originalText',\n",
       " 'filteredText',\n",
       " 'power',\n",
       " 'toughness']"
      ]
     },
     "execution_count": 21,
     "metadata": {},
     "output_type": "execute_result"
    }
   ],
   "source": [
    "df.columns"
   ]
  },
  {
   "cell_type": "markdown",
   "metadata": {},
   "source": [
    "## Groups "
   ]
  },
  {
   "cell_type": "code",
   "execution_count": 6,
   "metadata": {},
   "outputs": [
    {
     "name": "stdout",
     "output_type": "stream",
     "text": [
      "+-------------+-----+\n",
      "|colorIdentity|count|\n",
      "+-------------+-----+\n",
      "|          G,W|    4|\n",
      "|            B|   45|\n",
      "|          R,W|    2|\n",
      "|          G,R|    4|\n",
      "|            U|   45|\n",
      "|          B,W|    3|\n",
      "|          B,R|    4|\n",
      "|          G,U|    3|\n",
      "|            W|   48|\n",
      "|            R|   44|\n",
      "|          B,U|    6|\n",
      "|            G|   44|\n",
      "|          U,W|    3|\n",
      "|             |   14|\n",
      "|          B,G|    2|\n",
      "|          R,U|    2|\n",
      "+-------------+-----+\n",
      "\n"
     ]
    }
   ],
   "source": [
    "df.groupby('colorIdentity').count().show()"
   ]
  },
  {
   "cell_type": "markdown",
   "metadata": {},
   "source": [
    "## SQL / FN"
   ]
  },
  {
   "cell_type": "code",
   "execution_count": 39,
   "metadata": {},
   "outputs": [
    {
     "name": "stdout",
     "output_type": "stream",
     "text": [
      "+---------+-------------+\n",
      "|max power|max toughness|\n",
      "+---------+-------------+\n",
      "|       10|            7|\n",
      "+---------+-------------+\n",
      "\n"
     ]
    }
   ],
   "source": [
    "df.agg(*[fn.max(c).alias('max ' + c) for c in ['power', 'toughness']]).show()"
   ]
  },
  {
   "cell_type": "code",
   "execution_count": 37,
   "metadata": {},
   "outputs": [
    {
     "name": "stdout",
     "output_type": "stream",
     "text": [
      "+------+------+------------+-----------------+---------------------+-------------+--------------------+--------------------+-----+---------+\n",
      "|number|rarity|        name|convertedManaCost|encoded_colorIdentity|colorIdentity|        originalText|        filteredText|power|toughness|\n",
      "+------+------+------------+-----------------+---------------------+-------------+--------------------+--------------------+-----+---------+\n",
      "|   181|  rare|Nessian Boar|                5|                    6|            G|All creatures abl...|All creatures abl...|   10|        6|\n",
      "+------+------+------------+-----------------+---------------------+-------------+--------------------+--------------------+-----+---------+\n",
      "\n"
     ]
    }
   ],
   "source": [
    "spark.sql(\"SELECT * FROM cards WHERE power == 10\").show()"
   ]
  },
  {
   "cell_type": "code",
   "execution_count": 40,
   "metadata": {},
   "outputs": [
    {
     "name": "stdout",
     "output_type": "stream",
     "text": [
      "+------+------+--------------------+-----------------+---------------------+-------------+--------------------+--------------------+-----+---------+\n",
      "|number|rarity|                name|convertedManaCost|encoded_colorIdentity|colorIdentity|        originalText|        filteredText|power|toughness|\n",
      "+------+------+--------------------+-----------------+---------------------+-------------+--------------------+--------------------+-----+---------+\n",
      "|   269|mythic|Athreos, Shroud-V...|                6|                    5|          B,W|Indestructible\n",
      "As...|Indestructible\n",
      "As...|    4|        7|\n",
      "|   191|common|    Nyxborn Colossus|                6|                    6|            G|                null|                null|    6|        7|\n",
      "|   292|  rare|   Demon of Loathing|                7|                    1|            B|Flying, trample\n",
      "W...|FLYING, trample\n",
      "W...|    7|        7|\n",
      "|   288|  rare|      Grasping Giant|                6|                   15|            W|Vigilance\n",
      "Wheneve...| VIGILANCE\n",
      "Whenev...|    5|        7|\n",
      "+------+------+--------------------+-----------------+---------------------+-------------+--------------------+--------------------+-----+---------+\n",
      "\n"
     ]
    }
   ],
   "source": [
    "spark.sql(\"SELECT * FROM cards WHERE toughness == 7\").show()"
   ]
  },
  {
   "cell_type": "code",
   "execution_count": null,
   "metadata": {},
   "outputs": [],
   "source": []
  }
 ],
 "metadata": {
  "kernelspec": {
   "display_name": "Python 3",
   "language": "python",
   "name": "python3"
  },
  "language_info": {
   "codemirror_mode": {
    "name": "ipython",
    "version": 3
   },
   "file_extension": ".py",
   "mimetype": "text/x-python",
   "name": "python",
   "nbconvert_exporter": "python",
   "pygments_lexer": "ipython3",
   "version": "3.6.9"
  }
 },
 "nbformat": 4,
 "nbformat_minor": 4
}
