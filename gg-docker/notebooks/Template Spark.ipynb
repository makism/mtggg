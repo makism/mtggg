{
 "cells": [
  {
   "cell_type": "markdown",
   "id": "4bd7db6e",
   "metadata": {},
   "source": [
    "# Imports "
   ]
  },
  {
   "cell_type": "code",
   "execution_count": 1,
   "id": "f5a6719b",
   "metadata": {
    "execution": {
     "iopub.execute_input": "2022-09-25T14:07:42.174036Z",
     "iopub.status.busy": "2022-09-25T14:07:42.173723Z",
     "iopub.status.idle": "2022-09-25T14:07:42.400334Z",
     "shell.execute_reply": "2022-09-25T14:07:42.399704Z",
     "shell.execute_reply.started": "2022-09-25T14:07:42.173986Z"
    }
   },
   "outputs": [],
   "source": [
    "from pyspark.sql import SparkSession"
   ]
  },
  {
   "cell_type": "code",
   "execution_count": 80,
   "id": "a3918229-ef47-4ea4-8e24-e91746c65235",
   "metadata": {
    "execution": {
     "iopub.execute_input": "2022-09-25T14:27:24.614010Z",
     "iopub.status.busy": "2022-09-25T14:27:24.613682Z",
     "iopub.status.idle": "2022-09-25T14:27:24.617818Z",
     "shell.execute_reply": "2022-09-25T14:27:24.616931Z",
     "shell.execute_reply.started": "2022-09-25T14:27:24.613982Z"
    },
    "tags": []
   },
   "outputs": [],
   "source": [
    "from pyspark.sql import Window"
   ]
  },
  {
   "cell_type": "code",
   "execution_count": 2,
   "id": "d7810c18-7bff-4ead-9bb7-ff265ff963c7",
   "metadata": {
    "execution": {
     "iopub.execute_input": "2022-09-25T14:07:42.401281Z",
     "iopub.status.busy": "2022-09-25T14:07:42.401058Z",
     "iopub.status.idle": "2022-09-25T14:07:42.404726Z",
     "shell.execute_reply": "2022-09-25T14:07:42.403939Z",
     "shell.execute_reply.started": "2022-09-25T14:07:42.401267Z"
    }
   },
   "outputs": [],
   "source": [
    "from pyspark.sql import functions as F"
   ]
  },
  {
   "cell_type": "markdown",
   "id": "06207703",
   "metadata": {},
   "source": [
    "# Initialize "
   ]
  },
  {
   "cell_type": "code",
   "execution_count": 3,
   "id": "7d20ae58",
   "metadata": {
    "execution": {
     "iopub.execute_input": "2022-09-25T14:07:42.405677Z",
     "iopub.status.busy": "2022-09-25T14:07:42.405474Z",
     "iopub.status.idle": "2022-09-25T14:07:46.861624Z",
     "shell.execute_reply": "2022-09-25T14:07:46.860181Z",
     "shell.execute_reply.started": "2022-09-25T14:07:42.405648Z"
    }
   },
   "outputs": [
    {
     "name": "stderr",
     "output_type": "stream",
     "text": [
      "Setting default log level to \"WARN\".\n",
      "To adjust logging level use sc.setLogLevel(newLevel). For SparkR, use setLogLevel(newLevel).\n"
     ]
    },
    {
     "name": "stdout",
     "output_type": "stream",
     "text": [
      "22/09/25 14:07:44 WARN NativeCodeLoader: Unable to load native-hadoop library for your platform... using builtin-java classes where applicable\n"
     ]
    }
   ],
   "source": [
    "spark = (\n",
    "    SparkSession.builder.appName(\"pyspark-notebook\")\n",
    "    .master(\"spark://spark-master:7077\")\n",
    "    .config(\"spark.executor.memory\", \"512m\")\n",
    "    .config(\"spark.sql.codegen.wholeStage\", False)\n",
    "    .getOrCreate()\n",
    ")"
   ]
  },
  {
   "cell_type": "code",
   "execution_count": 4,
   "id": "6f3bc6f3-ab33-41ce-bbd7-739077340129",
   "metadata": {
    "execution": {
     "iopub.execute_input": "2022-09-25T14:07:46.866839Z",
     "iopub.status.busy": "2022-09-25T14:07:46.865733Z",
     "iopub.status.idle": "2022-09-25T14:07:46.873072Z",
     "shell.execute_reply": "2022-09-25T14:07:46.871453Z",
     "shell.execute_reply.started": "2022-09-25T14:07:46.866766Z"
    }
   },
   "outputs": [],
   "source": [
    "sc = spark.sparkContext"
   ]
  },
  {
   "cell_type": "markdown",
   "id": "1919bf7c",
   "metadata": {},
   "source": [
    "# Main "
   ]
  },
  {
   "cell_type": "code",
   "execution_count": 5,
   "id": "95fd4cd6-5620-4966-80e1-24beeddb9adf",
   "metadata": {
    "execution": {
     "iopub.execute_input": "2022-09-25T14:07:46.876078Z",
     "iopub.status.busy": "2022-09-25T14:07:46.875246Z",
     "iopub.status.idle": "2022-09-25T14:07:46.881977Z",
     "shell.execute_reply": "2022-09-25T14:07:46.880190Z",
     "shell.execute_reply.started": "2022-09-25T14:07:46.876025Z"
    }
   },
   "outputs": [],
   "source": [
    "# from schemas import RAW"
   ]
  },
  {
   "cell_type": "code",
   "execution_count": 6,
   "id": "aa7b9fe6",
   "metadata": {
    "execution": {
     "iopub.execute_input": "2022-09-25T14:07:46.885253Z",
     "iopub.status.busy": "2022-09-25T14:07:46.884222Z",
     "iopub.status.idle": "2022-09-25T14:07:58.266319Z",
     "shell.execute_reply": "2022-09-25T14:07:58.265298Z",
     "shell.execute_reply.started": "2022-09-25T14:07:46.885195Z"
    },
    "tags": []
   },
   "outputs": [
    {
     "name": "stderr",
     "output_type": "stream",
     "text": [
      "                                                                                \r"
     ]
    }
   ],
   "source": [
    "df = spark.read.json(\"/data/stage/DMU.json\")"
   ]
  },
  {
   "cell_type": "code",
   "execution_count": 107,
   "id": "f4a4c07e-feb8-4dac-b00c-42e60fe729f2",
   "metadata": {
    "execution": {
     "iopub.execute_input": "2022-09-25T14:41:17.337364Z",
     "iopub.status.busy": "2022-09-25T14:41:17.337141Z",
     "iopub.status.idle": "2022-09-25T14:41:17.348525Z",
     "shell.execute_reply": "2022-09-25T14:41:17.347682Z",
     "shell.execute_reply.started": "2022-09-25T14:41:17.337347Z"
    }
   },
   "outputs": [],
   "source": [
    "window = Window.partitionBy(\"name\").orderBy(F.col(\"name\").desc())"
   ]
  },
  {
   "cell_type": "code",
   "execution_count": 108,
   "id": "1798b200-968c-4394-99d5-15b0aaa15c1d",
   "metadata": {
    "execution": {
     "iopub.execute_input": "2022-09-25T14:41:19.563274Z",
     "iopub.status.busy": "2022-09-25T14:41:19.562958Z",
     "iopub.status.idle": "2022-09-25T14:41:19.595002Z",
     "shell.execute_reply": "2022-09-25T14:41:19.594239Z",
     "shell.execute_reply.started": "2022-09-25T14:41:19.563255Z"
    },
    "tags": []
   },
   "outputs": [],
   "source": [
    "df_filtered = (\n",
    "    df\n",
    "    .withColumn(\"index\", F.row_number().over(window))\n",
    "    .filter(F.col(\"index\") == 1)\n",
    "    .drop(\"index\")\n",
    ")"
   ]
  },
  {
   "cell_type": "code",
   "execution_count": 110,
   "id": "84f8c164-24c7-4926-a733-c8fe95025419",
   "metadata": {
    "execution": {
     "iopub.execute_input": "2022-09-25T14:41:24.421863Z",
     "iopub.status.busy": "2022-09-25T14:41:24.421364Z",
     "iopub.status.idle": "2022-09-25T14:41:24.447675Z",
     "shell.execute_reply": "2022-09-25T14:41:24.447052Z",
     "shell.execute_reply.started": "2022-09-25T14:41:24.421839Z"
    },
    "tags": []
   },
   "outputs": [],
   "source": [
    "df_filtered = (\n",
    "    df_filtered\n",
    "    .select([\n",
    "        F.col(\"colorIdentity\"),\n",
    "        F.col(\"colors\"),\n",
    "        F.col(\"convertedManaCost\"),\n",
    "        F.col(\"manaCost\"),\n",
    "        F.col(\"manaValue\"),\n",
    "        F.col(\"name\"),\n",
    "        F.col(\"originalType\"),\n",
    "        F.col(\"rarity\"),\n",
    "        F.col(\"subtypes\"),\n",
    "        F.col(\"supertypes\"),\n",
    "        F.col(\"text\"),\n",
    "        F.col(\"toughness\"),\n",
    "        F.col(\"type\"),\n",
    "        F.col(\"types\"),\n",
    "        F.col(\"power\"),\n",
    "    ])\n",
    ")"
   ]
  },
  {
   "cell_type": "code",
   "execution_count": 111,
   "id": "c2e7252a-1cc5-4ddb-8000-64dd67bc699f",
   "metadata": {
    "execution": {
     "iopub.execute_input": "2022-09-25T14:41:26.483057Z",
     "iopub.status.busy": "2022-09-25T14:41:26.482691Z",
     "iopub.status.idle": "2022-09-25T14:41:27.663870Z",
     "shell.execute_reply": "2022-09-25T14:41:27.663294Z",
     "shell.execute_reply.started": "2022-09-25T14:41:26.483041Z"
    },
    "tags": []
   },
   "outputs": [
    {
     "name": "stderr",
     "output_type": "stream",
     "text": [
      "                                                                                \r"
     ]
    }
   ],
   "source": [
    "df.write.mode(\"overwrite\").parquet(\"/data/store/DMU.parquet\")"
   ]
  },
  {
   "cell_type": "code",
   "execution_count": null,
   "id": "0ce732c0-458f-44f1-a8f4-d3e320141292",
   "metadata": {},
   "outputs": [],
   "source": []
  }
 ],
 "metadata": {
  "kernelspec": {
   "display_name": "Python 3 (ipykernel)",
   "language": "python",
   "name": "python3"
  },
  "language_info": {
   "codemirror_mode": {
    "name": "ipython",
    "version": 3
   },
   "file_extension": ".py",
   "mimetype": "text/x-python",
   "name": "python",
   "nbconvert_exporter": "python",
   "pygments_lexer": "ipython3",
   "version": "3.9.2"
  },
  "vscode": {
   "interpreter": {
    "hash": "3696a4efd8e0cd0754c2339410e48d20efed589d7a11e80dc59a5694fc37a08d"
   }
  }
 },
 "nbformat": 4,
 "nbformat_minor": 5
}
