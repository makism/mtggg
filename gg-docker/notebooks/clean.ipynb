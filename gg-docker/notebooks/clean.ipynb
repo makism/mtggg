{
 "cells": [
  {
   "cell_type": "markdown",
   "id": "4bd7db6e",
   "metadata": {},
   "source": [
    "# Imports "
   ]
  },
  {
   "cell_type": "code",
   "execution_count": 1,
   "id": "a3918229-ef47-4ea4-8e24-e91746c65235",
   "metadata": {
    "execution": {
     "iopub.execute_input": "2022-10-03T05:29:11.647746Z",
     "iopub.status.busy": "2022-10-03T05:29:11.647215Z",
     "iopub.status.idle": "2022-10-03T05:29:11.954602Z",
     "shell.execute_reply": "2022-10-03T05:29:11.953655Z",
     "shell.execute_reply.started": "2022-10-03T05:29:11.647664Z"
    },
    "tags": []
   },
   "outputs": [],
   "source": [
    "from pyspark.sql import DataFrame, SparkSession, Window\n",
    "from pyspark.sql import functions as F"
   ]
  },
  {
   "cell_type": "markdown",
   "id": "06207703",
   "metadata": {},
   "source": [
    "# Initialize "
   ]
  },
  {
   "cell_type": "code",
   "execution_count": 2,
   "id": "7d20ae58",
   "metadata": {
    "execution": {
     "iopub.execute_input": "2022-10-03T05:29:11.956415Z",
     "iopub.status.busy": "2022-10-03T05:29:11.955908Z",
     "iopub.status.idle": "2022-10-03T05:29:18.115814Z",
     "shell.execute_reply": "2022-10-03T05:29:18.114621Z",
     "shell.execute_reply.started": "2022-10-03T05:29:11.956376Z"
    },
    "tags": []
   },
   "outputs": [
    {
     "name": "stderr",
     "output_type": "stream",
     "text": [
      "Setting default log level to \"WARN\".\n",
      "To adjust logging level use sc.setLogLevel(newLevel). For SparkR, use setLogLevel(newLevel).\n"
     ]
    },
    {
     "name": "stdout",
     "output_type": "stream",
     "text": [
      "22/10/03 05:29:15 WARN NativeCodeLoader: Unable to load native-hadoop library for your platform... using builtin-java classes where applicable\n"
     ]
    }
   ],
   "source": [
    "spark = (\n",
    "    SparkSession.builder.appName(\"pyspark-notebook\")\n",
    "    .master(\"spark://spark-master:7077\")\n",
    "    .config(\"spark.executor.memory\", \"512m\")\n",
    "    .config(\"spark.sql.codegen.wholeStage\", False)\n",
    "    .getOrCreate()\n",
    ")"
   ]
  },
  {
   "cell_type": "code",
   "execution_count": 3,
   "id": "6f3bc6f3-ab33-41ce-bbd7-739077340129",
   "metadata": {
    "execution": {
     "iopub.execute_input": "2022-10-03T05:29:18.118417Z",
     "iopub.status.busy": "2022-10-03T05:29:18.117854Z",
     "iopub.status.idle": "2022-10-03T05:29:18.126192Z",
     "shell.execute_reply": "2022-10-03T05:29:18.124129Z",
     "shell.execute_reply.started": "2022-10-03T05:29:18.118362Z"
    }
   },
   "outputs": [],
   "source": [
    "sc = spark.sparkContext"
   ]
  },
  {
   "cell_type": "markdown",
   "id": "1919bf7c",
   "metadata": {},
   "source": [
    "# Main "
   ]
  },
  {
   "cell_type": "code",
   "execution_count": 33,
   "id": "95fd4cd6-5620-4966-80e1-24beeddb9adf",
   "metadata": {
    "execution": {
     "iopub.execute_input": "2022-10-03T05:50:11.851180Z",
     "iopub.status.busy": "2022-10-03T05:50:11.850914Z",
     "iopub.status.idle": "2022-10-03T05:50:11.857278Z",
     "shell.execute_reply": "2022-10-03T05:50:11.856524Z",
     "shell.execute_reply.started": "2022-10-03T05:50:11.851156Z"
    },
    "tags": []
   },
   "outputs": [],
   "source": [
    "from pipelines.stage.schemas import SCHEMA_STAGE"
   ]
  },
  {
   "cell_type": "code",
   "execution_count": 5,
   "id": "aa7b9fe6",
   "metadata": {
    "execution": {
     "iopub.execute_input": "2022-10-03T05:29:18.146983Z",
     "iopub.status.busy": "2022-10-03T05:29:18.145927Z",
     "iopub.status.idle": "2022-10-03T05:29:24.445019Z",
     "shell.execute_reply": "2022-10-03T05:29:24.444010Z",
     "shell.execute_reply.started": "2022-10-03T05:29:18.146930Z"
    },
    "tags": []
   },
   "outputs": [],
   "source": [
    "df = spark.read.json(\"/data/stage/DMU.json\", schema=SCHEMA_STAGE)"
   ]
  },
  {
   "cell_type": "code",
   "execution_count": 6,
   "id": "ec6196c1-b0f5-477e-91c1-c2df1d2d6afe",
   "metadata": {
    "execution": {
     "iopub.execute_input": "2022-10-03T05:29:24.446463Z",
     "iopub.status.busy": "2022-10-03T05:29:24.446141Z",
     "iopub.status.idle": "2022-10-03T05:29:24.604558Z",
     "shell.execute_reply": "2022-10-03T05:29:24.603131Z",
     "shell.execute_reply.started": "2022-10-03T05:29:24.446435Z"
    },
    "tags": []
   },
   "outputs": [],
   "source": [
    "keep_cols = [\n",
    "    \"colorIdentity\",\n",
    "    \"colors\",\n",
    "    \"convertedManaCost\",\n",
    "    \"loyalty\",\n",
    "    \"manaCost\",\n",
    "    \"manaValue\",\n",
    "    \"name\",\n",
    "    \"number\",\n",
    "    \"originalType\",\n",
    "    \"rarity\",\n",
    "    \"subtypes\",\n",
    "    \"supertypes\",\n",
    "    \"text\",\n",
    "    \"toughness\",\n",
    "    \"type\",\n",
    "    \"types\",\n",
    "    \"power\",\n",
    "]\n",
    "\n",
    "remove_cols = list(set(df.columns) - set(keep_cols))\n",
    "\n",
    "df_filtered = df.drop(*remove_cols)"
   ]
  },
  {
   "cell_type": "code",
   "execution_count": 7,
   "id": "f4a4c07e-feb8-4dac-b00c-42e60fe729f2",
   "metadata": {
    "execution": {
     "iopub.execute_input": "2022-10-03T05:29:24.606681Z",
     "iopub.status.busy": "2022-10-03T05:29:24.605898Z",
     "iopub.status.idle": "2022-10-03T05:29:24.689783Z",
     "shell.execute_reply": "2022-10-03T05:29:24.688516Z",
     "shell.execute_reply.started": "2022-10-03T05:29:24.606631Z"
    },
    "tags": []
   },
   "outputs": [],
   "source": [
    "window = Window.partitionBy(\"name\").orderBy(F.col(\"name\").desc())"
   ]
  },
  {
   "cell_type": "code",
   "execution_count": 8,
   "id": "1798b200-968c-4394-99d5-15b0aaa15c1d",
   "metadata": {
    "execution": {
     "iopub.execute_input": "2022-10-03T05:29:24.692689Z",
     "iopub.status.busy": "2022-10-03T05:29:24.691690Z",
     "iopub.status.idle": "2022-10-03T05:29:24.999403Z",
     "shell.execute_reply": "2022-10-03T05:29:24.998453Z",
     "shell.execute_reply.started": "2022-10-03T05:29:24.692638Z"
    },
    "tags": []
   },
   "outputs": [],
   "source": [
    "df_filtered = (\n",
    "    df.withColumn(\"index\", F.row_number().over(window))\n",
    "    .filter(F.col(\"index\") == 1)\n",
    "    .drop(\"index\")\n",
    ")"
   ]
  },
  {
   "cell_type": "code",
   "execution_count": 9,
   "id": "84f8c164-24c7-4926-a733-c8fe95025419",
   "metadata": {
    "execution": {
     "iopub.execute_input": "2022-10-03T05:29:25.001402Z",
     "iopub.status.busy": "2022-10-03T05:29:25.000939Z",
     "iopub.status.idle": "2022-10-03T05:29:25.113568Z",
     "shell.execute_reply": "2022-10-03T05:29:25.112173Z",
     "shell.execute_reply.started": "2022-10-03T05:29:25.001360Z"
    },
    "tags": []
   },
   "outputs": [],
   "source": [
    "df_filtered = df_filtered.select(\n",
    "    [\n",
    "        F.col(\"colorIdentity\"),\n",
    "        F.col(\"colors\"),\n",
    "        F.col(\"convertedManaCost\"),\n",
    "        F.col(\"manaCost\"),\n",
    "        F.col(\"manaValue\"),\n",
    "        F.col(\"name\"),\n",
    "        F.col(\"originalType\"),\n",
    "        F.col(\"rarity\"),\n",
    "        F.col(\"subtypes\"),\n",
    "        F.col(\"supertypes\"),\n",
    "        F.col(\"text\"),\n",
    "        F.col(\"toughness\"),\n",
    "        F.col(\"type\"),\n",
    "        F.col(\"types\"),\n",
    "        F.col(\"power\").cast(\"int\"),\n",
    "    ]\n",
    ")"
   ]
  },
  {
   "cell_type": "code",
   "execution_count": 10,
   "id": "c2e7252a-1cc5-4ddb-8000-64dd67bc699f",
   "metadata": {
    "execution": {
     "iopub.execute_input": "2022-10-03T05:29:25.116497Z",
     "iopub.status.busy": "2022-10-03T05:29:25.115760Z",
     "iopub.status.idle": "2022-10-03T05:29:31.831861Z",
     "shell.execute_reply": "2022-10-03T05:29:31.830816Z",
     "shell.execute_reply.started": "2022-10-03T05:29:25.116451Z"
    },
    "tags": []
   },
   "outputs": [
    {
     "name": "stderr",
     "output_type": "stream",
     "text": [
      "                                                                                \r"
     ]
    }
   ],
   "source": [
    "df_filtered.write.mode(\"overwrite\").parquet(\"/data/store/DMU.parquet\")"
   ]
  },
  {
   "cell_type": "code",
   "execution_count": 11,
   "id": "105bd018-d1a3-4b99-843d-e3f4ca784e8b",
   "metadata": {
    "execution": {
     "iopub.execute_input": "2022-10-03T05:29:31.834891Z",
     "iopub.status.busy": "2022-10-03T05:29:31.833913Z",
     "iopub.status.idle": "2022-10-03T05:29:31.843807Z",
     "shell.execute_reply": "2022-10-03T05:29:31.842571Z",
     "shell.execute_reply.started": "2022-10-03T05:29:31.834847Z"
    }
   },
   "outputs": [],
   "source": [
    "from pyspark.sql import types as T"
   ]
  },
  {
   "cell_type": "code",
   "execution_count": 34,
   "id": "51672981-fc08-4d3f-b301-e6d506cc72c3",
   "metadata": {
    "execution": {
     "iopub.execute_input": "2022-10-03T05:50:28.473055Z",
     "iopub.status.busy": "2022-10-03T05:50:28.472769Z",
     "iopub.status.idle": "2022-10-03T05:50:28.478949Z",
     "shell.execute_reply": "2022-10-03T05:50:28.477735Z",
     "shell.execute_reply.started": "2022-10-03T05:50:28.473035Z"
    }
   },
   "outputs": [],
   "source": [
    "from pipelines.clean.schemas import COLOR_SCHEMA"
   ]
  },
  {
   "cell_type": "code",
   "execution_count": null,
   "id": "10ef6d16-deba-47a1-92c5-e91982e219a5",
   "metadata": {},
   "outputs": [],
   "source": [
    "def enconde_colorIdentity(df):\n",
    "    colors = spark.createDataFrame(\n",
    "        [\n",
    "            [\"B\", 1],\n",
    "            [\"U\", 2],\n",
    "            [\"G\", 3],\n",
    "            [\"R\", 4],\n",
    "            [\"W\", 5],\n",
    "        ],\n",
    "        schema=COLOR_SCHEMA,\n",
    "    )\n",
    "\n",
    "    df = (\n",
    "        df.withColumn(\"row_id\", F.monotonically_increasing_id())\n",
    "        .select(F.col(\"row_id\"), F.col(\"colorIdentity\"), F.explode(\"colorIdentity\"))\n",
    "        .limit(5)\n",
    "    )\n",
    "\n",
    "    return df.join(F.broadcast(colors), on=[tmp.col == colors.color], how=\"inner\")"
   ]
  },
  {
   "cell_type": "code",
   "execution_count": 15,
   "id": "0ce732c0-458f-44f1-a8f4-d3e320141292",
   "metadata": {
    "execution": {
     "iopub.execute_input": "2022-10-03T05:29:34.101802Z",
     "iopub.status.busy": "2022-10-03T05:29:34.101240Z",
     "iopub.status.idle": "2022-10-03T05:29:35.191832Z",
     "shell.execute_reply": "2022-10-03T05:29:35.190053Z",
     "shell.execute_reply.started": "2022-10-03T05:29:34.101752Z"
    },
    "tags": []
   },
   "outputs": [
    {
     "name": "stdout",
     "output_type": "stream",
     "text": [
      "+------------+\n",
      "|         col|\n",
      "+------------+\n",
      "|        Land|\n",
      "|     Sorcery|\n",
      "|     Instant|\n",
      "| Enchantment|\n",
      "|    Artifact|\n",
      "|    Creature|\n",
      "|Planeswalker|\n",
      "+------------+\n",
      "\n"
     ]
    }
   ],
   "source": [
    "(df_filtered.select(F.explode(F.col(\"types\"))).distinct().show())"
   ]
  },
  {
   "cell_type": "code",
   "execution_count": null,
   "id": "625ec6a7-3383-426d-92eb-939a5b227e2f",
   "metadata": {},
   "outputs": [],
   "source": []
  },
  {
   "cell_type": "code",
   "execution_count": null,
   "id": "f80f0636-e0b2-491e-ab54-585439d49dd3",
   "metadata": {},
   "outputs": [],
   "source": []
  }
 ],
 "metadata": {
  "kernelspec": {
   "display_name": "Python 3 (ipykernel)",
   "language": "python",
   "name": "python3"
  },
  "language_info": {
   "codemirror_mode": {
    "name": "ipython",
    "version": 3
   },
   "file_extension": ".py",
   "mimetype": "text/x-python",
   "name": "python",
   "nbconvert_exporter": "python",
   "pygments_lexer": "ipython3",
   "version": "3.9.7"
  },
  "vscode": {
   "interpreter": {
    "hash": "3696a4efd8e0cd0754c2339410e48d20efed589d7a11e80dc59a5694fc37a08d"
   }
  }
 },
 "nbformat": 4,
 "nbformat_minor": 5
}
