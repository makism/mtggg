{
 "cells": [
  {
   "cell_type": "markdown",
   "id": "4bd7db6e",
   "metadata": {},
   "source": [
    "# Imports "
   ]
  },
  {
   "cell_type": "code",
   "execution_count": null,
   "id": "f5a6719b",
   "metadata": {},
   "outputs": [],
   "source": [
    "from pyspark.sql import SparkSession"
   ]
  },
  {
   "cell_type": "markdown",
   "id": "06207703",
   "metadata": {},
   "source": [
    "# Initialize "
   ]
  },
  {
   "cell_type": "markdown",
   "id": "bf768244",
   "metadata": {},
   "source": [
    "## Local Spark "
   ]
  },
  {
   "cell_type": "code",
   "execution_count": null,
   "id": "7650881c",
   "metadata": {},
   "outputs": [],
   "source": [
    "spark = SparkSession.builder\\\n",
    "            .appName(\"pyspark-notebook\")\\\n",
    "            .master(\"spark://spark-master:7077\")\\\n",
    "            .config(\"spark.executor.memory\", \"512m\")\\\n",
    "            .getOrCreate()"
   ]
  },
  {
   "cell_type": "markdown",
   "id": "5d4edd3e",
   "metadata": {},
   "source": [
    "## AWS Spark "
   ]
  },
  {
   "cell_type": "code",
   "execution_count": null,
   "id": "7d20ae58",
   "metadata": {},
   "outputs": [],
   "source": [
    "aws_region = \"\"\n",
    "aws_key_id = \"\"\n",
    "aws_access_key = \"\"\n",
    "\n",
    "spark = SparkSession.builder\\\n",
    "            .appName(\"pyspark-notebook\") \\\n",
    "            .master(\"spark://spark-master:7077\")\\\n",
    "            .config(\"spark.executor.memory\", \"512m\")\\\n",
    "            .config('spark.sql.codegen.wholeStage', False) \\\n",
    "            .config(\"spark.driver.extraClassPath\", \"/opt/libs/aws-java-sdk-1.9.0.jar\") \\\n",
    "            .config(\"spark.jars\", \"/opt/libs/hadoop-aws-3.3.0.jar\") \\\n",
    "            .getOrCreate()\n",
    "\n",
    "spark._jsc.hadoopConfiguration().set(\"fs.s3a.access.key\", aws_key_id)\n",
    "spark._jsc.hadoopConfiguration().set(\"fs.s3a.secret.key\", aws_access_key)\n",
    "\n",
    "spark._jsc.hadoopConfiguration().set(\"fs.s3a.impl\",\"org.apache.hadoop.fs.s3a.S3AFileSystem\")\n",
    "spark._jsc.hadoopConfiguration().set(\"com.amazonaws.services.s3.enableV4\", \"true\")\n",
    "spark._jsc.hadoopConfiguration().set(\"fs.s3a.aws.credentials.provider\",\"org.apache.hadoop.fs.s3a.BasicAWSCredentialsProvider\")\n",
    "spark._jsc.hadoopConfiguration().set(\"fs.s3a.endpoint\", f\"s3.{aws_region}.amazonaws.com\")\n",
    "\n",
    "sc = spark.sparkContext\n",
    "sc.setSystemProperty(\"com.amazonaws.services.s3.enableV4\", \"true\")"
   ]
  },
  {
   "cell_type": "markdown",
   "id": "1919bf7c",
   "metadata": {},
   "source": [
    "# Main "
   ]
  },
  {
   "cell_type": "code",
   "execution_count": null,
   "id": "aa7b9fe6",
   "metadata": {},
   "outputs": [],
   "source": []
  }
 ],
 "metadata": {
  "kernelspec": {
   "display_name": "Python 3.9.7 ('conda39')",
   "language": "python",
   "name": "python3"
  },
  "language_info": {
   "codemirror_mode": {
    "name": "ipython",
    "version": 3
   },
   "file_extension": ".py",
   "mimetype": "text/x-python",
   "name": "python",
   "nbconvert_exporter": "python",
   "pygments_lexer": "ipython3",
   "version": "3.9.7"
  },
  "vscode": {
   "interpreter": {
    "hash": "3696a4efd8e0cd0754c2339410e48d20efed589d7a11e80dc59a5694fc37a08d"
   }
  }
 },
 "nbformat": 4,
 "nbformat_minor": 5
}
